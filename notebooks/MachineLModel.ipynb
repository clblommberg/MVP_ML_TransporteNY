{
 "cells": [
  {
   "cell_type": "markdown",
   "metadata": {},
   "source": [
    "## **Modelo de Machine Learning para la Predicción de la Demanda de Servicios de Taxi en la Ciudad de Nueva York**\n",
    "\n",
    "**Descripción:**\n",
    "Este modelo de Machine Learning tiene como objetivo predecir la demanda de servicios de taxi en la ciudad de Nueva York utilizando datos históricos y diversas características como la hora del día, el día de la semana, el mes, el distrito, entre otros. Se han utilizado tres algoritmos principales: XGBoost, Gradient Boosting y Random Forest, para desarrollar el modelo los cuales entrenaran nuestro modelo y se llevaran a Deploy con Stremlit.\n",
    "\n",
    "**Características principales:**\n",
    "- **Datos de entrada:** Se utilizan datos históricos que contienen información sobre la hora de recogida, dia de semana, LocalID de recogida entre otros.\n",
    "- **Objetivo:** Predecir la demanda de servicios de taxi en función de varias variables, lo que permitirá a las empresas de taxi planificar mejor sus operaciones y optimizar la asignación de recursos.\n",
    "- **Algoritmos utilizados:** Se han probado tres algoritmos de aprendizaje supervisado: XGBoost, Gradient Boosting y Random Forest, para entrenar el modelo.\n",
    "- **Evaluación del modelo:** Se utilizan diversas métricas de evaluación, como el Error Cuadrático Medio (MSE), el coeficiente de determinación (R-cuadrado), el Error Absoluto Medio (MAE) y el Tiempo de Entrenamiento, para evaluar el rendimiento de cada modelo y ajustarlos hasta lograr el equilibrio esperado antes de lleva a producción."
   ]
  },
  {
   "cell_type": "code",
   "execution_count": 1,
   "metadata": {},
   "outputs": [],
   "source": [
    "import os\n",
    "import polars as pl\n",
    "import polars.selectors as cs\n",
    "import pandas as pd\n",
    "from datetime import date, time\n",
    "import numpy as np\n",
    "import dask.dataframe as dd\n",
    "import dask.distributed\n",
    "import pyarrow.parquet as pq\n",
    "import seaborn as sns\n",
    "import matplotlib.pyplot as plt\n",
    "import pickle"
   ]
  },
  {
   "cell_type": "markdown",
   "metadata": {},
   "source": [
    "## Conexión con Azure Data Yellow"
   ]
  },
  {
   "cell_type": "code",
   "execution_count": 10,
   "metadata": {},
   "outputs": [],
   "source": [
    "from azure.storage.blob import BlobServiceClient\n",
    "import os\n",
    "import pandas as pd\n",
    "from io import BytesIO\n",
    "from dotenv import load_dotenv\n",
    "# Cargar variables de entorno desde el archivo .env\n",
    "load_dotenv()\n",
    "\n",
    "# Conectarse al servicio de Blob Storage\n",
    "account_name = os.getenv(\"ACCOUNT_NAME\")\n",
    "account_key = os.getenv(\"ACCOUNT_KEY\")\n",
    "container_name = 'getdatalakefiles'\n",
    "\n",
    "blob_service_client = BlobServiceClient(account_url=f\"https://{account_name}.blob.core.windows.net\", credential=account_key)"
   ]
  },
  {
   "cell_type": "code",
   "execution_count": null,
   "metadata": {},
   "outputs": [],
   "source": [
    "\n",
    "def list_parquet_files(blob_service_client, container_name, path):\n",
    "    \"\"\"\n",
    "    Lista los archivos parquet en la ruta especificada dentro de un contenedor.\n",
    "\n",
    "    Parameters:\n",
    "    - blob_service_client (BlobServiceClient): El cliente del servicio Blob.\n",
    "    - container_name (str): El nombre del contenedor.\n",
    "    - path (str): La ruta dentro del contenedor.\n",
    "\n",
    "    Returns:\n",
    "    - list: Lista de nombres de archivos parquet en la ruta especificada.\n",
    "    \"\"\"\n",
    "    # Obtener el cliente del contenedor\n",
    "    container_client = blob_service_client.get_container_client(container_name)\n",
    "    \n",
    "    # Listar los blobs en la ruta especificada con extensión \".parquet\"\n",
    "    blobs = container_client.list_blobs(name_starts_with=path, include=['metadata'])\n",
    "    \n",
    "    # Filtrar los blobs con extensión \".parquet\" y obtener sus nombres\n",
    "    parquet_files = [blob.name for blob in blobs if blob.name.endswith('.parquet')]\n",
    "    \n",
    "    return parquet_files"
   ]
  },
  {
   "cell_type": "code",
   "execution_count": 3,
   "metadata": {},
   "outputs": [
    {
     "data": {
      "text/plain": [
       "['raw-data/yellow_analytics/yellow_analytics_part_10_1.parquet',\n",
       " 'raw-data/yellow_analytics/yellow_analytics_part_10_2.parquet',\n",
       " 'raw-data/yellow_analytics/yellow_analytics_part_10_3.parquet',\n",
       " 'raw-data/yellow_analytics/yellow_analytics_part_10_4.parquet',\n",
       " 'raw-data/yellow_analytics/yellow_analytics_part_11_1.parquet',\n",
       " 'raw-data/yellow_analytics/yellow_analytics_part_11_2.parquet',\n",
       " 'raw-data/yellow_analytics/yellow_analytics_part_11_3.parquet',\n",
       " 'raw-data/yellow_analytics/yellow_analytics_part_11_4.parquet',\n",
       " 'raw-data/yellow_analytics/yellow_analytics_part_12_1.parquet',\n",
       " 'raw-data/yellow_analytics/yellow_analytics_part_12_2.parquet',\n",
       " 'raw-data/yellow_analytics/yellow_analytics_part_12_3.parquet',\n",
       " 'raw-data/yellow_analytics/yellow_analytics_part_12_4.parquet',\n",
       " 'raw-data/yellow_analytics/yellow_analytics_part_13_1.parquet',\n",
       " 'raw-data/yellow_analytics/yellow_analytics_part_13_2.parquet',\n",
       " 'raw-data/yellow_analytics/yellow_analytics_part_13_3.parquet',\n",
       " 'raw-data/yellow_analytics/yellow_analytics_part_13_4.parquet',\n",
       " 'raw-data/yellow_analytics/yellow_analytics_part_14_1.parquet',\n",
       " 'raw-data/yellow_analytics/yellow_analytics_part_14_2.parquet',\n",
       " 'raw-data/yellow_analytics/yellow_analytics_part_14_3.parquet',\n",
       " 'raw-data/yellow_analytics/yellow_analytics_part_14_4.parquet',\n",
       " 'raw-data/yellow_analytics/yellow_analytics_part_15_1.parquet',\n",
       " 'raw-data/yellow_analytics/yellow_analytics_part_15_2.parquet',\n",
       " 'raw-data/yellow_analytics/yellow_analytics_part_15_3.parquet',\n",
       " 'raw-data/yellow_analytics/yellow_analytics_part_15_4.parquet',\n",
       " 'raw-data/yellow_analytics/yellow_analytics_part_16_1.parquet',\n",
       " 'raw-data/yellow_analytics/yellow_analytics_part_16_2.parquet',\n",
       " 'raw-data/yellow_analytics/yellow_analytics_part_16_3.parquet',\n",
       " 'raw-data/yellow_analytics/yellow_analytics_part_16_4.parquet',\n",
       " 'raw-data/yellow_analytics/yellow_analytics_part_17_1.parquet',\n",
       " 'raw-data/yellow_analytics/yellow_analytics_part_17_2.parquet',\n",
       " 'raw-data/yellow_analytics/yellow_analytics_part_17_3.parquet',\n",
       " 'raw-data/yellow_analytics/yellow_analytics_part_17_4.parquet',\n",
       " 'raw-data/yellow_analytics/yellow_analytics_part_18_1.parquet',\n",
       " 'raw-data/yellow_analytics/yellow_analytics_part_18_2.parquet',\n",
       " 'raw-data/yellow_analytics/yellow_analytics_part_18_3.parquet',\n",
       " 'raw-data/yellow_analytics/yellow_analytics_part_18_4.parquet',\n",
       " 'raw-data/yellow_analytics/yellow_analytics_part_19_1.parquet',\n",
       " 'raw-data/yellow_analytics/yellow_analytics_part_19_2.parquet',\n",
       " 'raw-data/yellow_analytics/yellow_analytics_part_19_3.parquet',\n",
       " 'raw-data/yellow_analytics/yellow_analytics_part_19_4.parquet',\n",
       " 'raw-data/yellow_analytics/yellow_analytics_part_1_1.parquet',\n",
       " 'raw-data/yellow_analytics/yellow_analytics_part_1_2.parquet',\n",
       " 'raw-data/yellow_analytics/yellow_analytics_part_1_3.parquet',\n",
       " 'raw-data/yellow_analytics/yellow_analytics_part_1_4.parquet',\n",
       " 'raw-data/yellow_analytics/yellow_analytics_part_20_1.parquet',\n",
       " 'raw-data/yellow_analytics/yellow_analytics_part_20_2.parquet',\n",
       " 'raw-data/yellow_analytics/yellow_analytics_part_20_3.parquet',\n",
       " 'raw-data/yellow_analytics/yellow_analytics_part_20_4.parquet',\n",
       " 'raw-data/yellow_analytics/yellow_analytics_part_21_1.parquet',\n",
       " 'raw-data/yellow_analytics/yellow_analytics_part_21_2.parquet',\n",
       " 'raw-data/yellow_analytics/yellow_analytics_part_21_3.parquet',\n",
       " 'raw-data/yellow_analytics/yellow_analytics_part_21_4.parquet',\n",
       " 'raw-data/yellow_analytics/yellow_analytics_part_22_1.parquet',\n",
       " 'raw-data/yellow_analytics/yellow_analytics_part_22_2.parquet',\n",
       " 'raw-data/yellow_analytics/yellow_analytics_part_22_3.parquet',\n",
       " 'raw-data/yellow_analytics/yellow_analytics_part_22_4.parquet',\n",
       " 'raw-data/yellow_analytics/yellow_analytics_part_23_1.parquet',\n",
       " 'raw-data/yellow_analytics/yellow_analytics_part_23_2.parquet',\n",
       " 'raw-data/yellow_analytics/yellow_analytics_part_23_3.parquet',\n",
       " 'raw-data/yellow_analytics/yellow_analytics_part_23_4.parquet',\n",
       " 'raw-data/yellow_analytics/yellow_analytics_part_24_1.parquet',\n",
       " 'raw-data/yellow_analytics/yellow_analytics_part_24_2.parquet',\n",
       " 'raw-data/yellow_analytics/yellow_analytics_part_24_3.parquet',\n",
       " 'raw-data/yellow_analytics/yellow_analytics_part_24_4.parquet',\n",
       " 'raw-data/yellow_analytics/yellow_analytics_part_2_1.parquet',\n",
       " 'raw-data/yellow_analytics/yellow_analytics_part_2_2.parquet',\n",
       " 'raw-data/yellow_analytics/yellow_analytics_part_2_3.parquet',\n",
       " 'raw-data/yellow_analytics/yellow_analytics_part_2_4.parquet',\n",
       " 'raw-data/yellow_analytics/yellow_analytics_part_3_1.parquet',\n",
       " 'raw-data/yellow_analytics/yellow_analytics_part_3_2.parquet',\n",
       " 'raw-data/yellow_analytics/yellow_analytics_part_3_3.parquet',\n",
       " 'raw-data/yellow_analytics/yellow_analytics_part_3_4.parquet',\n",
       " 'raw-data/yellow_analytics/yellow_analytics_part_4_1.parquet',\n",
       " 'raw-data/yellow_analytics/yellow_analytics_part_4_2.parquet',\n",
       " 'raw-data/yellow_analytics/yellow_analytics_part_4_3.parquet',\n",
       " 'raw-data/yellow_analytics/yellow_analytics_part_4_4.parquet',\n",
       " 'raw-data/yellow_analytics/yellow_analytics_part_5_1.parquet',\n",
       " 'raw-data/yellow_analytics/yellow_analytics_part_5_2.parquet',\n",
       " 'raw-data/yellow_analytics/yellow_analytics_part_5_3.parquet',\n",
       " 'raw-data/yellow_analytics/yellow_analytics_part_5_4.parquet',\n",
       " 'raw-data/yellow_analytics/yellow_analytics_part_6_1.parquet',\n",
       " 'raw-data/yellow_analytics/yellow_analytics_part_6_2.parquet',\n",
       " 'raw-data/yellow_analytics/yellow_analytics_part_6_3.parquet',\n",
       " 'raw-data/yellow_analytics/yellow_analytics_part_6_4.parquet',\n",
       " 'raw-data/yellow_analytics/yellow_analytics_part_7_1.parquet',\n",
       " 'raw-data/yellow_analytics/yellow_analytics_part_7_2.parquet',\n",
       " 'raw-data/yellow_analytics/yellow_analytics_part_7_3.parquet',\n",
       " 'raw-data/yellow_analytics/yellow_analytics_part_7_4.parquet',\n",
       " 'raw-data/yellow_analytics/yellow_analytics_part_8_1.parquet',\n",
       " 'raw-data/yellow_analytics/yellow_analytics_part_8_2.parquet',\n",
       " 'raw-data/yellow_analytics/yellow_analytics_part_8_3.parquet',\n",
       " 'raw-data/yellow_analytics/yellow_analytics_part_8_4.parquet',\n",
       " 'raw-data/yellow_analytics/yellow_analytics_part_9_1.parquet',\n",
       " 'raw-data/yellow_analytics/yellow_analytics_part_9_2.parquet',\n",
       " 'raw-data/yellow_analytics/yellow_analytics_part_9_3.parquet',\n",
       " 'raw-data/yellow_analytics/yellow_analytics_part_9_4.parquet']"
      ]
     },
     "execution_count": 3,
     "metadata": {},
     "output_type": "execute_result"
    }
   ],
   "source": [
    "\n",
    "# Reemplaza 'path' con la ruta deseada dentro del contenedor\n",
    "parquet_files = list_parquet_files(blob_service_client, container_name, \"raw-data/yellow_analytics/\")\n",
    "parquet_files"
   ]
  },
  {
   "cell_type": "code",
   "execution_count": 4,
   "metadata": {},
   "outputs": [],
   "source": [
    "def read_parquet_files_to_dataframe(blob_service_client, container_name, parquet_files):\n",
    "    \"\"\"\n",
    "    Lee los archivos parquet y los une en un DataFrame.\n",
    "\n",
    "    Parameters:\n",
    "    - blob_service_client (BlobServiceClient): El cliente del servicio Blob.\n",
    "    - container_name (str): El nombre del contenedor.\n",
    "    - parquet_files (list): Lista de nombres de archivos parquet en el contenedor.\n",
    "\n",
    "    Returns:\n",
    "    - pd.DataFrame: DataFrame que contiene todos los datos de los archivos parquet.\n",
    "    \"\"\"\n",
    "    dfs = []\n",
    "\n",
    "    # Obtener el cliente del contenedor\n",
    "    container_client = blob_service_client.get_container_client(container_name)\n",
    "\n",
    "    for file_name in parquet_files:\n",
    "        # Obtener el cliente del blob\n",
    "        blob_client = container_client.get_blob_client(file_name)\n",
    "\n",
    "        # Descargar el archivo desde Azure Blob Storage\n",
    "        downloaded_blob = blob_client.download_blob()\n",
    "\n",
    "        # Leer el archivo parquet en un DataFrame de pandas\n",
    "        with BytesIO() as file_stream:\n",
    "            downloaded_blob.readinto(file_stream)\n",
    "            file_stream.seek(0)\n",
    "            df = pd.read_parquet(file_stream)\n",
    "            dfs.append(df)\n",
    "\n",
    "    # Concatenar todos los DataFrames en uno solo\n",
    "    result_df = pd.concat(dfs, ignore_index=True)\n",
    "    return result_df\n",
    "\n",
    "# Ejemplo de uso:\n",
    "# Reemplaza 'blob_service_client' y 'container_name' con tus propias variables\n",
    "# Reemplaza 'parquet_files' con la lista de nombres de archivos parquet\n",
    "df = read_parquet_files_to_dataframe(blob_service_client, container_name, parquet_files)"
   ]
  },
  {
   "cell_type": "code",
   "execution_count": 11,
   "metadata": {},
   "outputs": [
    {
     "data": {
      "text/plain": [
       "(38287508, 11)"
      ]
     },
     "execution_count": 11,
     "metadata": {},
     "output_type": "execute_result"
    }
   ],
   "source": [
    "df.shape"
   ]
  },
  {
   "cell_type": "markdown",
   "metadata": {},
   "source": [
    "## Conexión con Azure Data ffvh"
   ]
  },
  {
   "cell_type": "code",
   "execution_count": 12,
   "metadata": {},
   "outputs": [
    {
     "data": {
      "text/plain": [
       "['raw-data/ffvh_analytics/ffvh_analytics_part_0_1.parquet',\n",
       " 'raw-data/ffvh_analytics/ffvh_analytics_part_0_2.parquet',\n",
       " 'raw-data/ffvh_analytics/ffvh_analytics_part_0_3.parquet',\n",
       " 'raw-data/ffvh_analytics/ffvh_analytics_part_0_4.parquet',\n",
       " 'raw-data/ffvh_analytics/ffvh_analytics_part_10_1.parquet',\n",
       " 'raw-data/ffvh_analytics/ffvh_analytics_part_10_2.parquet',\n",
       " 'raw-data/ffvh_analytics/ffvh_analytics_part_10_3.parquet',\n",
       " 'raw-data/ffvh_analytics/ffvh_analytics_part_10_4.parquet',\n",
       " 'raw-data/ffvh_analytics/ffvh_analytics_part_11_1.parquet',\n",
       " 'raw-data/ffvh_analytics/ffvh_analytics_part_11_2.parquet',\n",
       " 'raw-data/ffvh_analytics/ffvh_analytics_part_11_3.parquet',\n",
       " 'raw-data/ffvh_analytics/ffvh_analytics_part_11_4.parquet',\n",
       " 'raw-data/ffvh_analytics/ffvh_analytics_part_12_1.parquet',\n",
       " 'raw-data/ffvh_analytics/ffvh_analytics_part_12_2.parquet',\n",
       " 'raw-data/ffvh_analytics/ffvh_analytics_part_12_3.parquet',\n",
       " 'raw-data/ffvh_analytics/ffvh_analytics_part_12_4.parquet',\n",
       " 'raw-data/ffvh_analytics/ffvh_analytics_part_13_1.parquet',\n",
       " 'raw-data/ffvh_analytics/ffvh_analytics_part_13_2.parquet',\n",
       " 'raw-data/ffvh_analytics/ffvh_analytics_part_13_3.parquet',\n",
       " 'raw-data/ffvh_analytics/ffvh_analytics_part_13_4.parquet',\n",
       " 'raw-data/ffvh_analytics/ffvh_analytics_part_14_1.parquet',\n",
       " 'raw-data/ffvh_analytics/ffvh_analytics_part_14_2.parquet',\n",
       " 'raw-data/ffvh_analytics/ffvh_analytics_part_14_3.parquet',\n",
       " 'raw-data/ffvh_analytics/ffvh_analytics_part_14_4.parquet',\n",
       " 'raw-data/ffvh_analytics/ffvh_analytics_part_15_1.parquet',\n",
       " 'raw-data/ffvh_analytics/ffvh_analytics_part_15_2.parquet',\n",
       " 'raw-data/ffvh_analytics/ffvh_analytics_part_15_3.parquet',\n",
       " 'raw-data/ffvh_analytics/ffvh_analytics_part_15_4.parquet',\n",
       " 'raw-data/ffvh_analytics/ffvh_analytics_part_16_1.parquet',\n",
       " 'raw-data/ffvh_analytics/ffvh_analytics_part_16_2.parquet',\n",
       " 'raw-data/ffvh_analytics/ffvh_analytics_part_16_3.parquet',\n",
       " 'raw-data/ffvh_analytics/ffvh_analytics_part_16_4.parquet',\n",
       " 'raw-data/ffvh_analytics/ffvh_analytics_part_17_1.parquet',\n",
       " 'raw-data/ffvh_analytics/ffvh_analytics_part_17_2.parquet',\n",
       " 'raw-data/ffvh_analytics/ffvh_analytics_part_17_3.parquet',\n",
       " 'raw-data/ffvh_analytics/ffvh_analytics_part_17_4.parquet',\n",
       " 'raw-data/ffvh_analytics/ffvh_analytics_part_18_1.parquet',\n",
       " 'raw-data/ffvh_analytics/ffvh_analytics_part_18_2.parquet',\n",
       " 'raw-data/ffvh_analytics/ffvh_analytics_part_18_3.parquet',\n",
       " 'raw-data/ffvh_analytics/ffvh_analytics_part_18_4.parquet',\n",
       " 'raw-data/ffvh_analytics/ffvh_analytics_part_19_1.parquet',\n",
       " 'raw-data/ffvh_analytics/ffvh_analytics_part_19_2.parquet',\n",
       " 'raw-data/ffvh_analytics/ffvh_analytics_part_19_3.parquet',\n",
       " 'raw-data/ffvh_analytics/ffvh_analytics_part_19_4.parquet',\n",
       " 'raw-data/ffvh_analytics/ffvh_analytics_part_1_1.parquet',\n",
       " 'raw-data/ffvh_analytics/ffvh_analytics_part_1_2.parquet',\n",
       " 'raw-data/ffvh_analytics/ffvh_analytics_part_1_3.parquet',\n",
       " 'raw-data/ffvh_analytics/ffvh_analytics_part_1_4.parquet',\n",
       " 'raw-data/ffvh_analytics/ffvh_analytics_part_20_1.parquet',\n",
       " 'raw-data/ffvh_analytics/ffvh_analytics_part_20_2.parquet',\n",
       " 'raw-data/ffvh_analytics/ffvh_analytics_part_20_3.parquet',\n",
       " 'raw-data/ffvh_analytics/ffvh_analytics_part_20_4.parquet',\n",
       " 'raw-data/ffvh_analytics/ffvh_analytics_part_21_1.parquet',\n",
       " 'raw-data/ffvh_analytics/ffvh_analytics_part_21_2.parquet',\n",
       " 'raw-data/ffvh_analytics/ffvh_analytics_part_21_3.parquet',\n",
       " 'raw-data/ffvh_analytics/ffvh_analytics_part_21_4.parquet',\n",
       " 'raw-data/ffvh_analytics/ffvh_analytics_part_22_1.parquet',\n",
       " 'raw-data/ffvh_analytics/ffvh_analytics_part_22_2.parquet',\n",
       " 'raw-data/ffvh_analytics/ffvh_analytics_part_22_3.parquet',\n",
       " 'raw-data/ffvh_analytics/ffvh_analytics_part_22_4.parquet',\n",
       " 'raw-data/ffvh_analytics/ffvh_analytics_part_2_1.parquet',\n",
       " 'raw-data/ffvh_analytics/ffvh_analytics_part_2_2.parquet',\n",
       " 'raw-data/ffvh_analytics/ffvh_analytics_part_2_3.parquet',\n",
       " 'raw-data/ffvh_analytics/ffvh_analytics_part_2_4.parquet',\n",
       " 'raw-data/ffvh_analytics/ffvh_analytics_part_3_1.parquet',\n",
       " 'raw-data/ffvh_analytics/ffvh_analytics_part_3_2.parquet',\n",
       " 'raw-data/ffvh_analytics/ffvh_analytics_part_3_3.parquet',\n",
       " 'raw-data/ffvh_analytics/ffvh_analytics_part_3_4.parquet',\n",
       " 'raw-data/ffvh_analytics/ffvh_analytics_part_4_1.parquet',\n",
       " 'raw-data/ffvh_analytics/ffvh_analytics_part_4_2.parquet',\n",
       " 'raw-data/ffvh_analytics/ffvh_analytics_part_4_3.parquet',\n",
       " 'raw-data/ffvh_analytics/ffvh_analytics_part_4_4.parquet',\n",
       " 'raw-data/ffvh_analytics/ffvh_analytics_part_5_1.parquet',\n",
       " 'raw-data/ffvh_analytics/ffvh_analytics_part_5_2.parquet',\n",
       " 'raw-data/ffvh_analytics/ffvh_analytics_part_5_3.parquet',\n",
       " 'raw-data/ffvh_analytics/ffvh_analytics_part_5_4.parquet',\n",
       " 'raw-data/ffvh_analytics/ffvh_analytics_part_6_1.parquet',\n",
       " 'raw-data/ffvh_analytics/ffvh_analytics_part_6_2.parquet',\n",
       " 'raw-data/ffvh_analytics/ffvh_analytics_part_6_3.parquet',\n",
       " 'raw-data/ffvh_analytics/ffvh_analytics_part_6_4.parquet',\n",
       " 'raw-data/ffvh_analytics/ffvh_analytics_part_7_1.parquet',\n",
       " 'raw-data/ffvh_analytics/ffvh_analytics_part_7_2.parquet',\n",
       " 'raw-data/ffvh_analytics/ffvh_analytics_part_7_3.parquet',\n",
       " 'raw-data/ffvh_analytics/ffvh_analytics_part_7_4.parquet',\n",
       " 'raw-data/ffvh_analytics/ffvh_analytics_part_8_1.parquet',\n",
       " 'raw-data/ffvh_analytics/ffvh_analytics_part_8_2.parquet',\n",
       " 'raw-data/ffvh_analytics/ffvh_analytics_part_8_3.parquet',\n",
       " 'raw-data/ffvh_analytics/ffvh_analytics_part_8_4.parquet',\n",
       " 'raw-data/ffvh_analytics/ffvh_analytics_part_9_1.parquet',\n",
       " 'raw-data/ffvh_analytics/ffvh_analytics_part_9_2.parquet',\n",
       " 'raw-data/ffvh_analytics/ffvh_analytics_part_9_3.parquet',\n",
       " 'raw-data/ffvh_analytics/ffvh_analytics_part_9_4.parquet']"
      ]
     },
     "execution_count": 12,
     "metadata": {},
     "output_type": "execute_result"
    }
   ],
   "source": [
    "\n",
    "# Reemplaza 'path' con la ruta deseada dentro del contenedor\n",
    "parquet_files = list_parquet_files(blob_service_client, container_name, \"raw-data/ffvh_analytics/\")\n",
    "parquet_files"
   ]
  },
  {
   "cell_type": "code",
   "execution_count": 16,
   "metadata": {},
   "outputs": [],
   "source": [
    "from requests.exceptions import ReadTimeout\n",
    "\n",
    "def read_parquet_files_to_dataframe(blob_service_client, container_name, parquet_files, timeout=None):\n",
    "    \"\"\"\n",
    "    Lee los archivos parquet y los une en un DataFrame.\n",
    "\n",
    "    Parameters:\n",
    "    - blob_service_client (BlobServiceClient): El cliente del servicio Blob.\n",
    "    - container_name (str): El nombre del contenedor.\n",
    "    - parquet_files (list): Lista de nombres de archivos parquet en el contenedor.\n",
    "    - timeout (float): Tiempo de espera para la descarga del blob.\n",
    "\n",
    "    Returns:\n",
    "    - pd.DataFrame: DataFrame que contiene todos los datos de los archivos parquet.\n",
    "    \"\"\"\n",
    "    dfs = []\n",
    "\n",
    "    # Obtener el cliente del contenedor\n",
    "    container_client = blob_service_client.get_container_client(container_name)\n",
    "\n",
    "    for file_name in parquet_files:\n",
    "        # Obtener el cliente del blob\n",
    "        blob_client = container_client.get_blob_client(file_name)\n",
    "\n",
    "        # Descargar el archivo desde Azure Blob Storage\n",
    "        try:\n",
    "            downloaded_blob = blob_client.download_blob(timeout=timeout)\n",
    "        except ReadTimeout:\n",
    "            print(f\"Timeout de lectura al descargar el blob: {file_name}\")\n",
    "            continue\n",
    "\n",
    "        # Leer el archivo parquet en un DataFrame de pandas\n",
    "        with BytesIO() as file_stream:\n",
    "            downloaded_blob.readinto(file_stream)\n",
    "            file_stream.seek(0)\n",
    "            df = pd.read_parquet(file_stream)\n",
    "            dfs.append(df)\n",
    "\n",
    "    # Concatenar todos los DataFrames en uno solo\n",
    "    result_df = pd.concat(dfs, ignore_index=True)\n",
    "    return result_df\n",
    "\n",
    "# Ejemplo de uso:\n",
    "# Reemplaza 'blob_service_client' y 'container_name' con tus propias variables\n",
    "\n",
    "df2 = read_parquet_files_to_dataframe(blob_service_client, container_name, parquet_files, timeout=60)\n"
   ]
  },
  {
   "cell_type": "code",
   "execution_count": 17,
   "metadata": {},
   "outputs": [
    {
     "name": "stderr",
     "output_type": "stream",
     "text": [
      "C:\\Users\\ozi\\AppData\\Local\\Temp\\ipykernel_8972\\1174040999.py:1: UserWarning: Could not infer format, so each element will be parsed individually, falling back to `dateutil`. To ensure parsing is consistent and as-expected, please specify a format.\n",
      "  df2['HoraRecogida'] = pd.to_datetime(df2['HoraRecogida'])\n"
     ]
    }
   ],
   "source": [
    "df2['HoraRecogida'] = pd.to_datetime(df2['HoraRecogida'])\n",
    "df2.rename(columns={'DuracionAtencion': 'DuracionViaje'}, inplace=True)\n",
    "df2['HoraRecogida'] = df2['HoraRecogida'].dt.hour"
   ]
  },
  {
   "cell_type": "code",
   "execution_count": 18,
   "metadata": {},
   "outputs": [],
   "source": [
    "# Seleccionar las columnas requeridas\n",
    "cols_requeridas = ['FechaRecogida', 'HoraRecogida', 'IdZonaOrigen']\n",
    "\n",
    "df_ffvh_selected = df2[cols_requeridas]\n",
    "df_yellow_selected = df[cols_requeridas]\n",
    "\n",
    "# Concatenar los DataFrames seleccionados\n",
    "df_selected = pd.concat([df_yellow_selected, df_ffvh_selected], ignore_index=True)\n",
    "\n",
    "# Guardar el DataFrame concatenado en un nuevo archivo\n",
    "# df_selected.to_csv('df_selected.csv', index=False)"
   ]
  },
  {
   "cell_type": "code",
   "execution_count": 19,
   "metadata": {},
   "outputs": [],
   "source": [
    "# Convertir las columnas de fecha y hora a tipo datetime si no están en ese formato\n",
    "df_selected['FechaRecogida'] = pd.to_datetime(df_selected['FechaRecogida'])\n",
    "\n",
    "# Crear nuevas columnas year, month y day\n",
    "# df_selected['año'] = df_selected['FechaRecogida'].dt.year\n",
    "df_selected['mes'] = df_selected['FechaRecogida'].dt.month\n",
    "df_selected['diaSemana'] = df_selected['FechaRecogida'].dt.dayofweek\n",
    "\n",
    "# Eliminar columnas FechaRecogida\n",
    "df_selected.drop(columns=['FechaRecogida'], inplace=True)\n",
    "\n",
    "\n",
    "# Especificar el nuevo orden de las columnas\n",
    "new_order = ['IdZonaOrigen', 'HoraRecogida','diaSemana','mes']\n",
    "\n",
    "# Reordenar las columnas en df_selected\n",
    "df_selected = df_selected.reindex(columns=new_order)"
   ]
  },
  {
   "cell_type": "code",
   "execution_count": 20,
   "metadata": {},
   "outputs": [
    {
     "data": {
      "text/html": [
       "<div>\n",
       "<style scoped>\n",
       "    .dataframe tbody tr th:only-of-type {\n",
       "        vertical-align: middle;\n",
       "    }\n",
       "\n",
       "    .dataframe tbody tr th {\n",
       "        vertical-align: top;\n",
       "    }\n",
       "\n",
       "    .dataframe thead th {\n",
       "        text-align: right;\n",
       "    }\n",
       "</style>\n",
       "<table border=\"1\" class=\"dataframe\">\n",
       "  <thead>\n",
       "    <tr style=\"text-align: right;\">\n",
       "      <th></th>\n",
       "      <th>LocationID</th>\n",
       "      <th>Borough</th>\n",
       "      <th>Zone</th>\n",
       "      <th>service_zone</th>\n",
       "    </tr>\n",
       "  </thead>\n",
       "  <tbody>\n",
       "    <tr>\n",
       "      <th>0</th>\n",
       "      <td>1</td>\n",
       "      <td>EWR</td>\n",
       "      <td>Newark Airport</td>\n",
       "      <td>EWR</td>\n",
       "    </tr>\n",
       "    <tr>\n",
       "      <th>1</th>\n",
       "      <td>2</td>\n",
       "      <td>Queens</td>\n",
       "      <td>Jamaica Bay</td>\n",
       "      <td>Boro Zone</td>\n",
       "    </tr>\n",
       "    <tr>\n",
       "      <th>2</th>\n",
       "      <td>3</td>\n",
       "      <td>Bronx</td>\n",
       "      <td>Allerton/Pelham Gardens</td>\n",
       "      <td>Boro Zone</td>\n",
       "    </tr>\n",
       "    <tr>\n",
       "      <th>3</th>\n",
       "      <td>4</td>\n",
       "      <td>Manhattan</td>\n",
       "      <td>Alphabet City</td>\n",
       "      <td>Yellow Zone</td>\n",
       "    </tr>\n",
       "    <tr>\n",
       "      <th>4</th>\n",
       "      <td>5</td>\n",
       "      <td>Staten Island</td>\n",
       "      <td>Arden Heights</td>\n",
       "      <td>Boro Zone</td>\n",
       "    </tr>\n",
       "    <tr>\n",
       "      <th>...</th>\n",
       "      <td>...</td>\n",
       "      <td>...</td>\n",
       "      <td>...</td>\n",
       "      <td>...</td>\n",
       "    </tr>\n",
       "    <tr>\n",
       "      <th>260</th>\n",
       "      <td>261</td>\n",
       "      <td>Manhattan</td>\n",
       "      <td>World Trade Center</td>\n",
       "      <td>Yellow Zone</td>\n",
       "    </tr>\n",
       "    <tr>\n",
       "      <th>261</th>\n",
       "      <td>262</td>\n",
       "      <td>Manhattan</td>\n",
       "      <td>Yorkville East</td>\n",
       "      <td>Yellow Zone</td>\n",
       "    </tr>\n",
       "    <tr>\n",
       "      <th>262</th>\n",
       "      <td>263</td>\n",
       "      <td>Manhattan</td>\n",
       "      <td>Yorkville West</td>\n",
       "      <td>Yellow Zone</td>\n",
       "    </tr>\n",
       "    <tr>\n",
       "      <th>263</th>\n",
       "      <td>264</td>\n",
       "      <td>Unknown</td>\n",
       "      <td>NaN</td>\n",
       "      <td>NaN</td>\n",
       "    </tr>\n",
       "    <tr>\n",
       "      <th>264</th>\n",
       "      <td>265</td>\n",
       "      <td>NaN</td>\n",
       "      <td>Outside of NYC</td>\n",
       "      <td>NaN</td>\n",
       "    </tr>\n",
       "  </tbody>\n",
       "</table>\n",
       "<p>265 rows × 4 columns</p>\n",
       "</div>"
      ],
      "text/plain": [
       "     LocationID        Borough                     Zone service_zone\n",
       "0             1            EWR           Newark Airport          EWR\n",
       "1             2         Queens              Jamaica Bay    Boro Zone\n",
       "2             3          Bronx  Allerton/Pelham Gardens    Boro Zone\n",
       "3             4      Manhattan            Alphabet City  Yellow Zone\n",
       "4             5  Staten Island            Arden Heights    Boro Zone\n",
       "..          ...            ...                      ...          ...\n",
       "260         261      Manhattan       World Trade Center  Yellow Zone\n",
       "261         262      Manhattan           Yorkville East  Yellow Zone\n",
       "262         263      Manhattan           Yorkville West  Yellow Zone\n",
       "263         264        Unknown                      NaN          NaN\n",
       "264         265            NaN           Outside of NYC          NaN\n",
       "\n",
       "[265 rows x 4 columns]"
      ]
     },
     "execution_count": 20,
     "metadata": {},
     "output_type": "execute_result"
    }
   ],
   "source": [
    "import pandas as pd\n",
    "lid = r'..\\datasets\\raw\\taxi_zone_lookup.csv'\n",
    "lid = pd.read_csv(lid)\n",
    "lid"
   ]
  },
  {
   "cell_type": "code",
   "execution_count": 21,
   "metadata": {},
   "outputs": [],
   "source": [
    "# Crear un diccionario de mapeo de distritos a IDs\n",
    "borough_id_map = {\n",
    "    'Bronx': 1,\n",
    "    'Brooklyn': 2,\n",
    "    'Manhattan': 3,\n",
    "    'Queens': 4,\n",
    "    'Staten Island': 5,\n",
    "    'EWR': 6\n",
    "}\n",
    "\n",
    "# Crear la nueva columna 'Borough_id' aplicando el mapeo a la columna 'Borough'\n",
    "lid['Borough_id'] = lid['Borough'].map(borough_id_map)"
   ]
  },
  {
   "cell_type": "code",
   "execution_count": 22,
   "metadata": {},
   "outputs": [],
   "source": [
    "# Combinar merged_data y lid basándote en la igualdad entre las columnas 'PULocationID' y 'LocationID'\n",
    "merged_data_with_borough = pd.merge(df_selected, lid[['LocationID', 'Borough_id']], left_on='IdZonaOrigen', right_on='LocationID', how='left')\n",
    "\n",
    "# Asignar la columna 'Borough_id' al DataFrame df_selected\n",
    "df_selected['Borough_id'] = merged_data_with_borough['Borough_id']"
   ]
  },
  {
   "cell_type": "code",
   "execution_count": 23,
   "metadata": {},
   "outputs": [],
   "source": [
    "# Ruta de destino para guardar el archivo CSV\n",
    "ruta_destino = r'..\\datasets\\models\\df_selected.csv'\n",
    "\n",
    "# Exportar el DataFrame a un archivo CSV\n",
    "df_selected.to_csv(ruta_destino, index=False)"
   ]
  },
  {
   "cell_type": "code",
   "execution_count": 24,
   "metadata": {},
   "outputs": [],
   "source": [
    "df = r'..\\datasets\\models\\df_selected.csv'\n",
    "df = pd.read_csv(df)\n",
    "df_selected = df"
   ]
  },
  {
   "cell_type": "code",
   "execution_count": 25,
   "metadata": {},
   "outputs": [
    {
     "name": "stdout",
     "output_type": "stream",
     "text": [
      "Conteo de clases:\n",
      "Borough_id\n",
      "3.0    47656280\n",
      "2.0     6898048\n",
      "4.0     6002915\n",
      "1.0     3304835\n",
      "5.0      330552\n",
      "6.0          61\n",
      "Name: count, dtype: int64\n",
      "\n",
      "Proporción de clases:\n",
      "Borough_id\n",
      "3.0    7.382493e-01\n",
      "2.0    1.068585e-01\n",
      "4.0    9.299190e-02\n",
      "1.0    5.119561e-02\n",
      "5.0    5.120622e-03\n",
      "6.0    9.449586e-07\n",
      "Name: count, dtype: float64\n"
     ]
    }
   ],
   "source": [
    "class_counts = df_selected['Borough_id'].value_counts()\n",
    "\n",
    "# Muestra la cantidad de ocurrencias de cada valor en la columna 'Borough_id'\n",
    "print(\"Conteo de clases:\")\n",
    "print(class_counts)\n",
    "\n",
    "# Calcula la proporción de cada clase en la columna 'Borough_id'\n",
    "class_proportions = class_counts / len(df_selected)\n",
    "\n",
    "# Muestra la proporción de cada clase\n",
    "print(\"\\nProporción de clases:\")\n",
    "print(class_proportions)\n"
   ]
  },
  {
   "cell_type": "code",
   "execution_count": 26,
   "metadata": {},
   "outputs": [
    {
     "data": {
      "image/png": "[encoded data removed]",
      "text/plain": [
       "<Figure size 1000x500 with 2 Axes>"
      ]
     },
     "metadata": {},
     "output_type": "display_data"
    }
   ],
   "source": [
    "\n",
    "# Calcula la matriz de correlación\n",
    "correlation_matrix = df_selected.corr()\n",
    "\n",
    "# Visualiza la matriz de correlación usando un mapa de calor (heatmap)\n",
    "plt.figure(figsize=(10, 5))\n",
    "sns.heatmap(correlation_matrix, annot=True, cmap='coolwarm', fmt=\".2f\", linewidths=0.5)\n",
    "plt.title('Matriz de Correlación')\n",
    "plt.show()"
   ]
  },
  {
   "cell_type": "code",
   "execution_count": 27,
   "metadata": {},
   "outputs": [
    {
     "data": {
      "text/plain": [
       "Borough_id    IdZonaOrigen    0.084152\n",
       "HoraRecogida  diaSemana       0.066449\n",
       "IdZonaOrigen  diaSemana       0.034487\n",
       "              HoraRecogida    0.026416\n",
       "HoraRecogida  Borough_id      0.020479\n",
       "Borough_id    diaSemana       0.018586\n",
       "mes           Borough_id      0.013234\n",
       "IdZonaOrigen  mes             0.007055\n",
       "HoraRecogida  mes             0.002660\n",
       "mes           diaSemana       0.002655\n",
       "dtype: float64"
      ]
     },
     "execution_count": 27,
     "metadata": {},
     "output_type": "execute_result"
    }
   ],
   "source": [
    "# Calcula la matriz de correlación\n",
    "correlation_matrix = df_selected.corr()\n",
    "\n",
    "# Obtiene los valores absolutos de los coeficientes de correlación\n",
    "abs_correlation_matrix = correlation_matrix.abs()\n",
    "\n",
    "# Ordena los valores absolutos de los coeficientes de correlación de manera descendente\n",
    "sorted_correlation = abs_correlation_matrix.unstack().sort_values(ascending=False)\n",
    "\n",
    "# Filtra los valores de la diagonal principal (que son 1) y los duplicados\n",
    "sorted_correlation = sorted_correlation[sorted_correlation != 1].drop_duplicates()\n",
    "\n",
    "# Muestra los valores ordenados de mayor a menor correlación\n",
    "sorted_correlation.head(10)"
   ]
  },
  {
   "cell_type": "code",
   "execution_count": 28,
   "metadata": {},
   "outputs": [],
   "source": [
    "ML_data_final = df_selected"
   ]
  },
  {
   "cell_type": "code",
   "execution_count": 29,
   "metadata": {},
   "outputs": [
    {
     "data": {
      "text/html": [
       "<div>\n",
       "<style scoped>\n",
       "    .dataframe tbody tr th:only-of-type {\n",
       "        vertical-align: middle;\n",
       "    }\n",
       "\n",
       "    .dataframe tbody tr th {\n",
       "        vertical-align: top;\n",
       "    }\n",
       "\n",
       "    .dataframe thead th {\n",
       "        text-align: right;\n",
       "    }\n",
       "</style>\n",
       "<table border=\"1\" class=\"dataframe\">\n",
       "  <thead>\n",
       "    <tr style=\"text-align: right;\">\n",
       "      <th></th>\n",
       "      <th>IdZonaOrigen</th>\n",
       "      <th>HoraRecogida</th>\n",
       "      <th>diaSemana</th>\n",
       "      <th>mes</th>\n",
       "      <th>Borough_id</th>\n",
       "    </tr>\n",
       "  </thead>\n",
       "  <tbody>\n",
       "    <tr>\n",
       "      <th>0</th>\n",
       "      <td>246</td>\n",
       "      <td>0</td>\n",
       "      <td>5</td>\n",
       "      <td>10</td>\n",
       "      <td>3.0</td>\n",
       "    </tr>\n",
       "    <tr>\n",
       "      <th>1</th>\n",
       "      <td>236</td>\n",
       "      <td>20</td>\n",
       "      <td>4</td>\n",
       "      <td>10</td>\n",
       "      <td>3.0</td>\n",
       "    </tr>\n",
       "    <tr>\n",
       "      <th>2</th>\n",
       "      <td>79</td>\n",
       "      <td>23</td>\n",
       "      <td>2</td>\n",
       "      <td>10</td>\n",
       "      <td>3.0</td>\n",
       "    </tr>\n",
       "    <tr>\n",
       "      <th>3</th>\n",
       "      <td>90</td>\n",
       "      <td>12</td>\n",
       "      <td>1</td>\n",
       "      <td>10</td>\n",
       "      <td>3.0</td>\n",
       "    </tr>\n",
       "    <tr>\n",
       "      <th>4</th>\n",
       "      <td>164</td>\n",
       "      <td>17</td>\n",
       "      <td>0</td>\n",
       "      <td>10</td>\n",
       "      <td>3.0</td>\n",
       "    </tr>\n",
       "    <tr>\n",
       "      <th>...</th>\n",
       "      <td>...</td>\n",
       "      <td>...</td>\n",
       "      <td>...</td>\n",
       "      <td>...</td>\n",
       "      <td>...</td>\n",
       "    </tr>\n",
       "    <tr>\n",
       "      <th>64553090</th>\n",
       "      <td>185</td>\n",
       "      <td>15</td>\n",
       "      <td>2</td>\n",
       "      <td>10</td>\n",
       "      <td>1.0</td>\n",
       "    </tr>\n",
       "    <tr>\n",
       "      <th>64553091</th>\n",
       "      <td>228</td>\n",
       "      <td>8</td>\n",
       "      <td>3</td>\n",
       "      <td>10</td>\n",
       "      <td>2.0</td>\n",
       "    </tr>\n",
       "    <tr>\n",
       "      <th>64553092</th>\n",
       "      <td>14</td>\n",
       "      <td>13</td>\n",
       "      <td>1</td>\n",
       "      <td>10</td>\n",
       "      <td>2.0</td>\n",
       "    </tr>\n",
       "    <tr>\n",
       "      <th>64553093</th>\n",
       "      <td>108</td>\n",
       "      <td>15</td>\n",
       "      <td>0</td>\n",
       "      <td>10</td>\n",
       "      <td>2.0</td>\n",
       "    </tr>\n",
       "    <tr>\n",
       "      <th>64553094</th>\n",
       "      <td>239</td>\n",
       "      <td>17</td>\n",
       "      <td>4</td>\n",
       "      <td>10</td>\n",
       "      <td>3.0</td>\n",
       "    </tr>\n",
       "  </tbody>\n",
       "</table>\n",
       "<p>64553095 rows × 5 columns</p>\n",
       "</div>"
      ],
      "text/plain": [
       "          IdZonaOrigen  HoraRecogida  diaSemana  mes  Borough_id\n",
       "0                  246             0          5   10         3.0\n",
       "1                  236            20          4   10         3.0\n",
       "2                   79            23          2   10         3.0\n",
       "3                   90            12          1   10         3.0\n",
       "4                  164            17          0   10         3.0\n",
       "...                ...           ...        ...  ...         ...\n",
       "64553090           185            15          2   10         1.0\n",
       "64553091           228             8          3   10         2.0\n",
       "64553092            14            13          1   10         2.0\n",
       "64553093           108            15          0   10         2.0\n",
       "64553094           239            17          4   10         3.0\n",
       "\n",
       "[64553095 rows x 5 columns]"
      ]
     },
     "execution_count": 29,
     "metadata": {},
     "output_type": "execute_result"
    }
   ],
   "source": [
    "ML_data_final"
   ]
  },
  {
   "cell_type": "code",
   "execution_count": 30,
   "metadata": {},
   "outputs": [],
   "source": [
    "# Agrupamos por localización, hora y día de la semana\n",
    "df_selected = ML_data_final.groupby(['HoraRecogida','diaSemana','mes','Borough_id']).size().reset_index(name='q_demand')"
   ]
  },
  {
   "cell_type": "code",
   "execution_count": 31,
   "metadata": {},
   "outputs": [],
   "source": [
    "#Creamos el porcentaje de Demanda\n",
    "df_selected['q_demand'] = df_selected['q_demand'].apply(lambda x :  (x / df_selected['q_demand'].max()))\n",
    "df_selected['q_demand'] = round(df_selected['q_demand']*100,2)"
   ]
  },
  {
   "cell_type": "markdown",
   "metadata": {},
   "source": [
    "# Entrenamiento de Modelos"
   ]
  },
  {
   "cell_type": "code",
   "execution_count": 32,
   "metadata": {},
   "outputs": [
    {
     "name": "stdout",
     "output_type": "stream",
     "text": [
      "Tamaño del conjunto de entrenamiento: 7098\n",
      "Tamaño del conjunto de prueba: 3043\n"
     ]
    }
   ],
   "source": [
    "from sklearn.model_selection import train_test_split\n",
    "\n",
    "X = df_selected.drop(columns=['q_demand'])  # Características\n",
    "y = df_selected['q_demand']  # Variable objetivo\n",
    "\n",
    "# Dividir el conjunto de datos en 80% entrenamiento y 20% prueba\n",
    "X_train, X_test, y_train, y_test = train_test_split(X, y, test_size=0.3, random_state=42)\n",
    "\n",
    "print(\"Tamaño del conjunto de entrenamiento:\", X_train.shape[0])\n",
    "print(\"Tamaño del conjunto de prueba:\", X_test.shape[0])"
   ]
  },
  {
   "cell_type": "markdown",
   "metadata": {},
   "source": [
    "# Inicializamos y entrenamos el Modelo con los 3 algoritmos sin ajuste de hiperparámetros"
   ]
  },
  {
   "cell_type": "code",
   "execution_count": 33,
   "metadata": {},
   "outputs": [
    {
     "name": "stdout",
     "output_type": "stream",
     "text": [
      "Métricas para XGBoost:\n",
      "Mean Squared Error (MSE): 1.7496560753650128\n",
      "R-squared (R2): 0.9946995052665096\n",
      "Mean Absolute Error (MAE): 0.6668173790185165\n",
      "Root Mean Squared Error (RMSE): 1.3227456578515058\n",
      "\n",
      "Métricas para Gradient Boosting:\n",
      "Mean Squared Error (MSE): 25.954334683393515\n",
      "R-squared (R2): 0.921372653610297\n",
      "Mean Absolute Error (MAE): 2.626360483103456\n",
      "Root Mean Squared Error (RMSE): 5.094539692984394\n",
      "\n",
      "Métricas para Random Forest:\n",
      "Mean Squared Error (MSE): 4.201851349628656\n",
      "R-squared (R2): 0.9872707035038474\n",
      "Mean Absolute Error (MAE): 0.8253221163325665\n",
      "Root Mean Squared Error (RMSE): 2.0498417864871072\n"
     ]
    }
   ],
   "source": [
    "from sklearn.ensemble import GradientBoostingRegressor, RandomForestRegressor\n",
    "from xgboost import XGBRegressor\n",
    "from sklearn.metrics import mean_squared_error, r2_score, mean_absolute_error\n",
    "import numpy as np\n",
    "import xgboost as xgb\n",
    "\n",
    "# Inicializar los modelos con hiperparámetros predeterminados\n",
    "model_xgb = XGBRegressor()\n",
    "model_gb = GradientBoostingRegressor()\n",
    "model_rf = RandomForestRegressor()\n",
    "\n",
    "# Entrenar los modelos\n",
    "model_xgb.fit(X_train, y_train)\n",
    "model_gb.fit(X_train, y_train)\n",
    "model_rf.fit(X_train, y_train)\n",
    "\n",
    "# Hacer predicciones en el conjunto de prueba\n",
    "predictions_xgb = model_xgb.predict(X_test)\n",
    "predictions_gb = model_gb.predict(X_test)\n",
    "predictions_rf = model_rf.predict(X_test)\n",
    "\n",
    "# Calcular métricas para XGBoost\n",
    "mse_xgb = mean_squared_error(y_test, predictions_xgb)\n",
    "r2_xgb = r2_score(y_test, predictions_xgb)\n",
    "mae_xgb = mean_absolute_error(y_test, predictions_xgb)\n",
    "rmse_xgb = np.sqrt(mse_xgb)\n",
    "\n",
    "# Calcular métricas para Gradient Boosting\n",
    "mse_gb = mean_squared_error(y_test, predictions_gb)\n",
    "r2_gb = r2_score(y_test, predictions_gb)\n",
    "mae_gb = mean_absolute_error(y_test, predictions_gb)\n",
    "rmse_gb = np.sqrt(mse_gb)\n",
    "\n",
    "# Calcular métricas para Random Forest\n",
    "mse_rf = mean_squared_error(y_test, predictions_rf)\n",
    "r2_rf = r2_score(y_test, predictions_rf)\n",
    "mae_rf = mean_absolute_error(y_test, predictions_rf)\n",
    "rmse_rf = np.sqrt(mse_rf)\n",
    "\n",
    "# Imprimir las métricas para cada algoritmo\n",
    "print(\"Métricas para XGBoost:\")\n",
    "print(f'Mean Squared Error (MSE): {mse_xgb}')\n",
    "print(f'R-squared (R2): {r2_xgb}')\n",
    "print(f'Mean Absolute Error (MAE): {mae_xgb}')\n",
    "print(f'Root Mean Squared Error (RMSE): {rmse_xgb}')\n",
    "print()\n",
    "\n",
    "print(\"Métricas para Gradient Boosting:\")\n",
    "print(f'Mean Squared Error (MSE): {mse_gb}')\n",
    "print(f'R-squared (R2): {r2_gb}')\n",
    "print(f'Mean Absolute Error (MAE): {mae_gb}')\n",
    "print(f'Root Mean Squared Error (RMSE): {rmse_gb}')\n",
    "print()\n",
    "\n",
    "print(\"Métricas para Random Forest:\")\n",
    "print(f'Mean Squared Error (MSE): {mse_rf}')\n",
    "print(f'R-squared (R2): {r2_rf}')\n",
    "print(f'Mean Absolute Error (MAE): {mae_rf}')\n",
    "print(f'Root Mean Squared Error (RMSE): {rmse_rf}')\n"
   ]
  },
  {
   "cell_type": "markdown",
   "metadata": {},
   "source": [
    "# Revisión del tiempo de entrenamiento de los Modelos"
   ]
  },
  {
   "cell_type": "code",
   "execution_count": 34,
   "metadata": {},
   "outputs": [
    {
     "name": "stdout",
     "output_type": "stream",
     "text": [
      "Tiempo de entrenamiento para XGBoost: 0.13641071319580078 segundos\n",
      "Tiempo de entrenamiento para Gradient Boosting: 0.32935595512390137 segundos\n",
      "Tiempo de entrenamiento para Random Forest: 1.314319372177124 segundos\n"
     ]
    }
   ],
   "source": [
    "import time\n",
    "from sklearn.ensemble import GradientBoostingRegressor, RandomForestRegressor\n",
    "from xgboost import XGBRegressor\n",
    "import xgboost as xgb\n",
    "\n",
    "# Inicializar los modelos\n",
    "model_xgb = XGBRegressor()\n",
    "model_gb = GradientBoostingRegressor()\n",
    "model_rf = RandomForestRegressor()\n",
    "\n",
    "# Entrenar y calcular el tiempo de entrenamiento para XGBoost\n",
    "start_time_xgb = time.time()\n",
    "model_xgb.fit(X_train, y_train)\n",
    "end_time_xgb = time.time()\n",
    "training_time_xgb = end_time_xgb - start_time_xgb\n",
    "print(\"Tiempo de entrenamiento para XGBoost:\", training_time_xgb, \"segundos\")\n",
    "\n",
    "# Entrenar y calcular el tiempo de entrenamiento para Gradient Boosting\n",
    "start_time_gb = time.time()\n",
    "model_gb.fit(X_train, y_train)\n",
    "end_time_gb = time.time()\n",
    "training_time_gb = end_time_gb - start_time_gb\n",
    "print(\"Tiempo de entrenamiento para Gradient Boosting:\", training_time_gb, \"segundos\")\n",
    "\n",
    "# Entrenar y calcular el tiempo de entrenamiento para Random Forest\n",
    "start_time_rf = time.time()\n",
    "model_rf.fit(X_train, y_train)\n",
    "end_time_rf = time.time()\n",
    "training_time_rf = end_time_rf - start_time_rf\n",
    "print(\"Tiempo de entrenamiento para Random Forest:\", training_time_rf, \"segundos\")"
   ]
  },
  {
   "cell_type": "markdown",
   "metadata": {},
   "source": [
    "# Elección de los mejores hiperparámetros"
   ]
  },
  {
   "cell_type": "code",
   "execution_count": 35,
   "metadata": {},
   "outputs": [
    {
     "name": "stdout",
     "output_type": "stream",
     "text": [
      "Mejores hiperparámetros para XGBoost: {'learning_rate': 0.2, 'max_depth': 7, 'n_estimators': 300}\n",
      "Mejores hiperparámetros para Gradient Boosting: {'learning_rate': 0.2, 'max_depth': 7, 'n_estimators': 300}\n",
      "Mejores hiperparámetros para Random Forest: {'max_depth': 15, 'min_samples_split': 2, 'n_estimators': 200}\n"
     ]
    }
   ],
   "source": [
    "from sklearn.model_selection import GridSearchCV\n",
    "from sklearn.ensemble import RandomForestRegressor, GradientBoostingRegressor\n",
    "from xgboost import XGBRegressor\n",
    "\n",
    "# Definir los hiperparámetros para XGBoost\n",
    "param_grid_xgb = {\n",
    "    'n_estimators': [100, 200, 300],\n",
    "    'learning_rate': [0.05, 0.1, 0.2],\n",
    "    'max_depth': [3, 5, 7]\n",
    "}\n",
    "\n",
    "\n",
    "# Definir los hiperparámetros para Gradient Boosting\n",
    "param_grid_gb = {\n",
    "    'n_estimators': [100, 200, 300],\n",
    "    'learning_rate': [0.05, 0.1, 0.2],\n",
    "    'max_depth': [3, 5, 7]\n",
    "}\n",
    "\n",
    "# Definir los hiperparámetros para Random Forest\n",
    "param_grid_rf = {\n",
    "    'n_estimators': [100, 200, 300],\n",
    "    'max_depth': [5, 10, 15],\n",
    "    'min_samples_split': [2, 5, 10]\n",
    "}\n",
    "\n",
    "\n",
    "# Inicializar GridSearchCV para cada modelo\n",
    "grid_search_xgb = GridSearchCV(XGBRegressor(), param_grid_xgb, cv=3, scoring='neg_mean_squared_error')\n",
    "grid_search_gb = GridSearchCV(GradientBoostingRegressor(), param_grid_gb, cv=3, scoring='neg_mean_squared_error')\n",
    "grid_search_rf = GridSearchCV(RandomForestRegressor(), param_grid_rf, cv=3, scoring='neg_mean_squared_error')\n",
    "\n",
    "# Entrenar GridSearchCV para cada modelo\n",
    "grid_search_xgb.fit(X_train, y_train)\n",
    "grid_search_gb.fit(X_train, y_train)\n",
    "grid_search_rf.fit(X_train, y_train)\n",
    "\n",
    "# Obtener los mejores hiperparámetros para cada modelo\n",
    "best_params_xgb = grid_search_xgb.best_params_\n",
    "best_params_gb = grid_search_gb.best_params_\n",
    "best_params_rf = grid_search_rf.best_params_\n",
    "\n",
    "print(\"Mejores hiperparámetros para XGBoost:\", best_params_xgb)\n",
    "print(\"Mejores hiperparámetros para Gradient Boosting:\", best_params_gb)\n",
    "print(\"Mejores hiperparámetros para Random Forest:\", best_params_rf)\n"
   ]
  },
  {
   "cell_type": "markdown",
   "metadata": {},
   "source": [
    "# Inicializamos y entrenamos el Modelo con los 3 algoritmos con ajuste de hiperparámetros"
   ]
  },
  {
   "cell_type": "code",
   "execution_count": 36,
   "metadata": {},
   "outputs": [
    {
     "name": "stdout",
     "output_type": "stream",
     "text": [
      "Métricas para XGBoost con los mejores hiperparámetros:\n",
      "Mean Squared Error (MSE): 1.7496560753650128\n",
      "R-squared (R2): 0.9946995052665096\n",
      "Mean Absolute Error (MAE): 0.6668173790185165\n",
      "Root Mean Squared Error (RMSE): 1.3227456578515058\n",
      "\n",
      "Métricas para Gradient Boosting con los mejores hiperparámetros:\n",
      "Mean Squared Error (MSE): 0.8098121040018676\n",
      "R-squared (R2): 0.9975467151214371\n",
      "Mean Absolute Error (MAE): 0.43957171313164733\n",
      "Root Mean Squared Error (RMSE): 0.8998956072800154\n",
      "\n",
      "Métricas para Random Forest con los mejores hiperparámetros:\n",
      "Mean Squared Error (MSE): 4.089697269763397\n",
      "R-squared (R2): 0.9876104686257107\n",
      "Mean Absolute Error (MAE): 0.8175709606747732\n",
      "Root Mean Squared Error (RMSE): 2.0222999949966365\n"
     ]
    }
   ],
   "source": [
    "# Utilizar los mejores hiperparámetros para cada modelo\n",
    "best_params_xgb = {'learning_rate': 0.2, 'max_depth': 7, 'n_estimators': 300}\n",
    "best_params_gb = {'learning_rate': 0.2, 'max_depth': 7, 'n_estimators': 300}\n",
    "best_params_rf = {'max_depth': None, 'min_samples_split': 2, 'n_estimators': 300}\n",
    "\n",
    "# Inicializar los modelos con los mejores hiperparámetros\n",
    "model_xgb_best = XGBRegressor(objective='reg:squarederror', random_state=42)\n",
    "model_gb_best = GradientBoostingRegressor(**best_params_gb)\n",
    "model_rf_best = RandomForestRegressor(**best_params_rf)\n",
    "\n",
    "# Entrenar los modelos con los mejores hiperparámetros\n",
    "model_xgb_best.fit(X_train, y_train)\n",
    "model_gb_best.fit(X_train, y_train)\n",
    "model_rf_best.fit(X_train, y_train)\n",
    "\n",
    "# Hacer predicciones en el conjunto de prueba\n",
    "predictions_xgb_best = model_xgb_best.predict(X_test)\n",
    "predictions_gb_best = model_gb_best.predict(X_test)\n",
    "predictions_rf_best = model_rf_best.predict(X_test)\n",
    "\n",
    "# Calcular métricas para XGBoost con los mejores hiperparámetros\n",
    "mse_xgb_best = mean_squared_error(y_test, predictions_xgb_best)\n",
    "r2_xgb_best = r2_score(y_test, predictions_xgb_best)\n",
    "mae_xgb_best = mean_absolute_error(y_test, predictions_xgb_best)\n",
    "rmse_xgb_best = np.sqrt(mse_xgb_best)\n",
    "\n",
    "# Calcular métricas para Gradient Boosting con los mejores hiperparámetros\n",
    "mse_gb_best = mean_squared_error(y_test, predictions_gb_best)\n",
    "r2_gb_best = r2_score(y_test, predictions_gb_best)\n",
    "mae_gb_best = mean_absolute_error(y_test, predictions_gb_best)\n",
    "rmse_gb_best = np.sqrt(mse_gb_best)\n",
    "\n",
    "# Calcular métricas para Random Forest con los mejores hiperparámetros\n",
    "mse_rf_best = mean_squared_error(y_test, predictions_rf_best)\n",
    "r2_rf_best = r2_score(y_test, predictions_rf_best)\n",
    "mae_rf_best = mean_absolute_error(y_test, predictions_rf_best)\n",
    "rmse_rf_best = np.sqrt(mse_rf_best)\n",
    "\n",
    "# Imprimir las métricas para cada modelo con los mejores hiperparámetros\n",
    "print(\"Métricas para XGBoost con los mejores hiperparámetros:\")\n",
    "print(f'Mean Squared Error (MSE): {mse_xgb_best}')\n",
    "print(f'R-squared (R2): {r2_xgb_best}')\n",
    "print(f'Mean Absolute Error (MAE): {mae_xgb_best}')\n",
    "print(f'Root Mean Squared Error (RMSE): {rmse_xgb_best}')\n",
    "print()\n",
    "\n",
    "print(\"Métricas para Gradient Boosting con los mejores hiperparámetros:\")\n",
    "print(f'Mean Squared Error (MSE): {mse_gb_best}')\n",
    "print(f'R-squared (R2): {r2_gb_best}')\n",
    "print(f'Mean Absolute Error (MAE): {mae_gb_best}')\n",
    "print(f'Root Mean Squared Error (RMSE): {rmse_gb_best}')\n",
    "print()\n",
    "\n",
    "print(\"Métricas para Random Forest con los mejores hiperparámetros:\")\n",
    "print(f'Mean Squared Error (MSE): {mse_rf_best}')\n",
    "print(f'R-squared (R2): {r2_rf_best}')\n",
    "print(f'Mean Absolute Error (MAE): {mae_rf_best}')\n",
    "print(f'Root Mean Squared Error (RMSE): {rmse_rf_best}')"
   ]
  },
  {
   "cell_type": "markdown",
   "metadata": {},
   "source": [
    "**XGBoost:**\n",
    "Con un Mean Squared Error (MSE) de 1.75 y un R-squared (R2) de 0.99, el modelo muestra una capacidad sólida para predecir con precisión las etiquetas de salida. El Mean Absolute Error (MAE) de 0.67 y el Root Mean Squared Error (RMSE) de 1.32 indican una buena capacidad de ajuste a los datos.\n",
    "\n",
    "**Gradient Boosting:**\n",
    "El MSE de 0.82 y el R2 de 0.99 reflejan una excelente capacidad de predicción y explicación de la varianza en los datos. El MAE de 0.44 y el RMSE de 0.91 sugieren un ajuste muy cercano a los valores reales.\n",
    "\n",
    "**Random Forest:**\n",
    "Aunque el modelo tiene un MSE de 4.12 y un R2 de 0.98, indicativos de un buen rendimiento, el MAE de 0.82 y el RMSE de 2.03 muestran una ligera inferioridad en la precisión de las predicciones en comparación con los modelos anteriores."
   ]
  },
  {
   "cell_type": "markdown",
   "metadata": {},
   "source": [
    "# Importancia de las caracteristicas en la variación de la variable dependiente"
   ]
  },
  {
   "cell_type": "code",
   "execution_count": 37,
   "metadata": {},
   "outputs": [
    {
     "data": {
      "image/png": "[encoded data removed]",
      "text/plain": [
       "<Figure size 400x100 with 1 Axes>"
      ]
     },
     "metadata": {},
     "output_type": "display_data"
    }
   ],
   "source": [
    "# Obtener la importancia de las características del modelo XGBoost\n",
    "feature_importance = model_xgb_best.feature_importances_\n",
    "\n",
    "# Obtener los nombres de las características\n",
    "feature_names = X_train.columns\n",
    "\n",
    "# Ordenar las características por su importancia\n",
    "sorted_idx = np.argsort(feature_importance)\n",
    "\n",
    "# Graficar la importancia de las características\n",
    "plt.figure(figsize=(4, 1))\n",
    "plt.barh(range(len(sorted_idx)), feature_importance[sorted_idx], align='center')\n",
    "plt.yticks(range(len(sorted_idx)), [feature_names[i] for i in sorted_idx])\n",
    "plt.xlabel('Importancia de las características')\n",
    "plt.ylabel('Características')\n",
    "plt.title('Importancia de las características para XGBoost')\n",
    "plt.show()\n"
   ]
  },
  {
   "cell_type": "code",
   "execution_count": 38,
   "metadata": {},
   "outputs": [
    {
     "data": {
      "image/png": "[encoded data removed]",
      "text/plain": [
       "<Figure size 400x100 with 1 Axes>"
      ]
     },
     "metadata": {},
     "output_type": "display_data"
    }
   ],
   "source": [
    "# Obtener la importancia de las características del modelo Gradient Boosting\n",
    "feature_importance_gb = model_gb_best.feature_importances_\n",
    "\n",
    "# Obtener los nombres de las características\n",
    "feature_names_gb = X_train.columns\n",
    "\n",
    "# Ordenar las características por su importancia\n",
    "sorted_idx_gb = np.argsort(feature_importance_gb)\n",
    "\n",
    "# Graficar la importancia de las características para Gradient Boosting\n",
    "plt.figure(figsize=(4, 1))\n",
    "plt.barh(range(len(sorted_idx_gb)), feature_importance_gb[sorted_idx_gb], align='center')\n",
    "plt.yticks(range(len(sorted_idx_gb)), [feature_names_gb[i] for i in sorted_idx_gb])\n",
    "plt.xlabel('Importancia de las características')\n",
    "plt.ylabel('Características')\n",
    "plt.title('Importancia de las características para Gradient Boosting')\n",
    "plt.show()"
   ]
  },
  {
   "cell_type": "code",
   "execution_count": 39,
   "metadata": {},
   "outputs": [
    {
     "data": {
      "image/png": "[encoded data removed]",
      "text/plain": [
       "<Figure size 400x100 with 1 Axes>"
      ]
     },
     "metadata": {},
     "output_type": "display_data"
    }
   ],
   "source": [
    "# Obtener la importancia de las características del modelo Random Forest\n",
    "feature_importance_rf = model_rf_best.feature_importances_\n",
    "\n",
    "# Obtener los nombres de las características\n",
    "feature_names_rf = X_train.columns\n",
    "\n",
    "# Ordenar las características por su importancia\n",
    "sorted_idx_rf = np.argsort(feature_importance_rf)\n",
    "\n",
    "# Graficar la importancia de las características para Random Forest\n",
    "plt.figure(figsize=(4, 1))\n",
    "plt.barh(range(len(sorted_idx_rf)), feature_importance_rf[sorted_idx_rf], align='center')\n",
    "plt.yticks(range(len(sorted_idx_rf)), [feature_names_rf[i] for i in sorted_idx_rf])\n",
    "plt.xlabel('Importancia de las características')\n",
    "plt.ylabel('Características')\n",
    "plt.title('Importancia de las características para Random Forest')\n",
    "plt.show()"
   ]
  },
  {
   "cell_type": "markdown",
   "metadata": {},
   "source": [
    "# Comparación de datos de entrenamiento vs reales"
   ]
  },
  {
   "cell_type": "code",
   "execution_count": 40,
   "metadata": {},
   "outputs": [
    {
     "data": {
      "text/plain": [
       "array([ 3.1761198 ,  1.1965551 , -0.0397626 ,  0.06713856,  0.09610793,\n",
       "        0.47895327,  3.2278082 , 18.536263  ,  0.10737284,  7.868693  ],\n",
       "      dtype=float32)"
      ]
     },
     "execution_count": 40,
     "metadata": {},
     "output_type": "execute_result"
    }
   ],
   "source": [
    "predictions_xgb_best[0:10]"
   ]
  },
  {
   "cell_type": "code",
   "execution_count": 41,
   "metadata": {},
   "outputs": [
    {
     "data": {
      "text/plain": [
       "array([ 2.87115427e+00,  1.51710599e+00, -2.47856504e-01,  3.92972272e-01,\n",
       "       -6.81336277e-04,  4.79474760e-01,  3.12542759e+00,  2.12157538e+01,\n",
       "        8.35260404e-02,  7.99138043e+00])"
      ]
     },
     "execution_count": 41,
     "metadata": {},
     "output_type": "execute_result"
    }
   ],
   "source": [
    "predictions_gb_best[0:10]"
   ]
  },
  {
   "cell_type": "code",
   "execution_count": 42,
   "metadata": {},
   "outputs": [
    {
     "data": {
      "text/plain": [
       "array([ 2.33983333,  1.5724    ,  0.37166667,  0.49203333,  0.02493333,\n",
       "        0.47503333,  3.22646667, 22.7087    ,  0.36336667,  6.73146667])"
      ]
     },
     "execution_count": 42,
     "metadata": {},
     "output_type": "execute_result"
    }
   ],
   "source": [
    "predictions_rf_best[0:10]"
   ]
  },
  {
   "cell_type": "code",
   "execution_count": 43,
   "metadata": {},
   "outputs": [
    {
     "data": {
      "text/plain": [
       "1107     2.70\n",
       "2039     1.59\n",
       "5396     0.31\n",
       "6167     0.45\n",
       "1330     0.02\n",
       "3643     0.51\n",
       "4918     2.95\n",
       "713     17.20\n",
       "4475     0.39\n",
       "4914     7.60\n",
       "Name: q_demand, dtype: float64"
      ]
     },
     "execution_count": 43,
     "metadata": {},
     "output_type": "execute_result"
    }
   ],
   "source": [
    "y_test.iloc[0:10]"
   ]
  },
  {
   "cell_type": "code",
   "execution_count": 44,
   "metadata": {},
   "outputs": [
    {
     "data": {
      "text/plain": [
       "HoraRecogida    2.0\n",
       "diaSemana       4.0\n",
       "mes             6.0\n",
       "Borough_id      2.0\n",
       "Name: 1107, dtype: float64"
      ]
     },
     "execution_count": 44,
     "metadata": {},
     "output_type": "execute_result"
    }
   ],
   "source": [
    "X_test.iloc[0]"
   ]
  },
  {
   "cell_type": "markdown",
   "metadata": {},
   "source": [
    "## Comparación entre el rendimiento del modelo en los datos de entrenamiento y los datos de prueba, utilizando métricas como R^2 y MSE para evaluar la calidad de las predicciones del modelo"
   ]
  },
  {
   "cell_type": "code",
   "execution_count": 45,
   "metadata": {},
   "outputs": [
    {
     "name": "stdout",
     "output_type": "stream",
     "text": [
      "Predicciones en Training vs testing  XGBoost\n",
      "Training R^2:\n",
      "0.997651984403073\n",
      "Training MSE:\n",
      "0.7533631660447159\n",
      "\n",
      "Testing R^2:\n",
      "0.9946995052665096\n",
      "Testing MSE:\n",
      "1.7496560753650128\n"
     ]
    }
   ],
   "source": [
    "# Predicciones en el conjunto de entrenamiento\n",
    "pred_train_best = model_xgb_best.predict(X_train)\n",
    "\n",
    "print(\"Predicciones en Training vs testing  XGBoost\")\n",
    "\n",
    "# Calcular R^2 para el conjunto de entrenamiento\n",
    "print(\"Training R^2:\")\n",
    "print(r2_score(y_train, pred_train_best))\n",
    "\n",
    "# Calcular MSE para el conjunto de entrenamiento\n",
    "print(\"Training MSE:\")\n",
    "print(mean_squared_error(y_train, pred_train_best))\n",
    "\n",
    "# Predicciones en el conjunto de prueba\n",
    "predictions_best = model_xgb_best.predict(X_test)\n",
    "\n",
    "# Calcular R^2 para el conjunto de prueba\n",
    "print(\"\\nTesting R^2:\")\n",
    "print(r2_score(y_test, predictions_best))\n",
    "\n",
    "# Calcular MSE para el conjunto de prueba\n",
    "print(\"Testing MSE:\")\n",
    "print(mean_squared_error(y_test, predictions_best))"
   ]
  },
  {
   "cell_type": "code",
   "execution_count": 46,
   "metadata": {},
   "outputs": [
    {
     "name": "stdout",
     "output_type": "stream",
     "text": [
      "Predicciones en Training vs testing  Gradient Boosting\n",
      "Training R^2:\n",
      "0.9998093727215364\n",
      "Training MSE:\n",
      "0.061162954039070745\n",
      "\n",
      "Testing R^2:\n",
      "0.9975467151214371\n",
      "Testing MSE:\n",
      "0.8098121040018676\n"
     ]
    }
   ],
   "source": [
    "# Predicciones en el conjunto de entrenamiento\n",
    "pred_train_gb_best = model_gb_best.predict(X_train)\n",
    "\n",
    "print(\"Predicciones en Training vs testing  Gradient Boosting\")\n",
    "\n",
    "# Calcular R^2 para el conjunto de entrenamiento\n",
    "print(\"Training R^2:\")\n",
    "print(r2_score(y_train, pred_train_gb_best))\n",
    "\n",
    "# Calcular MSE para el conjunto de entrenamiento\n",
    "print(\"Training MSE:\")\n",
    "print(mean_squared_error(y_train, pred_train_gb_best))\n",
    "\n",
    "# Predicciones en el conjunto de prueba\n",
    "predictions_gb_best = model_gb_best.predict(X_test)\n",
    "\n",
    "# Calcular R^2 para el conjunto de prueba\n",
    "print(\"\\nTesting R^2:\")\n",
    "print(r2_score(y_test, predictions_gb_best))\n",
    "\n",
    "# Calcular MSE para el conjunto de prueba\n",
    "print(\"Testing MSE:\")\n",
    "print(mean_squared_error(y_test, predictions_gb_best))"
   ]
  },
  {
   "cell_type": "code",
   "execution_count": 47,
   "metadata": {},
   "outputs": [
    {
     "name": "stdout",
     "output_type": "stream",
     "text": [
      "Predicciones en Training vs testing  Random Forest\n",
      "Training R^2:\n",
      "0.99845562181403\n",
      "Training MSE:\n",
      "0.49551529439388386\n",
      "\n",
      "Testing R^2:\n",
      "0.9876104686257107\n",
      "Testing MSE:\n",
      "4.089697269763397\n"
     ]
    }
   ],
   "source": [
    "# Predicciones en el conjunto de entrenamiento\n",
    "pred_train_rf_best = model_rf_best.predict(X_train)\n",
    "\n",
    "print(\"Predicciones en Training vs testing  Random Forest\")\n",
    "\n",
    "# Calcular R^2 para el conjunto de entrenamiento\n",
    "print(\"Training R^2:\")\n",
    "print(r2_score(y_train, pred_train_rf_best))\n",
    "\n",
    "# Calcular MSE para el conjunto de entrenamiento\n",
    "print(\"Training MSE:\")\n",
    "print(mean_squared_error(y_train, pred_train_rf_best))\n",
    "\n",
    "# Predicciones en el conjunto de prueba\n",
    "predictions_rf_best = model_rf_best.predict(X_test)\n",
    "\n",
    "# Calcular R^2 para el conjunto de prueba\n",
    "print(\"\\nTesting R^2:\")\n",
    "print(r2_score(y_test, predictions_rf_best))\n",
    "\n",
    "# Calcular MSE para el conjunto de prueba\n",
    "print(\"Testing MSE:\")\n",
    "print(mean_squared_error(y_test, predictions_rf_best))"
   ]
  },
  {
   "cell_type": "markdown",
   "metadata": {},
   "source": [
    "## Conclusión sobre el rendimiento de cada modelo Entrenamiento vs Prueba:\n",
    "\n",
    "**XGBoost:**\n",
    "- **Conjunto de entrenamiento:** El modelo XGBoost muestra un alto coeficiente de determinación (R^2) de 0.9977 y un bajo MSE de 0.7534, lo que indica un buen ajuste a los datos de entrenamiento.\n",
    "- **Conjunto de prueba:** Aunque el modelo tiene un rendimiento ligeramente inferior en el conjunto de prueba en comparación con el conjunto de entrenamiento, sigue mostrando un R^2 considerablemente alto de 0.9947. Sin embargo, el MSE en el conjunto de prueba es un poco más alto en 1.7497, lo que sugiere una ligera pérdida de precisión en la generalización a nuevos datos.\n",
    "\n",
    "**Gradient Boosting:**\n",
    "- **Conjunto de entrenamiento:** El modelo de Gradient Boosting demuestra un rendimiento excepcional en el conjunto de entrenamiento, con un R^2 de 0.9998 y un MSE muy bajo de 0.0635, lo que indica un ajuste casi perfecto a los datos de entrenamiento.\n",
    "- **Conjunto de prueba:** En el conjunto de prueba, el modelo mantiene un R^2 alto de 0.9975 y un MSE bajo de 0.8122, lo que sugiere una excelente capacidad de generalización y una buena precisión en la predicción de nuevos datos.\n",
    "\n",
    "**Random Forest:**\n",
    "- **Conjunto de entrenamiento:** El modelo Random Forest muestra un buen rendimiento en el conjunto de entrenamiento, con un R^2 de 0.9971 y un MSE de 0.9189, indicando un ajuste adecuado a los datos de entrenamiento.\n",
    "- **Conjunto de prueba:** En el conjunto de prueba, el modelo tiene un R^2 de 0.9866, lo que sugiere una buena capacidad de generalización. Sin embargo, el MSE en el conjunto de prueba es considerablemente más alto en 4.4101 en comparación con los otros modelos, lo que indica una menor precisión en la predicción de nuevos datos en comparación con XGBoost y Gradient Boosting.\n",
    "\n",
    "En resumen, los modelos XGBoost y Gradient Boosting muestran un rendimiento superior tanto en el conjunto de entrenamiento como en el de prueba en comparación con Random Forest, lo que sugiere que pueden ser opciones más adecuadas para este problema de predicción."
   ]
  },
  {
   "cell_type": "markdown",
   "metadata": {},
   "source": [
    "## Evaluar la calidad de las predicciones del modelo, examinando la distribución y las estadísticas de los errores en el conjunto de prueba"
   ]
  },
  {
   "cell_type": "code",
   "execution_count": 48,
   "metadata": {},
   "outputs": [
    {
     "data": {
      "image/png": "[encoded data removed]",
      "text/plain": [
       "<Figure size 640x480 with 1 Axes>"
      ]
     },
     "metadata": {},
     "output_type": "display_data"
    },
    {
     "name": "stdout",
     "output_type": "stream",
     "text": [
      "Estadísticas resumen sobre los errores:\n",
      "Error medio: -0.002441561138682189\n",
      "Desviación estándar del error: 0.9000401942377497\n"
     ]
    }
   ],
   "source": [
    "import matplotlib.pyplot as plt\n",
    "\n",
    "# Calcular las predicciones del modelo en el conjunto de prueba\n",
    "predictions = model_gb_best.predict(X_test)\n",
    "\n",
    "# Calcular los errores (diferencia entre las predicciones y los valores reales)\n",
    "errors = y_test - predictions\n",
    "\n",
    "# Visualizar la distribución de los errores utilizando un histograma\n",
    "plt.hist(errors, bins=30, edgecolor='k')\n",
    "plt.xlabel('Error')\n",
    "plt.ylabel('Frecuencia')\n",
    "plt.title('Distribución de errores')\n",
    "plt.show()\n",
    "\n",
    "# Calcular estadísticas resumen sobre los errores\n",
    "mean_error = errors.mean()\n",
    "std_error = errors.std()\n",
    "\n",
    "print(\"Estadísticas resumen sobre los errores:\")\n",
    "print(f\"Error medio: {mean_error}\")\n",
    "print(f\"Desviación estándar del error: {std_error}\")"
   ]
  },
  {
   "cell_type": "code",
   "execution_count": 49,
   "metadata": {},
   "outputs": [
    {
     "data": {
      "image/png": "[encoded data removed]",
      "text/plain": [
       "<Figure size 640x480 with 1 Axes>"
      ]
     },
     "metadata": {},
     "output_type": "display_data"
    },
    {
     "name": "stdout",
     "output_type": "stream",
     "text": [
      "Estadísticas resumen sobre los errores:\n",
      "Error medio: 0.04022623683834917\n",
      "Desviación estándar del error: 1.3223511483948882\n"
     ]
    }
   ],
   "source": [
    "# Calcular las predicciones del modelo en el conjunto de prueba\n",
    "predictions = model_xgb_best.predict(X_test)\n",
    "\n",
    "# Calcular los errores (diferencia entre las predicciones y los valores reales)\n",
    "errors = y_test - predictions\n",
    "\n",
    "# Visualizar la distribución de los errores utilizando un histograma\n",
    "plt.hist(errors, bins=30, edgecolor='k')\n",
    "plt.xlabel('Error')\n",
    "plt.ylabel('Frecuencia')\n",
    "plt.title('Distribución de errores')\n",
    "plt.show()\n",
    "\n",
    "# Calcular estadísticas resumen sobre los errores\n",
    "mean_error = errors.mean()\n",
    "std_error = errors.std()\n",
    "\n",
    "print(\"Estadísticas resumen sobre los errores:\")\n",
    "print(f\"Error medio: {mean_error}\")\n",
    "print(f\"Desviación estándar del error: {std_error}\")"
   ]
  },
  {
   "cell_type": "code",
   "execution_count": 50,
   "metadata": {},
   "outputs": [
    {
     "data": {
      "image/png": "[encoded data removed]",
      "text/plain": [
       "<Figure size 640x480 with 1 Axes>"
      ]
     },
     "metadata": {},
     "output_type": "display_data"
    },
    {
     "name": "stdout",
     "output_type": "stream",
     "text": [
      "Estadísticas resumen sobre los errores:\n",
      "Error medio: 0.01899392047322039\n",
      "Desviación estándar del error: 2.0225431498057787\n"
     ]
    }
   ],
   "source": [
    "# Calcular las predicciones del modelo en el conjunto de prueba\n",
    "predictions = model_rf_best.predict(X_test)\n",
    "\n",
    "# Calcular los errores (diferencia entre las predicciones y los valores reales)\n",
    "errors = y_test - predictions\n",
    "\n",
    "# Visualizar la distribución de los errores utilizando un histograma\n",
    "plt.hist(errors, bins=30, edgecolor='k')\n",
    "plt.xlabel('Error')\n",
    "plt.ylabel('Frecuencia')\n",
    "plt.title('Distribución de errores')\n",
    "plt.show()\n",
    "\n",
    "# Calcular estadísticas resumen sobre los errores\n",
    "mean_error = errors.mean()\n",
    "std_error = errors.std()\n",
    "\n",
    "print(\"Estadísticas resumen sobre los errores:\")\n",
    "print(f\"Error medio: {mean_error}\")\n",
    "print(f\"Desviación estándar del error: {std_error}\")"
   ]
  },
  {
   "cell_type": "markdown",
   "metadata": {},
   "source": [
    "Basado en los resultados presentados, podemos hacer las siguientes observaciones:\n",
    "\n",
    "1. **Gradient Boosting (GB)**:\n",
    "   - El error medio es ligeramente negativo (-0.0006), lo que sugiere que el modelo tiende a subestimar ligeramente los valores reales.\n",
    "   - La desviación estándar del error es de aproximadamente 0.906, lo que indica que los errores tienden a dispersarse alrededor del error medio en un rango moderado.\n",
    "\n",
    "2. **XGBoost (XGB)**:\n",
    "   - El error medio es de aproximadamente 0.040, lo que sugiere que el modelo tiene un sesgo positivo y tiende a sobreestimar ligeramente los valores reales.\n",
    "   - La desviación estándar del error es de aproximadamente 1.322, lo que indica una dispersión más amplia de los errores en comparación con el modelo de Gradient Boosting.\n",
    "\n",
    "3. **Random Forest (RF)**:\n",
    "   - El error medio es de aproximadamente 0.021, lo que indica un sesgo positivo similar al modelo XGBoost, pero con un valor de error medio ligeramente menor.\n",
    "   - La desviación estándar del error es de aproximadamente 2.030, lo que sugiere una dispersión más amplia de los errores en comparación con los otros modelos.\n",
    "\n",
    "En resumen, mientras menor sea el error medio y la desviación estándar del error, mejor será el rendimiento del modelo. Sin embargo, también es importante considerar el sesgo del modelo al interpretar estos resultados. En este caso, parece que el modelo de Gradient Boosting (GB) tiene el menor error medio y la desviación estándar del error más baja, lo que sugiere un rendimiento ligeramente mejor en comparación con XGBoost y Random Forest."
   ]
  },
  {
   "cell_type": "markdown",
   "metadata": {},
   "source": [
    "# Analisis de validacion Cruzada"
   ]
  },
  {
   "cell_type": "code",
   "execution_count": 51,
   "metadata": {},
   "outputs": [
    {
     "name": "stdout",
     "output_type": "stream",
     "text": [
      "Métricas de evaluación para XGBoost utilizando validación cruzada:\n",
      "Mean Squared Error (MSE): 1.6663815690137305\n",
      "R-squared (R2): 0.9948063695030137\n",
      "Mean Absolute Error (MAE): 0.6625085134799302\n",
      "Root Mean Squared Error (RMSE): 1.290884026167235\n"
     ]
    }
   ],
   "source": [
    "from sklearn.metrics import mean_squared_error, r2_score, mean_absolute_error\n",
    "from sklearn.model_selection import cross_val_predict\n",
    "import numpy as np\n",
    "\n",
    "# Calcular predicciones utilizando validación cruzada\n",
    "predictions_cv_xgb = cross_val_predict(model_xgb_best, X_train, y_train, cv=5)\n",
    "\n",
    "# Calcular métricas de evaluación\n",
    "mse_cv_xgb = mean_squared_error(y_train, predictions_cv_xgb)\n",
    "r2_cv_xgb = r2_score(y_train, predictions_cv_xgb)\n",
    "mae_cv_xgb = mean_absolute_error(y_train, predictions_cv_xgb)\n",
    "rmse_cv_xgb = np.sqrt(mse_cv_xgb)\n",
    "\n",
    "# Imprimir las métricas de evaluación\n",
    "print(\"Métricas de evaluación para XGBoost utilizando validación cruzada:\")\n",
    "print(f'Mean Squared Error (MSE): {mse_cv_xgb}')\n",
    "print(f'R-squared (R2): {r2_cv_xgb}')\n",
    "print(f'Mean Absolute Error (MAE): {mae_cv_xgb}')\n",
    "print(f'Root Mean Squared Error (RMSE): {rmse_cv_xgb}')\n"
   ]
  },
  {
   "cell_type": "code",
   "execution_count": 52,
   "metadata": {},
   "outputs": [
    {
     "name": "stdout",
     "output_type": "stream",
     "text": [
      "Métricas de evaluación para GradientBoosting utilizando validación cruzada:\n",
      "Mean Squared Error (MSE): 0.8981899146086687\n",
      "R-squared (R2): 0.9972006012192285\n",
      "Mean Absolute Error (MAE): 0.4776467463657271\n",
      "Root Mean Squared Error (RMSE): 0.9477288191295381\n"
     ]
    }
   ],
   "source": [
    "# Calcular predicciones utilizando validación cruzada\n",
    "predictions_cv_gb = cross_val_predict(model_gb_best, X_train, y_train, cv=5)\n",
    "\n",
    "# Calcular métricas de evaluación\n",
    "mse_cv_gb = mean_squared_error(y_train, predictions_cv_gb)\n",
    "r2_cv_gb = r2_score(y_train, predictions_cv_gb)\n",
    "mae_cv_gb = mean_absolute_error(y_train, predictions_cv_gb)\n",
    "rmse_cv_gb = np.sqrt(mse_cv_gb)\n",
    "\n",
    "# Imprimir las métricas de evaluación\n",
    "print(\"Métricas de evaluación para GradientBoosting utilizando validación cruzada:\")\n",
    "print(f'Mean Squared Error (MSE): {mse_cv_gb}')\n",
    "print(f'R-squared (R2): {r2_cv_gb}')\n",
    "print(f'Mean Absolute Error (MAE): {mae_cv_gb}')\n",
    "print(f'Root Mean Squared Error (RMSE): {rmse_cv_gb}')"
   ]
  },
  {
   "cell_type": "code",
   "execution_count": 53,
   "metadata": {},
   "outputs": [
    {
     "name": "stdout",
     "output_type": "stream",
     "text": [
      "Métricas de evaluación para Randon Forest utilizando validación cruzada:\n",
      "Mean Squared Error (MSE): 4.041650194429568\n",
      "R-squared (R2): 0.9972006012192285\n",
      "Mean Absolute Error (MAE): 0.8385374142951059\n",
      "Root Mean Squared Error (RMSE): 2.0103855835211233\n"
     ]
    }
   ],
   "source": [
    "# Calcular predicciones utilizando validación cruzada\n",
    "predictions_cv_rf = cross_val_predict(model_rf_best, X_train, y_train, cv=5)\n",
    "\n",
    "# Calcular métricas de evaluación\n",
    "mse_cv_rf = mean_squared_error(y_train, predictions_cv_rf)\n",
    "r2_cv_rf = r2_score(y_train, predictions_cv_gb)\n",
    "mae_cv_rf = mean_absolute_error(y_train, predictions_cv_rf)\n",
    "rmse_cv_rf = np.sqrt(mse_cv_rf)\n",
    "\n",
    "# Imprimir las métricas de evaluación\n",
    "print(\"Métricas de evaluación para Randon Forest utilizando validación cruzada:\")\n",
    "print(f'Mean Squared Error (MSE): {mse_cv_rf}')\n",
    "print(f'R-squared (R2): {r2_cv_rf}')\n",
    "print(f'Mean Absolute Error (MAE): {mae_cv_rf}')\n",
    "print(f'Root Mean Squared Error (RMSE): {rmse_cv_rf}')"
   ]
  },
  {
   "cell_type": "markdown",
   "metadata": {},
   "source": [
    "Métricas de evaluación para los modelos XGBoost, GradientBoosting y Random Forest utilizando validación cruzada:\n",
    "\n",
    "### XGBoost:\n",
    "- Mean Squared Error (MSE): 1.6663815690137305\n",
    "- R-squared (R2): 0.9948063695030137\n",
    "- Mean Absolute Error (MAE): 0.6625085134799302\n",
    "- Root Mean Squared Error (RMSE): 1.290884026167235\n",
    "\n",
    "### GradientBoosting:\n",
    "- Mean Squared Error (MSE): 0.9139950351984925\n",
    "- R-squared (R2): 0.9971513412191\n",
    "- Mean Absolute Error (MAE): 0.4796034673665565\n",
    "- Root Mean Squared Error (RMSE): 0.9560308756512482\n",
    "\n",
    "### Random Forest:\n",
    "- Mean Squared Error (MSE): 4.07367910669155\n",
    "- R-squared (R2): 0.9971513412191\n",
    "- Mean Absolute Error (MAE): 0.8404711608903909\n",
    "- Root Mean Squared Error (RMSE): 2.0183357269521713\n",
    "\n",
    "Estas métricas proporcionan una evaluación del rendimiento de cada modelo. En general, el GradientBoosting muestra el mejor rendimiento con el MSE más bajo, el mayor R-cuadrado y el menor error absoluto medio y raíz del error cuadrático medio. El modelo Random Forest tiene un rendimiento similar al GradientBoosting en términos de R-cuadrado, pero tiene un MSE y RMSE más altos, lo que indica que puede estar menos ajustado a los datos. El modelo XGBoost también muestra un buen rendimiento, pero tiene un MSE y RMSE más altos que el GradientBoosting."
   ]
  },
  {
   "cell_type": "markdown",
   "metadata": {},
   "source": [
    "## Analisis de la Learning curve"
   ]
  },
  {
   "cell_type": "code",
   "execution_count": 54,
   "metadata": {},
   "outputs": [
    {
     "name": "stdout",
     "output_type": "stream",
     "text": [
      "Resultado de la learning curve para Randon Forest:\n",
      "Training sizes: [ 567 1845 3122 4400 5678]\n",
      "Training scores: [0.99443432 0.99695577 0.99760485 0.99803585 0.99824877]\n",
      "Cross-validation scores: [0.95944234 0.9767095  0.98138977 0.98521309 0.98738106]\n"
     ]
    }
   ],
   "source": [
    "from sklearn.model_selection import learning_curve\n",
    "def print_learning_curve(model, X_train, y_train, cv):\n",
    "    train_sizes, train_scores, test_scores = learning_curve(model, X_train, y_train, cv=cv)\n",
    "    print(\"Training sizes:\", train_sizes)\n",
    "    print(\"Training scores:\", train_scores.mean(axis=1))\n",
    "    print(\"Cross-validation scores:\", test_scores.mean(axis=1))\n",
    "\n",
    "# Utiliza la función print_learning_curve con tu modelo y datos\n",
    "print('Resultado de la learning curve para Randon Forest:')\n",
    "print_learning_curve(model_rf_best, X_train, y_train, cv=5)"
   ]
  },
  {
   "cell_type": "code",
   "execution_count": 55,
   "metadata": {},
   "outputs": [
    {
     "name": "stdout",
     "output_type": "stream",
     "text": [
      "Resultado de la learning curve para XGBoost:\n",
      "Training sizes: [ 567 1845 3122 4400 5678]\n",
      "Training scores: [0.99992742 0.99900989 0.99831815 0.99808296 0.99781604]\n",
      "Cross-validation scores: [0.96337836 0.98656863 0.99170485 0.99411254 0.99481722]\n"
     ]
    }
   ],
   "source": [
    "def print_learning_curve(model, X_train, y_train, cv):\n",
    "    train_sizes, train_scores, test_scores = learning_curve(model, X_train, y_train, cv=cv)\n",
    "    print(\"Training sizes:\", train_sizes)\n",
    "    print(\"Training scores:\", train_scores.mean(axis=1))\n",
    "    print(\"Cross-validation scores:\", test_scores.mean(axis=1))\n",
    "\n",
    "# Utiliza la función print_learning_curve con tu modelo y datos\n",
    "print('Resultado de la learning curve para XGBoost:')\n",
    "print_learning_curve(model_xgb_best, X_train, y_train, cv=5)"
   ]
  },
  {
   "cell_type": "code",
   "execution_count": 56,
   "metadata": {},
   "outputs": [
    {
     "name": "stdout",
     "output_type": "stream",
     "text": [
      "Resultado de la learning curve para GradientBoosting:\n",
      "Training sizes: [ 567 1845 3122 4400 5678]\n",
      "Training scores: [1.         0.99999537 0.99995553 0.99989314 0.99983226]\n",
      "Cross-validation scores: [0.95930345 0.98423546 0.99271599 0.99582363 0.99721269]\n"
     ]
    }
   ],
   "source": [
    "def print_learning_curve(model, X_train, y_train, cv):\n",
    "    train_sizes, train_scores, test_scores = learning_curve(model, X_train, y_train, cv=cv)\n",
    "    print(\"Training sizes:\", train_sizes)\n",
    "    print(\"Training scores:\", train_scores.mean(axis=1))\n",
    "    print(\"Cross-validation scores:\", test_scores.mean(axis=1))\n",
    "\n",
    "# Utiliza la función print_learning_curve con tu modelo y datos\n",
    "print('Resultado de la learning curve para GradientBoosting:')\n",
    "print_learning_curve(model_gb_best, X_train, y_train, cv=5)"
   ]
  },
  {
   "cell_type": "markdown",
   "metadata": {},
   "source": [
    "### Resultado de la learning curve para Random Forest:\n",
    "- **Training sizes:** Se observan cinco diferentes tamaños de conjunto de entrenamiento utilizados para el modelo de Random Forest.\n",
    "- **Training scores:** Los puntajes de entrenamiento indican qué tan bien se ajusta el modelo a los datos de entrenamiento a medida que aumenta el tamaño del conjunto. Se observa un alto puntaje, indicando un buen ajuste del modelo.\n",
    "- **Cross-validation scores:** Los puntajes de validación cruzada sugieren cómo generaliza el modelo a datos no vistos. A medida que aumenta el tamaño del conjunto de entrenamiento, los puntajes de validación cruzada también mejoran, lo que indica un modelo robusto que generaliza bien.\n",
    "\n",
    "### Resultado de la learning curve para XGBoost:\n",
    "- **Training sizes:** Se utilizan cinco tamaños de conjunto de entrenamiento diferentes para el modelo XGBoost.\n",
    "- **Training scores:** Los puntajes de entrenamiento son consistentemente altos a medida que aumenta el tamaño del conjunto de entrenamiento, lo que sugiere que el modelo se ajusta bien a los datos.\n",
    "- **Cross-validation scores:** Los puntajes de validación cruzada también aumentan a medida que aumenta el tamaño del conjunto de entrenamiento, lo que indica una buena generalización del modelo.\n",
    "\n",
    "### Resultado de la learning curve para GradientBoosting:\n",
    "- **Training sizes:** Se observan cinco diferentes tamaños de conjunto de entrenamiento utilizados para el modelo GradientBoosting.\n",
    "- **Training scores:** Los puntajes de entrenamiento son altos y casi perfectos, indicando un ajuste excepcional del modelo a los datos de entrenamiento.\n",
    "- **Cross-validation scores:** Los puntajes de validación cruzada también son altos y mejoran a medida que aumenta el tamaño del conjunto de entrenamiento, lo que sugiere una buena capacidad del modelo para generalizar a datos no vistos."
   ]
  },
  {
   "cell_type": "code",
   "execution_count": 57,
   "metadata": {},
   "outputs": [
    {
     "data": {
      "image/png": "[encoded data removed]",
      "text/plain": [
       "<Figure size 800x100 with 1 Axes>"
      ]
     },
     "metadata": {},
     "output_type": "display_data"
    }
   ],
   "source": [
    "def plot_learning_curve(estimator, title, X, y, ylim=None, cv=None,\n",
    "                        n_jobs=None, train_sizes=np.linspace(.1, 1.0, 10)):\n",
    "    plt.figure(figsize=(8, 1))  # Establecer el tamaño de la figura\n",
    "    plt.title(title)\n",
    "    if ylim is not None:\n",
    "        plt.ylim(*ylim)\n",
    "    plt.xlabel(\"Training examples\")\n",
    "    plt.ylabel(\"Score\")\n",
    "    train_sizes, train_scores, test_scores = learning_curve(\n",
    "        estimator, X, y, cv=cv, n_jobs=n_jobs, train_sizes=train_sizes, scoring='neg_mean_squared_error')\n",
    "    train_scores_mean = np.mean(train_scores, axis=1)\n",
    "    train_scores_std = np.std(train_scores, axis=1)\n",
    "    test_scores_mean = np.mean(test_scores, axis=1)\n",
    "    test_scores_std = np.std(test_scores, axis=1)\n",
    "    plt.grid()\n",
    "\n",
    "    plt.fill_between(train_sizes, train_scores_mean - train_scores_std,\n",
    "                     train_scores_mean + train_scores_std, alpha=0.1,\n",
    "                     color=\"r\")\n",
    "    plt.fill_between(train_sizes, test_scores_mean - test_scores_std,\n",
    "                     test_scores_mean + test_scores_std, alpha=0.1, color=\"g\")\n",
    "    plt.plot(train_sizes, train_scores_mean, 'o-', color=\"r\",\n",
    "             label=\"Training score\")\n",
    "    plt.plot(train_sizes, test_scores_mean, 'o-', color=\"g\",\n",
    "             label=\"Cross-validation score\")\n",
    "\n",
    "    plt.legend(loc=\"best\")\n",
    "    return plt\n",
    "# Utiliza la función plot_learning_curve con tu estimador (modelo) y datos\n",
    "plot_learning_curve(model_rf_best, \"Learning Curve (Random Forest)\", X_train, y_train, cv=5, n_jobs=-1)\n",
    "\n",
    "plt.show()\n",
    "\n",
    "\n"
   ]
  },
  {
   "cell_type": "code",
   "execution_count": null,
   "metadata": {},
   "outputs": [],
   "source": []
  },
  {
   "cell_type": "markdown",
   "metadata": {},
   "source": [
    "## Conclusión general\n",
    "\n",
    "Después de una evaluación exhaustiva de los tres algoritmos de aprendizaje automático (XGBoost, Gradient Boosting y Random Forest) en nuestro conjunto de datos, hemos observado que todos muestran un rendimiento sólido en términos de métricas de evaluación como el coeficiente de determinación (R-squared), el error medio cuadrático (MSE), el error absoluto medio (MAE) y el error cuadrático medio (RMSE). Sin embargo, cada algoritmo presenta ciertas fortalezas y debilidades que los hacen más adecuados para diferentes situaciones.\n",
    "\n",
    "- **XGBoost**: Destaca por su capacidad para manejar grandes conjuntos de datos y su eficiencia computacional. Ha mostrado un buen rendimiento en términos de precisión y generalización, con un R-squared de alrededor de 0.995 y un RMSE de aproximadamente 1.29.\n",
    "\n",
    "- **Gradient Boosting**: Presenta una alta capacidad de generalización y una buena capacidad para manejar relaciones no lineales en los datos. Ha obtenido resultados impresionantes con un R-squared cercano a 0.997 y un RMSE de aproximadamente 0.96.\n",
    "\n",
    "- **Random Forest**: Aunque ligeramente por debajo en términos de precisión en comparación con los otros dos, Random Forest ofrece robustez y menos tendencia al sobreajuste, lo que lo hace adecuado para conjuntos de datos con muchas características y una alta dimensionalidad.\n",
    "\n",
    "Dada la naturaleza diversa de los datos y las posibles condiciones cambiantes en el entorno, hemos decidido utilizar los tres algoritmos en conjunto para garantizar un modelo más adaptable y resiliente. Esto nos permitirá aprovechar las fortalezas individuales de cada algoritmo y, en última instancia, ofrecer un sistema de predicción más sólido y confiable. Además, mantener una variedad de modelos nos brinda la flexibilidad necesaria para ajustarnos a diferentes requisitos del mercado y responder eficazmente a posibles cambios en los datos o en el entorno operativo."
   ]
  },
  {
   "cell_type": "code",
   "execution_count": 58,
   "metadata": {},
   "outputs": [],
   "source": [
    "import pyarrow as pa\n",
    "import pyarrow.parquet as pq"
   ]
  },
  {
   "cell_type": "code",
   "execution_count": 61,
   "metadata": {},
   "outputs": [],
   "source": [
    "import joblib\n",
    "import pyarrow.parquet as pq\n",
    "\n",
    "# Nombre del archivo donde se guardará el modelo\n",
    "\n",
    "# Ruta de destino para guardar el archivo CSV\n",
    "filename= r'..\\datasets\\models\\modelo_xgb.pkl'\n",
    "\n",
    "# Exportar el DataFrame a un archivo CSV\n",
    "df_selected.to_csv(ruta_destino, index=False)\n",
    "# Guarda el modelo entrenado en el archivo pickle\n",
    "with open(filename, 'wb') as file:\n",
    "    joblib.dump(model_xgb_best, file)\n",
    "\n",
    "# Comprimir el archivo usando pyarrow\n",
    "save = r'..\\datasets\\models\\modelo_xgb.parquet'\n",
    "pq.write_table(pa.Table.from_pandas(pd.DataFrame()), save)\n"
   ]
  },
  {
   "cell_type": "code",
   "execution_count": 62,
   "metadata": {},
   "outputs": [],
   "source": [
    "# Nombre del archivo donde se guardará el modelo\n",
    "\n",
    "filename= r'..\\datasets\\models\\modelo_gb.pkl'\n",
    "\n",
    "# Guarda el modelo entrenado en el archivo pickle\n",
    "with open(filename, 'wb') as file:\n",
    "    pickle.dump(model_gb_best, file)\n",
    "# Comprimir el archivo usando pyarrow\n",
    "save = r'..\\datasets\\models\\modelo_gb.parquet'\n",
    "pq.write_table(pa.Table.from_pandas(pd.DataFrame()), save)"
   ]
  },
  {
   "cell_type": "code",
   "execution_count": 63,
   "metadata": {},
   "outputs": [],
   "source": [
    "# Nombre del archivo donde se guardará el modelo\n",
    "\n",
    "filename= r'..\\datasets\\models\\modelo_rf.pkl'\n",
    "\n",
    "\n",
    "# Guarda el modelo entrenado en el archivo pickle\n",
    "with open(filename, 'wb') as file:\n",
    "    pickle.dump(model_rf_best, file)\n",
    "# Comprimir el archivo usando pyarrow\n",
    "save = r'..\\datasets\\models\\modelo_rf.parquet'\n",
    "pq.write_table(pa.Table.from_pandas(pd.DataFrame()), save)"
   ]
  }
 ],
 "metadata": {
  "kernelspec": {
   "display_name": "Python 3",
   "language": "python",
   "name": "python3"
  },
  "language_info": {
   "codemirror_mode": {
    "name": "ipython",
    "version": 3
   },
   "file_extension": ".py",
   "mimetype": "text/x-python",
   "name": "python",
   "nbconvert_exporter": "python",
   "pygments_lexer": "ipython3",
   "version": "3.10.11"
  }
 },
 "nbformat": 4,
 "nbformat_minor": 2
}
