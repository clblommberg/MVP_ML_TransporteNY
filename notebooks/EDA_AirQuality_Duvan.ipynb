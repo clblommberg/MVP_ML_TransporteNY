{
 "cells": [
  {
   "cell_type": "markdown",
   "metadata": {},
   "source": [
    "![EDA](vis/v1.jpg)\n",
    "---\n",
    "`En este cuadernillo se realiza el análisis exploratorio del dataset airquality.arrow`"
   ]
  },
  {
   "cell_type": "markdown",
   "metadata": {},
   "source": [
    "#### **Importación de librerías** ####\n",
    "---\n",
    "\n",
    "*Para este cuaderno usaremos las siguientes librerías: **os, polars, pandas, datetime, numpy, pyarrow y sodapy**.*"
   ]
  },
  {
   "cell_type": "code",
   "execution_count": 363,
   "metadata": {},
   "outputs": [],
   "source": [
    "import os\n",
    "import polars as pl\n",
    "import polars.selectors as cs\n",
    "import pandas as pd\n",
    "from datetime import date, time\n",
    "import numpy as np\n",
    "import pyarrow.parquet as pq\n",
    "from sodapy import Socrata"
   ]
  },
  {
   "cell_type": "markdown",
   "metadata": {},
   "source": [
    "#### **Web Scraping / Extracción de los datos** ####\n",
    "---\n",
    "\n",
    "*Para este cuaderno usaremos la api de datos oficiales de la ciudad de Nueva York para abrir las cifras oficiales de la calidad del aire.*\n",
    "\n",
    "1. Usamos la biblioteca sodapy que nos proporciona una interfaz de cliente para interactuar con la API de Socrata, una plataforma de datos abiertos usada por la ciudad de Nueva York e inicializamos el cliente para interactuar con el portal de datos abiertos de la ciudad. En este caso no necesitamos autenticación por lo que se determina el argumento en None.\n",
    "\n",
    "2. Creamos una variable que cuente la cantidad total de datos que tiene la api, para traer toda la información que tenga hasta la última actualización\n",
    "\n",
    "3. Obtenemos los datos de la API estableciendo un id para el ingreso y se establece un limite usando la variable total_filas que es la cantidad total de datos que tiene la API.\n",
    "\n",
    "4. Convertirmos los datos a un dataframe de Pandas."
   ]
  },
  {
   "cell_type": "code",
   "execution_count": 364,
   "metadata": {},
   "outputs": [
    {
     "name": "stderr",
     "output_type": "stream",
     "text": [
      "WARNING:root:Requests made without an app_token will be subject to strict throttling limits.\n"
     ]
    }
   ],
   "source": [
    "# Abrimos el dataset directamente de la API\n",
    "client = Socrata(\"data.cityofnewyork.us\", None)\n",
    "\n",
    "# Obtenemos la cantidad total de filas en el conjunto de datos.\n",
    "total_filas = int(client.get(\"c3uy-2p5r\", select=\"COUNT(*)\")[0]['COUNT'])\n",
    "\n",
    "# Obtener los datos del conjunto de datos.\n",
    "results = client.get(\"c3uy-2p5r\", limit=total_filas)\n",
    "\n",
    "# Convert to pandas DataFrame (16218, 12)\n",
    "dfAirQuality = pd.DataFrame.from_records(results)"
   ]
  },
  {
   "cell_type": "markdown",
   "metadata": {},
   "source": [
    "### **Análisis Exploratorio Inicial** ###\n",
    "---\n",
    "\n",
    "*Vamos a realizar una **exploración de los datos** (EDA) antes de hacer transformación de los mismos, esto con el fin de **conocer las columnas** y determinar que campos son valiosos para nuestro análisis y así tener claro que pasos realizaremos en el ETL.*\n",
    "\n",
    "**Nota:**: *Posterior al ETL realizaremos también un EDA enfocado en los datos y una descripción estadística.*"
   ]
  },
  {
   "cell_type": "markdown",
   "metadata": {},
   "source": [
    "#### **Revisión de la extracción de los datos** ####\n",
    "\n",
    "*Revisamos que los datos se cargaron adecuadamente en nuestro dataframe **dfAirQuality**:*\n",
    "\n",
    "1. *Usamos **head** para previsualizar los primeros registros del Dataframe.*\n",
    "2. *Podemos observar que se cargaron adecuadamente los datos, por ahora no vemos anomalías en los mismos.*"
   ]
  },
  {
   "cell_type": "code",
   "execution_count": 365,
   "metadata": {},
   "outputs": [
    {
     "data": {
      "text/html": [
       "<div>\n",
       "<style scoped>\n",
       "    .dataframe tbody tr th:only-of-type {\n",
       "        vertical-align: middle;\n",
       "    }\n",
       "\n",
       "    .dataframe tbody tr th {\n",
       "        vertical-align: top;\n",
       "    }\n",
       "\n",
       "    .dataframe thead th {\n",
       "        text-align: right;\n",
       "    }\n",
       "</style>\n",
       "<table border=\"1\" class=\"dataframe\">\n",
       "  <thead>\n",
       "    <tr style=\"text-align: right;\">\n",
       "      <th></th>\n",
       "      <th>unique_id</th>\n",
       "      <th>indicator_id</th>\n",
       "      <th>name</th>\n",
       "      <th>measure</th>\n",
       "      <th>measure_info</th>\n",
       "      <th>geo_type_name</th>\n",
       "      <th>geo_join_id</th>\n",
       "      <th>geo_place_name</th>\n",
       "      <th>time_period</th>\n",
       "      <th>start_date</th>\n",
       "      <th>data_value</th>\n",
       "    </tr>\n",
       "  </thead>\n",
       "  <tbody>\n",
       "    <tr>\n",
       "      <th>0</th>\n",
       "      <td>172653</td>\n",
       "      <td>375</td>\n",
       "      <td>Nitrogen dioxide (NO2)</td>\n",
       "      <td>Mean</td>\n",
       "      <td>ppb</td>\n",
       "      <td>UHF34</td>\n",
       "      <td>203</td>\n",
       "      <td>Bedford Stuyvesant - Crown Heights</td>\n",
       "      <td>Annual Average 2011</td>\n",
       "      <td>2010-12-01T00:00:00.000</td>\n",
       "      <td>25.30</td>\n",
       "    </tr>\n",
       "    <tr>\n",
       "      <th>1</th>\n",
       "      <td>172585</td>\n",
       "      <td>375</td>\n",
       "      <td>Nitrogen dioxide (NO2)</td>\n",
       "      <td>Mean</td>\n",
       "      <td>ppb</td>\n",
       "      <td>UHF34</td>\n",
       "      <td>203</td>\n",
       "      <td>Bedford Stuyvesant - Crown Heights</td>\n",
       "      <td>Annual Average 2009</td>\n",
       "      <td>2008-12-01T00:00:00.000</td>\n",
       "      <td>26.93</td>\n",
       "    </tr>\n",
       "    <tr>\n",
       "      <th>2</th>\n",
       "      <td>336637</td>\n",
       "      <td>375</td>\n",
       "      <td>Nitrogen dioxide (NO2)</td>\n",
       "      <td>Mean</td>\n",
       "      <td>ppb</td>\n",
       "      <td>UHF34</td>\n",
       "      <td>204</td>\n",
       "      <td>East New York</td>\n",
       "      <td>Annual Average 2015</td>\n",
       "      <td>2015-01-01T00:00:00.000</td>\n",
       "      <td>19.09</td>\n",
       "    </tr>\n",
       "    <tr>\n",
       "      <th>3</th>\n",
       "      <td>336622</td>\n",
       "      <td>375</td>\n",
       "      <td>Nitrogen dioxide (NO2)</td>\n",
       "      <td>Mean</td>\n",
       "      <td>ppb</td>\n",
       "      <td>UHF34</td>\n",
       "      <td>103</td>\n",
       "      <td>Fordham - Bronx Pk</td>\n",
       "      <td>Annual Average 2015</td>\n",
       "      <td>2015-01-01T00:00:00.000</td>\n",
       "      <td>19.76</td>\n",
       "    </tr>\n",
       "    <tr>\n",
       "      <th>4</th>\n",
       "      <td>172582</td>\n",
       "      <td>375</td>\n",
       "      <td>Nitrogen dioxide (NO2)</td>\n",
       "      <td>Mean</td>\n",
       "      <td>ppb</td>\n",
       "      <td>UHF34</td>\n",
       "      <td>104</td>\n",
       "      <td>Pelham - Throgs Neck</td>\n",
       "      <td>Annual Average 2009</td>\n",
       "      <td>2008-12-01T00:00:00.000</td>\n",
       "      <td>22.83</td>\n",
       "    </tr>\n",
       "  </tbody>\n",
       "</table>\n",
       "</div>"
      ],
      "text/plain": [
       "  unique_id indicator_id                    name measure measure_info  \\\n",
       "0    172653          375  Nitrogen dioxide (NO2)    Mean          ppb   \n",
       "1    172585          375  Nitrogen dioxide (NO2)    Mean          ppb   \n",
       "2    336637          375  Nitrogen dioxide (NO2)    Mean          ppb   \n",
       "3    336622          375  Nitrogen dioxide (NO2)    Mean          ppb   \n",
       "4    172582          375  Nitrogen dioxide (NO2)    Mean          ppb   \n",
       "\n",
       "  geo_type_name geo_join_id                      geo_place_name  \\\n",
       "0         UHF34         203  Bedford Stuyvesant - Crown Heights   \n",
       "1         UHF34         203  Bedford Stuyvesant - Crown Heights   \n",
       "2         UHF34         204                       East New York   \n",
       "3         UHF34         103                  Fordham - Bronx Pk   \n",
       "4         UHF34         104                Pelham - Throgs Neck   \n",
       "\n",
       "           time_period               start_date data_value  \n",
       "0  Annual Average 2011  2010-12-01T00:00:00.000      25.30  \n",
       "1  Annual Average 2009  2008-12-01T00:00:00.000      26.93  \n",
       "2  Annual Average 2015  2015-01-01T00:00:00.000      19.09  \n",
       "3  Annual Average 2015  2015-01-01T00:00:00.000      19.76  \n",
       "4  Annual Average 2009  2008-12-01T00:00:00.000      22.83  "
      ]
     },
     "execution_count": 365,
     "metadata": {},
     "output_type": "execute_result"
    }
   ],
   "source": [
    "dfAirQuality.head(5)"
   ]
  },
  {
   "cell_type": "markdown",
   "metadata": {},
   "source": [
    "#### **Revisión de la forma de los datos** ####\n",
    "\n",
    "1. *Usamos **shape** obtener el número de filas y columnas del dataframe.*\n",
    "2. *Observamos que actualmente tenemos 16.218 registros y 11 columnas*"
   ]
  },
  {
   "cell_type": "code",
   "execution_count": 366,
   "metadata": {},
   "outputs": [
    {
     "data": {
      "text/plain": [
       "(16218, 11)"
      ]
     },
     "execution_count": 366,
     "metadata": {},
     "output_type": "execute_result"
    }
   ],
   "source": [
    "dfAirQuality.shape"
   ]
  },
  {
   "cell_type": "markdown",
   "metadata": {},
   "source": [
    "#### **Exploración de las columnas** ####\n",
    "\n",
    "*Vamos a revisar qué columnas existen en el dataframe y de qué tipo son:*\n",
    "\n",
    "1. *Usamos el método **info()** para listar las columnas, su valores no nulos y sus tipos.*\n",
    "2. *Observamos que no tenemos registros nulos y que todas la variables son de tipo object*"
   ]
  },
  {
   "cell_type": "code",
   "execution_count": 367,
   "metadata": {},
   "outputs": [
    {
     "name": "stdout",
     "output_type": "stream",
     "text": [
      "<class 'pandas.core.frame.DataFrame'>\n",
      "RangeIndex: 16218 entries, 0 to 16217\n",
      "Data columns (total 11 columns):\n",
      " #   Column          Non-Null Count  Dtype \n",
      "---  ------          --------------  ----- \n",
      " 0   unique_id       16218 non-null  object\n",
      " 1   indicator_id    16218 non-null  object\n",
      " 2   name            16218 non-null  object\n",
      " 3   measure         16218 non-null  object\n",
      " 4   measure_info    16218 non-null  object\n",
      " 5   geo_type_name   16218 non-null  object\n",
      " 6   geo_join_id     16218 non-null  object\n",
      " 7   geo_place_name  16218 non-null  object\n",
      " 8   time_period     16218 non-null  object\n",
      " 9   start_date      16218 non-null  object\n",
      " 10  data_value      16218 non-null  object\n",
      "dtypes: object(11)\n",
      "memory usage: 1.4+ MB\n"
     ]
    }
   ],
   "source": [
    "dfAirQuality.info()"
   ]
  },
  {
   "cell_type": "markdown",
   "metadata": {},
   "source": [
    "##### Revisamos cada una de las columnas\n",
    "\n",
    "*Con el fin de explorar a nivel de detalle el dataset obtenido realizamos un análisis por columna con el fin de tomar decisiones sobre la ideonidad de los datos y depurar información innecesaria.*"
   ]
  },
  {
   "cell_type": "markdown",
   "metadata": {},
   "source": [
    "**Columna unique_id**\n",
    "\n",
    "1. *Según el diccionario de datos de la fuente oficial esta columna representa los identificadores únicos de cada registro del que se tiene información sobre la calidad del aire.*\n",
    "2. *Revisamos que efectivamente esta tabla cuente con identificadores **únicos**.*\n",
    "3. *Observamos que esta columna cuenta con los identificadores de cada registro, sin embargo al ser id que no tienen relación con otras tablas, podemos eliminar esta columna*"
   ]
  },
  {
   "cell_type": "code",
   "execution_count": 368,
   "metadata": {},
   "outputs": [
    {
     "data": {
      "text/plain": [
       "unique_id\n",
       "121644    1\n",
       "121645    1\n",
       "121646    1\n",
       "121647    1\n",
       "121648    1\n",
       "         ..\n",
       "799864    1\n",
       "799865    1\n",
       "799866    1\n",
       "799867    1\n",
       "799868    1\n",
       "Name: count, Length: 16218, dtype: int64"
      ]
     },
     "execution_count": 368,
     "metadata": {},
     "output_type": "execute_result"
    }
   ],
   "source": [
    "# Creamos la distribución de frecuencias para observar si hay valores repetidos.\n",
    "dfAirQuality.unique_id.value_counts().sort_index()"
   ]
  },
  {
   "cell_type": "code",
   "execution_count": 369,
   "metadata": {},
   "outputs": [],
   "source": [
    "# Eliminamos la columna\n",
    "dfAirQuality.drop('unique_id', axis=1, inplace=True)"
   ]
  },
  {
   "cell_type": "markdown",
   "metadata": {},
   "source": [
    "**Columna start_date**\n",
    "\n",
    "1. *Según el diccionario de datos de la fuente oficial esta columna representa el inicio del periodo de tiempo en el que se midió este indicador.*\n",
    "2. *Creamos una tabla de frecuencia para revisar los valores de esta columna y tomar decisiones.*\n",
    "3. *Para efectos de este análisis solo tomaremos los indicadores de los últimos tres años (2019 a 2021) en los que se tomaron los datos.*\n",
    "4. *Observamos que no es necesario tomar la hora, ya que todas las medidas se tomaron a las 12 horas y no es relevante para este análisis.*"
   ]
  },
  {
   "cell_type": "code",
   "execution_count": 370,
   "metadata": {},
   "outputs": [
    {
     "data": {
      "text/plain": [
       "start_date\n",
       "2005-01-01T00:00:00.000    887\n",
       "2008-12-01T00:00:00.000    564\n",
       "2009-01-01T00:00:00.000    480\n",
       "2009-06-01T00:00:00.000    564\n",
       "2009-12-01T00:00:00.000    564\n",
       "2010-06-01T00:00:00.000    423\n",
       "2010-12-01T00:00:00.000    564\n",
       "2011-01-01T00:00:00.000    214\n",
       "2011-06-01T00:00:00.000    423\n",
       "2011-12-01T00:00:00.000    564\n",
       "2012-01-02T00:00:00.000    480\n",
       "2012-06-01T00:00:00.000    423\n",
       "2012-12-01T00:00:00.000    564\n",
       "2013-01-01T00:00:00.000    144\n",
       "2013-06-01T00:00:00.000    423\n",
       "2013-12-01T00:00:00.000    564\n",
       "2014-01-01T00:00:00.000     96\n",
       "2014-06-01T00:00:00.000    423\n",
       "2014-12-01T00:00:00.000    282\n",
       "2015-01-01T00:00:00.000    906\n",
       "2015-06-01T00:00:00.000    423\n",
       "2015-12-01T00:00:00.000    282\n",
       "2015-12-31T00:00:00.000    282\n",
       "2016-01-01T00:00:00.000    321\n",
       "2016-06-01T00:00:00.000    423\n",
       "2016-12-01T00:00:00.000    282\n",
       "2017-01-01T00:00:00.000    282\n",
       "2017-06-01T00:00:00.000    423\n",
       "2017-12-01T00:00:00.000    282\n",
       "2018-01-01T00:00:00.000    282\n",
       "2018-06-01T00:00:00.000    423\n",
       "2018-12-01T00:00:00.000    282\n",
       "2019-01-01T00:00:00.000    282\n",
       "2019-06-01T00:00:00.000    423\n",
       "2019-12-01T00:00:00.000    282\n",
       "2020-01-01T00:00:00.000    282\n",
       "2020-06-01T00:00:00.000    423\n",
       "2020-12-01T00:00:00.000    282\n",
       "2021-01-01T00:00:00.000    282\n",
       "2021-06-01T00:00:00.000    423\n",
       "Name: count, dtype: int64"
      ]
     },
     "execution_count": 370,
     "metadata": {},
     "output_type": "execute_result"
    }
   ],
   "source": [
    "# Creamos una tabla de frecuencias\n",
    "dfAirQuality.start_date.value_counts().sort_index()"
   ]
  },
  {
   "cell_type": "code",
   "execution_count": 371,
   "metadata": {},
   "outputs": [],
   "source": [
    "# Convertimos el tipo de esta columna a datetime.\n",
    "\n",
    "dfAirQuality[\"start_date\"] = pd.to_datetime(dfAirQuality[\"start_date\"])"
   ]
  },
  {
   "cell_type": "code",
   "execution_count": 372,
   "metadata": {},
   "outputs": [],
   "source": [
    "# Filtramos el dataframe para incluir solo los registros de los últimos 3 años y eliminamos la hora, ya que no es relevante.\n",
    "\n",
    "dfAirQuality = dfAirQuality[(dfAirQuality['start_date'].dt.year >= 2019)]\n",
    "dfAirQuality['start_date'] = dfAirQuality['start_date'].dt.date"
   ]
  },
  {
   "cell_type": "code",
   "execution_count": 373,
   "metadata": {},
   "outputs": [
    {
     "data": {
      "text/plain": [
       "start_date\n",
       "2020-06-01    423\n",
       "2021-06-01    423\n",
       "2019-06-01    423\n",
       "2020-01-01    282\n",
       "2021-01-01    282\n",
       "2019-01-01    282\n",
       "2020-12-01    282\n",
       "2019-12-01    282\n",
       "Name: count, dtype: int64"
      ]
     },
     "execution_count": 373,
     "metadata": {},
     "output_type": "execute_result"
    }
   ],
   "source": [
    "# Verificamos los cambios realizados\n",
    "\n",
    "dfAirQuality.start_date.value_counts()"
   ]
  },
  {
   "cell_type": "markdown",
   "metadata": {},
   "source": [
    "**Columna indicator_id y name**\n",
    "\n",
    "1. *Según el diccionario de datos de la fuente oficial estas columna representa los identificadores únicos y los nombres de las mediciones de cada registro del que se tiene información sobre la calidad del aire.*\n",
    "2. *Si comparamos las dos columnas observamos que presentan la misma distribución de los datos.*\n",
    "3. *Cambiamos los valores a español*\n",
    "4. *Eliminamos la columna indicator_id*"
   ]
  },
  {
   "cell_type": "code",
   "execution_count": 374,
   "metadata": {},
   "outputs": [
    {
     "data": {
      "text/plain": [
       "indicator_id\n",
       "375    1128\n",
       "365    1128\n",
       "386     423\n",
       "Name: count, dtype: int64"
      ]
     },
     "execution_count": 374,
     "metadata": {},
     "output_type": "execute_result"
    }
   ],
   "source": [
    "# Comparamos los valores de indicator_id\n",
    "dfAirQuality.indicator_id.value_counts()"
   ]
  },
  {
   "cell_type": "code",
   "execution_count": 375,
   "metadata": {},
   "outputs": [
    {
     "data": {
      "text/plain": [
       "name\n",
       "Nitrogen dioxide (NO2)     1128\n",
       "Fine particles (PM 2.5)    1128\n",
       "Ozone (O3)                  423\n",
       "Name: count, dtype: int64"
      ]
     },
     "execution_count": 375,
     "metadata": {},
     "output_type": "execute_result"
    }
   ],
   "source": [
    "# Comparamos los valores de name\n",
    "dfAirQuality.name.value_counts()"
   ]
  },
  {
   "cell_type": "code",
   "execution_count": 376,
   "metadata": {},
   "outputs": [],
   "source": [
    "# Mapeamos los valores y los reemplazamos\n",
    "\n",
    "mapeo_name = {\n",
    "    \"Nitrogen dioxide (NO2)\": \"NO2\",\n",
    "    \"Fine particles (PM 2.5)\": \"PM 2.5\",\n",
    "    \"Ozone (O3)\": \"O3\"\n",
    "}\n",
    "\n",
    "dfAirQuality[\"name\"] = dfAirQuality[\"name\"].replace(mapeo_name)"
   ]
  },
  {
   "cell_type": "code",
   "execution_count": 377,
   "metadata": {},
   "outputs": [],
   "source": [
    "# Eliminamos la columna indicator id\n",
    "dfAirQuality.drop(\"indicator_id\", axis=1, inplace=True)"
   ]
  },
  {
   "cell_type": "markdown",
   "metadata": {},
   "source": [
    "**Columna measure**\n",
    "\n",
    "1. *Según el diccionario de datos de la fuente oficial estas columna representa el valor que toma cada indicador, es decir como se calcula este valor*\n",
    "2. *Si contamos los valores que toma esta columna, observamos que todas se calculan como la media*\n",
    "3. *Eliminamos esta columna, ya que no nos aporta información.*"
   ]
  },
  {
   "cell_type": "code",
   "execution_count": 378,
   "metadata": {},
   "outputs": [
    {
     "data": {
      "text/plain": [
       "measure\n",
       "Mean    2679\n",
       "Name: count, dtype: int64"
      ]
     },
     "execution_count": 378,
     "metadata": {},
     "output_type": "execute_result"
    }
   ],
   "source": [
    "dfAirQuality.measure.value_counts()"
   ]
  },
  {
   "cell_type": "code",
   "execution_count": 379,
   "metadata": {},
   "outputs": [],
   "source": [
    "# Eliminamos la columna indicator id\n",
    "dfAirQuality.drop(\"measure\", axis=1, inplace=True)"
   ]
  },
  {
   "cell_type": "markdown",
   "metadata": {},
   "source": [
    "**Columna measure_info y data_value**\n",
    "\n",
    "1. *Según el diccionario de datos de la fuente oficial estas columna representa las unidades de medida que se utilizaron para informar las medidas que se tomaron*\n",
    "2. *Si contamos los valores que toma esta columna, observamos que existen dos medidas de referencia: partes por billon y microgramos por metro cúbico*\n",
    "3. *Vamos a normalizar todos los datos a una sola medida, por lo que revisamos en internet como es el proceso de conversión, para revisar las formulas que se usaron puede seguir el siguiente [enlace](https://www.youtube.com/watch?v=lTqZV1xaZUg&ab_channel=JoseLoboGomez).*\n",
    "4. *Convertimos la columna data_value a valores de tipo float.*\n",
    "5. *Se definen las masas molares y las medias de temperatura de la ciudad de Nueva York de acuerdo al mes en el que se tomaron las medidas*\n",
    "6. *Se crean los valores usando la función y se eliminan las columnas que ya no se necesitan*\n"
   ]
  },
  {
   "cell_type": "code",
   "execution_count": 380,
   "metadata": {},
   "outputs": [
    {
     "data": {
      "text/plain": [
       "measure_info\n",
       "ppb       1551\n",
       "mcg/m3    1128\n",
       "Name: count, dtype: int64"
      ]
     },
     "execution_count": 380,
     "metadata": {},
     "output_type": "execute_result"
    }
   ],
   "source": [
    "dfAirQuality.measure_info.value_counts()"
   ]
  },
  {
   "cell_type": "code",
   "execution_count": 381,
   "metadata": {},
   "outputs": [
    {
     "data": {
      "text/plain": [
       "start_date\n",
       "2020-06-01    423\n",
       "2021-06-01    423\n",
       "2019-06-01    423\n",
       "2020-01-01    282\n",
       "2021-01-01    282\n",
       "2019-01-01    282\n",
       "2020-12-01    282\n",
       "2019-12-01    282\n",
       "Name: count, dtype: int64"
      ]
     },
     "execution_count": 381,
     "metadata": {},
     "output_type": "execute_result"
    }
   ],
   "source": [
    "dfAirQuality.start_date.value_counts()"
   ]
  },
  {
   "cell_type": "code",
   "execution_count": 382,
   "metadata": {},
   "outputs": [],
   "source": [
    "# Convertimos el tipo de dato de la columna data_value a float.\n",
    "dfAirQuality[\"data_value\"] = dfAirQuality[\"data_value\"].astype(float)"
   ]
  },
  {
   "cell_type": "code",
   "execution_count": 383,
   "metadata": {},
   "outputs": [],
   "source": [
    "# Definimos las masas molares des los gases contaminantes teniendo en cuenta los pesos atómicos que los componen.\n",
    "masaOzono = 3 * 16\n",
    "masaNitrogeno = 14 + 2 * 16\n",
    "masaPM = 3.625 #Este es un estándar para el material particulado.\n",
    "\n",
    "# Mapeamos estos valores teniendo en cuenta los nombres de los componentes para luego aplicarlos a la función\n",
    "masa_map = {\n",
    "    \"O3\": masaOzono,\n",
    "    \"NO2\": masaNitrogeno,\n",
    "    \"PM 2.5\": masaPM,\n",
    "}"
   ]
  },
  {
   "cell_type": "code",
   "execution_count": 384,
   "metadata": {},
   "outputs": [],
   "source": [
    "# Definimos los promedios de temperatura teniendo en cuenta los datos historicos de temperatura por meses\n",
    "temEne = 0.5\n",
    "temJun = 22.5\n",
    "temDic = 3.5\n",
    "\n",
    "# Creamos una función que nos permita identificar el mes y asignarle un valor de temperatura\n",
    "def obtener_tem(mes):\n",
    "    if mes == 1:  # Enero\n",
    "        return temEne\n",
    "    elif mes == 6:  # Junio\n",
    "        return temJun\n",
    "    elif mes == 12:  # Diciembre\n",
    "        return temDic\n",
    "    else:\n",
    "        return None\n",
    "    \n",
    "# Creamos una nueva columna que contenga la temperatura promedio para ese mes.\n",
    "dfAirQuality[\"tem\"] = pd.to_datetime(dfAirQuality[\"start_date\"]).dt.month.apply(obtener_tem)\n"
   ]
  },
  {
   "cell_type": "code",
   "execution_count": 385,
   "metadata": {},
   "outputs": [],
   "source": [
    "# Creamos una función que nos permite hacer la conversión tomando como parámetros la medida en ppb, la temperatura y la masa.\n",
    "def calcular_mcg(ppb, tem, masa):\n",
    "    kelvin = tem + 273.15\n",
    "    vol = 0.082 * kelvin\n",
    "    res = (ppb * 1000 * masa * 10 **6) / (10 **9 * vol)\n",
    "    return round(res,2)"
   ]
  },
  {
   "cell_type": "code",
   "execution_count": 386,
   "metadata": {},
   "outputs": [],
   "source": [
    "# Aplicamos la función de conversión para crear la nueva columna, solo convertiremos aquellos valores que se encuentren en ppb.\n",
    "dfAirQuality[\"mcg/m3\"] = dfAirQuality.apply(lambda row: calcular_mcg(row[\"data_value\"], row[\"tem\"], masa_map[row[\"name\"]])\n",
    "                               if row[\"measure_info\"] == \"ppb\" else row[\"data_value\"], axis=1)"
   ]
  },
  {
   "cell_type": "code",
   "execution_count": 387,
   "metadata": {},
   "outputs": [],
   "source": [
    "# Eliminamos las columnas que measure_info, data_value y tem\n",
    "dfAirQuality.drop(\"measure_info\", axis=1, inplace=True)\n",
    "dfAirQuality.drop(\"data_value\", axis=1, inplace=True)\n",
    "dfAirQuality.drop(\"tem\", axis=1, inplace=True)"
   ]
  },
  {
   "cell_type": "markdown",
   "metadata": {},
   "source": [
    "**Columna time_period**\n",
    "\n",
    "1. *Según el diccionario de datos de la fuente oficial esta columna representa el periodo de tiempo en el que se tomaron los datos, esto puede ser anual o semestral (Invierno y Verano).*\n",
    "2. *Normalizamos los valores de las variables para que solo sean: Año, Invierno, Verano.*"
   ]
  },
  {
   "cell_type": "code",
   "execution_count": 388,
   "metadata": {},
   "outputs": [
    {
     "data": {
      "text/plain": [
       "time_period\n",
       "Summer 2020            423\n",
       "Summer 2021            423\n",
       "Summer 2019            423\n",
       "Annual Average 2020    282\n",
       "Annual Average 2021    282\n",
       "Annual Average 2019    282\n",
       "Winter 2020-21         282\n",
       "Winter 2019-20         282\n",
       "Name: count, dtype: int64"
      ]
     },
     "execution_count": 388,
     "metadata": {},
     "output_type": "execute_result"
    }
   ],
   "source": [
    "dfAirQuality.time_period.value_counts()"
   ]
  },
  {
   "cell_type": "code",
   "execution_count": 389,
   "metadata": {},
   "outputs": [],
   "source": [
    "# Mapeamos los valores y los reemplazamos\n",
    "\n",
    "mapeo_time_period = {\n",
    "    \"Summer 2020\": \"Verano\",\n",
    "    \"Summer 2021\": \"Verano\",\n",
    "    \"Summer 2019\": \"Verano\",\n",
    "    \"Annual Average 2020\": \"Año\",\n",
    "    \"Annual Average 2021\": \"Año\",\n",
    "    \"Annual Average 2019\": \"Año\",\n",
    "    \"Winter 2020-21\": \"Invierno\",\n",
    "    \"Winter 2019-20\": \"Invierno\",\n",
    "}\n",
    "\n",
    "dfAirQuality[\"time_period\"] = dfAirQuality[\"time_period\"].replace(mapeo_time_period)"
   ]
  },
  {
   "cell_type": "markdown",
   "metadata": {},
   "source": [
    "**Renombramos las columnas**\n",
    "\n",
    "1. *Renombramos las columnas para mejorar la comprensión de los datos.*"
   ]
  },
  {
   "cell_type": "code",
   "execution_count": 390,
   "metadata": {},
   "outputs": [
    {
     "data": {
      "text/html": [
       "<div>\n",
       "<style scoped>\n",
       "    .dataframe tbody tr th:only-of-type {\n",
       "        vertical-align: middle;\n",
       "    }\n",
       "\n",
       "    .dataframe tbody tr th {\n",
       "        vertical-align: top;\n",
       "    }\n",
       "\n",
       "    .dataframe thead th {\n",
       "        text-align: right;\n",
       "    }\n",
       "</style>\n",
       "<table border=\"1\" class=\"dataframe\">\n",
       "  <thead>\n",
       "    <tr style=\"text-align: right;\">\n",
       "      <th></th>\n",
       "      <th>Contaminante</th>\n",
       "      <th>Division</th>\n",
       "      <th>IdLoc</th>\n",
       "      <th>NombreLugar</th>\n",
       "      <th>PeriodoTiempo</th>\n",
       "      <th>FechaInicio</th>\n",
       "      <th>mcg/m3</th>\n",
       "    </tr>\n",
       "  </thead>\n",
       "  <tbody>\n",
       "    <tr>\n",
       "      <th>5</th>\n",
       "      <td>NO2</td>\n",
       "      <td>UHF34</td>\n",
       "      <td>104</td>\n",
       "      <td>Pelham - Throgs Neck</td>\n",
       "      <td>Año</td>\n",
       "      <td>2020-01-01</td>\n",
       "      <td>33.19</td>\n",
       "    </tr>\n",
       "    <tr>\n",
       "      <th>12</th>\n",
       "      <td>NO2</td>\n",
       "      <td>UHF42</td>\n",
       "      <td>106</td>\n",
       "      <td>High Bridge - Morrisania</td>\n",
       "      <td>Año</td>\n",
       "      <td>2021-01-01</td>\n",
       "      <td>36.98</td>\n",
       "    </tr>\n",
       "    <tr>\n",
       "      <th>18</th>\n",
       "      <td>NO2</td>\n",
       "      <td>UHF42</td>\n",
       "      <td>410</td>\n",
       "      <td>Rockaways</td>\n",
       "      <td>Año</td>\n",
       "      <td>2021-01-01</td>\n",
       "      <td>23.39</td>\n",
       "    </tr>\n",
       "  </tbody>\n",
       "</table>\n",
       "</div>"
      ],
      "text/plain": [
       "   Contaminante Division IdLoc               NombreLugar PeriodoTiempo  \\\n",
       "5           NO2    UHF34   104      Pelham - Throgs Neck           Año   \n",
       "12          NO2    UHF42   106  High Bridge - Morrisania           Año   \n",
       "18          NO2    UHF42   410                 Rockaways           Año   \n",
       "\n",
       "   FechaInicio  mcg/m3  \n",
       "5   2020-01-01   33.19  \n",
       "12  2021-01-01   36.98  \n",
       "18  2021-01-01   23.39  "
      ]
     },
     "execution_count": 390,
     "metadata": {},
     "output_type": "execute_result"
    }
   ],
   "source": [
    "dfAirQuality = dfAirQuality.rename(columns={\"name\": \"Contaminante\", \"geo_type_name\": \"Division\", \"geo_join_id\": \"IdLoc\",\n",
    "                                            \"geo_place_name\": \"NombreLugar\",  \"time_period\": \"PeriodoTiempo\",  \"start_date\": \"FechaInicio\"})\n",
    "dfAirQuality.head(3)"
   ]
  },
  {
   "cell_type": "markdown",
   "metadata": {},
   "source": [
    "**Columna Division, IdLoc, NombreLugar**\n",
    "\n",
    "1. *Según el diccionario de datos de la fuente oficial estas columnas representan la zona sobre la cual se toma la medición, estas mediciones se tomaron en distintos niveles (Citywide = A nivel de ciudad), (Borough = A nivel de cada Distrito (Borough)), (UHF 34 y UHF 42 = A nivel de Zonas de planificación de servicios de salud) y (CD =Distritos comunitarios)*\n",
    "2. *Observamos la distribución de datos que tenemos por división.*\n",
    "3. *Vamos a separar los datos de acuerdo a la división de la ciudad, así en el análisis podremos analizar los datos a diferentes escalas.*"
   ]
  },
  {
   "cell_type": "code",
   "execution_count": 391,
   "metadata": {},
   "outputs": [
    {
     "data": {
      "text/plain": [
       "Division\n",
       "CD          1121\n",
       "UHF42        798\n",
       "UHF34        646\n",
       "Borough       95\n",
       "Citywide      19\n",
       "Name: count, dtype: int64"
      ]
     },
     "execution_count": 391,
     "metadata": {},
     "output_type": "execute_result"
    }
   ],
   "source": [
    "dfAirQuality.Division.value_counts()"
   ]
  },
  {
   "cell_type": "markdown",
   "metadata": {},
   "source": [
    "**Dataframe AirQualityNewYorkCity**\n",
    "\n",
    "1. *Este dataframe contiene los medidas generales de la ciudad en cuanto a niveles de contaminantes en el aire.*\n",
    "2. *Eliminamos las columnas de localización ya que este dataframe solo se refiere a la ciudad de Nueva York en conjunto.*\n",
    "3. *Ordenamos por fecha para mejorar la legibilidad de la tabla.*"
   ]
  },
  {
   "cell_type": "code",
   "execution_count": 392,
   "metadata": {},
   "outputs": [
    {
     "data": {
      "text/html": [
       "<div>\n",
       "<style scoped>\n",
       "    .dataframe tbody tr th:only-of-type {\n",
       "        vertical-align: middle;\n",
       "    }\n",
       "\n",
       "    .dataframe tbody tr th {\n",
       "        vertical-align: top;\n",
       "    }\n",
       "\n",
       "    .dataframe thead th {\n",
       "        text-align: right;\n",
       "    }\n",
       "</style>\n",
       "<table border=\"1\" class=\"dataframe\">\n",
       "  <thead>\n",
       "    <tr style=\"text-align: right;\">\n",
       "      <th></th>\n",
       "      <th>Contaminante</th>\n",
       "      <th>PeriodoTiempo</th>\n",
       "      <th>FechaInicio</th>\n",
       "      <th>mcg/m3</th>\n",
       "    </tr>\n",
       "  </thead>\n",
       "  <tbody>\n",
       "    <tr>\n",
       "      <th>15409</th>\n",
       "      <td>NO2</td>\n",
       "      <td>Año</td>\n",
       "      <td>2019-01-01</td>\n",
       "      <td>31.96</td>\n",
       "    </tr>\n",
       "    <tr>\n",
       "      <th>15310</th>\n",
       "      <td>PM 2.5</td>\n",
       "      <td>Año</td>\n",
       "      <td>2019-01-01</td>\n",
       "      <td>6.60</td>\n",
       "    </tr>\n",
       "    <tr>\n",
       "      <th>15389</th>\n",
       "      <td>NO2</td>\n",
       "      <td>Verano</td>\n",
       "      <td>2019-06-01</td>\n",
       "      <td>24.63</td>\n",
       "    </tr>\n",
       "  </tbody>\n",
       "</table>\n",
       "</div>"
      ],
      "text/plain": [
       "      Contaminante PeriodoTiempo FechaInicio  mcg/m3\n",
       "15409          NO2           Año  2019-01-01   31.96\n",
       "15310       PM 2.5           Año  2019-01-01    6.60\n",
       "15389          NO2        Verano  2019-06-01   24.63"
      ]
     },
     "execution_count": 392,
     "metadata": {},
     "output_type": "execute_result"
    }
   ],
   "source": [
    "# Creamos el dataframe con los datos generales de la ciudad.\n",
    "\n",
    "dfAQNYC = dfAirQuality.loc[dfAirQuality[\"Division\"].str.contains(\"Citywide\")].copy()\n",
    "dfAQNYC.drop(columns=[\"Division\",\"IdLoc\", \"NombreLugar\"], axis=1, inplace=True)\n",
    "dfAQNYC.sort_values(by=[\"FechaInicio\"], inplace=True)\n",
    "dfAQNYC.head(3)"
   ]
  },
  {
   "cell_type": "markdown",
   "metadata": {},
   "source": [
    "**Dataframe AirQualityBoroughs**\n",
    "\n",
    "1. *Este dataframe contiene los medidas generales de los 5 boroughs de la ciudad en cuanto a niveles de contaminantes en el aire.*\n",
    "2. *Eliminamos las columnas que no son necesarias*\n",
    "3. *Mapeamos los id de los boroughs para que coincidan con las fuentes oficiales*\n",
    "4. *Hacemos algunos ajustes al dataframe*"
   ]
  },
  {
   "cell_type": "code",
   "execution_count": 393,
   "metadata": {},
   "outputs": [
    {
     "data": {
      "text/html": [
       "<div>\n",
       "<style scoped>\n",
       "    .dataframe tbody tr th:only-of-type {\n",
       "        vertical-align: middle;\n",
       "    }\n",
       "\n",
       "    .dataframe tbody tr th {\n",
       "        vertical-align: top;\n",
       "    }\n",
       "\n",
       "    .dataframe thead th {\n",
       "        text-align: right;\n",
       "    }\n",
       "</style>\n",
       "<table border=\"1\" class=\"dataframe\">\n",
       "  <thead>\n",
       "    <tr style=\"text-align: right;\">\n",
       "      <th></th>\n",
       "      <th>Contaminante</th>\n",
       "      <th>IdLoc</th>\n",
       "      <th>NombreLugar</th>\n",
       "      <th>PeriodoTiempo</th>\n",
       "      <th>FechaInicio</th>\n",
       "      <th>mcg/m3</th>\n",
       "    </tr>\n",
       "  </thead>\n",
       "  <tbody>\n",
       "    <tr>\n",
       "      <th>133</th>\n",
       "      <td>NO2</td>\n",
       "      <td>1</td>\n",
       "      <td>Bronx</td>\n",
       "      <td>Verano</td>\n",
       "      <td>2020-06-01</td>\n",
       "      <td>24.97</td>\n",
       "    </tr>\n",
       "    <tr>\n",
       "      <th>137</th>\n",
       "      <td>NO2</td>\n",
       "      <td>2</td>\n",
       "      <td>Brooklyn</td>\n",
       "      <td>Verano</td>\n",
       "      <td>2020-06-01</td>\n",
       "      <td>20.53</td>\n",
       "    </tr>\n",
       "    <tr>\n",
       "      <th>232</th>\n",
       "      <td>NO2</td>\n",
       "      <td>4</td>\n",
       "      <td>Queens</td>\n",
       "      <td>Año</td>\n",
       "      <td>2020-01-01</td>\n",
       "      <td>30.38</td>\n",
       "    </tr>\n",
       "  </tbody>\n",
       "</table>\n",
       "</div>"
      ],
      "text/plain": [
       "    Contaminante IdLoc NombreLugar PeriodoTiempo FechaInicio  mcg/m3\n",
       "133          NO2     1       Bronx        Verano  2020-06-01   24.97\n",
       "137          NO2     2    Brooklyn        Verano  2020-06-01   20.53\n",
       "232          NO2     4      Queens           Año  2020-01-01   30.38"
      ]
     },
     "execution_count": 393,
     "metadata": {},
     "output_type": "execute_result"
    }
   ],
   "source": [
    "# Creamos el dataframe con los datos de cada uno de los 5 boroughs\n",
    "\n",
    "dfAQBoroughs = dfAirQuality.loc[dfAirQuality[\"Division\"].str.contains(\"Borough\")].copy()\n",
    "dfAQBoroughs.drop(columns=[\"Division\"], axis=1, inplace=True)\n",
    "dfAQBoroughs.head(3)"
   ]
  },
  {
   "cell_type": "code",
   "execution_count": 394,
   "metadata": {},
   "outputs": [],
   "source": [
    "# Mapeamos los id de los boroughs para que coincidan con los id oficiales de los boroughs de NYC.\n",
    "\n",
    "mapeo_borough = {\n",
    "    \"1\": 2,\n",
    "    \"2\": 3,\n",
    "    \"3\": 1,\n",
    "    \"4\": 4,\n",
    "    \"5\": 5\n",
    "}\n",
    "\n",
    "dfAQBoroughs[\"IdLoc\"] = dfAirQuality[\"IdLoc\"].replace(mapeo_borough)"
   ]
  },
  {
   "cell_type": "code",
   "execution_count": 395,
   "metadata": {},
   "outputs": [
    {
     "data": {
      "text/html": [
       "<div>\n",
       "<style scoped>\n",
       "    .dataframe tbody tr th:only-of-type {\n",
       "        vertical-align: middle;\n",
       "    }\n",
       "\n",
       "    .dataframe tbody tr th {\n",
       "        vertical-align: top;\n",
       "    }\n",
       "\n",
       "    .dataframe thead th {\n",
       "        text-align: right;\n",
       "    }\n",
       "</style>\n",
       "<table border=\"1\" class=\"dataframe\">\n",
       "  <thead>\n",
       "    <tr style=\"text-align: right;\">\n",
       "      <th></th>\n",
       "      <th>IdBorough</th>\n",
       "      <th>Nombre</th>\n",
       "    </tr>\n",
       "  </thead>\n",
       "  <tbody>\n",
       "    <tr>\n",
       "      <th>352</th>\n",
       "      <td>1</td>\n",
       "      <td>Manhattan</td>\n",
       "    </tr>\n",
       "    <tr>\n",
       "      <th>133</th>\n",
       "      <td>2</td>\n",
       "      <td>Bronx</td>\n",
       "    </tr>\n",
       "    <tr>\n",
       "      <th>137</th>\n",
       "      <td>3</td>\n",
       "      <td>Brooklyn</td>\n",
       "    </tr>\n",
       "    <tr>\n",
       "      <th>232</th>\n",
       "      <td>4</td>\n",
       "      <td>Queens</td>\n",
       "    </tr>\n",
       "    <tr>\n",
       "      <th>6330</th>\n",
       "      <td>5</td>\n",
       "      <td>Staten Island</td>\n",
       "    </tr>\n",
       "  </tbody>\n",
       "</table>\n",
       "</div>"
      ],
      "text/plain": [
       "      IdBorough         Nombre\n",
       "352           1      Manhattan\n",
       "133           2          Bronx\n",
       "137           3       Brooklyn\n",
       "232           4         Queens\n",
       "6330          5  Staten Island"
      ]
     },
     "execution_count": 395,
     "metadata": {},
     "output_type": "execute_result"
    }
   ],
   "source": [
    "# Creamos un dataframe que contenga los códigos de cada Borough y su nombre\n",
    "dfBor = dfAQBoroughs[[\"IdLoc\", \"NombreLugar\"]].drop_duplicates().sort_values(by=\"IdLoc\")\n",
    "dfBor.rename(columns={\"IdLoc\": \"IdBorough\", \"NombreLugar\": \"Nombre\"}, inplace=True)\n",
    "dfBor[\"IdBorough\"] = dfBor[\"IdBorough\"].astype(int)\n",
    "dfBor\n"
   ]
  },
  {
   "cell_type": "code",
   "execution_count": 396,
   "metadata": {},
   "outputs": [],
   "source": [
    "# Eliminamos la columna nombre lugar, ya que no será necesaria.\n",
    "\n",
    "dfAQBoroughs.drop(columns=[\"NombreLugar\"], axis=1, inplace=True)"
   ]
  },
  {
   "cell_type": "code",
   "execution_count": 397,
   "metadata": {},
   "outputs": [],
   "source": [
    "# Reordenamos el dataframe para mejorar la lectura del mismo y cambiamos el nombre de la columna Id\n",
    "\n",
    "dfAQBoroughs = dfAQBoroughs.reindex(columns=[\"IdLoc\", \"FechaInicio\",\"PeriodoTiempo\", \"Contaminante\", \"mcg/m3\" ])\n",
    "dfAQBoroughs.rename(columns={\"IdLoc\": \"IdBorough\"}, inplace=True)\n",
    "dfAQBoroughs.sort_values(by=[\"IdBorough\", \"FechaInicio\"], inplace=True)\n",
    "dfAQBoroughs[\"IdBorough\"] = dfAQBoroughs[\"IdBorough\"].astype(int)"
   ]
  },
  {
   "cell_type": "code",
   "execution_count": 398,
   "metadata": {},
   "outputs": [
    {
     "data": {
      "text/html": [
       "<div>\n",
       "<style scoped>\n",
       "    .dataframe tbody tr th:only-of-type {\n",
       "        vertical-align: middle;\n",
       "    }\n",
       "\n",
       "    .dataframe tbody tr th {\n",
       "        vertical-align: top;\n",
       "    }\n",
       "\n",
       "    .dataframe thead th {\n",
       "        text-align: right;\n",
       "    }\n",
       "</style>\n",
       "<table border=\"1\" class=\"dataframe\">\n",
       "  <thead>\n",
       "    <tr style=\"text-align: right;\">\n",
       "      <th></th>\n",
       "      <th>IdBorough</th>\n",
       "      <th>FechaInicio</th>\n",
       "      <th>PeriodoTiempo</th>\n",
       "      <th>Contaminante</th>\n",
       "      <th>mcg/m3</th>\n",
       "    </tr>\n",
       "  </thead>\n",
       "  <tbody>\n",
       "    <tr>\n",
       "      <th>15285</th>\n",
       "      <td>1</td>\n",
       "      <td>2019-01-01</td>\n",
       "      <td>Año</td>\n",
       "      <td>NO2</td>\n",
       "      <td>44.50</td>\n",
       "    </tr>\n",
       "    <tr>\n",
       "      <th>15378</th>\n",
       "      <td>1</td>\n",
       "      <td>2019-01-01</td>\n",
       "      <td>Año</td>\n",
       "      <td>PM 2.5</td>\n",
       "      <td>8.31</td>\n",
       "    </tr>\n",
       "    <tr>\n",
       "      <th>12122</th>\n",
       "      <td>1</td>\n",
       "      <td>2019-06-01</td>\n",
       "      <td>Verano</td>\n",
       "      <td>O3</td>\n",
       "      <td>51.18</td>\n",
       "    </tr>\n",
       "    <tr>\n",
       "      <th>13454</th>\n",
       "      <td>1</td>\n",
       "      <td>2019-06-01</td>\n",
       "      <td>Verano</td>\n",
       "      <td>NO2</td>\n",
       "      <td>37.38</td>\n",
       "    </tr>\n",
       "    <tr>\n",
       "      <th>13795</th>\n",
       "      <td>1</td>\n",
       "      <td>2019-06-01</td>\n",
       "      <td>Verano</td>\n",
       "      <td>PM 2.5</td>\n",
       "      <td>9.44</td>\n",
       "    </tr>\n",
       "    <tr>\n",
       "      <th>...</th>\n",
       "      <td>...</td>\n",
       "      <td>...</td>\n",
       "      <td>...</td>\n",
       "      <td>...</td>\n",
       "      <td>...</td>\n",
       "    </tr>\n",
       "    <tr>\n",
       "      <th>15900</th>\n",
       "      <td>5</td>\n",
       "      <td>2021-01-01</td>\n",
       "      <td>Año</td>\n",
       "      <td>NO2</td>\n",
       "      <td>26.32</td>\n",
       "    </tr>\n",
       "    <tr>\n",
       "      <th>16057</th>\n",
       "      <td>5</td>\n",
       "      <td>2021-01-01</td>\n",
       "      <td>Año</td>\n",
       "      <td>PM 2.5</td>\n",
       "      <td>6.15</td>\n",
       "    </tr>\n",
       "    <tr>\n",
       "      <th>15842</th>\n",
       "      <td>5</td>\n",
       "      <td>2021-06-01</td>\n",
       "      <td>Verano</td>\n",
       "      <td>O3</td>\n",
       "      <td>58.47</td>\n",
       "    </tr>\n",
       "    <tr>\n",
       "      <th>16068</th>\n",
       "      <td>5</td>\n",
       "      <td>2021-06-01</td>\n",
       "      <td>Verano</td>\n",
       "      <td>NO2</td>\n",
       "      <td>14.65</td>\n",
       "    </tr>\n",
       "    <tr>\n",
       "      <th>16118</th>\n",
       "      <td>5</td>\n",
       "      <td>2021-06-01</td>\n",
       "      <td>Verano</td>\n",
       "      <td>PM 2.5</td>\n",
       "      <td>7.88</td>\n",
       "    </tr>\n",
       "  </tbody>\n",
       "</table>\n",
       "<p>95 rows × 5 columns</p>\n",
       "</div>"
      ],
      "text/plain": [
       "       IdBorough FechaInicio PeriodoTiempo Contaminante  mcg/m3\n",
       "15285          1  2019-01-01           Año          NO2   44.50\n",
       "15378          1  2019-01-01           Año       PM 2.5    8.31\n",
       "12122          1  2019-06-01        Verano           O3   51.18\n",
       "13454          1  2019-06-01        Verano          NO2   37.38\n",
       "13795          1  2019-06-01        Verano       PM 2.5    9.44\n",
       "...          ...         ...           ...          ...     ...\n",
       "15900          5  2021-01-01           Año          NO2   26.32\n",
       "16057          5  2021-01-01           Año       PM 2.5    6.15\n",
       "15842          5  2021-06-01        Verano           O3   58.47\n",
       "16068          5  2021-06-01        Verano          NO2   14.65\n",
       "16118          5  2021-06-01        Verano       PM 2.5    7.88\n",
       "\n",
       "[95 rows x 5 columns]"
      ]
     },
     "execution_count": 398,
     "metadata": {},
     "output_type": "execute_result"
    }
   ],
   "source": [
    "dfAQBoroughs"
   ]
  },
  {
   "cell_type": "markdown",
   "metadata": {},
   "source": [
    "**Dataframes UHF34 y UHF42**\n",
    "\n",
    "1. *Este dataframe contiene los medidas generales de 34 y 42 zonas de planificación de servicios de salud, que agrupan un conjunto de barrios en cuanto a niveles de contaminantes en el aire.*\n",
    "2. *Eliminamos las columnas que no son necesarias*\n",
    "3. *No usaremos estos dataframes para el análisis*"
   ]
  },
  {
   "cell_type": "code",
   "execution_count": 399,
   "metadata": {},
   "outputs": [
    {
     "data": {
      "text/html": [
       "<div>\n",
       "<style scoped>\n",
       "    .dataframe tbody tr th:only-of-type {\n",
       "        vertical-align: middle;\n",
       "    }\n",
       "\n",
       "    .dataframe tbody tr th {\n",
       "        vertical-align: top;\n",
       "    }\n",
       "\n",
       "    .dataframe thead th {\n",
       "        text-align: right;\n",
       "    }\n",
       "</style>\n",
       "<table border=\"1\" class=\"dataframe\">\n",
       "  <thead>\n",
       "    <tr style=\"text-align: right;\">\n",
       "      <th></th>\n",
       "      <th>Contaminante</th>\n",
       "      <th>IdLoc</th>\n",
       "      <th>NombreLugar</th>\n",
       "      <th>PeriodoTiempo</th>\n",
       "      <th>FechaInicio</th>\n",
       "      <th>mcg/m3</th>\n",
       "    </tr>\n",
       "  </thead>\n",
       "  <tbody>\n",
       "    <tr>\n",
       "      <th>5</th>\n",
       "      <td>NO2</td>\n",
       "      <td>104</td>\n",
       "      <td>Pelham - Throgs Neck</td>\n",
       "      <td>Año</td>\n",
       "      <td>2020-01-01</td>\n",
       "      <td>33.19</td>\n",
       "    </tr>\n",
       "    <tr>\n",
       "      <th>40</th>\n",
       "      <td>NO2</td>\n",
       "      <td>301</td>\n",
       "      <td>Washington Heights</td>\n",
       "      <td>Año</td>\n",
       "      <td>2020-01-01</td>\n",
       "      <td>37.06</td>\n",
       "    </tr>\n",
       "    <tr>\n",
       "      <th>67</th>\n",
       "      <td>NO2</td>\n",
       "      <td>209</td>\n",
       "      <td>Bensonhurst - Bay Ridge</td>\n",
       "      <td>Año</td>\n",
       "      <td>2020-01-01</td>\n",
       "      <td>30.36</td>\n",
       "    </tr>\n",
       "  </tbody>\n",
       "</table>\n",
       "</div>"
      ],
      "text/plain": [
       "   Contaminante IdLoc              NombreLugar PeriodoTiempo FechaInicio  \\\n",
       "5           NO2   104     Pelham - Throgs Neck           Año  2020-01-01   \n",
       "40          NO2   301       Washington Heights           Año  2020-01-01   \n",
       "67          NO2   209  Bensonhurst - Bay Ridge           Año  2020-01-01   \n",
       "\n",
       "    mcg/m3  \n",
       "5    33.19  \n",
       "40   37.06  \n",
       "67   30.36  "
      ]
     },
     "execution_count": 399,
     "metadata": {},
     "output_type": "execute_result"
    }
   ],
   "source": [
    "# Creamos el dataframe con los datos de cada uno las 34 zonas de planificación de servicios de salud, sin embargo esta información no la usaremos.\n",
    "dfAQUHF34 = dfAirQuality.loc[dfAirQuality[\"Division\"].str.contains(\"UHF34\")].copy()\n",
    "dfAQUHF34.drop(columns=[\"Division\"], axis=1, inplace=True)\n",
    "dfAQUHF34.head(3)"
   ]
  },
  {
   "cell_type": "code",
   "execution_count": 400,
   "metadata": {},
   "outputs": [
    {
     "data": {
      "text/html": [
       "<div>\n",
       "<style scoped>\n",
       "    .dataframe tbody tr th:only-of-type {\n",
       "        vertical-align: middle;\n",
       "    }\n",
       "\n",
       "    .dataframe tbody tr th {\n",
       "        vertical-align: top;\n",
       "    }\n",
       "\n",
       "    .dataframe thead th {\n",
       "        text-align: right;\n",
       "    }\n",
       "</style>\n",
       "<table border=\"1\" class=\"dataframe\">\n",
       "  <thead>\n",
       "    <tr style=\"text-align: right;\">\n",
       "      <th></th>\n",
       "      <th>Contaminante</th>\n",
       "      <th>IdLoc</th>\n",
       "      <th>NombreLugar</th>\n",
       "      <th>PeriodoTiempo</th>\n",
       "      <th>FechaInicio</th>\n",
       "      <th>mcg/m3</th>\n",
       "    </tr>\n",
       "  </thead>\n",
       "  <tbody>\n",
       "    <tr>\n",
       "      <th>12</th>\n",
       "      <td>NO2</td>\n",
       "      <td>106</td>\n",
       "      <td>High Bridge - Morrisania</td>\n",
       "      <td>Año</td>\n",
       "      <td>2021-01-01</td>\n",
       "      <td>36.98</td>\n",
       "    </tr>\n",
       "    <tr>\n",
       "      <th>18</th>\n",
       "      <td>NO2</td>\n",
       "      <td>410</td>\n",
       "      <td>Rockaways</td>\n",
       "      <td>Año</td>\n",
       "      <td>2021-01-01</td>\n",
       "      <td>23.39</td>\n",
       "    </tr>\n",
       "    <tr>\n",
       "      <th>43</th>\n",
       "      <td>NO2</td>\n",
       "      <td>107</td>\n",
       "      <td>Hunts Point - Mott Haven</td>\n",
       "      <td>Año</td>\n",
       "      <td>2021-01-01</td>\n",
       "      <td>37.97</td>\n",
       "    </tr>\n",
       "  </tbody>\n",
       "</table>\n",
       "</div>"
      ],
      "text/plain": [
       "   Contaminante IdLoc               NombreLugar PeriodoTiempo FechaInicio  \\\n",
       "12          NO2   106  High Bridge - Morrisania           Año  2021-01-01   \n",
       "18          NO2   410                 Rockaways           Año  2021-01-01   \n",
       "43          NO2   107  Hunts Point - Mott Haven           Año  2021-01-01   \n",
       "\n",
       "    mcg/m3  \n",
       "12   36.98  \n",
       "18   23.39  \n",
       "43   37.97  "
      ]
     },
     "execution_count": 400,
     "metadata": {},
     "output_type": "execute_result"
    }
   ],
   "source": [
    "# Creamos el dataframe con los datos de cada una de las 42 zonas de planificación de servicios de salud, sin embargo esta información no la usaremos.\n",
    "dfAQUHF42 = dfAirQuality.loc[dfAirQuality[\"Division\"].str.contains(\"UHF42\")].copy()\n",
    "dfAQUHF42.drop(columns=[\"Division\"], axis=1, inplace=True)\n",
    "dfAQUHF42.head(3)"
   ]
  },
  {
   "cell_type": "markdown",
   "metadata": {},
   "source": [
    "**Dataframe Distritos Comunitarios**\n",
    "\n",
    "1. *Este dataframe contiene los medidas generales de los 59 Distritos Comunitarios que existen en la ciudad que agrupan un conjunto de barrios en cuanto a niveles de contaminantes en el aire.*\n",
    "2. *Eliminamos las columnas que no son necesarias*\n",
    "3. *Creamos un dataframe con la información de cada uno de los distritos.*\n",
    "4. *Hacemos cambios en la estructura del dataframe.*"
   ]
  },
  {
   "cell_type": "code",
   "execution_count": 401,
   "metadata": {},
   "outputs": [
    {
     "data": {
      "text/html": [
       "<div>\n",
       "<style scoped>\n",
       "    .dataframe tbody tr th:only-of-type {\n",
       "        vertical-align: middle;\n",
       "    }\n",
       "\n",
       "    .dataframe tbody tr th {\n",
       "        vertical-align: top;\n",
       "    }\n",
       "\n",
       "    .dataframe thead th {\n",
       "        text-align: right;\n",
       "    }\n",
       "</style>\n",
       "<table border=\"1\" class=\"dataframe\">\n",
       "  <thead>\n",
       "    <tr style=\"text-align: right;\">\n",
       "      <th></th>\n",
       "      <th>Contaminante</th>\n",
       "      <th>IdLoc</th>\n",
       "      <th>NombreLugar</th>\n",
       "      <th>PeriodoTiempo</th>\n",
       "      <th>FechaInicio</th>\n",
       "      <th>mcg/m3</th>\n",
       "    </tr>\n",
       "  </thead>\n",
       "  <tbody>\n",
       "    <tr>\n",
       "      <th>21</th>\n",
       "      <td>NO2</td>\n",
       "      <td>101</td>\n",
       "      <td>Financial District (CD1)</td>\n",
       "      <td>Año</td>\n",
       "      <td>2021-01-01</td>\n",
       "      <td>44.30</td>\n",
       "    </tr>\n",
       "    <tr>\n",
       "      <th>26</th>\n",
       "      <td>NO2</td>\n",
       "      <td>402</td>\n",
       "      <td>Woodside and Sunnyside (CD2)</td>\n",
       "      <td>Año</td>\n",
       "      <td>2021-01-01</td>\n",
       "      <td>41.43</td>\n",
       "    </tr>\n",
       "    <tr>\n",
       "      <th>82</th>\n",
       "      <td>NO2</td>\n",
       "      <td>108</td>\n",
       "      <td>Upper East Side (CD8)</td>\n",
       "      <td>Año</td>\n",
       "      <td>2021-01-01</td>\n",
       "      <td>41.76</td>\n",
       "    </tr>\n",
       "  </tbody>\n",
       "</table>\n",
       "</div>"
      ],
      "text/plain": [
       "   Contaminante IdLoc                   NombreLugar PeriodoTiempo FechaInicio  \\\n",
       "21          NO2   101      Financial District (CD1)           Año  2021-01-01   \n",
       "26          NO2   402  Woodside and Sunnyside (CD2)           Año  2021-01-01   \n",
       "82          NO2   108         Upper East Side (CD8)           Año  2021-01-01   \n",
       "\n",
       "    mcg/m3  \n",
       "21   44.30  \n",
       "26   41.43  \n",
       "82   41.76  "
      ]
     },
     "execution_count": 401,
     "metadata": {},
     "output_type": "execute_result"
    }
   ],
   "source": [
    "# Creamos el dataframe con los datos de cada uno de los 59 Distritos Comunitarios\n",
    "dfAQCD = dfAirQuality.loc[dfAirQuality['Division'].str.contains(\"CD\")].copy()\n",
    "dfAQCD.drop(columns=[\"Division\"], axis=1, inplace=True)\n",
    "dfAQCD.head(3)"
   ]
  },
  {
   "cell_type": "code",
   "execution_count": 402,
   "metadata": {},
   "outputs": [],
   "source": [
    "# Creamos un dataframe que contenga los códigos de cada Distrito Comunitario y su nombre, eliminando los parentesis.\n",
    "dfCD = dfAQCD[[\"IdLoc\", \"NombreLugar\"]].drop_duplicates().sort_values(by=\"IdLoc\")\n",
    "dfCD.rename(columns={\"IdLoc\": \"IdCD\", \"NombreLugar\": \"Nombre\"}, inplace=True)\n",
    "dfCD['Nombre'] = dfCD['Nombre'].str.replace(r\"\\(.*\\)\", \"\", regex=True)\n",
    "dfCD[\"IdCD\"] = dfCD[\"IdCD\"].astype(int)"
   ]
  },
  {
   "cell_type": "code",
   "execution_count": 403,
   "metadata": {},
   "outputs": [],
   "source": [
    "# Eliminamos la columna nombre lugar, ya que no será necesaria.\n",
    "\n",
    "dfAQCD.drop(columns=[\"NombreLugar\"], axis=1, inplace=True)"
   ]
  },
  {
   "cell_type": "code",
   "execution_count": 404,
   "metadata": {},
   "outputs": [],
   "source": [
    "# Reordenamos el dataframe para mejorar la lectura del mismo y cambiamos el nombre de la columna Id\n",
    "\n",
    "dfAQCD = dfAQCD.reindex(columns=[\"IdLoc\", \"FechaInicio\", \"PeriodoTiempo\", \"Contaminante\", \"mcg/m3\" ])\n",
    "dfAQCD.rename(columns={\"IdLoc\": \"IdCD\"}, inplace=True)\n",
    "dfAQCD.sort_values(by=[\"IdCD\", \"FechaInicio\"], inplace=True)\n",
    "dfAQCD[\"IdCD\"] = dfAQCD[\"IdCD\"].astype(int)"
   ]
  },
  {
   "cell_type": "code",
   "execution_count": 407,
   "metadata": {},
   "outputs": [
    {
     "data": {
      "text/html": [
       "<div>\n",
       "<style scoped>\n",
       "    .dataframe tbody tr th:only-of-type {\n",
       "        vertical-align: middle;\n",
       "    }\n",
       "\n",
       "    .dataframe tbody tr th {\n",
       "        vertical-align: top;\n",
       "    }\n",
       "\n",
       "    .dataframe thead th {\n",
       "        text-align: right;\n",
       "    }\n",
       "</style>\n",
       "<table border=\"1\" class=\"dataframe\">\n",
       "  <thead>\n",
       "    <tr style=\"text-align: right;\">\n",
       "      <th></th>\n",
       "      <th>IdCD</th>\n",
       "      <th>FechaInicio</th>\n",
       "      <th>PeriodoTiempo</th>\n",
       "      <th>Contaminante</th>\n",
       "      <th>mcg/m3</th>\n",
       "    </tr>\n",
       "  </thead>\n",
       "  <tbody>\n",
       "    <tr>\n",
       "      <th>12788</th>\n",
       "      <td>101</td>\n",
       "      <td>2019-01-01</td>\n",
       "      <td>Año</td>\n",
       "      <td>NO2</td>\n",
       "      <td>49.81</td>\n",
       "    </tr>\n",
       "    <tr>\n",
       "      <th>13171</th>\n",
       "      <td>101</td>\n",
       "      <td>2019-01-01</td>\n",
       "      <td>Año</td>\n",
       "      <td>PM 2.5</td>\n",
       "      <td>8.42</td>\n",
       "    </tr>\n",
       "    <tr>\n",
       "      <th>12947</th>\n",
       "      <td>101</td>\n",
       "      <td>2019-06-01</td>\n",
       "      <td>Verano</td>\n",
       "      <td>O3</td>\n",
       "      <td>49.14</td>\n",
       "    </tr>\n",
       "    <tr>\n",
       "      <th>12951</th>\n",
       "      <td>101</td>\n",
       "      <td>2019-06-01</td>\n",
       "      <td>Verano</td>\n",
       "      <td>NO2</td>\n",
       "      <td>44.13</td>\n",
       "    </tr>\n",
       "    <tr>\n",
       "      <th>13346</th>\n",
       "      <td>101</td>\n",
       "      <td>2019-06-01</td>\n",
       "      <td>Verano</td>\n",
       "      <td>PM 2.5</td>\n",
       "      <td>9.69</td>\n",
       "    </tr>\n",
       "    <tr>\n",
       "      <th>...</th>\n",
       "      <td>...</td>\n",
       "      <td>...</td>\n",
       "      <td>...</td>\n",
       "      <td>...</td>\n",
       "      <td>...</td>\n",
       "    </tr>\n",
       "    <tr>\n",
       "      <th>1594</th>\n",
       "      <td>503</td>\n",
       "      <td>2021-01-01</td>\n",
       "      <td>Año</td>\n",
       "      <td>PM 2.5</td>\n",
       "      <td>6.03</td>\n",
       "    </tr>\n",
       "    <tr>\n",
       "      <th>4821</th>\n",
       "      <td>503</td>\n",
       "      <td>2021-01-01</td>\n",
       "      <td>Año</td>\n",
       "      <td>NO2</td>\n",
       "      <td>22.80</td>\n",
       "    </tr>\n",
       "    <tr>\n",
       "      <th>4165</th>\n",
       "      <td>503</td>\n",
       "      <td>2021-06-01</td>\n",
       "      <td>Verano</td>\n",
       "      <td>O3</td>\n",
       "      <td>59.85</td>\n",
       "    </tr>\n",
       "    <tr>\n",
       "      <th>4176</th>\n",
       "      <td>503</td>\n",
       "      <td>2021-06-01</td>\n",
       "      <td>Verano</td>\n",
       "      <td>PM 2.5</td>\n",
       "      <td>7.58</td>\n",
       "    </tr>\n",
       "    <tr>\n",
       "      <th>4397</th>\n",
       "      <td>503</td>\n",
       "      <td>2021-06-01</td>\n",
       "      <td>Verano</td>\n",
       "      <td>NO2</td>\n",
       "      <td>9.66</td>\n",
       "    </tr>\n",
       "  </tbody>\n",
       "</table>\n",
       "<p>1121 rows × 5 columns</p>\n",
       "</div>"
      ],
      "text/plain": [
       "       IdCD FechaInicio PeriodoTiempo Contaminante  mcg/m3\n",
       "12788   101  2019-01-01           Año          NO2   49.81\n",
       "13171   101  2019-01-01           Año       PM 2.5    8.42\n",
       "12947   101  2019-06-01        Verano           O3   49.14\n",
       "12951   101  2019-06-01        Verano          NO2   44.13\n",
       "13346   101  2019-06-01        Verano       PM 2.5    9.69\n",
       "...     ...         ...           ...          ...     ...\n",
       "1594    503  2021-01-01           Año       PM 2.5    6.03\n",
       "4821    503  2021-01-01           Año          NO2   22.80\n",
       "4165    503  2021-06-01        Verano           O3   59.85\n",
       "4176    503  2021-06-01        Verano       PM 2.5    7.58\n",
       "4397    503  2021-06-01        Verano          NO2    9.66\n",
       "\n",
       "[1121 rows x 5 columns]"
      ]
     },
     "execution_count": 407,
     "metadata": {},
     "output_type": "execute_result"
    }
   ],
   "source": [
    "dfAQCD"
   ]
  },
  {
   "cell_type": "markdown",
   "metadata": {},
   "source": [
    "#### **Exportación de los datos** ####\n",
    "\n",
    "*Realizamos la exportación de los dataframes a formato .arrow*\n",
    "\n",
    "1. *Convertimos el dataframe a polars*\n",
    "2. *Convertimos el dataframe de polar a un objeto arrow*"
   ]
  },
  {
   "cell_type": "code",
   "execution_count": 408,
   "metadata": {},
   "outputs": [],
   "source": [
    "# Convertimos el dataframe Air Quality New York City\n",
    "dfAQNYC = pl.from_pandas(dfAQNYC)\n",
    "arrowAQNYC = dfAQNYC.to_arrow()\n",
    "pq.write_table(arrowAQNYC, '../datasets/processed/aq_NYC.arrow')"
   ]
  },
  {
   "cell_type": "code",
   "execution_count": 409,
   "metadata": {},
   "outputs": [],
   "source": [
    "# Convertimos el dataframe Air Quality Boroughs\n",
    "dfAQBoroughs = pl.from_pandas(dfAQBoroughs)\n",
    "arrowAQBoroughs = dfAQBoroughs.to_arrow()\n",
    "pq.write_table(arrowAQBoroughs, '../datasets/processed/aq_boroughs.arrow')"
   ]
  },
  {
   "cell_type": "code",
   "execution_count": 410,
   "metadata": {},
   "outputs": [],
   "source": [
    "# Convertimos el dataframe Boroughs\n",
    "dfBor = pl.from_pandas(dfBor)\n",
    "arrowBor = dfBor.to_arrow()\n",
    "pq.write_table(arrowBor, '../datasets/processed/boroughs.arrow')"
   ]
  },
  {
   "cell_type": "code",
   "execution_count": 411,
   "metadata": {},
   "outputs": [],
   "source": [
    "# Convertimos el dataframe Air Quality Community Districts\n",
    "dfAQCD = pl.from_pandas(dfAQCD)\n",
    "arrowAQCD = dfAQCD.to_arrow()\n",
    "pq.write_table(arrowAQCD, '../datasets/processed/aq_cd.arrow')"
   ]
  },
  {
   "cell_type": "code",
   "execution_count": 412,
   "metadata": {},
   "outputs": [],
   "source": [
    "# Convertimos el dataframe Community Districts\n",
    "dfCD = pl.from_pandas(dfCD)\n",
    "arrowCD = dfCD.to_arrow()\n",
    "pq.write_table(arrowCD, '../datasets/processed/community_districts.arrow')"
   ]
  }
 ],
 "metadata": {
  "kernelspec": {
   "display_name": "pfenv",
   "language": "python",
   "name": "python3"
  },
  "language_info": {
   "codemirror_mode": {
    "name": "ipython",
    "version": 3
   },
   "file_extension": ".py",
   "mimetype": "text/x-python",
   "name": "python",
   "nbconvert_exporter": "python",
   "pygments_lexer": "ipython3",
   "version": "3.11.8"
  }
 },
 "nbformat": 4,
 "nbformat_minor": 2
}
