{
 "cells": [
  {
   "cell_type": "markdown",
   "metadata": {},
   "source": [
    "# Preparación de datos\n",
    "## Importar bibliotecas"
   ]
  },
  {
   "cell_type": "code",
   "execution_count": 1,
   "metadata": {},
   "outputs": [],
   "source": [
    "import os\n",
    "import polars as pl\n",
    "import polars.selectors as cs\n",
    "import pandas as pd\n",
    "from datetime import date, time\n",
    "import numpy as np\n",
    "import pyarrow.parquet as pq"
   ]
  },
  {
   "cell_type": "code",
   "execution_count": 2,
   "metadata": {},
   "outputs": [],
   "source": [
    "# from os import listdir\n",
    "# from os.path import isfile, join"
   ]
  },
  {
   "cell_type": "code",
   "execution_count": 3,
   "metadata": {},
   "outputs": [],
   "source": [
    "\n",
    "\n",
    "# Ruta al directorio que contiene los archivos Parquet\n",
    "directorio = \"..\\\\datasets\\\\raw\\\\\"\n",
    "\n",
    "# Obtener la lista de archivos en el directorio\n",
    "archivos_parquet = [f for f in os.listdir(directorio) if os.path.isfile(os.path.join(directorio, f)) and f.endswith('.parquet')]\n",
    "\n",
    "# Crear un diccionario para almacenar los DataFrames de Polars\n",
    "diccionario_dataframes = {}\n",
    "\n",
    "# Iterar sobre los archivos Parquet\n",
    "for archivo in archivos_parquet:\n",
    "    # Verificar si el archivo contiene \"yellow\", \".parquet\" y \"2023\" en su nombre\n",
    "    if 'yellow' in archivo and '.parquet' in archivo and '2022' in archivo:\n",
    "        # Obtener el mes del archivo\n",
    "        mes = archivo.split('_')[2].split('-')[1].split('.')[0]  # Extraer el mes del nombre del archivo\n",
    "        \n",
    "        # Construir la ruta completa al archivo\n",
    "        ruta_archivo = os.path.join(directorio, archivo)\n",
    "        \n",
    "        # Leer el archivo Parquet en un DataFrame de Polars\n",
    "        df = pl.read_parquet(ruta_archivo)\n",
    "        \n",
    "        # Agregar el DataFrame al diccionario utilizando el nombre del archivo como clave\n",
    "        diccionario_dataframes[mes] = df\n",
    "\n",
    "# Ahora el diccionario 'diccionario_dataframes' contiene un DataFrame por mes para el año 2023\n",
    "# de los archivos Parquet que contienen \"yellow\" en su nombre.\n"
   ]
  },
  {
   "cell_type": "code",
   "execution_count": 4,
   "metadata": {},
   "outputs": [
    {
     "name": "stdout",
     "output_type": "stream",
     "text": [
      "Información del DataFrame '01':\n",
      "Cantidad de registros : 2463931 Cantidad de las Columnas : 19\n",
      "Schema\n",
      "\n",
      "\n",
      "Información del DataFrame '02':\n",
      "Cantidad de registros : 2979431 Cantidad de las Columnas : 19\n",
      "Schema\n",
      "\n",
      "\n",
      "Información del DataFrame '03':\n",
      "Cantidad de registros : 3627882 Cantidad de las Columnas : 19\n",
      "Schema\n",
      "\n",
      "\n",
      "Información del DataFrame '04':\n",
      "Cantidad de registros : 3599920 Cantidad de las Columnas : 19\n",
      "Schema\n",
      "\n",
      "\n",
      "Información del DataFrame '05':\n",
      "Cantidad de registros : 3588295 Cantidad de las Columnas : 19\n",
      "Schema\n",
      "\n",
      "\n",
      "Información del DataFrame '06':\n",
      "Cantidad de registros : 3558124 Cantidad de las Columnas : 19\n",
      "Schema\n",
      "\n",
      "\n",
      "Información del DataFrame '07':\n",
      "Cantidad de registros : 3174394 Cantidad de las Columnas : 19\n",
      "Schema\n",
      "\n",
      "\n",
      "Información del DataFrame '08':\n",
      "Cantidad de registros : 3152677 Cantidad de las Columnas : 19\n",
      "Schema\n",
      "\n",
      "\n",
      "Información del DataFrame '09':\n",
      "Cantidad de registros : 3183767 Cantidad de las Columnas : 19\n",
      "Schema\n",
      "\n",
      "\n",
      "Información del DataFrame '10':\n",
      "Cantidad de registros : 3675411 Cantidad de las Columnas : 19\n",
      "Schema\n",
      "\n",
      "\n",
      "Información del DataFrame '11':\n",
      "Cantidad de registros : 3252717 Cantidad de las Columnas : 19\n",
      "Schema\n",
      "\n",
      "\n",
      "Información del DataFrame '12':\n",
      "Cantidad de registros : 3399549 Cantidad de las Columnas : 19\n",
      "Schema\n",
      "\n",
      "\n"
     ]
    }
   ],
   "source": [
    "# Iterar sobre el diccionario de dataframes\n",
    "for nombre, df in diccionario_dataframes.items():\n",
    "    print(f\"Información del DataFrame '{nombre}':\")\n",
    "    print(\"Cantidad de registros :\", len(df), \"Cantidad de las Columnas :\", len(df.columns))\n",
    "    print(\"Schema\")\n",
    "    #print(df.schema)\n",
    "    print(\"\\n\")"
   ]
  },
  {
   "cell_type": "code",
   "execution_count": null,
   "metadata": {},
   "outputs": [],
   "source": []
  },
  {
   "cell_type": "code",
   "execution_count": 5,
   "metadata": {},
   "outputs": [
    {
     "data": {
      "text/plain": [
       "'\\n# Tomar el primer DataFrame del diccionario\\nprimer_df = next(iter(diccionario_dataframes.values()))\\n\\n# Definir un nuevo esquema con los tipos de datos y nombres de columna deseados\\nnuevo_esquema = {\\n    \"VendorID\": pl.Int32,\\n    \"tpep_pickup_datetime\": pl.Datetime(time_unit=\\'ns\\', time_zone=None),\\n    \"tpep_dropoff_datetime\": pl.Datetime(time_unit=\\'ns\\', time_zone=None),\\n    \"passenger_count\": pl.Int64,\\n    \"trip_distance\": pl.Float64,\\n    \"RatecodeID\": pl.Int64,\\n    \"store_and_fwd_flag\": pl.String,\\n    \"PULocationID\": pl.Int32,\\n    \"DOLocationID\": pl.Int32,\\n    \"payment_type\": pl.Int64,\\n    \"fare_amount\": pl.Float64,\\n    \"extra\": pl.Float64,\\n    \"mta_tax\": pl.Float64,\\n    \"tip_amount\": pl.Float64,\\n    \"tolls_amount\": pl.Float64,\\n    \"improvement_surcharge\": pl.Float64,\\n    \"total_amount\": pl.Float64,\\n    \"congestion_surcharge\": pl.Float64,\\n    \"airport_fee\": pl.Float64,  # He cambiado el nombre de la columna a \"airport_fee\"\\n}\\n\\n# Renombrar las columnas y cambiar los tipos de datos del DataFrame\\ndf = primer_df.select([\\n    pl.col(col).cast(dtype).alias(col) for col, dtype in nuevo_esquema.items()\\n])\\n\\n# Cambiar el nombre de la columna \"airport_fee\" a \"Airport_fee\"\\ndf = df.with_columns(primer_df[\\'airport_fee\\'].alias(\\'Airport_fee\\'))\\ndf = df.drop(\\'airport_fee\\')\\n# Reemplazar el DataFrame original en el diccionario con el DataFrame modificado\\nnombre_clave = next(iter(diccionario_dataframes))  # Obtener la clave del primer DataFrame\\ndiccionario_dataframes[nombre_clave] = df\\n\\n# Verificar el resultado\\nprint(diccionario_dataframes[nombre_clave].schema)\\n\\n'"
      ]
     },
     "execution_count": 5,
     "metadata": {},
     "output_type": "execute_result"
    }
   ],
   "source": [
    "# Supongamos que diccionario_dataframes es tu diccionario que contiene los DataFrames\n",
    "# Reemplaza diccionario_dataframes con el nombre de tu diccionario\n",
    "\"\"\"\n",
    "# Tomar el primer DataFrame del diccionario\n",
    "primer_df = next(iter(diccionario_dataframes.values()))\n",
    "\n",
    "# Definir un nuevo esquema con los tipos de datos y nombres de columna deseados\n",
    "nuevo_esquema = {\n",
    "    \"VendorID\": pl.Int32,\n",
    "    \"tpep_pickup_datetime\": pl.Datetime(time_unit='ns', time_zone=None),\n",
    "    \"tpep_dropoff_datetime\": pl.Datetime(time_unit='ns', time_zone=None),\n",
    "    \"passenger_count\": pl.Int64,\n",
    "    \"trip_distance\": pl.Float64,\n",
    "    \"RatecodeID\": pl.Int64,\n",
    "    \"store_and_fwd_flag\": pl.String,\n",
    "    \"PULocationID\": pl.Int32,\n",
    "    \"DOLocationID\": pl.Int32,\n",
    "    \"payment_type\": pl.Int64,\n",
    "    \"fare_amount\": pl.Float64,\n",
    "    \"extra\": pl.Float64,\n",
    "    \"mta_tax\": pl.Float64,\n",
    "    \"tip_amount\": pl.Float64,\n",
    "    \"tolls_amount\": pl.Float64,\n",
    "    \"improvement_surcharge\": pl.Float64,\n",
    "    \"total_amount\": pl.Float64,\n",
    "    \"congestion_surcharge\": pl.Float64,\n",
    "    \"airport_fee\": pl.Float64,  # He cambiado el nombre de la columna a \"airport_fee\"\n",
    "}\n",
    "\n",
    "# Renombrar las columnas y cambiar los tipos de datos del DataFrame\n",
    "df = primer_df.select([\n",
    "    pl.col(col).cast(dtype).alias(col) for col, dtype in nuevo_esquema.items()\n",
    "])\n",
    "\n",
    "# Cambiar el nombre de la columna \"airport_fee\" a \"Airport_fee\"\n",
    "df = df.with_columns(primer_df['airport_fee'].alias('Airport_fee'))\n",
    "df = df.drop('airport_fee')\n",
    "# Reemplazar el DataFrame original en el diccionario con el DataFrame modificado\n",
    "nombre_clave = next(iter(diccionario_dataframes))  # Obtener la clave del primer DataFrame\n",
    "diccionario_dataframes[nombre_clave] = df\n",
    "\n",
    "# Verificar el resultado\n",
    "print(diccionario_dataframes[nombre_clave].schema)\n",
    "\n",
    "\"\"\""
   ]
  },
  {
   "cell_type": "code",
   "execution_count": 6,
   "metadata": {},
   "outputs": [],
   "source": [
    "# Iterar sobre el diccionario de dataframes\n",
    "# for nombre, df in diccionario_dataframes.items():\n",
    "#     print(f\"Información del DataFrame '{nombre}':\")\n",
    "#     print(\"Cantidad de registros :\", len(df), \"Cantidad de las Columnas :\", len(df.columns))\n",
    "#     print(\"Schema\")\n",
    "#     print(df.schema)\n",
    "#     print(\"\\n\")"
   ]
  },
  {
   "cell_type": "code",
   "execution_count": 7,
   "metadata": {},
   "outputs": [],
   "source": [
    "# Ahora que todos los DataFrames tienen las mismas columnas, puedes proceder a concatenarlos.\n",
    "dataframes = list(diccionario_dataframes.values())\n",
    "\n",
    "# Concatenar verticalmente todos los DataFrames\n",
    "df_concatenado = pl.concat(dataframes)"
   ]
  },
  {
   "cell_type": "code",
   "execution_count": 8,
   "metadata": {},
   "outputs": [
    {
     "data": {
      "text/plain": [
       "(39656098, 19)"
      ]
     },
     "execution_count": 8,
     "metadata": {},
     "output_type": "execute_result"
    }
   ],
   "source": [
    "df_concatenado.shape"
   ]
  },
  {
   "cell_type": "code",
   "execution_count": 9,
   "metadata": {},
   "outputs": [
    {
     "data": {
      "text/plain": [
       "OrderedDict([('VendorID', Int64),\n",
       "             ('tpep_pickup_datetime',\n",
       "              Datetime(time_unit='ns', time_zone=None)),\n",
       "             ('tpep_dropoff_datetime',\n",
       "              Datetime(time_unit='ns', time_zone=None)),\n",
       "             ('passenger_count', Float64),\n",
       "             ('trip_distance', Float64),\n",
       "             ('RatecodeID', Float64),\n",
       "             ('store_and_fwd_flag', String),\n",
       "             ('PULocationID', Int64),\n",
       "             ('DOLocationID', Int64),\n",
       "             ('payment_type', Int64),\n",
       "             ('fare_amount', Float64),\n",
       "             ('extra', Float64),\n",
       "             ('mta_tax', Float64),\n",
       "             ('tip_amount', Float64),\n",
       "             ('tolls_amount', Float64),\n",
       "             ('improvement_surcharge', Float64),\n",
       "             ('total_amount', Float64),\n",
       "             ('congestion_surcharge', Float64),\n",
       "             ('airport_fee', Float64)])"
      ]
     },
     "execution_count": 9,
     "metadata": {},
     "output_type": "execute_result"
    }
   ],
   "source": [
    "df_concatenado.schema"
   ]
  },
  {
   "cell_type": "code",
   "execution_count": 10,
   "metadata": {},
   "outputs": [
    {
     "data": {
      "text/html": [
       "<div><style>\n",
       ".dataframe > thead > tr,\n",
       ".dataframe > tbody > tr {\n",
       "  text-align: right;\n",
       "  white-space: pre-wrap;\n",
       "}\n",
       "</style>\n",
       "<small>shape: (5, 19)</small><table border=\"1\" class=\"dataframe\"><thead><tr><th>VendorID</th><th>tpep_pickup_datetime</th><th>tpep_dropoff_datetime</th><th>passenger_count</th><th>trip_distance</th><th>RatecodeID</th><th>store_and_fwd_flag</th><th>PULocationID</th><th>DOLocationID</th><th>payment_type</th><th>fare_amount</th><th>extra</th><th>mta_tax</th><th>tip_amount</th><th>tolls_amount</th><th>improvement_surcharge</th><th>total_amount</th><th>congestion_surcharge</th><th>airport_fee</th></tr><tr><td>i64</td><td>datetime[ns]</td><td>datetime[ns]</td><td>f64</td><td>f64</td><td>f64</td><td>str</td><td>i64</td><td>i64</td><td>i64</td><td>f64</td><td>f64</td><td>f64</td><td>f64</td><td>f64</td><td>f64</td><td>f64</td><td>f64</td><td>f64</td></tr></thead><tbody><tr><td>1</td><td>2022-01-01 00:35:40</td><td>2022-01-01 00:53:29</td><td>2.0</td><td>3.8</td><td>1.0</td><td>&quot;N&quot;</td><td>142</td><td>236</td><td>1</td><td>14.5</td><td>3.0</td><td>0.5</td><td>3.65</td><td>0.0</td><td>0.3</td><td>21.95</td><td>2.5</td><td>0.0</td></tr><tr><td>1</td><td>2022-01-01 00:33:43</td><td>2022-01-01 00:42:07</td><td>1.0</td><td>2.1</td><td>1.0</td><td>&quot;N&quot;</td><td>236</td><td>42</td><td>1</td><td>8.0</td><td>0.5</td><td>0.5</td><td>4.0</td><td>0.0</td><td>0.3</td><td>13.3</td><td>0.0</td><td>0.0</td></tr><tr><td>2</td><td>2022-01-01 00:53:21</td><td>2022-01-01 01:02:19</td><td>1.0</td><td>0.97</td><td>1.0</td><td>&quot;N&quot;</td><td>166</td><td>166</td><td>1</td><td>7.5</td><td>0.5</td><td>0.5</td><td>1.76</td><td>0.0</td><td>0.3</td><td>10.56</td><td>0.0</td><td>0.0</td></tr><tr><td>2</td><td>2022-01-01 00:25:21</td><td>2022-01-01 00:35:23</td><td>1.0</td><td>1.09</td><td>1.0</td><td>&quot;N&quot;</td><td>114</td><td>68</td><td>2</td><td>8.0</td><td>0.5</td><td>0.5</td><td>0.0</td><td>0.0</td><td>0.3</td><td>11.8</td><td>2.5</td><td>0.0</td></tr><tr><td>2</td><td>2022-01-01 00:36:48</td><td>2022-01-01 01:14:20</td><td>1.0</td><td>4.3</td><td>1.0</td><td>&quot;N&quot;</td><td>68</td><td>163</td><td>1</td><td>23.5</td><td>0.5</td><td>0.5</td><td>3.0</td><td>0.0</td><td>0.3</td><td>30.3</td><td>2.5</td><td>0.0</td></tr></tbody></table></div>"
      ],
      "text/plain": [
       "shape: (5, 19)\n",
       "┌──────────┬───────────┬───────────┬───────────┬───┬───────────┬───────────┬───────────┬───────────┐\n",
       "│ VendorID ┆ tpep_pick ┆ tpep_drop ┆ passenger ┆ … ┆ improveme ┆ total_amo ┆ congestio ┆ airport_f │\n",
       "│ ---      ┆ up_dateti ┆ off_datet ┆ _count    ┆   ┆ nt_surcha ┆ unt       ┆ n_surchar ┆ ee        │\n",
       "│ i64      ┆ me        ┆ ime       ┆ ---       ┆   ┆ rge       ┆ ---       ┆ ge        ┆ ---       │\n",
       "│          ┆ ---       ┆ ---       ┆ f64       ┆   ┆ ---       ┆ f64       ┆ ---       ┆ f64       │\n",
       "│          ┆ datetime[ ┆ datetime[ ┆           ┆   ┆ f64       ┆           ┆ f64       ┆           │\n",
       "│          ┆ ns]       ┆ ns]       ┆           ┆   ┆           ┆           ┆           ┆           │\n",
       "╞══════════╪═══════════╪═══════════╪═══════════╪═══╪═══════════╪═══════════╪═══════════╪═══════════╡\n",
       "│ 1        ┆ 2022-01-0 ┆ 2022-01-0 ┆ 2.0       ┆ … ┆ 0.3       ┆ 21.95     ┆ 2.5       ┆ 0.0       │\n",
       "│          ┆ 1         ┆ 1         ┆           ┆   ┆           ┆           ┆           ┆           │\n",
       "│          ┆ 00:35:40  ┆ 00:53:29  ┆           ┆   ┆           ┆           ┆           ┆           │\n",
       "│ 1        ┆ 2022-01-0 ┆ 2022-01-0 ┆ 1.0       ┆ … ┆ 0.3       ┆ 13.3      ┆ 0.0       ┆ 0.0       │\n",
       "│          ┆ 1         ┆ 1         ┆           ┆   ┆           ┆           ┆           ┆           │\n",
       "│          ┆ 00:33:43  ┆ 00:42:07  ┆           ┆   ┆           ┆           ┆           ┆           │\n",
       "│ 2        ┆ 2022-01-0 ┆ 2022-01-0 ┆ 1.0       ┆ … ┆ 0.3       ┆ 10.56     ┆ 0.0       ┆ 0.0       │\n",
       "│          ┆ 1         ┆ 1         ┆           ┆   ┆           ┆           ┆           ┆           │\n",
       "│          ┆ 00:53:21  ┆ 01:02:19  ┆           ┆   ┆           ┆           ┆           ┆           │\n",
       "│ 2        ┆ 2022-01-0 ┆ 2022-01-0 ┆ 1.0       ┆ … ┆ 0.3       ┆ 11.8      ┆ 2.5       ┆ 0.0       │\n",
       "│          ┆ 1         ┆ 1         ┆           ┆   ┆           ┆           ┆           ┆           │\n",
       "│          ┆ 00:25:21  ┆ 00:35:23  ┆           ┆   ┆           ┆           ┆           ┆           │\n",
       "│ 2        ┆ 2022-01-0 ┆ 2022-01-0 ┆ 1.0       ┆ … ┆ 0.3       ┆ 30.3      ┆ 2.5       ┆ 0.0       │\n",
       "│          ┆ 1         ┆ 1         ┆           ┆   ┆           ┆           ┆           ┆           │\n",
       "│          ┆ 00:36:48  ┆ 01:14:20  ┆           ┆   ┆           ┆           ┆           ┆           │\n",
       "└──────────┴───────────┴───────────┴───────────┴───┴───────────┴───────────┴───────────┴───────────┘"
      ]
     },
     "execution_count": 10,
     "metadata": {},
     "output_type": "execute_result"
    }
   ],
   "source": [
    "df_concatenado.head()"
   ]
  },
  {
   "cell_type": "code",
   "execution_count": 11,
   "metadata": {},
   "outputs": [
    {
     "data": {
      "text/html": [
       "<div><style>\n",
       ".dataframe > thead > tr,\n",
       ".dataframe > tbody > tr {\n",
       "  text-align: right;\n",
       "  white-space: pre-wrap;\n",
       "}\n",
       "</style>\n",
       "<small>shape: (1, 19)</small><table border=\"1\" class=\"dataframe\"><thead><tr><th>VendorID</th><th>tpep_pickup_datetime</th><th>tpep_dropoff_datetime</th><th>passenger_count</th><th>trip_distance</th><th>RatecodeID</th><th>store_and_fwd_flag</th><th>PULocationID</th><th>DOLocationID</th><th>payment_type</th><th>fare_amount</th><th>extra</th><th>mta_tax</th><th>tip_amount</th><th>tolls_amount</th><th>improvement_surcharge</th><th>total_amount</th><th>congestion_surcharge</th><th>airport_fee</th></tr><tr><td>u32</td><td>u32</td><td>u32</td><td>u32</td><td>u32</td><td>u32</td><td>u32</td><td>u32</td><td>u32</td><td>u32</td><td>u32</td><td>u32</td><td>u32</td><td>u32</td><td>u32</td><td>u32</td><td>u32</td><td>u32</td><td>u32</td></tr></thead><tbody><tr><td>0</td><td>0</td><td>0</td><td>1368303</td><td>0</td><td>1368303</td><td>1368303</td><td>0</td><td>0</td><td>0</td><td>0</td><td>0</td><td>0</td><td>0</td><td>0</td><td>0</td><td>0</td><td>1368303</td><td>1368303</td></tr></tbody></table></div>"
      ],
      "text/plain": [
       "shape: (1, 19)\n",
       "┌──────────┬───────────┬───────────┬───────────┬───┬───────────┬───────────┬───────────┬───────────┐\n",
       "│ VendorID ┆ tpep_pick ┆ tpep_drop ┆ passenger ┆ … ┆ improveme ┆ total_amo ┆ congestio ┆ airport_f │\n",
       "│ ---      ┆ up_dateti ┆ off_datet ┆ _count    ┆   ┆ nt_surcha ┆ unt       ┆ n_surchar ┆ ee        │\n",
       "│ u32      ┆ me        ┆ ime       ┆ ---       ┆   ┆ rge       ┆ ---       ┆ ge        ┆ ---       │\n",
       "│          ┆ ---       ┆ ---       ┆ u32       ┆   ┆ ---       ┆ u32       ┆ ---       ┆ u32       │\n",
       "│          ┆ u32       ┆ u32       ┆           ┆   ┆ u32       ┆           ┆ u32       ┆           │\n",
       "╞══════════╪═══════════╪═══════════╪═══════════╪═══╪═══════════╪═══════════╪═══════════╪═══════════╡\n",
       "│ 0        ┆ 0         ┆ 0         ┆ 1368303   ┆ … ┆ 0         ┆ 0         ┆ 1368303   ┆ 1368303   │\n",
       "└──────────┴───────────┴───────────┴───────────┴───┴───────────┴───────────┴───────────┴───────────┘"
      ]
     },
     "execution_count": 11,
     "metadata": {},
     "output_type": "execute_result"
    }
   ],
   "source": [
    "# Obtener el recuento de valores nulos como un objeto lazy\n",
    "lazy_result = df_concatenado.lazy().null_count()\n",
    "\n",
    "# Ejecutar la operación lazy y obtener el resultado\n",
    "result = lazy_result.collect()\n",
    "\n",
    "# Mostrar el resultado\n",
    "result"
   ]
  },
  {
   "cell_type": "code",
   "execution_count": 12,
   "metadata": {},
   "outputs": [
    {
     "data": {
      "text/html": [
       "<div><style>\n",
       ".dataframe > thead > tr,\n",
       ".dataframe > tbody > tr {\n",
       "  text-align: right;\n",
       "  white-space: pre-wrap;\n",
       "}\n",
       "</style>\n",
       "<small>shape: (9, 17)</small><table border=\"1\" class=\"dataframe\"><thead><tr><th>statistic</th><th>VendorID</th><th>passenger_count</th><th>trip_distance</th><th>RatecodeID</th><th>PULocationID</th><th>DOLocationID</th><th>payment_type</th><th>fare_amount</th><th>extra</th><th>mta_tax</th><th>tip_amount</th><th>tolls_amount</th><th>improvement_surcharge</th><th>total_amount</th><th>congestion_surcharge</th><th>airport_fee</th></tr><tr><td>str</td><td>f64</td><td>f64</td><td>f64</td><td>f64</td><td>f64</td><td>f64</td><td>f64</td><td>f64</td><td>f64</td><td>f64</td><td>f64</td><td>f64</td><td>f64</td><td>f64</td><td>f64</td><td>f64</td></tr></thead><tbody><tr><td>&quot;count&quot;</td><td>3.9656098e7</td><td>3.8287795e7</td><td>3.9656098e7</td><td>3.8287795e7</td><td>3.9656098e7</td><td>3.9656098e7</td><td>3.9656098e7</td><td>3.9656098e7</td><td>3.9656098e7</td><td>3.9656098e7</td><td>3.9656098e7</td><td>3.9656098e7</td><td>3.9656098e7</td><td>3.9656098e7</td><td>3.8287795e7</td><td>3.8287795e7</td></tr><tr><td>&quot;null_count&quot;</td><td>0.0</td><td>1.368303e6</td><td>0.0</td><td>1.368303e6</td><td>0.0</td><td>0.0</td><td>0.0</td><td>0.0</td><td>0.0</td><td>0.0</td><td>0.0</td><td>0.0</td><td>0.0</td><td>0.0</td><td>1.368303e6</td><td>1.368303e6</td></tr><tr><td>&quot;mean&quot;</td><td>1.721802</td><td>1.401149</td><td>5.959399</td><td>1.424172</td><td>164.865988</td><td>162.575201</td><td>1.18955</td><td>10.362822</td><td>1.007532</td><td>0.488806</td><td>7.234908</td><td>0.536283</td><td>0.316124</td><td>21.671268</td><td>2.281437</td><td>0.097419</td></tr><tr><td>&quot;std&quot;</td><td>0.480527</td><td>0.962894</td><td>599.190714</td><td>5.794343</td><td>65.310815</td><td>70.231459</td><td>0.519041</td><td>22328.299433</td><td>1.262564</td><td>0.093804</td><td>22328.083995</td><td>2.043351</td><td>0.129332</td><td>96.373602</td><td>0.751943</td><td>0.338539</td></tr><tr><td>&quot;min&quot;</td><td>1.0</td><td>0.0</td><td>0.0</td><td>1.0</td><td>1.0</td><td>1.0</td><td>0.0</td><td>-1.3339e8</td><td>-22.18</td><td>-0.55</td><td>-410.0</td><td>-99.99</td><td>-1.0</td><td>-2567.8</td><td>-2.5</td><td>-1.25</td></tr><tr><td>&quot;25%&quot;</td><td>1.0</td><td>1.0</td><td>1.1</td><td>1.0</td><td>132.0</td><td>113.0</td><td>1.0</td><td>7.0</td><td>0.0</td><td>0.5</td><td>0.93</td><td>0.0</td><td>0.3</td><td>12.3</td><td>2.5</td><td>0.0</td></tr><tr><td>&quot;50%&quot;</td><td>2.0</td><td>1.0</td><td>1.9</td><td>1.0</td><td>162.0</td><td>162.0</td><td>1.0</td><td>10.5</td><td>0.5</td><td>0.5</td><td>2.16</td><td>0.0</td><td>0.3</td><td>15.96</td><td>2.5</td><td>0.0</td></tr><tr><td>&quot;75%&quot;</td><td>2.0</td><td>1.0</td><td>3.56</td><td>1.0</td><td>234.0</td><td>234.0</td><td>1.0</td><td>16.5</td><td>2.5</td><td>0.5</td><td>3.36</td><td>0.0</td><td>0.3</td><td>23.16</td><td>2.5</td><td>0.0</td></tr><tr><td>&quot;max&quot;</td><td>6.0</td><td>9.0</td><td>389678.46</td><td>99.0</td><td>265.0</td><td>265.0</td><td>5.0</td><td>401092.32</td><td>33.5</td><td>25.48</td><td>1.3339e8</td><td>911.87</td><td>1.0</td><td>401095.62</td><td>2.75</td><td>1.25</td></tr></tbody></table></div>"
      ],
      "text/plain": [
       "shape: (9, 17)\n",
       "┌───────────┬───────────┬───────────┬───────────┬───┬───────────┬───────────┬───────────┬──────────┐\n",
       "│ statistic ┆ VendorID  ┆ passenger ┆ trip_dist ┆ … ┆ improveme ┆ total_amo ┆ congestio ┆ airport_ │\n",
       "│ ---       ┆ ---       ┆ _count    ┆ ance      ┆   ┆ nt_surcha ┆ unt       ┆ n_surchar ┆ fee      │\n",
       "│ str       ┆ f64       ┆ ---       ┆ ---       ┆   ┆ rge       ┆ ---       ┆ ge        ┆ ---      │\n",
       "│           ┆           ┆ f64       ┆ f64       ┆   ┆ ---       ┆ f64       ┆ ---       ┆ f64      │\n",
       "│           ┆           ┆           ┆           ┆   ┆ f64       ┆           ┆ f64       ┆          │\n",
       "╞═══════════╪═══════════╪═══════════╪═══════════╪═══╪═══════════╪═══════════╪═══════════╪══════════╡\n",
       "│ count     ┆ 3.9656098 ┆ 3.8287795 ┆ 3.9656098 ┆ … ┆ 3.9656098 ┆ 3.9656098 ┆ 3.8287795 ┆ 3.828779 │\n",
       "│           ┆ e7        ┆ e7        ┆ e7        ┆   ┆ e7        ┆ e7        ┆ e7        ┆ 5e7      │\n",
       "│ null_coun ┆ 0.0       ┆ 1.368303e ┆ 0.0       ┆ … ┆ 0.0       ┆ 0.0       ┆ 1.368303e ┆ 1.368303 │\n",
       "│ t         ┆           ┆ 6         ┆           ┆   ┆           ┆           ┆ 6         ┆ e6       │\n",
       "│ mean      ┆ 1.721802  ┆ 1.401149  ┆ 5.959399  ┆ … ┆ 0.316124  ┆ 21.671268 ┆ 2.281437  ┆ 0.097419 │\n",
       "│ std       ┆ 0.480527  ┆ 0.962894  ┆ 599.19071 ┆ … ┆ 0.129332  ┆ 96.373602 ┆ 0.751943  ┆ 0.338539 │\n",
       "│           ┆           ┆           ┆ 4         ┆   ┆           ┆           ┆           ┆          │\n",
       "│ min       ┆ 1.0       ┆ 0.0       ┆ 0.0       ┆ … ┆ -1.0      ┆ -2567.8   ┆ -2.5      ┆ -1.25    │\n",
       "│ 25%       ┆ 1.0       ┆ 1.0       ┆ 1.1       ┆ … ┆ 0.3       ┆ 12.3      ┆ 2.5       ┆ 0.0      │\n",
       "│ 50%       ┆ 2.0       ┆ 1.0       ┆ 1.9       ┆ … ┆ 0.3       ┆ 15.96     ┆ 2.5       ┆ 0.0      │\n",
       "│ 75%       ┆ 2.0       ┆ 1.0       ┆ 3.56      ┆ … ┆ 0.3       ┆ 23.16     ┆ 2.5       ┆ 0.0      │\n",
       "│ max       ┆ 6.0       ┆ 9.0       ┆ 389678.46 ┆ … ┆ 1.0       ┆ 401095.62 ┆ 2.75      ┆ 1.25     │\n",
       "└───────────┴───────────┴───────────┴───────────┴───┴───────────┴───────────┴───────────┴──────────┘"
      ]
     },
     "execution_count": 12,
     "metadata": {},
     "output_type": "execute_result"
    }
   ],
   "source": [
    "# Obtener solo las columnas numéricas \n",
    "numeric_columns = [col_name for col_name in df_concatenado.columns if df_concatenado[col_name].dtype.is_numeric()]\n",
    "\n",
    "# Convertir la selección de columnas en una operación lazy\n",
    "lazy_select = df_concatenado.select(numeric_columns)\n",
    "\n",
    "# Calcular estadísticas descriptivas solo para las columnas numéricas de manera lazy\n",
    "lazy_stats = lazy_select.describe()\n",
    "\n",
    "lazy_stats"
   ]
  },
  {
   "cell_type": "markdown",
   "metadata": {},
   "source": []
  },
  {
   "cell_type": "code",
   "execution_count": 13,
   "metadata": {},
   "outputs": [],
   "source": [
    "# Eliminar las columnas originales de fecha y hora\n",
    "df_nyc = df_concatenado.drop(['store_and_fwd_flag', 'fare_amount', 'extra', 'mta_tax', 'tip_amount', 'tolls_amount', 'improvement_surcharge', 'congestion_surcharge', 'airport_fee'])"
   ]
  },
  {
   "cell_type": "code",
   "execution_count": 14,
   "metadata": {},
   "outputs": [],
   "source": [
    "df_nyc = df_nyc.drop_nulls()"
   ]
  },
  {
   "cell_type": "code",
   "execution_count": 15,
   "metadata": {},
   "outputs": [
    {
     "data": {
      "text/plain": [
       "(38287795, 10)"
      ]
     },
     "execution_count": 15,
     "metadata": {},
     "output_type": "execute_result"
    }
   ],
   "source": [
    "df_nyc.shape"
   ]
  },
  {
   "cell_type": "code",
   "execution_count": null,
   "metadata": {},
   "outputs": [],
   "source": []
  },
  {
   "cell_type": "code",
   "execution_count": null,
   "metadata": {},
   "outputs": [],
   "source": []
  },
  {
   "cell_type": "markdown",
   "metadata": {},
   "source": [
    "## General Preprocessing `Yellow Taxi Trip Records`\n",
    "### Preprocesamiento Variables de Tipo Fecha `tpep_pickup_datetime` y  `tpep_dropoff_datetime`"
   ]
  },
  {
   "cell_type": "code",
   "execution_count": 16,
   "metadata": {},
   "outputs": [
    {
     "data": {
      "text/html": [
       "<div>\n",
       "<style scoped>\n",
       "    .dataframe tbody tr th:only-of-type {\n",
       "        vertical-align: middle;\n",
       "    }\n",
       "\n",
       "    .dataframe tbody tr th {\n",
       "        vertical-align: top;\n",
       "    }\n",
       "\n",
       "    .dataframe thead th {\n",
       "        text-align: right;\n",
       "    }\n",
       "</style>\n",
       "<table border=\"1\" class=\"dataframe\">\n",
       "  <thead>\n",
       "    <tr style=\"text-align: right;\">\n",
       "      <th></th>\n",
       "      <th>VendorID</th>\n",
       "      <th>tpep_pickup_datetime</th>\n",
       "      <th>tpep_dropoff_datetime</th>\n",
       "      <th>passenger_count</th>\n",
       "      <th>trip_distance</th>\n",
       "      <th>RatecodeID</th>\n",
       "      <th>PULocationID</th>\n",
       "      <th>DOLocationID</th>\n",
       "      <th>payment_type</th>\n",
       "      <th>total_amount</th>\n",
       "    </tr>\n",
       "  </thead>\n",
       "  <tbody>\n",
       "    <tr>\n",
       "      <th>0</th>\n",
       "      <td>1</td>\n",
       "      <td>2022-01-01 00:35:40</td>\n",
       "      <td>2022-01-01 00:53:29</td>\n",
       "      <td>2.0</td>\n",
       "      <td>3.80</td>\n",
       "      <td>1.0</td>\n",
       "      <td>142</td>\n",
       "      <td>236</td>\n",
       "      <td>1</td>\n",
       "      <td>21.95</td>\n",
       "    </tr>\n",
       "    <tr>\n",
       "      <th>1</th>\n",
       "      <td>1</td>\n",
       "      <td>2022-01-01 00:33:43</td>\n",
       "      <td>2022-01-01 00:42:07</td>\n",
       "      <td>1.0</td>\n",
       "      <td>2.10</td>\n",
       "      <td>1.0</td>\n",
       "      <td>236</td>\n",
       "      <td>42</td>\n",
       "      <td>1</td>\n",
       "      <td>13.30</td>\n",
       "    </tr>\n",
       "    <tr>\n",
       "      <th>2</th>\n",
       "      <td>2</td>\n",
       "      <td>2022-01-01 00:53:21</td>\n",
       "      <td>2022-01-01 01:02:19</td>\n",
       "      <td>1.0</td>\n",
       "      <td>0.97</td>\n",
       "      <td>1.0</td>\n",
       "      <td>166</td>\n",
       "      <td>166</td>\n",
       "      <td>1</td>\n",
       "      <td>10.56</td>\n",
       "    </tr>\n",
       "    <tr>\n",
       "      <th>3</th>\n",
       "      <td>2</td>\n",
       "      <td>2022-01-01 00:25:21</td>\n",
       "      <td>2022-01-01 00:35:23</td>\n",
       "      <td>1.0</td>\n",
       "      <td>1.09</td>\n",
       "      <td>1.0</td>\n",
       "      <td>114</td>\n",
       "      <td>68</td>\n",
       "      <td>2</td>\n",
       "      <td>11.80</td>\n",
       "    </tr>\n",
       "    <tr>\n",
       "      <th>4</th>\n",
       "      <td>2</td>\n",
       "      <td>2022-01-01 00:36:48</td>\n",
       "      <td>2022-01-01 01:14:20</td>\n",
       "      <td>1.0</td>\n",
       "      <td>4.30</td>\n",
       "      <td>1.0</td>\n",
       "      <td>68</td>\n",
       "      <td>163</td>\n",
       "      <td>1</td>\n",
       "      <td>30.30</td>\n",
       "    </tr>\n",
       "    <tr>\n",
       "      <th>5</th>\n",
       "      <td>1</td>\n",
       "      <td>2022-01-01 00:40:15</td>\n",
       "      <td>2022-01-01 01:09:48</td>\n",
       "      <td>1.0</td>\n",
       "      <td>10.30</td>\n",
       "      <td>1.0</td>\n",
       "      <td>138</td>\n",
       "      <td>161</td>\n",
       "      <td>1</td>\n",
       "      <td>56.35</td>\n",
       "    </tr>\n",
       "    <tr>\n",
       "      <th>6</th>\n",
       "      <td>2</td>\n",
       "      <td>2022-01-01 00:20:50</td>\n",
       "      <td>2022-01-01 00:34:58</td>\n",
       "      <td>1.0</td>\n",
       "      <td>5.07</td>\n",
       "      <td>1.0</td>\n",
       "      <td>233</td>\n",
       "      <td>87</td>\n",
       "      <td>1</td>\n",
       "      <td>26.00</td>\n",
       "    </tr>\n",
       "    <tr>\n",
       "      <th>7</th>\n",
       "      <td>2</td>\n",
       "      <td>2022-01-01 00:13:04</td>\n",
       "      <td>2022-01-01 00:22:45</td>\n",
       "      <td>1.0</td>\n",
       "      <td>2.02</td>\n",
       "      <td>1.0</td>\n",
       "      <td>238</td>\n",
       "      <td>152</td>\n",
       "      <td>2</td>\n",
       "      <td>12.80</td>\n",
       "    </tr>\n",
       "    <tr>\n",
       "      <th>8</th>\n",
       "      <td>2</td>\n",
       "      <td>2022-01-01 00:30:02</td>\n",
       "      <td>2022-01-01 00:44:49</td>\n",
       "      <td>1.0</td>\n",
       "      <td>2.71</td>\n",
       "      <td>1.0</td>\n",
       "      <td>166</td>\n",
       "      <td>236</td>\n",
       "      <td>1</td>\n",
       "      <td>18.05</td>\n",
       "    </tr>\n",
       "    <tr>\n",
       "      <th>9</th>\n",
       "      <td>2</td>\n",
       "      <td>2022-01-01 00:48:52</td>\n",
       "      <td>2022-01-01 00:53:28</td>\n",
       "      <td>1.0</td>\n",
       "      <td>0.78</td>\n",
       "      <td>1.0</td>\n",
       "      <td>236</td>\n",
       "      <td>141</td>\n",
       "      <td>2</td>\n",
       "      <td>8.80</td>\n",
       "    </tr>\n",
       "    <tr>\n",
       "      <th>10</th>\n",
       "      <td>2</td>\n",
       "      <td>2022-01-01 00:55:03</td>\n",
       "      <td>2022-01-01 01:04:25</td>\n",
       "      <td>1.0</td>\n",
       "      <td>1.91</td>\n",
       "      <td>1.0</td>\n",
       "      <td>141</td>\n",
       "      <td>229</td>\n",
       "      <td>2</td>\n",
       "      <td>12.30</td>\n",
       "    </tr>\n",
       "    <tr>\n",
       "      <th>11</th>\n",
       "      <td>2</td>\n",
       "      <td>2022-01-01 00:31:06</td>\n",
       "      <td>2022-01-01 00:34:14</td>\n",
       "      <td>3.0</td>\n",
       "      <td>0.82</td>\n",
       "      <td>1.0</td>\n",
       "      <td>114</td>\n",
       "      <td>90</td>\n",
       "      <td>2</td>\n",
       "      <td>8.30</td>\n",
       "    </tr>\n",
       "    <tr>\n",
       "      <th>12</th>\n",
       "      <td>2</td>\n",
       "      <td>2022-01-01 00:41:07</td>\n",
       "      <td>2022-01-01 00:44:46</td>\n",
       "      <td>3.0</td>\n",
       "      <td>0.73</td>\n",
       "      <td>1.0</td>\n",
       "      <td>234</td>\n",
       "      <td>113</td>\n",
       "      <td>2</td>\n",
       "      <td>8.30</td>\n",
       "    </tr>\n",
       "    <tr>\n",
       "      <th>13</th>\n",
       "      <td>2</td>\n",
       "      <td>2022-01-01 00:56:34</td>\n",
       "      <td>2022-01-01 01:12:04</td>\n",
       "      <td>2.0</td>\n",
       "      <td>2.16</td>\n",
       "      <td>1.0</td>\n",
       "      <td>246</td>\n",
       "      <td>79</td>\n",
       "      <td>1</td>\n",
       "      <td>18.36</td>\n",
       "    </tr>\n",
       "    <tr>\n",
       "      <th>14</th>\n",
       "      <td>2</td>\n",
       "      <td>2022-01-01 00:39:46</td>\n",
       "      <td>2022-01-01 00:47:36</td>\n",
       "      <td>4.0</td>\n",
       "      <td>1.43</td>\n",
       "      <td>1.0</td>\n",
       "      <td>43</td>\n",
       "      <td>140</td>\n",
       "      <td>1</td>\n",
       "      <td>13.56</td>\n",
       "    </tr>\n",
       "  </tbody>\n",
       "</table>\n",
       "</div>"
      ],
      "text/plain": [
       "    VendorID tpep_pickup_datetime tpep_dropoff_datetime  passenger_count  \\\n",
       "0          1  2022-01-01 00:35:40   2022-01-01 00:53:29              2.0   \n",
       "1          1  2022-01-01 00:33:43   2022-01-01 00:42:07              1.0   \n",
       "2          2  2022-01-01 00:53:21   2022-01-01 01:02:19              1.0   \n",
       "3          2  2022-01-01 00:25:21   2022-01-01 00:35:23              1.0   \n",
       "4          2  2022-01-01 00:36:48   2022-01-01 01:14:20              1.0   \n",
       "5          1  2022-01-01 00:40:15   2022-01-01 01:09:48              1.0   \n",
       "6          2  2022-01-01 00:20:50   2022-01-01 00:34:58              1.0   \n",
       "7          2  2022-01-01 00:13:04   2022-01-01 00:22:45              1.0   \n",
       "8          2  2022-01-01 00:30:02   2022-01-01 00:44:49              1.0   \n",
       "9          2  2022-01-01 00:48:52   2022-01-01 00:53:28              1.0   \n",
       "10         2  2022-01-01 00:55:03   2022-01-01 01:04:25              1.0   \n",
       "11         2  2022-01-01 00:31:06   2022-01-01 00:34:14              3.0   \n",
       "12         2  2022-01-01 00:41:07   2022-01-01 00:44:46              3.0   \n",
       "13         2  2022-01-01 00:56:34   2022-01-01 01:12:04              2.0   \n",
       "14         2  2022-01-01 00:39:46   2022-01-01 00:47:36              4.0   \n",
       "\n",
       "    trip_distance  RatecodeID  PULocationID  DOLocationID  payment_type  \\\n",
       "0            3.80         1.0           142           236             1   \n",
       "1            2.10         1.0           236            42             1   \n",
       "2            0.97         1.0           166           166             1   \n",
       "3            1.09         1.0           114            68             2   \n",
       "4            4.30         1.0            68           163             1   \n",
       "5           10.30         1.0           138           161             1   \n",
       "6            5.07         1.0           233            87             1   \n",
       "7            2.02         1.0           238           152             2   \n",
       "8            2.71         1.0           166           236             1   \n",
       "9            0.78         1.0           236           141             2   \n",
       "10           1.91         1.0           141           229             2   \n",
       "11           0.82         1.0           114            90             2   \n",
       "12           0.73         1.0           234           113             2   \n",
       "13           2.16         1.0           246            79             1   \n",
       "14           1.43         1.0            43           140             1   \n",
       "\n",
       "    total_amount  \n",
       "0          21.95  \n",
       "1          13.30  \n",
       "2          10.56  \n",
       "3          11.80  \n",
       "4          30.30  \n",
       "5          56.35  \n",
       "6          26.00  \n",
       "7          12.80  \n",
       "8          18.05  \n",
       "9           8.80  \n",
       "10         12.30  \n",
       "11          8.30  \n",
       "12          8.30  \n",
       "13         18.36  \n",
       "14         13.56  "
      ]
     },
     "execution_count": 16,
     "metadata": {},
     "output_type": "execute_result"
    }
   ],
   "source": [
    "# Crear un contexto SQL y registrar el DataFrame como una tabla\n",
    "sql = pl.SQLContext(frames={\"df_nyc\": df_nyc})\n",
    "\n",
    "# Realizar las consultas de forma \"Lazy\"\n",
    "result_lazy = sql.execute(\"SELECT * FROM df_nyc LIMIT 15\")\n",
    "\n",
    "# Convertir los resultados \"Lazy\" a DataFrames de Pandas solo cuando se necesiten\n",
    "result_df = result_lazy.collect().to_pandas()\n",
    "\n",
    "# Mostrar los DataFrames resultantes\n",
    "result_df.head(15)\n"
   ]
  },
  {
   "cell_type": "code",
   "execution_count": 17,
   "metadata": {},
   "outputs": [],
   "source": [
    "from datetime import datetime"
   ]
  },
  {
   "cell_type": "code",
   "execution_count": 18,
   "metadata": {},
   "outputs": [],
   "source": [
    "# Convertir las columnas de fechas a tipo DateTime en Polars\n",
    "df_nyc = df_nyc.with_columns(\n",
    "    pl.col('tpep_pickup_datetime').dt.date().alias('tpep_pickup_date'),\n",
    "    pl.col('tpep_dropoff_datetime').dt.date().alias('tpep_dropoff_date')\n",
    ")\n",
    "\n",
    "# Calcular la duración del viaje en segundos\n",
    "df_nyc = df_nyc.with_columns(\n",
    "    (pl.col('tpep_dropoff_datetime') - pl.col('tpep_pickup_datetime')).dt.total_seconds().alias('duracion_viaje')\n",
    ")\n",
    "# Eliminar las columnas originales de fecha y hora\n",
    "df_nyc = df_nyc.drop(['tpep_pickup_datetime', 'tpep_dropoff_datetime'])\n"
   ]
  },
  {
   "cell_type": "code",
   "execution_count": null,
   "metadata": {},
   "outputs": [],
   "source": []
  },
  {
   "cell_type": "code",
   "execution_count": 19,
   "metadata": {},
   "outputs": [
    {
     "data": {
      "text/plain": [
       "(38287795, 11)"
      ]
     },
     "execution_count": 19,
     "metadata": {},
     "output_type": "execute_result"
    }
   ],
   "source": [
    "df_nyc.shape"
   ]
  },
  {
   "cell_type": "code",
   "execution_count": null,
   "metadata": {},
   "outputs": [],
   "source": []
  },
  {
   "cell_type": "code",
   "execution_count": 20,
   "metadata": {},
   "outputs": [],
   "source": [
    "# Convertir el DataFrame de Polars a un objeto Arrow\n",
    "#arrow_table = df_nyc.to_arrow()\n"
   ]
  },
  {
   "cell_type": "code",
   "execution_count": 21,
   "metadata": {},
   "outputs": [],
   "source": [
    "\n",
    "# Guardar el objeto Arrow en un archivo Arrow\n",
    "#pq.write_table(arrow_table, 'temperature.arrow')\n",
    "#pq.write_table(arrow_table, '../datasets/processed/df_yellow.arrow')\n",
    "#pq.write_table(arrow_table, '../datasets/processed/yellow_analys.arrow', compression='zstd')"
   ]
  },
  {
   "cell_type": "code",
   "execution_count": 22,
   "metadata": {},
   "outputs": [
    {
     "ename": "",
     "evalue": "",
     "output_type": "error",
     "traceback": [
      "\u001b[1;31mThe Kernel crashed while executing code in the current cell or a previous cell. \n",
      "\u001b[1;31mPlease review the code in the cell(s) to identify a possible cause of the failure. \n",
      "\u001b[1;31mClick <a href='https://aka.ms/vscodeJupyterKernelCrash'>here</a> for more info. \n",
      "\u001b[1;31mView Jupyter <a href='command:jupyter.viewOutput'>log</a> for further details."
     ]
    }
   ],
   "source": [
    "# Eliminación de registros que están fuera de la normativa legal\n",
    "df_nyc = df_nyc.filter(\n",
    "    (pl.col('duracion_viaje') > 208) & (pl.col('duracion_viaje') <= 2393)\n",
    ")"
   ]
  },
  {
   "cell_type": "code",
   "execution_count": null,
   "metadata": {},
   "outputs": [],
   "source": []
  },
  {
   "cell_type": "code",
   "execution_count": null,
   "metadata": {},
   "outputs": [],
   "source": []
  },
  {
   "cell_type": "markdown",
   "metadata": {},
   "source": [
    "### Preprocesamiento Variables Discretas `passenger_count`."
   ]
  },
  {
   "cell_type": "markdown",
   "metadata": {},
   "source": [
    "\n",
    "- **Count**: El recuento total de observaciones para la variable `passenger_count` es aproximadamente 38,287,795.\n",
    "- **Null Count**: Hay alrededor de 1,368,303 valores nulos en la variable `passenger_count`.\n",
    "- **Mean (Media)**: La media de `passenger_count` es aproximadamente 1.401, lo que sugiere que, en promedio, hay alrededor de 1.4 pasajeros por viaje de taxi.\n",
    "- **Standard Deviation (Desviación estándar)**: La desviación estándar es aproximadamente 0.962, lo que indica que la dispersión de los valores alrededor de la media es relativamente baja, lo que sugiere que la mayoría de los viajes tienen un número similar de pasajeros.\n",
    "- **Min (Mínimo)**: El valor mínimo observado para `passenger_count` es 0, lo que podría ser una anomalía o un error en los datos, ya que no se esperaría que haya viajes de taxi sin pasajeros.\n",
    "- **25% (Percentil 25)**: El 25% de los viajes tienen 1 pasajero o menos.\n",
    "- **50% (Percentil 50 o Mediana)**: La mediana de `passenger_count` es 1, lo que significa que el 50% de los viajes tienen 1 pasajero o menos.\n",
    "- **75% (Percentil 75)**: El 75% de los viajes tienen 1 o 2 pasajeros.\n",
    "- **Max (Máximo)**: El valor máximo observado es 9, lo que sugiere que hay algunos viajes de taxi que transportan hasta 9 pasajeros.\n",
    "\n",
    "En resumen, la mayoría de los viajes de taxi tienen uno o pocos pasajeros, con un promedio de alrededor de 1.4 pasajeros por viaje. Sin embargo, hay algunas observaciones inusuales, como viajes sin pasajeros (0) y algunos viajes con un número inusualmente alto de pasajeros (hasta 9)."
   ]
  },
  {
   "cell_type": "code",
   "execution_count": null,
   "metadata": {},
   "outputs": [],
   "source": [
    "# Eliminación de registros que están fuera de la normativa legal\n",
    "df_nyc = df_nyc.filter(\n",
    "    (pl.col('passenger_count') > 0) & (pl.col('passenger_count') <= 4)\n",
    ")"
   ]
  },
  {
   "cell_type": "code",
   "execution_count": null,
   "metadata": {},
   "outputs": [
    {
     "data": {
      "text/html": [
       "<div><style>\n",
       ".dataframe > thead > tr,\n",
       ".dataframe > tbody > tr {\n",
       "  text-align: right;\n",
       "  white-space: pre-wrap;\n",
       "}\n",
       "</style>\n",
       "<small>shape: (4,)</small><table border=\"1\" class=\"dataframe\"><thead><tr><th>passenger_count</th></tr><tr><td>f64</td></tr></thead><tbody><tr><td>1.0</td></tr><tr><td>2.0</td></tr><tr><td>3.0</td></tr><tr><td>4.0</td></tr></tbody></table></div>"
      ],
      "text/plain": [
       "shape: (4,)\n",
       "Series: 'passenger_count' [f64]\n",
       "[\n",
       "\t1.0\n",
       "\t2.0\n",
       "\t3.0\n",
       "\t4.0\n",
       "]"
      ]
     },
     "execution_count": 17,
     "metadata": {},
     "output_type": "execute_result"
    }
   ],
   "source": [
    "# Corroboramos los cambios aplicados\n",
    "unique_passenger_counts = df_nyc['passenger_count'].unique()\n",
    "unique_passenger_counts "
   ]
  },
  {
   "cell_type": "code",
   "execution_count": null,
   "metadata": {},
   "outputs": [
    {
     "data": {
      "text/plain": [
       "(36378698, 12)"
      ]
     },
     "execution_count": 33,
     "metadata": {},
     "output_type": "execute_result"
    }
   ],
   "source": [
    "df_nyc.shape"
   ]
  },
  {
   "cell_type": "code",
   "execution_count": null,
   "metadata": {},
   "outputs": [],
   "source": []
  },
  {
   "cell_type": "markdown",
   "metadata": {},
   "source": [
    "### Preprocesamiento Variables Continuas `trip_distance` y `total_amount`."
   ]
  },
  {
   "cell_type": "markdown",
   "metadata": {},
   "source": [
    "- **Count**: El recuento total de observaciones para la variable `trip_distance` es aproximadamente 39,656,098.\n",
    "- **Null Count**: No hay valores nulos en la variable `trip_distance`, lo que significa que todos los registros tienen una distancia de viaje registrada.\n",
    "- **Mean (Media)**: La media de `trip_distance` es aproximadamente 5.959 millas. Esto indica que, en promedio, los viajes de taxi tienen una distancia de alrededor de 5.959 millas.\n",
    "- **Standard Deviation (Desviación estándar)**: La desviación estándar es aproximadamente 599.191 millas, lo que sugiere que hay una gran variabilidad en las distancias de los viajes de taxi, con algunos viajes siendo mucho más largos o más cortos que la media.\n",
    "- **Min (Mínimo)**: El valor mínimo observado para `trip_distance` es 0 millas, lo que podría ser una anomalía o un error en los datos, ya que no se esperaría que haya viajes de taxi con distancia cero.\n",
    "- **25% (Percentil 25)**: El 25% de los viajes tienen una distancia de 1.1 millas o menos.\n",
    "- **50% (Percentil 50 o Mediana)**: La mediana de `trip_distance` es 1.9 millas, lo que significa que el 50% de los viajes tienen una distancia de 1.9 millas o menos.\n",
    "- **75% (Percentil 75)**: El 75% de los viajes tienen una distancia de 3.56 millas o menos.\n",
    "- **Max (Máximo)**: El valor máximo observado es 389,678.46 millas, lo que sugiere que hay algunos viajes de taxi con distancias extremadamente largas.\n",
    "\n",
    "En resumen, la mayoría de los viajes de taxi tienen distancias relativamente cortas, con una media de aproximadamente 5.959 millas y una mediana de 1.9 millas. Sin embargo, hay una variabilidad considerable en las distancias de los viajes, con algunos viajes siendo mucho más largos que la media. "
   ]
  },
  {
   "cell_type": "code",
   "execution_count": null,
   "metadata": {},
   "outputs": [],
   "source": []
  },
  {
   "cell_type": "code",
   "execution_count": null,
   "metadata": {},
   "outputs": [
    {
     "name": "stdout",
     "output_type": "stream",
     "text": [
      "Cantidad de registros con trip_distance inferior a 0.5 o superior a 13: 3731894\n"
     ]
    }
   ],
   "source": [
    "\"\"\"\n",
    "# Definir la condición para marcar los registros que cumplen con los criterios de filtrado\n",
    "condicion = (pl.col('trip_distance') < 0.5) | (pl.col('trip_distance') > 13)\n",
    "\n",
    "# Marcar los registros que cumplen con la condición y crear una nueva columna\n",
    "df_nyc = df_nyc.with_columns([\n",
    "    pl.when(condicion).then(1).otherwise(0).alias(\"filtro_trip_distance\")\n",
    "])\n",
    "\n",
    "# Contar los registros con duración de viaje inferior a 0.5 o superiores a 13\n",
    "cantidad_registros_filtrados = df_nyc.filter(pl.col(\"filtro_trip_distance\") == 1).height\n",
    "print(\"Cantidad de registros con trip_distance inferior a 0.5 o superior a 13:\", cantidad_registros_filtrados)\n",
    "#Cantidad de registros con trip_distance inferior a 0.5 o superior a 13: 3731894\n",
    "\"\"\""
   ]
  },
  {
   "cell_type": "code",
   "execution_count": null,
   "metadata": {},
   "outputs": [],
   "source": []
  },
  {
   "cell_type": "code",
   "execution_count": null,
   "metadata": {},
   "outputs": [],
   "source": []
  },
  {
   "cell_type": "code",
   "execution_count": null,
   "metadata": {},
   "outputs": [],
   "source": [
    "# Eliminación de registros que están fuera de la normativa legal\n",
    "df_nyc = df_nyc.filter(\n",
    "    (pl.col('trip_distance') > 0.5) & (pl.col('trip_distance') <= 13)\n",
    ")"
   ]
  },
  {
   "cell_type": "code",
   "execution_count": null,
   "metadata": {},
   "outputs": [],
   "source": [
    "df_nyc.shape"
   ]
  },
  {
   "cell_type": "code",
   "execution_count": null,
   "metadata": {},
   "outputs": [],
   "source": [
    "# Convertir la columna 'trip_distance' a una expresión perezosa\n",
    "trip_distance_series = df_nyc.lazy().select(pl.col('trip_distance'))\n",
    "\n",
    "# Calcular las estadísticas de forma \"Lazy\"\n",
    "stats_result = trip_distance_series.describe()\n",
    "\n",
    "# Imprimir los resultados\n",
    "print(\"Minimo:\", stats_result['trip_distance'].min())\n",
    "print(\"Maximo:\", stats_result['trip_distance'].max())\n",
    "print(\"Media:\", stats_result['trip_distance'].mean())\n",
    "print(\"Mediana:\", stats_result['trip_distance'].quantile(0.5))\n",
    "print(\"Desviación estándar:\", stats_result['trip_distance'].std())\n"
   ]
  },
  {
   "cell_type": "code",
   "execution_count": null,
   "metadata": {},
   "outputs": [],
   "source": []
  },
  {
   "cell_type": "markdown",
   "metadata": {},
   "source": [
    "Para interpretar y analizar la columna `total_amount`, podemos observar las estadísticas proporcionadas:\n",
    "\n",
    "- **Count**: La cantidad total de registros para esta columna es de 39,656,098.\n",
    "- **Null Count**: Hay 1,368,303 registros con valores nulos para esta columna.\n",
    "- **Mean**: El valor medio o promedio de la columna `total_amount` es de aproximadamente 21.67.\n",
    "- **Std**: La desviación estándar, que mide la dispersión de los valores respecto a la media, es de aproximadamente 96.37.\n",
    "- **Min**: El valor mínimo registrado en esta columna es -2567.8, lo que sugiere la presencia de valores negativos.\n",
    "- **25%**: El 25% de los registros tienen un valor de `total_amount` de 12.3 o menos.\n",
    "- **50% (Median)**: El 50% de los registros tienen un valor de `total_amount` de 15.96 o menos.\n",
    "- **75%**: El 75% de los registros tienen un valor de `total_amount` de 23.16 o menos.\n",
    "- **Max**: El valor máximo registrado en esta columna es 401095.62.\n",
    "\n",
    "#### Análisis e Interpretación:\n",
    "\n",
    "1. **Distribución de Valores**: La columna `total_amount` parece tener una amplia gama de valores, con un rango desde valores negativos hasta valores muy altos (más de 401,000). Esto sugiere una distribución muy dispersa de los montos totales de los viajes.\n",
    "\n",
    "2. **Valores Atípicos**: La presencia de valores negativos y valores muy altos puede indicar la presencia de datos atípicos o errores en la captura de datos.\n",
    "\n",
    "3. **Promedio y Desviación Estándar**: El promedio (`mean`) y la desviación estándar (`std`) son útiles para comprender la dispersión de los datos. Dado el valor alto de la desviación estándar en comparación con la media, podemos inferir que los datos están muy dispersos alrededor de la media, lo que puede ser indicativo de la presencia de valores atípicos o una distribución sesgada.\n",
    "\n",
    "4. **Valores Percentiles**: Los percentiles proporcionan información sobre la distribución de los valores en la columna. Por ejemplo, el percentil 25 (25%) sugiere que el 25% de los registros tienen un valor de `total_amount` de 12.3 o menos, mientras que el percentil 75 (75%) indica que el 75% de los registros tienen un valor de 23.16 o menos. Esto ayuda a comprender la distribución de los datos en relación con diferentes rangos de valores.\n",
    "\n",
    "5. **Valor Mínimo y Máximo**: Los valores mínimo y máximo proporcionan información sobre los extremos de la distribución de los datos. La presencia de valores negativos y el valor máximo inusualmente alto pueden requerir una revisión adicional para comprender su naturaleza y posible impacto en el análisis."
   ]
  },
  {
   "cell_type": "code",
   "execution_count": null,
   "metadata": {},
   "outputs": [],
   "source": [
    "# Eliminación de registros que están fuera de la normativa legal\n",
    "df_nyc = df_nyc.filter(\n",
    "    (pl.col('total_amount') > 10.3) & (pl.col('total_amount') <= 44.35)\n",
    ")"
   ]
  },
  {
   "cell_type": "code",
   "execution_count": null,
   "metadata": {},
   "outputs": [],
   "source": [
    "df_nyc.shape"
   ]
  },
  {
   "cell_type": "code",
   "execution_count": null,
   "metadata": {},
   "outputs": [],
   "source": [
    "# Convertir la columna 'trip_distance' a una expresión perezosa\n",
    "trip_distance_series = df_nyc.lazy().select(pl.col('total_amount'))\n",
    "\n",
    "# Calcular las estadísticas de forma \"Lazy\"\n",
    "stats_result = trip_distance_series.describe()\n",
    "\n",
    "# Imprimir los resultados\n",
    "print(\"Minimo:\", stats_result['total_amount'].min())\n",
    "print(\"Maximo:\", stats_result['total_amount'].max())\n",
    "print(\"Media:\", stats_result['total_amount'].mean())\n",
    "print(\"Mediana:\", stats_result['total_amount'].quantile(0.5))\n",
    "print(\"Desviación estándar:\", stats_result['total_amount'].std())"
   ]
  },
  {
   "cell_type": "code",
   "execution_count": null,
   "metadata": {},
   "outputs": [],
   "source": []
  },
  {
   "cell_type": "markdown",
   "metadata": {},
   "source": [
    "### Preprocesamiento Variables Nominales `VendorID`, `PULocationID`, `DOLocationID` y `payment_type`."
   ]
  },
  {
   "cell_type": "code",
   "execution_count": null,
   "metadata": {},
   "outputs": [],
   "source": []
  },
  {
   "cell_type": "code",
   "execution_count": null,
   "metadata": {},
   "outputs": [],
   "source": []
  },
  {
   "cell_type": "code",
   "execution_count": null,
   "metadata": {},
   "outputs": [],
   "source": []
  },
  {
   "cell_type": "markdown",
   "metadata": {},
   "source": [
    "### Preprocesamiento Variables Nominales `RatecodeID`."
   ]
  },
  {
   "cell_type": "code",
   "execution_count": null,
   "metadata": {},
   "outputs": [],
   "source": [
    "# Convertir el DataFrame de Polars a un objeto Arrow\n",
    "arrow_table = df_nyc.to_arrow()\n",
    "\n",
    "# Guardar el objeto Arrow en un archivo Arrow\n",
    "#pq.write_table(arrow_table, 'temperature.arrow')\n",
    "#pq.write_table(arrow_table, '../datasets/processed/df_yellow.arrow')\n",
    "pq.write_table(arrow_table, '../datasets/processed/df_yellow.arrow', compression='zstd')"
   ]
  },
  {
   "cell_type": "code",
   "execution_count": null,
   "metadata": {},
   "outputs": [],
   "source": []
  },
  {
   "cell_type": "code",
   "execution_count": null,
   "metadata": {},
   "outputs": [],
   "source": []
  },
  {
   "cell_type": "markdown",
   "metadata": {},
   "source": [
    "## PreProcesamiento `High Volume FHV Trip Records`"
   ]
  },
  {
   "cell_type": "code",
   "execution_count": 4,
   "metadata": {},
   "outputs": [],
   "source": [
    "# Define the Imports \n",
    "try:\n",
    "    import os\n",
    "    import json\n",
    "    import math\n",
    "    from datetime import date, time\n",
    "    import dask\n",
    "    import pyarrow as pa\n",
    "    import pyarrow.parquet as pq\n",
    "    from dask.distributed import Client, LocalCluster\n",
    "    import dask.dataframe as dd\n",
    "    import numpy as np\n",
    "    import dask.multiprocessing\n",
    "except Exception as e:\n",
    "    print(\"Some Modules are Missing : {} \".format(e))"
   ]
  },
  {
   "cell_type": "code",
   "execution_count": 5,
   "metadata": {},
   "outputs": [
    {
     "name": "stdout",
     "output_type": "stream",
     "text": [
      "Size in GB : 0.34889130666852 \n"
     ]
    }
   ],
   "source": [
    "size = os.path.getsize(\"..\\\\datasets\\\\raw\\\\fhvhv_tripdata_2022-01.parquet\") / math.pow(1024,3)\n",
    "print(\"Size in GB : {} \".format(size))"
   ]
  },
  {
   "cell_type": "code",
   "execution_count": 7,
   "metadata": {},
   "outputs": [
    {
     "data": {
      "text/html": [
       "<div>\n",
       "    <div style=\"width: 24px; height: 24px; background-color: #e1e1e1; border: 3px solid #9D9D9D; border-radius: 5px; position: absolute;\"> </div>\n",
       "    <div style=\"margin-left: 48px;\">\n",
       "        <h3 style=\"margin-bottom: 0px;\">Client</h3>\n",
       "        <p style=\"color: #9D9D9D; margin-bottom: 0px;\">Client-db0912f2-f284-11ee-a0fc-c03fd5ad989d</p>\n",
       "        <table style=\"width: 100%; text-align: left;\">\n",
       "\n",
       "        <tr>\n",
       "        \n",
       "            <td style=\"text-align: left;\"><strong>Connection method:</strong> Cluster object</td>\n",
       "            <td style=\"text-align: left;\"><strong>Cluster type:</strong> distributed.LocalCluster</td>\n",
       "        \n",
       "        </tr>\n",
       "\n",
       "        \n",
       "            <tr>\n",
       "                <td style=\"text-align: left;\">\n",
       "                    <strong>Dashboard: </strong> <a href=\"http://192.168.100.11:8787/status\" target=\"_blank\">http://192.168.100.11:8787/status</a>\n",
       "                </td>\n",
       "                <td style=\"text-align: left;\"></td>\n",
       "            </tr>\n",
       "        \n",
       "\n",
       "        </table>\n",
       "\n",
       "        \n",
       "            <button style=\"margin-bottom: 12px;\" data-commandlinker-command=\"dask:populate-and-launch-layout\" data-commandlinker-args='{\"url\": \"http://192.168.100.11:8787/status\" }'>\n",
       "                Launch dashboard in JupyterLab\n",
       "            </button>\n",
       "        \n",
       "\n",
       "        \n",
       "            <details>\n",
       "            <summary style=\"margin-bottom: 20px;\"><h3 style=\"display: inline;\">Cluster Info</h3></summary>\n",
       "            <div class=\"jp-RenderedHTMLCommon jp-RenderedHTML jp-mod-trusted jp-OutputArea-output\">\n",
       "    <div style=\"width: 24px; height: 24px; background-color: #e1e1e1; border: 3px solid #9D9D9D; border-radius: 5px; position: absolute;\">\n",
       "    </div>\n",
       "    <div style=\"margin-left: 48px;\">\n",
       "        <h3 style=\"margin-bottom: 0px; margin-top: 0px;\">LocalCluster</h3>\n",
       "        <p style=\"color: #9D9D9D; margin-bottom: 0px;\">d089b689</p>\n",
       "        <table style=\"width: 100%; text-align: left;\">\n",
       "            <tr>\n",
       "                <td style=\"text-align: left;\">\n",
       "                    <strong>Dashboard:</strong> <a href=\"http://192.168.100.11:8787/status\" target=\"_blank\">http://192.168.100.11:8787/status</a>\n",
       "                </td>\n",
       "                <td style=\"text-align: left;\">\n",
       "                    <strong>Workers:</strong> 2\n",
       "                </td>\n",
       "            </tr>\n",
       "            <tr>\n",
       "                <td style=\"text-align: left;\">\n",
       "                    <strong>Total threads:</strong> 2\n",
       "                </td>\n",
       "                <td style=\"text-align: left;\">\n",
       "                    <strong>Total memory:</strong> 9.31 GiB\n",
       "                </td>\n",
       "            </tr>\n",
       "            \n",
       "            <tr>\n",
       "    <td style=\"text-align: left;\"><strong>Status:</strong> running</td>\n",
       "    <td style=\"text-align: left;\"><strong>Using processes:</strong> False</td>\n",
       "</tr>\n",
       "\n",
       "            \n",
       "        </table>\n",
       "\n",
       "        <details>\n",
       "            <summary style=\"margin-bottom: 20px;\">\n",
       "                <h3 style=\"display: inline;\">Scheduler Info</h3>\n",
       "            </summary>\n",
       "\n",
       "            <div style=\"\">\n",
       "    <div>\n",
       "        <div style=\"width: 24px; height: 24px; background-color: #FFF7E5; border: 3px solid #FF6132; border-radius: 5px; position: absolute;\"> </div>\n",
       "        <div style=\"margin-left: 48px;\">\n",
       "            <h3 style=\"margin-bottom: 0px;\">Scheduler</h3>\n",
       "            <p style=\"color: #9D9D9D; margin-bottom: 0px;\">Scheduler-799c975b-dcee-46c0-a2dd-2b85fcddd8d9</p>\n",
       "            <table style=\"width: 100%; text-align: left;\">\n",
       "                <tr>\n",
       "                    <td style=\"text-align: left;\">\n",
       "                        <strong>Comm:</strong> inproc://192.168.100.11/8444/1\n",
       "                    </td>\n",
       "                    <td style=\"text-align: left;\">\n",
       "                        <strong>Workers:</strong> 2\n",
       "                    </td>\n",
       "                </tr>\n",
       "                <tr>\n",
       "                    <td style=\"text-align: left;\">\n",
       "                        <strong>Dashboard:</strong> <a href=\"http://192.168.100.11:8787/status\" target=\"_blank\">http://192.168.100.11:8787/status</a>\n",
       "                    </td>\n",
       "                    <td style=\"text-align: left;\">\n",
       "                        <strong>Total threads:</strong> 2\n",
       "                    </td>\n",
       "                </tr>\n",
       "                <tr>\n",
       "                    <td style=\"text-align: left;\">\n",
       "                        <strong>Started:</strong> Just now\n",
       "                    </td>\n",
       "                    <td style=\"text-align: left;\">\n",
       "                        <strong>Total memory:</strong> 9.31 GiB\n",
       "                    </td>\n",
       "                </tr>\n",
       "            </table>\n",
       "        </div>\n",
       "    </div>\n",
       "\n",
       "    <details style=\"margin-left: 48px;\">\n",
       "        <summary style=\"margin-bottom: 20px;\">\n",
       "            <h3 style=\"display: inline;\">Workers</h3>\n",
       "        </summary>\n",
       "\n",
       "        \n",
       "        <div style=\"margin-bottom: 20px;\">\n",
       "            <div style=\"width: 24px; height: 24px; background-color: #DBF5FF; border: 3px solid #4CC9FF; border-radius: 5px; position: absolute;\"> </div>\n",
       "            <div style=\"margin-left: 48px;\">\n",
       "            <details>\n",
       "                <summary>\n",
       "                    <h4 style=\"margin-bottom: 0px; display: inline;\">Worker: 0</h4>\n",
       "                </summary>\n",
       "                <table style=\"width: 100%; text-align: left;\">\n",
       "                    <tr>\n",
       "                        <td style=\"text-align: left;\">\n",
       "                            <strong>Comm: </strong> inproc://192.168.100.11/8444/4\n",
       "                        </td>\n",
       "                        <td style=\"text-align: left;\">\n",
       "                            <strong>Total threads: </strong> 1\n",
       "                        </td>\n",
       "                    </tr>\n",
       "                    <tr>\n",
       "                        <td style=\"text-align: left;\">\n",
       "                            <strong>Dashboard: </strong> <a href=\"http://192.168.100.11:57368/status\" target=\"_blank\">http://192.168.100.11:57368/status</a>\n",
       "                        </td>\n",
       "                        <td style=\"text-align: left;\">\n",
       "                            <strong>Memory: </strong> 4.66 GiB\n",
       "                        </td>\n",
       "                    </tr>\n",
       "                    <tr>\n",
       "                        <td style=\"text-align: left;\">\n",
       "                            <strong>Nanny: </strong> None\n",
       "                        </td>\n",
       "                        <td style=\"text-align: left;\"></td>\n",
       "                    </tr>\n",
       "                    <tr>\n",
       "                        <td colspan=\"2\" style=\"text-align: left;\">\n",
       "                            <strong>Local directory: </strong> C:\\Users\\ozi\\AppData\\Local\\Temp\\dask-scratch-space\\worker-57d4pv5q\n",
       "                        </td>\n",
       "                    </tr>\n",
       "\n",
       "                    \n",
       "\n",
       "                    \n",
       "\n",
       "                </table>\n",
       "            </details>\n",
       "            </div>\n",
       "        </div>\n",
       "        \n",
       "        <div style=\"margin-bottom: 20px;\">\n",
       "            <div style=\"width: 24px; height: 24px; background-color: #DBF5FF; border: 3px solid #4CC9FF; border-radius: 5px; position: absolute;\"> </div>\n",
       "            <div style=\"margin-left: 48px;\">\n",
       "            <details>\n",
       "                <summary>\n",
       "                    <h4 style=\"margin-bottom: 0px; display: inline;\">Worker: 1</h4>\n",
       "                </summary>\n",
       "                <table style=\"width: 100%; text-align: left;\">\n",
       "                    <tr>\n",
       "                        <td style=\"text-align: left;\">\n",
       "                            <strong>Comm: </strong> inproc://192.168.100.11/8444/5\n",
       "                        </td>\n",
       "                        <td style=\"text-align: left;\">\n",
       "                            <strong>Total threads: </strong> 1\n",
       "                        </td>\n",
       "                    </tr>\n",
       "                    <tr>\n",
       "                        <td style=\"text-align: left;\">\n",
       "                            <strong>Dashboard: </strong> <a href=\"http://192.168.100.11:57369/status\" target=\"_blank\">http://192.168.100.11:57369/status</a>\n",
       "                        </td>\n",
       "                        <td style=\"text-align: left;\">\n",
       "                            <strong>Memory: </strong> 4.66 GiB\n",
       "                        </td>\n",
       "                    </tr>\n",
       "                    <tr>\n",
       "                        <td style=\"text-align: left;\">\n",
       "                            <strong>Nanny: </strong> None\n",
       "                        </td>\n",
       "                        <td style=\"text-align: left;\"></td>\n",
       "                    </tr>\n",
       "                    <tr>\n",
       "                        <td colspan=\"2\" style=\"text-align: left;\">\n",
       "                            <strong>Local directory: </strong> C:\\Users\\ozi\\AppData\\Local\\Temp\\dask-scratch-space\\worker-u_is3xww\n",
       "                        </td>\n",
       "                    </tr>\n",
       "\n",
       "                    \n",
       "\n",
       "                    \n",
       "\n",
       "                </table>\n",
       "            </details>\n",
       "            </div>\n",
       "        </div>\n",
       "        \n",
       "\n",
       "    </details>\n",
       "</div>\n",
       "\n",
       "        </details>\n",
       "    </div>\n",
       "</div>\n",
       "            </details>\n",
       "        \n",
       "\n",
       "    </div>\n",
       "</div>"
      ],
      "text/plain": [
       "<Client: 'inproc://192.168.100.11/8444/1' processes=2 threads=2, memory=9.31 GiB>"
      ]
     },
     "execution_count": 7,
     "metadata": {},
     "output_type": "execute_result"
    }
   ],
   "source": [
    "client"
   ]
  },
  {
   "cell_type": "code",
   "execution_count": 4,
   "metadata": {},
   "outputs": [
    {
     "data": {
      "text/plain": [
       "'http://127.0.0.1:8787/status'"
      ]
     },
     "execution_count": 4,
     "metadata": {},
     "output_type": "execute_result"
    }
   ],
   "source": [
    "#client.cluster.workers\n",
    "cluster.dashboard_link"
   ]
  },
  {
   "cell_type": "code",
   "execution_count": 12,
   "metadata": {},
   "outputs": [
    {
     "data": {
      "text/html": [
       "<div><strong>Dask DataFrame Structure:</strong></div>\n",
       "<table border=\"1\" class=\"dataframe\">\n",
       "  <thead>\n",
       "    <tr style=\"text-align: right;\">\n",
       "      <th></th>\n",
       "      <th>hvfhs_license_num</th>\n",
       "      <th>dispatching_base_num</th>\n",
       "      <th>originating_base_num</th>\n",
       "      <th>request_datetime</th>\n",
       "      <th>on_scene_datetime</th>\n",
       "      <th>pickup_datetime</th>\n",
       "      <th>dropoff_datetime</th>\n",
       "      <th>PULocationID</th>\n",
       "      <th>DOLocationID</th>\n",
       "      <th>trip_miles</th>\n",
       "      <th>trip_time</th>\n",
       "      <th>base_passenger_fare</th>\n",
       "      <th>tolls</th>\n",
       "      <th>bcf</th>\n",
       "      <th>sales_tax</th>\n",
       "      <th>congestion_surcharge</th>\n",
       "      <th>airport_fee</th>\n",
       "      <th>tips</th>\n",
       "      <th>driver_pay</th>\n",
       "      <th>shared_request_flag</th>\n",
       "      <th>shared_match_flag</th>\n",
       "      <th>access_a_ride_flag</th>\n",
       "      <th>wav_request_flag</th>\n",
       "      <th>wav_match_flag</th>\n",
       "    </tr>\n",
       "    <tr>\n",
       "      <th>npartitions=1</th>\n",
       "      <th></th>\n",
       "      <th></th>\n",
       "      <th></th>\n",
       "      <th></th>\n",
       "      <th></th>\n",
       "      <th></th>\n",
       "      <th></th>\n",
       "      <th></th>\n",
       "      <th></th>\n",
       "      <th></th>\n",
       "      <th></th>\n",
       "      <th></th>\n",
       "      <th></th>\n",
       "      <th></th>\n",
       "      <th></th>\n",
       "      <th></th>\n",
       "      <th></th>\n",
       "      <th></th>\n",
       "      <th></th>\n",
       "      <th></th>\n",
       "      <th></th>\n",
       "      <th></th>\n",
       "      <th></th>\n",
       "      <th></th>\n",
       "    </tr>\n",
       "  </thead>\n",
       "  <tbody>\n",
       "    <tr>\n",
       "      <th></th>\n",
       "      <td>string</td>\n",
       "      <td>string</td>\n",
       "      <td>string</td>\n",
       "      <td>datetime64[us]</td>\n",
       "      <td>datetime64[us]</td>\n",
       "      <td>datetime64[us]</td>\n",
       "      <td>datetime64[us]</td>\n",
       "      <td>int64</td>\n",
       "      <td>int64</td>\n",
       "      <td>float64</td>\n",
       "      <td>int64</td>\n",
       "      <td>float64</td>\n",
       "      <td>float64</td>\n",
       "      <td>float64</td>\n",
       "      <td>float64</td>\n",
       "      <td>float64</td>\n",
       "      <td>float64</td>\n",
       "      <td>float64</td>\n",
       "      <td>float64</td>\n",
       "      <td>string</td>\n",
       "      <td>string</td>\n",
       "      <td>string</td>\n",
       "      <td>string</td>\n",
       "      <td>string</td>\n",
       "    </tr>\n",
       "    <tr>\n",
       "      <th></th>\n",
       "      <td>...</td>\n",
       "      <td>...</td>\n",
       "      <td>...</td>\n",
       "      <td>...</td>\n",
       "      <td>...</td>\n",
       "      <td>...</td>\n",
       "      <td>...</td>\n",
       "      <td>...</td>\n",
       "      <td>...</td>\n",
       "      <td>...</td>\n",
       "      <td>...</td>\n",
       "      <td>...</td>\n",
       "      <td>...</td>\n",
       "      <td>...</td>\n",
       "      <td>...</td>\n",
       "      <td>...</td>\n",
       "      <td>...</td>\n",
       "      <td>...</td>\n",
       "      <td>...</td>\n",
       "      <td>...</td>\n",
       "      <td>...</td>\n",
       "      <td>...</td>\n",
       "      <td>...</td>\n",
       "      <td>...</td>\n",
       "    </tr>\n",
       "  </tbody>\n",
       "</table>\n",
       "<div>Dask Name: read_parquet, 1 expression</div>"
      ],
      "text/plain": [
       "Dask DataFrame Structure:\n",
       "              hvfhs_license_num dispatching_base_num originating_base_num request_datetime on_scene_datetime pickup_datetime dropoff_datetime PULocationID DOLocationID trip_miles trip_time base_passenger_fare    tolls      bcf sales_tax congestion_surcharge airport_fee     tips driver_pay shared_request_flag shared_match_flag access_a_ride_flag wav_request_flag wav_match_flag\n",
       "npartitions=1                                                                                                                                                                                                                                                                                                                                                                             \n",
       "                         string               string               string   datetime64[us]    datetime64[us]  datetime64[us]   datetime64[us]        int64        int64    float64     int64             float64  float64  float64   float64              float64     float64  float64    float64              string            string             string           string         string\n",
       "                            ...                  ...                  ...              ...               ...             ...              ...          ...          ...        ...       ...                 ...      ...      ...       ...                  ...         ...      ...        ...                 ...               ...                ...              ...            ...\n",
       "Dask Name: read_parquet, 1 expression\n",
       "Expr=ReadParquetFSSpec(9bf2a11)"
      ]
     },
     "execution_count": 12,
     "metadata": {},
     "output_type": "execute_result"
    }
   ],
   "source": [
    "df_dask"
   ]
  },
  {
   "cell_type": "code",
   "execution_count": 12,
   "metadata": {},
   "outputs": [
    {
     "name": "stdout",
     "output_type": "stream",
     "text": [
      "Número de filas: 14751591.0\n",
      "Número de columnas: 24\n"
     ]
    }
   ],
   "source": [
    "# Obtener el número de columnas\n",
    "columnas = len(df_dask.columns)\n",
    "\n",
    "# Obtener el número de filas\n",
    "num_filas = df_dask.shape[0].compute()\n",
    "\n",
    "# Imprimir el número de filas y columnas\n",
    "print(\"Número de filas:\", num_filas)\n",
    "print(\"Número de columnas:\", columnas)"
   ]
  },
  {
   "cell_type": "markdown",
   "metadata": {},
   "source": [
    "## General Preprocessing `High Volume FHV Trip Records`\n"
   ]
  },
  {
   "cell_type": "code",
   "execution_count": 3,
   "metadata": {},
   "outputs": [],
   "source": []
  },
  {
   "cell_type": "code",
   "execution_count": 13,
   "metadata": {},
   "outputs": [
    {
     "name": "stdout",
     "output_type": "stream",
     "text": [
      "hvfhs_license_num       string[pyarrow]\n",
      "dispatching_base_num    string[pyarrow]\n",
      "originating_base_num    string[pyarrow]\n",
      "request_datetime         datetime64[us]\n",
      "on_scene_datetime        datetime64[us]\n",
      "pickup_datetime          datetime64[us]\n",
      "dropoff_datetime         datetime64[us]\n",
      "PULocationID                      int64\n",
      "DOLocationID                      int64\n",
      "trip_miles                      float64\n",
      "trip_time                         int64\n",
      "base_passenger_fare             float64\n",
      "tolls                           float64\n",
      "bcf                             float64\n",
      "sales_tax                       float64\n",
      "congestion_surcharge            float64\n",
      "airport_fee                     float64\n",
      "tips                            float64\n",
      "driver_pay                      float64\n",
      "shared_request_flag     string[pyarrow]\n",
      "shared_match_flag       string[pyarrow]\n",
      "access_a_ride_flag      string[pyarrow]\n",
      "wav_request_flag        string[pyarrow]\n",
      "wav_match_flag          string[pyarrow]\n",
      "dtype: object\n"
     ]
    }
   ],
   "source": [
    "# Obtener el esquema de tipos de datos (dtype) de cada columna\n",
    "schema_dask = df_dask.dtypes\n",
    "print(schema_dask)"
   ]
  },
  {
   "cell_type": "code",
   "execution_count": 6,
   "metadata": {},
   "outputs": [
    {
     "data": {
      "text/html": [
       "<div>\n",
       "<style scoped>\n",
       "    .dataframe tbody tr th:only-of-type {\n",
       "        vertical-align: middle;\n",
       "    }\n",
       "\n",
       "    .dataframe tbody tr th {\n",
       "        vertical-align: top;\n",
       "    }\n",
       "\n",
       "    .dataframe thead th {\n",
       "        text-align: right;\n",
       "    }\n",
       "</style>\n",
       "<table border=\"1\" class=\"dataframe\">\n",
       "  <thead>\n",
       "    <tr style=\"text-align: right;\">\n",
       "      <th></th>\n",
       "      <th>hvfhs_license_num</th>\n",
       "      <th>dispatching_base_num</th>\n",
       "      <th>originating_base_num</th>\n",
       "      <th>request_datetime</th>\n",
       "      <th>on_scene_datetime</th>\n",
       "      <th>pickup_datetime</th>\n",
       "      <th>dropoff_datetime</th>\n",
       "      <th>PULocationID</th>\n",
       "      <th>DOLocationID</th>\n",
       "      <th>trip_miles</th>\n",
       "      <th>...</th>\n",
       "      <th>sales_tax</th>\n",
       "      <th>congestion_surcharge</th>\n",
       "      <th>airport_fee</th>\n",
       "      <th>tips</th>\n",
       "      <th>driver_pay</th>\n",
       "      <th>shared_request_flag</th>\n",
       "      <th>shared_match_flag</th>\n",
       "      <th>access_a_ride_flag</th>\n",
       "      <th>wav_request_flag</th>\n",
       "      <th>wav_match_flag</th>\n",
       "    </tr>\n",
       "  </thead>\n",
       "  <tbody>\n",
       "    <tr>\n",
       "      <th>0</th>\n",
       "      <td>HV0003</td>\n",
       "      <td>B03404</td>\n",
       "      <td>B03404</td>\n",
       "      <td>2022-01-01 00:05:31</td>\n",
       "      <td>2022-01-01 00:05:40</td>\n",
       "      <td>2022-01-01 00:07:24</td>\n",
       "      <td>2022-01-01 00:18:28</td>\n",
       "      <td>170</td>\n",
       "      <td>161</td>\n",
       "      <td>1.18</td>\n",
       "      <td>...</td>\n",
       "      <td>2.21</td>\n",
       "      <td>2.75</td>\n",
       "      <td>0.0</td>\n",
       "      <td>0.0</td>\n",
       "      <td>23.03</td>\n",
       "      <td>N</td>\n",
       "      <td>N</td>\n",
       "      <td></td>\n",
       "      <td>N</td>\n",
       "      <td>N</td>\n",
       "    </tr>\n",
       "    <tr>\n",
       "      <th>1</th>\n",
       "      <td>HV0003</td>\n",
       "      <td>B03404</td>\n",
       "      <td>B03404</td>\n",
       "      <td>2022-01-01 00:19:27</td>\n",
       "      <td>2022-01-01 00:22:08</td>\n",
       "      <td>2022-01-01 00:22:32</td>\n",
       "      <td>2022-01-01 00:30:12</td>\n",
       "      <td>237</td>\n",
       "      <td>161</td>\n",
       "      <td>0.82</td>\n",
       "      <td>...</td>\n",
       "      <td>1.06</td>\n",
       "      <td>2.75</td>\n",
       "      <td>0.0</td>\n",
       "      <td>0.0</td>\n",
       "      <td>12.32</td>\n",
       "      <td>N</td>\n",
       "      <td>N</td>\n",
       "      <td></td>\n",
       "      <td>N</td>\n",
       "      <td>N</td>\n",
       "    </tr>\n",
       "    <tr>\n",
       "      <th>2</th>\n",
       "      <td>HV0003</td>\n",
       "      <td>B03404</td>\n",
       "      <td>B03404</td>\n",
       "      <td>2022-01-01 00:43:53</td>\n",
       "      <td>2022-01-01 00:57:37</td>\n",
       "      <td>2022-01-01 00:57:37</td>\n",
       "      <td>2022-01-01 01:07:32</td>\n",
       "      <td>237</td>\n",
       "      <td>161</td>\n",
       "      <td>1.18</td>\n",
       "      <td>...</td>\n",
       "      <td>2.65</td>\n",
       "      <td>2.75</td>\n",
       "      <td>0.0</td>\n",
       "      <td>0.0</td>\n",
       "      <td>23.30</td>\n",
       "      <td>N</td>\n",
       "      <td>N</td>\n",
       "      <td></td>\n",
       "      <td>N</td>\n",
       "      <td>N</td>\n",
       "    </tr>\n",
       "    <tr>\n",
       "      <th>3</th>\n",
       "      <td>HV0003</td>\n",
       "      <td>B03404</td>\n",
       "      <td>B03404</td>\n",
       "      <td>2022-01-01 00:15:36</td>\n",
       "      <td>2022-01-01 00:17:08</td>\n",
       "      <td>2022-01-01 00:18:02</td>\n",
       "      <td>2022-01-01 00:23:05</td>\n",
       "      <td>262</td>\n",
       "      <td>229</td>\n",
       "      <td>1.65</td>\n",
       "      <td>...</td>\n",
       "      <td>0.70</td>\n",
       "      <td>2.75</td>\n",
       "      <td>0.0</td>\n",
       "      <td>0.0</td>\n",
       "      <td>6.30</td>\n",
       "      <td>N</td>\n",
       "      <td>N</td>\n",
       "      <td></td>\n",
       "      <td>N</td>\n",
       "      <td>N</td>\n",
       "    </tr>\n",
       "    <tr>\n",
       "      <th>4</th>\n",
       "      <td>HV0003</td>\n",
       "      <td>B03404</td>\n",
       "      <td>B03404</td>\n",
       "      <td>2022-01-01 00:25:45</td>\n",
       "      <td>2022-01-01 00:26:01</td>\n",
       "      <td>2022-01-01 00:28:01</td>\n",
       "      <td>2022-01-01 00:35:42</td>\n",
       "      <td>229</td>\n",
       "      <td>141</td>\n",
       "      <td>1.65</td>\n",
       "      <td>...</td>\n",
       "      <td>0.84</td>\n",
       "      <td>2.75</td>\n",
       "      <td>0.0</td>\n",
       "      <td>0.0</td>\n",
       "      <td>7.44</td>\n",
       "      <td>N</td>\n",
       "      <td>N</td>\n",
       "      <td></td>\n",
       "      <td>N</td>\n",
       "      <td>N</td>\n",
       "    </tr>\n",
       "  </tbody>\n",
       "</table>\n",
       "<p>5 rows × 24 columns</p>\n",
       "</div>"
      ],
      "text/plain": [
       "  hvfhs_license_num dispatching_base_num originating_base_num  \\\n",
       "0            HV0003               B03404               B03404   \n",
       "1            HV0003               B03404               B03404   \n",
       "2            HV0003               B03404               B03404   \n",
       "3            HV0003               B03404               B03404   \n",
       "4            HV0003               B03404               B03404   \n",
       "\n",
       "     request_datetime   on_scene_datetime     pickup_datetime  \\\n",
       "0 2022-01-01 00:05:31 2022-01-01 00:05:40 2022-01-01 00:07:24   \n",
       "1 2022-01-01 00:19:27 2022-01-01 00:22:08 2022-01-01 00:22:32   \n",
       "2 2022-01-01 00:43:53 2022-01-01 00:57:37 2022-01-01 00:57:37   \n",
       "3 2022-01-01 00:15:36 2022-01-01 00:17:08 2022-01-01 00:18:02   \n",
       "4 2022-01-01 00:25:45 2022-01-01 00:26:01 2022-01-01 00:28:01   \n",
       "\n",
       "     dropoff_datetime  PULocationID  DOLocationID  trip_miles  ...  sales_tax  \\\n",
       "0 2022-01-01 00:18:28           170           161        1.18  ...       2.21   \n",
       "1 2022-01-01 00:30:12           237           161        0.82  ...       1.06   \n",
       "2 2022-01-01 01:07:32           237           161        1.18  ...       2.65   \n",
       "3 2022-01-01 00:23:05           262           229        1.65  ...       0.70   \n",
       "4 2022-01-01 00:35:42           229           141        1.65  ...       0.84   \n",
       "\n",
       "   congestion_surcharge  airport_fee  tips  driver_pay  shared_request_flag  \\\n",
       "0                  2.75          0.0   0.0       23.03                    N   \n",
       "1                  2.75          0.0   0.0       12.32                    N   \n",
       "2                  2.75          0.0   0.0       23.30                    N   \n",
       "3                  2.75          0.0   0.0        6.30                    N   \n",
       "4                  2.75          0.0   0.0        7.44                    N   \n",
       "\n",
       "   shared_match_flag  access_a_ride_flag  wav_request_flag wav_match_flag  \n",
       "0                  N                                     N              N  \n",
       "1                  N                                     N              N  \n",
       "2                  N                                     N              N  \n",
       "3                  N                                     N              N  \n",
       "4                  N                                     N              N  \n",
       "\n",
       "[5 rows x 24 columns]"
      ]
     },
     "execution_count": 6,
     "metadata": {},
     "output_type": "execute_result"
    }
   ],
   "source": [
    "# Obtener los primeros 15 registros del DataFrame de Dask\n",
    "df_dask.head()"
   ]
  },
  {
   "cell_type": "code",
   "execution_count": 14,
   "metadata": {},
   "outputs": [],
   "source": [
    "# Eliminar las columnas originales de fecha y hora\n",
    "columnas_a_eliminar = ['originating_base_num', 'access_a_ride_flag', 'wav_request_flag', 'wav_match_flag', 'shared_request_flag', 'shared_match_flag','access_a_ride_flag']\n",
    "df_dask = df_dask.drop(columnas_a_eliminar, axis=1)\n",
    "# Llamar a compute para ejecutar la operación y modificar el DataFrame\n",
    "#df_dask = df_dask.compute()"
   ]
  },
  {
   "cell_type": "code",
   "execution_count": 15,
   "metadata": {},
   "outputs": [
    {
     "name": "stdout",
     "output_type": "stream",
     "text": [
      "Número de filas: 14751591.0\n",
      "Número de columnas: 18\n"
     ]
    }
   ],
   "source": [
    "# Obtener el número de columnas\n",
    "columnas = len(df_dask.columns)\n",
    "\n",
    "# Obtener el número de filas\n",
    "num_filas = df_dask.shape[0].compute()\n",
    "\n",
    "# Imprimir el número de filas y columnas\n",
    "print(\"Número de filas:\", num_filas)\n",
    "print(\"Número de columnas:\", columnas)"
   ]
  },
  {
   "cell_type": "code",
   "execution_count": null,
   "metadata": {},
   "outputs": [],
   "source": []
  },
  {
   "cell_type": "markdown",
   "metadata": {},
   "source": [
    "### Preprocesamiento Variables de Tipos Fechas `pickup_datetime`, `dropoff_datetime`,  `request_datetime` y  `on_scene_datetime`"
   ]
  },
  {
   "cell_type": "code",
   "execution_count": null,
   "metadata": {},
   "outputs": [],
   "source": []
  },
  {
   "cell_type": "code",
   "execution_count": 16,
   "metadata": {},
   "outputs": [],
   "source": [
    "# Convertir las columnas de fechas a tipo DateTime en Dask\n",
    "df_dask['pickup_datetime'] = dd.to_datetime(df_dask['pickup_datetime'])\n",
    "df_dask['dropoff_datetime'] = dd.to_datetime(df_dask['dropoff_datetime'])"
   ]
  },
  {
   "cell_type": "code",
   "execution_count": 17,
   "metadata": {},
   "outputs": [],
   "source": [
    "# Calcular la duración del viaje en segundos\n",
    "df_dask['viaje_segundos'] = (df_dask['dropoff_datetime'] - df_dask['pickup_datetime']).dt.total_seconds()"
   ]
  },
  {
   "cell_type": "code",
   "execution_count": 18,
   "metadata": {},
   "outputs": [],
   "source": [
    "# Eliminar las columnas originales de fecha y hora\n",
    "df_dask = df_dask.drop(['pickup_datetime', 'dropoff_datetime'], axis=1)"
   ]
  },
  {
   "cell_type": "code",
   "execution_count": 19,
   "metadata": {},
   "outputs": [
    {
     "name": "stdout",
     "output_type": "stream",
     "text": [
      "Número de filas: 14751591.0\n",
      "Número de columnas: 17\n"
     ]
    }
   ],
   "source": [
    "# Obtener el número de columnas\n",
    "columnas = len(df_dask.columns)\n",
    "\n",
    "# Obtener el número de filas\n",
    "num_filas = df_dask.shape[0].compute()\n",
    "\n",
    "# Imprimir el número de filas y columnas\n",
    "print(\"Número de filas:\", num_filas)\n",
    "print(\"Número de columnas:\", columnas)"
   ]
  },
  {
   "cell_type": "code",
   "execution_count": null,
   "metadata": {},
   "outputs": [],
   "source": []
  },
  {
   "cell_type": "code",
   "execution_count": null,
   "metadata": {},
   "outputs": [],
   "source": []
  },
  {
   "cell_type": "code",
   "execution_count": 20,
   "metadata": {},
   "outputs": [],
   "source": [
    "# Convertir las columnas de fechas a tipo DateTime en Dask\n",
    "df_dask['request_datetime'] = dd.to_datetime(df_dask['request_datetime'])\n",
    "df_dask['on_scene_datetime'] = dd.to_datetime(df_dask['on_scene_datetime'])"
   ]
  },
  {
   "cell_type": "code",
   "execution_count": 21,
   "metadata": {},
   "outputs": [],
   "source": [
    "# Calcular la duración de espera en segundos\n",
    "df_dask['espera_segundos'] = (df_dask['on_scene_datetime'] - df_dask['request_datetime']).dt.total_seconds()"
   ]
  },
  {
   "cell_type": "code",
   "execution_count": 15,
   "metadata": {},
   "outputs": [],
   "source": [
    "# Eliminar las columnas originales de fecha y hora\n",
    "#df_dask = df_dask.drop(['request_datetime', 'on_scene_datetime'], axis=1)"
   ]
  },
  {
   "cell_type": "code",
   "execution_count": 22,
   "metadata": {},
   "outputs": [
    {
     "name": "stdout",
     "output_type": "stream",
     "text": [
      "Número de filas: 14751591.0\n",
      "Número de columnas: 18\n"
     ]
    }
   ],
   "source": [
    "# Obtener el número de columnas\n",
    "columnas = len(df_dask.columns)\n",
    "\n",
    "# Obtener el número de filas\n",
    "num_filas = df_dask.shape[0].compute()\n",
    "\n",
    "# Imprimir el número de filas y columnas\n",
    "print(\"Número de filas:\", num_filas)\n",
    "print(\"Número de columnas:\", columnas)"
   ]
  },
  {
   "cell_type": "code",
   "execution_count": null,
   "metadata": {},
   "outputs": [],
   "source": []
  },
  {
   "cell_type": "code",
   "execution_count": 17,
   "metadata": {},
   "outputs": [],
   "source": []
  },
  {
   "cell_type": "code",
   "execution_count": null,
   "metadata": {},
   "outputs": [],
   "source": []
  },
  {
   "cell_type": "code",
   "execution_count": null,
   "metadata": {},
   "outputs": [],
   "source": []
  },
  {
   "cell_type": "markdown",
   "metadata": {},
   "source": [
    "### Preprocesamiento Variables de Tipos Númericas"
   ]
  },
  {
   "cell_type": "code",
   "execution_count": null,
   "metadata": {},
   "outputs": [],
   "source": []
  },
  {
   "cell_type": "code",
   "execution_count": 23,
   "metadata": {},
   "outputs": [],
   "source": [
    "# Reemplazar los valores nulos por 0.00 en las columnas relevantes\n",
    "relevant_columns = ['base_passenger_fare', 'tolls', 'bcf', 'sales_tax', 'congestion_surcharge',\n",
    "                    'airport_fee', 'tips', 'driver_pay']\n",
    "\n",
    "# Reemplazar los valores nulos por 0.00 en todas las columnas relevantes\n",
    "for col in relevant_columns:\n",
    "    df_dask[col] = df_dask[col].fillna(0.00)"
   ]
  },
  {
   "cell_type": "code",
   "execution_count": 24,
   "metadata": {},
   "outputs": [],
   "source": [
    "relevant_columns = ['base_passenger_fare', 'tolls', 'bcf', 'sales_tax', 'congestion_surcharge', 'airport_fee', 'tips', 'driver_pay']\n",
    "df_dask['total_amount'] = df_dask[relevant_columns].sum(axis=1)"
   ]
  },
  {
   "cell_type": "code",
   "execution_count": 25,
   "metadata": {},
   "outputs": [],
   "source": [
    "# Eliminar las columnas originales de fecha y hora\n",
    "columnas_a_eliminar = ['tolls', 'bcf', 'sales_tax', 'congestion_surcharge','airport_fee', 'tips', 'driver_pay']\n",
    "df_dask = df_dask.drop(columnas_a_eliminar, axis=1)"
   ]
  },
  {
   "cell_type": "code",
   "execution_count": 26,
   "metadata": {},
   "outputs": [
    {
     "name": "stdout",
     "output_type": "stream",
     "text": [
      "Número de filas: 14751591.0\n",
      "Número de columnas: 12\n"
     ]
    }
   ],
   "source": [
    "# Obtener el número de columnas\n",
    "columnas = len(df_dask.columns)\n",
    "\n",
    "# Obtener el número de filas\n",
    "num_filas = df_dask.shape[0].compute()\n",
    "\n",
    "# Imprimir el número de filas y columnas\n",
    "print(\"Número de filas:\", num_filas)\n",
    "print(\"Número de columnas:\", columnas)"
   ]
  },
  {
   "cell_type": "code",
   "execution_count": 22,
   "metadata": {},
   "outputs": [
    {
     "data": {
      "text/html": [
       "<div>\n",
       "<style scoped>\n",
       "    .dataframe tbody tr th:only-of-type {\n",
       "        vertical-align: middle;\n",
       "    }\n",
       "\n",
       "    .dataframe tbody tr th {\n",
       "        vertical-align: top;\n",
       "    }\n",
       "\n",
       "    .dataframe thead th {\n",
       "        text-align: right;\n",
       "    }\n",
       "</style>\n",
       "<table border=\"1\" class=\"dataframe\">\n",
       "  <thead>\n",
       "    <tr style=\"text-align: right;\">\n",
       "      <th></th>\n",
       "      <th>hvfhs_license_num</th>\n",
       "      <th>dispatching_base_num</th>\n",
       "      <th>PULocationID</th>\n",
       "      <th>DOLocationID</th>\n",
       "      <th>trip_miles</th>\n",
       "      <th>trip_time</th>\n",
       "      <th>base_passenger_fare</th>\n",
       "      <th>viaje_segundos</th>\n",
       "      <th>espera_segundos</th>\n",
       "      <th>total_amount</th>\n",
       "    </tr>\n",
       "  </thead>\n",
       "  <tbody>\n",
       "    <tr>\n",
       "      <th>0</th>\n",
       "      <td>HV0003</td>\n",
       "      <td>B03404</td>\n",
       "      <td>170</td>\n",
       "      <td>161</td>\n",
       "      <td>1.18</td>\n",
       "      <td>664</td>\n",
       "      <td>24.90</td>\n",
       "      <td>664.0</td>\n",
       "      <td>9.0</td>\n",
       "      <td>53.64</td>\n",
       "    </tr>\n",
       "    <tr>\n",
       "      <th>1</th>\n",
       "      <td>HV0003</td>\n",
       "      <td>B03404</td>\n",
       "      <td>237</td>\n",
       "      <td>161</td>\n",
       "      <td>0.82</td>\n",
       "      <td>460</td>\n",
       "      <td>11.97</td>\n",
       "      <td>460.0</td>\n",
       "      <td>161.0</td>\n",
       "      <td>28.46</td>\n",
       "    </tr>\n",
       "    <tr>\n",
       "      <th>2</th>\n",
       "      <td>HV0003</td>\n",
       "      <td>B03404</td>\n",
       "      <td>237</td>\n",
       "      <td>161</td>\n",
       "      <td>1.18</td>\n",
       "      <td>595</td>\n",
       "      <td>29.82</td>\n",
       "      <td>595.0</td>\n",
       "      <td>824.0</td>\n",
       "      <td>59.41</td>\n",
       "    </tr>\n",
       "    <tr>\n",
       "      <th>3</th>\n",
       "      <td>HV0003</td>\n",
       "      <td>B03404</td>\n",
       "      <td>262</td>\n",
       "      <td>229</td>\n",
       "      <td>1.65</td>\n",
       "      <td>303</td>\n",
       "      <td>7.91</td>\n",
       "      <td>303.0</td>\n",
       "      <td>92.0</td>\n",
       "      <td>17.90</td>\n",
       "    </tr>\n",
       "    <tr>\n",
       "      <th>4</th>\n",
       "      <td>HV0003</td>\n",
       "      <td>B03404</td>\n",
       "      <td>229</td>\n",
       "      <td>141</td>\n",
       "      <td>1.65</td>\n",
       "      <td>461</td>\n",
       "      <td>9.44</td>\n",
       "      <td>461.0</td>\n",
       "      <td>16.0</td>\n",
       "      <td>20.75</td>\n",
       "    </tr>\n",
       "  </tbody>\n",
       "</table>\n",
       "</div>"
      ],
      "text/plain": [
       "  hvfhs_license_num dispatching_base_num  PULocationID  DOLocationID  \\\n",
       "0            HV0003               B03404           170           161   \n",
       "1            HV0003               B03404           237           161   \n",
       "2            HV0003               B03404           237           161   \n",
       "3            HV0003               B03404           262           229   \n",
       "4            HV0003               B03404           229           141   \n",
       "\n",
       "   trip_miles  trip_time  base_passenger_fare  viaje_segundos  \\\n",
       "0        1.18        664                24.90           664.0   \n",
       "1        0.82        460                11.97           460.0   \n",
       "2        1.18        595                29.82           595.0   \n",
       "3        1.65        303                 7.91           303.0   \n",
       "4        1.65        461                 9.44           461.0   \n",
       "\n",
       "   espera_segundos  total_amount  \n",
       "0              9.0         53.64  \n",
       "1            161.0         28.46  \n",
       "2            824.0         59.41  \n",
       "3             92.0         17.90  \n",
       "4             16.0         20.75  "
      ]
     },
     "execution_count": 22,
     "metadata": {},
     "output_type": "execute_result"
    }
   ],
   "source": [
    "df_dask.head()"
   ]
  },
  {
   "cell_type": "code",
   "execution_count": 27,
   "metadata": {},
   "outputs": [],
   "source": [
    "#df_pyarrow = df_dask.map_partitions(pa.Table.from_pandas).compute()\n",
    "#df_final_computado = df_dask.compute()\n",
    "#df_final_computado"
   ]
  },
  {
   "cell_type": "code",
   "execution_count": null,
   "metadata": {},
   "outputs": [],
   "source": [
    "#print(\"Número de particiones:\", df_final_computado.npartitions)\n"
   ]
  },
  {
   "cell_type": "code",
   "execution_count": null,
   "metadata": {},
   "outputs": [],
   "source": []
  },
  {
   "cell_type": "code",
   "execution_count": null,
   "metadata": {},
   "outputs": [],
   "source": []
  },
  {
   "cell_type": "code",
   "execution_count": 1,
   "metadata": {},
   "outputs": [
    {
     "data": {
      "text/plain": [
       "4"
      ]
     },
     "execution_count": 1,
     "metadata": {},
     "output_type": "execute_result"
    }
   ],
   "source": [
    "from dask.distributed import Client, LocalCluster\n",
    "import dask.dataframe as dd\n",
    "import multiprocessing\n",
    "\n",
    "# Número de núcleos de CPU disponibles\n",
    "num_cores = multiprocessing.cpu_count()\n",
    "num_cores"
   ]
  },
  {
   "cell_type": "code",
   "execution_count": 5,
   "metadata": {},
   "outputs": [],
   "source": [
    "# 4. Dividir el DataFrame en particiones y escribir en archivos Parquet\n",
    "particiones = df_dask.to_delayed()\n",
    "ruta_salida = '../datasets/processed/ffvh_analys_part'\n",
    "for i, particion in enumerate(particiones):\n",
    "    particion.to_parquet(f'{ruta_salida}{i}.parquet', engine='pyarrow')"
   ]
  },
  {
   "cell_type": "code",
   "execution_count": 7,
   "metadata": {},
   "outputs": [],
   "source": [
    "# 6. Leer los archivos Parquet procesados (si es necesario)\n",
    "archivos_procesados = f'{ruta_salida}*.parquet'\n",
    "df_procesado = dd.read_parquet(archivos_procesados, engine='pyarrow')"
   ]
  },
  {
   "cell_type": "code",
   "execution_count": null,
   "metadata": {},
   "outputs": [],
   "source": []
  },
  {
   "cell_type": "code",
   "execution_count": 3,
   "metadata": {},
   "outputs": [
    {
     "name": "stderr",
     "output_type": "stream",
     "text": [
      "C:\\Users\\ozi\\AppData\\Local\\Programs\\Python\\Python310\\lib\\site-packages\\distributed\\node.py:182: UserWarning: Port 8787 is already in use.\n",
      "Perhaps you already have a cluster running?\n",
      "Hosting the HTTP server on port 50555 instead\n",
      "  warnings.warn(\n",
      "C:\\Users\\ozi\\AppData\\Local\\Programs\\Python\\Python310\\lib\\site-packages\\distributed\\client.py:3157: UserWarning: Sending large graph of size 28.14 MiB.\n",
      "This may cause some slowdown.\n",
      "Consider scattering data ahead of time and using futures.\n",
      "  warnings.warn(\n",
      "C:\\Users\\ozi\\AppData\\Local\\Programs\\Python\\Python310\\lib\\site-packages\\distributed\\client.py:3157: UserWarning: Sending large graph of size 28.14 MiB.\n",
      "This may cause some slowdown.\n",
      "Consider scattering data ahead of time and using futures.\n",
      "  warnings.warn(\n",
      "C:\\Users\\ozi\\AppData\\Local\\Programs\\Python\\Python310\\lib\\site-packages\\distributed\\client.py:3157: UserWarning: Sending large graph of size 28.14 MiB.\n",
      "This may cause some slowdown.\n",
      "Consider scattering data ahead of time and using futures.\n",
      "  warnings.warn(\n",
      "C:\\Users\\ozi\\AppData\\Local\\Programs\\Python\\Python310\\lib\\site-packages\\distributed\\client.py:3157: UserWarning: Sending large graph of size 28.14 MiB.\n",
      "This may cause some slowdown.\n",
      "Consider scattering data ahead of time and using futures.\n",
      "  warnings.warn(\n",
      "C:\\Users\\ozi\\AppData\\Local\\Programs\\Python\\Python310\\lib\\site-packages\\distributed\\client.py:3157: UserWarning: Sending large graph of size 28.14 MiB.\n",
      "This may cause some slowdown.\n",
      "Consider scattering data ahead of time and using futures.\n",
      "  warnings.warn(\n",
      "C:\\Users\\ozi\\AppData\\Local\\Programs\\Python\\Python310\\lib\\site-packages\\distributed\\client.py:3157: UserWarning: Sending large graph of size 28.14 MiB.\n",
      "This may cause some slowdown.\n",
      "Consider scattering data ahead of time and using futures.\n",
      "  warnings.warn(\n",
      "C:\\Users\\ozi\\AppData\\Local\\Programs\\Python\\Python310\\lib\\site-packages\\distributed\\client.py:3157: UserWarning: Sending large graph of size 28.14 MiB.\n",
      "This may cause some slowdown.\n",
      "Consider scattering data ahead of time and using futures.\n",
      "  warnings.warn(\n",
      "C:\\Users\\ozi\\AppData\\Local\\Programs\\Python\\Python310\\lib\\site-packages\\distributed\\client.py:3157: UserWarning: Sending large graph of size 28.14 MiB.\n",
      "This may cause some slowdown.\n",
      "Consider scattering data ahead of time and using futures.\n",
      "  warnings.warn(\n",
      "C:\\Users\\ozi\\AppData\\Local\\Programs\\Python\\Python310\\lib\\site-packages\\distributed\\client.py:3157: UserWarning: Sending large graph of size 28.14 MiB.\n",
      "This may cause some slowdown.\n",
      "Consider scattering data ahead of time and using futures.\n",
      "  warnings.warn(\n",
      "C:\\Users\\ozi\\AppData\\Local\\Programs\\Python\\Python310\\lib\\site-packages\\distributed\\client.py:3157: UserWarning: Sending large graph of size 28.14 MiB.\n",
      "This may cause some slowdown.\n",
      "Consider scattering data ahead of time and using futures.\n",
      "  warnings.warn(\n",
      "C:\\Users\\ozi\\AppData\\Local\\Programs\\Python\\Python310\\lib\\site-packages\\distributed\\client.py:3157: UserWarning: Sending large graph of size 28.14 MiB.\n",
      "This may cause some slowdown.\n",
      "Consider scattering data ahead of time and using futures.\n",
      "  warnings.warn(\n",
      "C:\\Users\\ozi\\AppData\\Local\\Programs\\Python\\Python310\\lib\\site-packages\\distributed\\client.py:3157: UserWarning: Sending large graph of size 28.14 MiB.\n",
      "This may cause some slowdown.\n",
      "Consider scattering data ahead of time and using futures.\n",
      "  warnings.warn(\n",
      "C:\\Users\\ozi\\AppData\\Local\\Programs\\Python\\Python310\\lib\\site-packages\\distributed\\client.py:3157: UserWarning: Sending large graph of size 28.14 MiB.\n",
      "This may cause some slowdown.\n",
      "Consider scattering data ahead of time and using futures.\n",
      "  warnings.warn(\n",
      "C:\\Users\\ozi\\AppData\\Local\\Programs\\Python\\Python310\\lib\\site-packages\\distributed\\client.py:3157: UserWarning: Sending large graph of size 28.14 MiB.\n",
      "This may cause some slowdown.\n",
      "Consider scattering data ahead of time and using futures.\n",
      "  warnings.warn(\n",
      "C:\\Users\\ozi\\AppData\\Local\\Programs\\Python\\Python310\\lib\\site-packages\\distributed\\client.py:3157: UserWarning: Sending large graph of size 28.14 MiB.\n",
      "This may cause some slowdown.\n",
      "Consider scattering data ahead of time and using futures.\n",
      "  warnings.warn(\n",
      "C:\\Users\\ozi\\AppData\\Local\\Programs\\Python\\Python310\\lib\\site-packages\\distributed\\client.py:3157: UserWarning: Sending large graph of size 28.14 MiB.\n",
      "This may cause some slowdown.\n",
      "Consider scattering data ahead of time and using futures.\n",
      "  warnings.warn(\n"
     ]
    }
   ],
   "source": [
    "import dask.dataframe as dd\n",
    "from dask.distributed import Client, LocalCluster\n",
    "\n",
    "# Configurar el clúster de Dask\n",
    "cluster = LocalCluster(n_workers=2, threads_per_worker=1, memory_limit='12GB')\n",
    "client = Client(cluster)\n",
    "\n",
    "# Definir una función de procesamiento avanzado por partición\n",
    "def procesamiento_avanzado_particion(df):\n",
    "    # Filtrar y eliminar columnas no deseadas\n",
    "    columnas_a_eliminar = ['originating_base_num', 'access_a_ride_flag', 'wav_request_flag', \n",
    "                           'wav_match_flag', 'shared_request_flag', 'shared_match_flag',\n",
    "                           'access_a_ride_flag']\n",
    "    df = df.drop(columnas_a_eliminar, axis=1)\n",
    "\n",
    "    # Convertir columnas de fechas a tipo DateTime en Dask\n",
    "    for col in ['pickup_datetime', 'dropoff_datetime', 'request_datetime', 'on_scene_datetime']:\n",
    "        df[col] = dd.to_datetime(df[col])\n",
    "\n",
    "    # Agregar columnas para fechas, horas, minutos y segundos\n",
    "    for col in ['pickup_datetime', 'dropoff_datetime', 'request_datetime', 'on_scene_datetime']:\n",
    "        df[col + '_fecha'] = df[col].dt.date\n",
    "        df[col + '_hora_minuto'] = df[col].dt.strftime('%H:%M')  # Formatear como HH:MM\n",
    "    # Calcular la duración del viaje y de espera en segundos\n",
    "    df['duracion_viaje'] = (df['dropoff_datetime'] - df['pickup_datetime']).dt.total_seconds()\n",
    "    df['duracion_atencion'] = (df['on_scene_datetime'] - df['request_datetime']).dt.total_seconds()\n",
    "\n",
    "    # Eliminar filas con duraciones negativas o nulas\n",
    "    df = df[df['duracion_viaje'] > 0]\n",
    "    df = df[df['duracion_atencion'] >= 0]\n",
    "    # Eliminar columnas originales\n",
    "    df = df.drop(columns=['pickup_datetime', 'dropoff_datetime', 'request_datetime', 'on_scene_datetime'])\n",
    "    # Reemplazar valores nulos por 0.00 en columnas relevantes\n",
    "    relevant_columns = ['base_passenger_fare', 'tolls', 'bcf', 'sales_tax', 'congestion_surcharge',\n",
    "                        'airport_fee', 'tips', 'driver_pay']\n",
    "    df = df.fillna({col: 0.00 for col in relevant_columns})\n",
    "\n",
    "    # Calcular la columna 'total_amount' sumando las columnas relevantes\n",
    "    df['total_amount'] = df[relevant_columns].sum(axis=1)\n",
    "\n",
    "    # Eliminar columnas no deseadas\n",
    "    columnas_a_eliminar = ['tolls', 'bcf', 'sales_tax', 'congestion_surcharge', \n",
    "                           'airport_fee', 'tips', 'driver_pay']\n",
    "    df = df.drop(columnas_a_eliminar, axis=1)\n",
    "\n",
    "    return df\n",
    "\n",
    "# Cargar los datos en un DataFrame distribuido de Dask y particionarlo\n",
    "directorio = \"../datasets/raw/fhvhv_tripdata_2022-01.parquet\"\n",
    "df_dask = dd.read_parquet(directorio, engine='pyarrow')\n",
    "df_dask_particionado = df_dask.repartition(npartitions=4)\n",
    "\n",
    "# Aplicar el procesamiento avanzado a cada partición y escribir en parquet\n",
    "for i, particion in enumerate(df_dask_particionado.to_delayed()):\n",
    "    df_particion_procesado = procesamiento_avanzado_particion(particion.compute())\n",
    "    ruta_salida = f'../datasets/processed/ffvh_analys/ffvh_analys_part_{i}.parquet'\n",
    "    df_particion_procesado.to_parquet(ruta_salida, engine='pyarrow')"
   ]
  },
  {
   "cell_type": "code",
   "execution_count": 4,
   "metadata": {},
   "outputs": [],
   "source": [
    "# 5. Cerrar el clúster de Dask\n",
    "client.close()\n",
    "cluster.close()"
   ]
  },
  {
   "cell_type": "code",
   "execution_count": null,
   "metadata": {},
   "outputs": [],
   "source": []
  },
  {
   "cell_type": "code",
   "execution_count": null,
   "metadata": {},
   "outputs": [],
   "source": []
  }
 ],
 "metadata": {
  "kernelspec": {
   "display_name": "Python 3 (ipykernel)",
   "language": "python",
   "name": "python3"
  },
  "language_info": {
   "codemirror_mode": {
    "name": "ipython",
    "version": 3
   },
   "file_extension": ".py",
   "mimetype": "text/x-python",
   "name": "python",
   "nbconvert_exporter": "python",
   "pygments_lexer": "ipython3",
   "version": "3.10.11"
  }
 },
 "nbformat": 4,
 "nbformat_minor": 4
}
