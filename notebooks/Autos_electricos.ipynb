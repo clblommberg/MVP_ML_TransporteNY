{
 "cells": [
  {
   "cell_type": "code",
   "execution_count": null,
   "metadata": {},
   "outputs": [],
   "source": [
    "#Seba\n",
    "import pandas as pd\n",
    "from ckanapi import RemoteCKAN\n",
    "\n",
    "def scrape_ckan_data(resource_id, limit):\n",
    "    # URL del CKAN\n",
    "    ckan_url = 'https://open.canada.ca/data/en/'\n",
    "\n",
    "    # Inicializar el objeto RemoteCKAN\n",
    "    rc = RemoteCKAN(ckan_url)\n",
    "\n",
    "    # Construir la consulta para recuperar datos específicos utilizando algunos campos del diccionario de datos\n",
    "    query = {\n",
    "        \"resource_id\": resource_id,\n",
    "        \"fields\": [\n",
    "            \"Model year\",\n",
    "            \"Make\",\n",
    "            \"Model\",\n",
    "            \"Vehicle class\",\n",
    "            \"Motor (kW)\",\n",
    "            \"Transmission\",\n",
    "            \"Fuel type\",\n",
    "            \"City (kWh/100 km)\",\n",
    "            \"Highway (kWh/100 km)\",\n",
    "            \"Combined (kWh/100 km)\",\n",
    "            \"City (Le/100 km)\",\n",
    "            \"Highway (Le/100 km)\",\n",
    "            \"Combined (Le/100 km)\",\n",
    "            \"Range (km)\",\n",
    "            \"CO2 emissions (g/km)\",\n",
    "            \"CO2 rating\",\n",
    "            \"Smog rating\",\n",
    "            \"Recharge time (h)\"\n",
    "        ],\n",
    "        \"limit\": limit\n",
    "    }\n",
    "\n",
    "    # Realizar la consulta\n",
    "    result = rc.action.datastore_search(**query)\n",
    "\n",
    "    # Obtener los registros\n",
    "    records = result['records']\n",
    "\n",
    "    # Convertir los registros a un DataFrame de pandas\n",
    "    df = pd.DataFrame(records)\n",
    "    \n",
    "    return df\n",
    "\n",
    "# Llamar a la función para cada recurso y obtener los datos\n",
    "df_electric = scrape_ckan_data(\"026e45b4-eb63-451f-b34f-d9308ea3a3d9\", 668)  # Battery-electric vehicles (2012-2024)"
   ]
  },
  {
   "cell_type": "code",
   "execution_count": null,
   "metadata": {},
   "outputs": [],
   "source": [
    "df_electric"
   ]
  },
  {
   "cell_type": "code",
   "execution_count": null,
   "metadata": {},
   "outputs": [],
   "source": [
    "df_electric['Range (km)'].unique()"
   ]
  },
  {
   "cell_type": "code",
   "execution_count": null,
   "metadata": {},
   "outputs": [],
   "source": [
    "df_electric = df_electric.drop(['Transmission', 'Fuel type', 'Smog rating', 'Highway (kWh/100 km)', 'CO2 rating', 'Combined (kWh/100 km)', 'Highway (Le/100 km)', 'Combined (Le/100 km)'], axis=1)"
   ]
  },
  {
   "cell_type": "code",
   "execution_count": null,
   "metadata": {},
   "outputs": [],
   "source": [
    "df_electric['Recharge time (h)'] = df_electric['Recharge time (h)'].astype('float')\n",
    "df_electric = df_electric.loc[df_electric['Recharge time (h)'] < 10]"
   ]
  },
  {
   "cell_type": "code",
   "execution_count": null,
   "metadata": {},
   "outputs": [],
   "source": [
    "df_electric['Range (km)'] = df_electric['Range (km)'].astype('int32')\n",
    "df_electric = df_electric.loc[df_electric['Range (km)'] >= 250]"
   ]
  },
  {
   "cell_type": "code",
   "execution_count": null,
   "metadata": {},
   "outputs": [],
   "source": [
    "df_electric['City (kWh/100 km)'].unique()"
   ]
  },
  {
   "cell_type": "code",
   "execution_count": null,
   "metadata": {},
   "outputs": [],
   "source": [
    "df_electric['City (kWh/100 km)'] = df_electric['City (kWh/100 km)'].astype('float')\n",
    "df_electric = df_electric.loc[df_electric['City (kWh/100 km)'] <= 20.0]"
   ]
  },
  {
   "cell_type": "code",
   "execution_count": null,
   "metadata": {},
   "outputs": [],
   "source": [
    "df_electric.drop([], inplace=True)"
   ]
  },
  {
   "cell_type": "code",
   "execution_count": null,
   "metadata": {},
   "outputs": [],
   "source": [
    "df_electric.drop([], inplace=True)"
   ]
  },
  {
   "cell_type": "code",
   "execution_count": null,
   "metadata": {},
   "outputs": [],
   "source": [
    "df_electric"
   ]
  }
 ],
 "metadata": {
  "language_info": {
   "name": "python"
  }
 },
 "nbformat": 4,
 "nbformat_minor": 2
}
