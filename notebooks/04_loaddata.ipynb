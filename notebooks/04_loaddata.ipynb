{
 "cells": [
  {
   "cell_type": "code",
   "execution_count": 1,
   "metadata": {},
   "outputs": [],
   "source": [
    "import os\n",
    "import json\n",
    "import math\n",
    "import pandas as pd\n",
    "from datetime import date, time\n",
    "import numpy as np\n",
    "import psycopg2"
   ]
  },
  {
   "cell_type": "code",
   "execution_count": 2,
   "metadata": {},
   "outputs": [],
   "source": [
    "# Establecer la semilla aleatoria para reproducibilidad\n",
    "np.random.seed(123)"
   ]
  },
  {
   "cell_type": "code",
   "execution_count": 3,
   "metadata": {},
   "outputs": [],
   "source": [
    "data = pd.read_csv('../datasets/processed/yellow_analytics/yellow_analytics_part_1.csv', sep=',', encoding='utf8')"
   ]
  },
  {
   "cell_type": "code",
   "execution_count": 4,
   "metadata": {},
   "outputs": [
    {
     "data": {
      "text/html": [
       "<div>\n",
       "<style scoped>\n",
       "    .dataframe tbody tr th:only-of-type {\n",
       "        vertical-align: middle;\n",
       "    }\n",
       "\n",
       "    .dataframe tbody tr th {\n",
       "        vertical-align: top;\n",
       "    }\n",
       "\n",
       "    .dataframe thead th {\n",
       "        text-align: right;\n",
       "    }\n",
       "</style>\n",
       "<table border=\"1\" class=\"dataframe\">\n",
       "  <thead>\n",
       "    <tr style=\"text-align: right;\">\n",
       "      <th></th>\n",
       "      <th>IdProveedor</th>\n",
       "      <th>TotalPasajeros</th>\n",
       "      <th>DistanciaViaje</th>\n",
       "      <th>IdTipoTarifa</th>\n",
       "      <th>IdZonaOrigen</th>\n",
       "      <th>IdZonaDestino</th>\n",
       "      <th>IdTipoPago</th>\n",
       "      <th>CostoTotal</th>\n",
       "      <th>FechaRecogida</th>\n",
       "      <th>HoraRecogida</th>\n",
       "      <th>DuracionViaje</th>\n",
       "    </tr>\n",
       "  </thead>\n",
       "  <tbody>\n",
       "    <tr>\n",
       "      <th>0</th>\n",
       "      <td>1</td>\n",
       "      <td>2</td>\n",
       "      <td>3.80</td>\n",
       "      <td>1.0</td>\n",
       "      <td>142</td>\n",
       "      <td>236</td>\n",
       "      <td>1</td>\n",
       "      <td>21.95</td>\n",
       "      <td>2022-01-01</td>\n",
       "      <td>0</td>\n",
       "      <td>1069</td>\n",
       "    </tr>\n",
       "    <tr>\n",
       "      <th>1</th>\n",
       "      <td>1</td>\n",
       "      <td>1</td>\n",
       "      <td>2.10</td>\n",
       "      <td>1.0</td>\n",
       "      <td>236</td>\n",
       "      <td>42</td>\n",
       "      <td>1</td>\n",
       "      <td>13.30</td>\n",
       "      <td>2022-01-01</td>\n",
       "      <td>0</td>\n",
       "      <td>504</td>\n",
       "    </tr>\n",
       "    <tr>\n",
       "      <th>2</th>\n",
       "      <td>2</td>\n",
       "      <td>1</td>\n",
       "      <td>1.09</td>\n",
       "      <td>1.0</td>\n",
       "      <td>114</td>\n",
       "      <td>68</td>\n",
       "      <td>2</td>\n",
       "      <td>11.80</td>\n",
       "      <td>2022-01-01</td>\n",
       "      <td>0</td>\n",
       "      <td>602</td>\n",
       "    </tr>\n",
       "    <tr>\n",
       "      <th>3</th>\n",
       "      <td>2</td>\n",
       "      <td>1</td>\n",
       "      <td>4.30</td>\n",
       "      <td>1.0</td>\n",
       "      <td>68</td>\n",
       "      <td>163</td>\n",
       "      <td>1</td>\n",
       "      <td>30.30</td>\n",
       "      <td>2022-01-01</td>\n",
       "      <td>0</td>\n",
       "      <td>2252</td>\n",
       "    </tr>\n",
       "    <tr>\n",
       "      <th>4</th>\n",
       "      <td>2</td>\n",
       "      <td>1</td>\n",
       "      <td>5.07</td>\n",
       "      <td>1.0</td>\n",
       "      <td>233</td>\n",
       "      <td>87</td>\n",
       "      <td>1</td>\n",
       "      <td>26.00</td>\n",
       "      <td>2022-01-01</td>\n",
       "      <td>0</td>\n",
       "      <td>848</td>\n",
       "    </tr>\n",
       "  </tbody>\n",
       "</table>\n",
       "</div>"
      ],
      "text/plain": [
       "   IdProveedor  TotalPasajeros  DistanciaViaje  IdTipoTarifa  IdZonaOrigen  \\\n",
       "0            1               2            3.80           1.0           142   \n",
       "1            1               1            2.10           1.0           236   \n",
       "2            2               1            1.09           1.0           114   \n",
       "3            2               1            4.30           1.0            68   \n",
       "4            2               1            5.07           1.0           233   \n",
       "\n",
       "   IdZonaDestino  IdTipoPago  CostoTotal FechaRecogida  HoraRecogida  \\\n",
       "0            236           1       21.95    2022-01-01             0   \n",
       "1             42           1       13.30    2022-01-01             0   \n",
       "2             68           2       11.80    2022-01-01             0   \n",
       "3            163           1       30.30    2022-01-01             0   \n",
       "4             87           1       26.00    2022-01-01             0   \n",
       "\n",
       "   DuracionViaje  \n",
       "0           1069  \n",
       "1            504  \n",
       "2            602  \n",
       "3           2252  \n",
       "4            848  "
      ]
     },
     "execution_count": 4,
     "metadata": {},
     "output_type": "execute_result"
    }
   ],
   "source": [
    "data.head()"
   ]
  },
  {
   "cell_type": "code",
   "execution_count": 5,
   "metadata": {},
   "outputs": [
    {
     "data": {
      "text/plain": [
       "(364131, 11)"
      ]
     },
     "execution_count": 5,
     "metadata": {},
     "output_type": "execute_result"
    }
   ],
   "source": [
    "data.shape"
   ]
  },
  {
   "cell_type": "code",
   "execution_count": 6,
   "metadata": {},
   "outputs": [
    {
     "data": {
      "text/plain": [
       "array([1, 2], dtype=int64)"
      ]
     },
     "execution_count": 6,
     "metadata": {},
     "output_type": "execute_result"
    }
   ],
   "source": [
    "data.IdProveedor.unique()"
   ]
  },
  {
   "cell_type": "code",
   "execution_count": 7,
   "metadata": {},
   "outputs": [
    {
     "data": {
      "text/plain": [
       "IdProveedor\n",
       "2    256555\n",
       "1    107576\n",
       "Name: count, dtype: int64"
      ]
     },
     "execution_count": 7,
     "metadata": {},
     "output_type": "execute_result"
    }
   ],
   "source": [
    "data.IdProveedor.value_counts()"
   ]
  },
  {
   "cell_type": "code",
   "execution_count": 8,
   "metadata": {},
   "outputs": [],
   "source": [
    "#Calcular el tamaño de muestra proporcional para cada proveedor\n",
    "proporciones = data['IdProveedor'].value_counts(normalize=True) * 0.12  # Proporción deseada\n",
    "tamaño_muestra_por_proveedor = (proporciones * len(data)).astype(int)\n",
    "\n",
    "# Lista para almacenar las muestras aleatorias estratificadas\n",
    "muestras_estratificadas = []\n",
    "\n",
    "# Iterar sobre cada proveedor único\n",
    "for proveedor in data['IdProveedor'].unique():\n",
    "    # Seleccionar aleatoriamente el tamaño de muestra proporcional para el proveedor actual\n",
    "    muestra_proveedor = data[data['IdProveedor'] == proveedor].sample(tamaño_muestra_por_proveedor[proveedor])\n",
    "    # Agregar las muestras seleccionadas al DataFrame de muestras estratificadas\n",
    "    muestras_estratificadas.append(muestra_proveedor)\n",
    "\n",
    "# Concatenar las muestras estratificadas en un solo DataFrame\n",
    "muestras_estratificadas = pd.concat(muestras_estratificadas)"
   ]
  },
  {
   "cell_type": "code",
   "execution_count": 9,
   "metadata": {},
   "outputs": [
    {
     "data": {
      "text/plain": [
       "(43695, 11)"
      ]
     },
     "execution_count": 9,
     "metadata": {},
     "output_type": "execute_result"
    }
   ],
   "source": [
    "muestras_estratificadas.shape"
   ]
  },
  {
   "cell_type": "code",
   "execution_count": 10,
   "metadata": {},
   "outputs": [
    {
     "data": {
      "text/plain": [
       "IdProveedor\n",
       "2    30786\n",
       "1    12909\n",
       "Name: count, dtype: int64"
      ]
     },
     "execution_count": 10,
     "metadata": {},
     "output_type": "execute_result"
    }
   ],
   "source": [
    "muestras_estratificadas.IdProveedor.value_counts()"
   ]
  },
  {
   "cell_type": "code",
   "execution_count": null,
   "metadata": {},
   "outputs": [],
   "source": []
  },
  {
   "cell_type": "code",
   "execution_count": 11,
   "metadata": {},
   "outputs": [
    {
     "data": {
      "text/html": [
       "<div>\n",
       "<style scoped>\n",
       "    .dataframe tbody tr th:only-of-type {\n",
       "        vertical-align: middle;\n",
       "    }\n",
       "\n",
       "    .dataframe tbody tr th {\n",
       "        vertical-align: top;\n",
       "    }\n",
       "\n",
       "    .dataframe thead th {\n",
       "        text-align: right;\n",
       "    }\n",
       "</style>\n",
       "<table border=\"1\" class=\"dataframe\">\n",
       "  <thead>\n",
       "    <tr style=\"text-align: right;\">\n",
       "      <th></th>\n",
       "      <th>IdProveedor</th>\n",
       "      <th>TotalPasajeros</th>\n",
       "      <th>DistanciaViaje</th>\n",
       "      <th>IdTipoTarifa</th>\n",
       "      <th>IdZonaOrigen</th>\n",
       "      <th>IdZonaDestino</th>\n",
       "      <th>IdTipoPago</th>\n",
       "      <th>CostoTotal</th>\n",
       "      <th>FechaRecogida</th>\n",
       "      <th>HoraRecogida</th>\n",
       "      <th>DuracionViaje</th>\n",
       "    </tr>\n",
       "  </thead>\n",
       "  <tbody>\n",
       "    <tr>\n",
       "      <th>157178</th>\n",
       "      <td>1</td>\n",
       "      <td>1</td>\n",
       "      <td>2.1</td>\n",
       "      <td>1.0</td>\n",
       "      <td>238</td>\n",
       "      <td>48</td>\n",
       "      <td>1</td>\n",
       "      <td>14.55</td>\n",
       "      <td>2022-01-05</td>\n",
       "      <td>8</td>\n",
       "      <td>694</td>\n",
       "    </tr>\n",
       "    <tr>\n",
       "      <th>166028</th>\n",
       "      <td>1</td>\n",
       "      <td>1</td>\n",
       "      <td>2.5</td>\n",
       "      <td>1.0</td>\n",
       "      <td>68</td>\n",
       "      <td>229</td>\n",
       "      <td>1</td>\n",
       "      <td>17.75</td>\n",
       "      <td>2022-01-05</td>\n",
       "      <td>12</td>\n",
       "      <td>928</td>\n",
       "    </tr>\n",
       "    <tr>\n",
       "      <th>262756</th>\n",
       "      <td>1</td>\n",
       "      <td>1</td>\n",
       "      <td>1.0</td>\n",
       "      <td>1.0</td>\n",
       "      <td>107</td>\n",
       "      <td>164</td>\n",
       "      <td>1</td>\n",
       "      <td>12.35</td>\n",
       "      <td>2022-01-07</td>\n",
       "      <td>16</td>\n",
       "      <td>335</td>\n",
       "    </tr>\n",
       "    <tr>\n",
       "      <th>317951</th>\n",
       "      <td>1</td>\n",
       "      <td>3</td>\n",
       "      <td>2.3</td>\n",
       "      <td>1.0</td>\n",
       "      <td>161</td>\n",
       "      <td>246</td>\n",
       "      <td>1</td>\n",
       "      <td>14.80</td>\n",
       "      <td>2022-01-08</td>\n",
       "      <td>18</td>\n",
       "      <td>933</td>\n",
       "    </tr>\n",
       "    <tr>\n",
       "      <th>289658</th>\n",
       "      <td>1</td>\n",
       "      <td>2</td>\n",
       "      <td>5.5</td>\n",
       "      <td>1.0</td>\n",
       "      <td>114</td>\n",
       "      <td>238</td>\n",
       "      <td>1</td>\n",
       "      <td>27.35</td>\n",
       "      <td>2022-01-08</td>\n",
       "      <td>2</td>\n",
       "      <td>1247</td>\n",
       "    </tr>\n",
       "  </tbody>\n",
       "</table>\n",
       "</div>"
      ],
      "text/plain": [
       "        IdProveedor  TotalPasajeros  DistanciaViaje  IdTipoTarifa  \\\n",
       "157178            1               1             2.1           1.0   \n",
       "166028            1               1             2.5           1.0   \n",
       "262756            1               1             1.0           1.0   \n",
       "317951            1               3             2.3           1.0   \n",
       "289658            1               2             5.5           1.0   \n",
       "\n",
       "        IdZonaOrigen  IdZonaDestino  IdTipoPago  CostoTotal FechaRecogida  \\\n",
       "157178           238             48           1       14.55    2022-01-05   \n",
       "166028            68            229           1       17.75    2022-01-05   \n",
       "262756           107            164           1       12.35    2022-01-07   \n",
       "317951           161            246           1       14.80    2022-01-08   \n",
       "289658           114            238           1       27.35    2022-01-08   \n",
       "\n",
       "        HoraRecogida  DuracionViaje  \n",
       "157178             8            694  \n",
       "166028            12            928  \n",
       "262756            16            335  \n",
       "317951            18            933  \n",
       "289658             2           1247  "
      ]
     },
     "execution_count": 11,
     "metadata": {},
     "output_type": "execute_result"
    }
   ],
   "source": [
    "muestras_estratificadas.head()"
   ]
  },
  {
   "cell_type": "code",
   "execution_count": 12,
   "metadata": {},
   "outputs": [
    {
     "data": {
      "text/plain": [
       "IdProveedor         int64\n",
       "TotalPasajeros      int64\n",
       "DistanciaViaje    float64\n",
       "IdTipoTarifa      float64\n",
       "IdZonaOrigen        int64\n",
       "IdZonaDestino       int64\n",
       "IdTipoPago          int64\n",
       "CostoTotal        float64\n",
       "FechaRecogida      object\n",
       "HoraRecogida        int64\n",
       "DuracionViaje       int64\n",
       "dtype: object"
      ]
     },
     "execution_count": 12,
     "metadata": {},
     "output_type": "execute_result"
    }
   ],
   "source": [
    "muestras_estratificadas.dtypes\n"
   ]
  },
  {
   "cell_type": "code",
   "execution_count": 13,
   "metadata": {},
   "outputs": [],
   "source": [
    "# Conectar a la base de datos PostgreSQL\n",
    "conn = psycopg2.connect(\n",
    "    dbname=\"nycdb\",\n",
    "    user=\"postgres\",\n",
    "    password=\"admin\",\n",
    "    host=\"localhost\"\n",
    ")"
   ]
  },
  {
   "cell_type": "code",
   "execution_count": 14,
   "metadata": {},
   "outputs": [],
   "source": [
    "# Crear un cursor para ejecutar comandos SQL\n",
    "cur = conn.cursor()"
   ]
  },
  {
   "cell_type": "code",
   "execution_count": 15,
   "metadata": {},
   "outputs": [
    {
     "data": {
      "text/plain": [
       "Index(['IdProveedor', 'TotalPasajeros', 'DistanciaViaje', 'IdTipoTarifa',\n",
       "       'IdZonaOrigen', 'IdZonaDestino', 'IdTipoPago', 'CostoTotal',\n",
       "       'FechaRecogida', 'HoraRecogida', 'DuracionViaje'],\n",
       "      dtype='object')"
      ]
     },
     "execution_count": 15,
     "metadata": {},
     "output_type": "execute_result"
    }
   ],
   "source": [
    "muestras_estratificadas.columns"
   ]
  },
  {
   "cell_type": "code",
   "execution_count": 16,
   "metadata": {},
   "outputs": [
    {
     "data": {
      "text/plain": [
       "IdProveedor         int64\n",
       "TotalPasajeros      int64\n",
       "DistanciaViaje    float64\n",
       "IdTipoTarifa      float64\n",
       "IdZonaOrigen        int64\n",
       "IdZonaDestino       int64\n",
       "IdTipoPago          int64\n",
       "CostoTotal        float64\n",
       "FechaRecogida      object\n",
       "HoraRecogida        int64\n",
       "DuracionViaje       int64\n",
       "dtype: object"
      ]
     },
     "execution_count": 16,
     "metadata": {},
     "output_type": "execute_result"
    }
   ],
   "source": [
    "muestras_estratificadas.dtypes"
   ]
  },
  {
   "cell_type": "code",
   "execution_count": 17,
   "metadata": {},
   "outputs": [
    {
     "name": "stdout",
     "output_type": "stream",
     "text": [
      "Registros migrados exitosamente a PostgreSQL.\n"
     ]
    }
   ],
   "source": [
    "# Crear la tabla en la base de datos\n",
    "cur.execute(\"\"\"\n",
    "    CREATE TABLE service_yellow (\n",
    "        Id SERIAL PRIMARY KEY,\n",
    "        IdProveedor INTEGER,\n",
    "        TotalPasajeros INTEGER,\n",
    "        DistanciaViaje FLOAT,\n",
    "        IdTipoTarifa FLOAT,\n",
    "        IdZonaOrigen INTEGER,\n",
    "        IdZonaDestino INTEGER,\n",
    "        IdTipoPago INTEGER,\n",
    "        CostoTotal FLOAT,\n",
    "        FechaRecogida DATE,\n",
    "        HoraRecogida INTEGER,\n",
    "        DuracionViaje INTEGER\n",
    "    )\n",
    "\"\"\")\n",
    "\n",
    "# Guardar los cambios en la base de datos\n",
    "conn.commit()\n",
    "\n",
    "\n",
    "# Convertir los valores del DataFrame a listas de Python\n",
    "registros = muestras_estratificadas.values.tolist()\n",
    "\n",
    "# Insertar los registros en la tabla\n",
    "cur.executemany(\"\"\"\n",
    "    INSERT INTO service_yellow (\n",
    "        IdProveedor, TotalPasajeros, DistanciaViaje, IdTipoTarifa, IdZonaOrigen, IdZonaDestino, IdTipoPago, CostoTotal, FechaRecogida, HoraRecogida, DuracionViaje) \n",
    "        VALUES (%s, %s, %s, %s, %s, %s, %s, %s, %s, %s, %s)\n",
    "\"\"\", registros)\n",
    "\n",
    "# Guardar los cambios en la base de datos\n",
    "conn.commit()\n",
    "\n",
    "# Cerrar la conexión con la base de datos\n",
    "cur.close()\n",
    "conn.close()\n",
    "\n",
    "print(\"Registros migrados exitosamente a PostgreSQL.\")"
   ]
  }
 ],
 "metadata": {
  "kernelspec": {
   "display_name": "Python 3",
   "language": "python",
   "name": "python3"
  },
  "language_info": {
   "codemirror_mode": {
    "name": "ipython",
    "version": 3
   },
   "file_extension": ".py",
   "mimetype": "text/x-python",
   "name": "python",
   "nbconvert_exporter": "python",
   "pygments_lexer": "ipython3",
   "version": "3.11.5"
  }
 },
 "nbformat": 4,
 "nbformat_minor": 2
}
