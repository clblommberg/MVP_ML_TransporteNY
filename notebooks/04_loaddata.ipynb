{
 "cells": [
  {
   "cell_type": "code",
   "execution_count": 19,
   "metadata": {},
   "outputs": [],
   "source": [
    "import os\n",
    "import json\n",
    "import math\n",
    "import pandas as pd\n",
    "from datetime import date, time\n",
    "import numpy as np\n",
    "import psycopg2"
   ]
  },
  {
   "cell_type": "code",
   "execution_count": 20,
   "metadata": {},
   "outputs": [],
   "source": [
    "# Establecer la semilla aleatoria para reproducibilidad\n",
    "np.random.seed(123)"
   ]
  },
  {
   "cell_type": "code",
   "execution_count": 21,
   "metadata": {},
   "outputs": [],
   "source": [
    "data = pd.read_csv('../datasets/processed/yellow_analytics/yellow_analytics_part_1.csv', sep=',', encoding='utf8')"
   ]
  },
  {
   "cell_type": "code",
   "execution_count": 22,
   "metadata": {},
   "outputs": [
    {
     "data": {
      "text/html": [
       "<div>\n",
       "<style scoped>\n",
       "    .dataframe tbody tr th:only-of-type {\n",
       "        vertical-align: middle;\n",
       "    }\n",
       "\n",
       "    .dataframe tbody tr th {\n",
       "        vertical-align: top;\n",
       "    }\n",
       "\n",
       "    .dataframe thead th {\n",
       "        text-align: right;\n",
       "    }\n",
       "</style>\n",
       "<table border=\"1\" class=\"dataframe\">\n",
       "  <thead>\n",
       "    <tr style=\"text-align: right;\">\n",
       "      <th></th>\n",
       "      <th>IdProveedor</th>\n",
       "      <th>TotalPasajeros</th>\n",
       "      <th>DistanciaViaje</th>\n",
       "      <th>IdTipoTarifa</th>\n",
       "      <th>IdZonaOrigen</th>\n",
       "      <th>IdZonaDestino</th>\n",
       "      <th>IdTipoPago</th>\n",
       "      <th>CostoTotal</th>\n",
       "      <th>FechaRecogida</th>\n",
       "      <th>HoraRecogida</th>\n",
       "      <th>FechaLlegada</th>\n",
       "      <th>HoraLlegada</th>\n",
       "      <th>DuracionViaje</th>\n",
       "    </tr>\n",
       "  </thead>\n",
       "  <tbody>\n",
       "    <tr>\n",
       "      <th>0</th>\n",
       "      <td>1</td>\n",
       "      <td>2</td>\n",
       "      <td>3.80</td>\n",
       "      <td>1.0</td>\n",
       "      <td>142</td>\n",
       "      <td>236</td>\n",
       "      <td>1</td>\n",
       "      <td>21.95</td>\n",
       "      <td>2022-01-01</td>\n",
       "      <td>00:35:40</td>\n",
       "      <td>2022-01-01</td>\n",
       "      <td>00:53:29</td>\n",
       "      <td>1069</td>\n",
       "    </tr>\n",
       "    <tr>\n",
       "      <th>1</th>\n",
       "      <td>1</td>\n",
       "      <td>1</td>\n",
       "      <td>2.10</td>\n",
       "      <td>1.0</td>\n",
       "      <td>236</td>\n",
       "      <td>42</td>\n",
       "      <td>1</td>\n",
       "      <td>13.30</td>\n",
       "      <td>2022-01-01</td>\n",
       "      <td>00:33:43</td>\n",
       "      <td>2022-01-01</td>\n",
       "      <td>00:42:07</td>\n",
       "      <td>504</td>\n",
       "    </tr>\n",
       "    <tr>\n",
       "      <th>2</th>\n",
       "      <td>2</td>\n",
       "      <td>1</td>\n",
       "      <td>1.09</td>\n",
       "      <td>1.0</td>\n",
       "      <td>114</td>\n",
       "      <td>68</td>\n",
       "      <td>2</td>\n",
       "      <td>11.80</td>\n",
       "      <td>2022-01-01</td>\n",
       "      <td>00:25:21</td>\n",
       "      <td>2022-01-01</td>\n",
       "      <td>00:35:23</td>\n",
       "      <td>602</td>\n",
       "    </tr>\n",
       "    <tr>\n",
       "      <th>3</th>\n",
       "      <td>2</td>\n",
       "      <td>1</td>\n",
       "      <td>4.30</td>\n",
       "      <td>1.0</td>\n",
       "      <td>68</td>\n",
       "      <td>163</td>\n",
       "      <td>1</td>\n",
       "      <td>30.30</td>\n",
       "      <td>2022-01-01</td>\n",
       "      <td>00:36:48</td>\n",
       "      <td>2022-01-01</td>\n",
       "      <td>01:14:20</td>\n",
       "      <td>2252</td>\n",
       "    </tr>\n",
       "    <tr>\n",
       "      <th>4</th>\n",
       "      <td>2</td>\n",
       "      <td>1</td>\n",
       "      <td>5.07</td>\n",
       "      <td>1.0</td>\n",
       "      <td>233</td>\n",
       "      <td>87</td>\n",
       "      <td>1</td>\n",
       "      <td>26.00</td>\n",
       "      <td>2022-01-01</td>\n",
       "      <td>00:20:50</td>\n",
       "      <td>2022-01-01</td>\n",
       "      <td>00:34:58</td>\n",
       "      <td>848</td>\n",
       "    </tr>\n",
       "  </tbody>\n",
       "</table>\n",
       "</div>"
      ],
      "text/plain": [
       "   IdProveedor  TotalPasajeros  DistanciaViaje  IdTipoTarifa  IdZonaOrigen  \\\n",
       "0            1               2            3.80           1.0           142   \n",
       "1            1               1            2.10           1.0           236   \n",
       "2            2               1            1.09           1.0           114   \n",
       "3            2               1            4.30           1.0            68   \n",
       "4            2               1            5.07           1.0           233   \n",
       "\n",
       "   IdZonaDestino  IdTipoPago  CostoTotal FechaRecogida HoraRecogida  \\\n",
       "0            236           1       21.95    2022-01-01     00:35:40   \n",
       "1             42           1       13.30    2022-01-01     00:33:43   \n",
       "2             68           2       11.80    2022-01-01     00:25:21   \n",
       "3            163           1       30.30    2022-01-01     00:36:48   \n",
       "4             87           1       26.00    2022-01-01     00:20:50   \n",
       "\n",
       "  FechaLlegada HoraLlegada  DuracionViaje  \n",
       "0   2022-01-01    00:53:29           1069  \n",
       "1   2022-01-01    00:42:07            504  \n",
       "2   2022-01-01    00:35:23            602  \n",
       "3   2022-01-01    01:14:20           2252  \n",
       "4   2022-01-01    00:34:58            848  "
      ]
     },
     "execution_count": 22,
     "metadata": {},
     "output_type": "execute_result"
    }
   ],
   "source": [
    "data.head()"
   ]
  },
  {
   "cell_type": "code",
   "execution_count": 23,
   "metadata": {},
   "outputs": [
    {
     "data": {
      "text/plain": [
       "(364131, 13)"
      ]
     },
     "execution_count": 23,
     "metadata": {},
     "output_type": "execute_result"
    }
   ],
   "source": [
    "data.shape"
   ]
  },
  {
   "cell_type": "code",
   "execution_count": 7,
   "metadata": {},
   "outputs": [
    {
     "data": {
      "text/plain": [
       "array([1, 2], dtype=int64)"
      ]
     },
     "execution_count": 7,
     "metadata": {},
     "output_type": "execute_result"
    }
   ],
   "source": [
    "data.IdProveedor.unique()"
   ]
  },
  {
   "cell_type": "code",
   "execution_count": 12,
   "metadata": {},
   "outputs": [
    {
     "data": {
      "text/plain": [
       "IdProveedor\n",
       "2    256555\n",
       "1    107576\n",
       "Name: count, dtype: int64"
      ]
     },
     "execution_count": 12,
     "metadata": {},
     "output_type": "execute_result"
    }
   ],
   "source": [
    "data.IdProveedor.value_counts()"
   ]
  },
  {
   "cell_type": "code",
   "execution_count": null,
   "metadata": {},
   "outputs": [],
   "source": []
  },
  {
   "cell_type": "code",
   "execution_count": null,
   "metadata": {},
   "outputs": [],
   "source": []
  },
  {
   "cell_type": "code",
   "execution_count": 24,
   "metadata": {},
   "outputs": [],
   "source": [
    "#Calcular el tamaño de muestra proporcional para cada proveedor\n",
    "proporciones = data['IdProveedor'].value_counts(normalize=True) * 0.12  # Proporción deseada\n",
    "tamaño_muestra_por_proveedor = (proporciones * len(data)).astype(int)\n",
    "\n",
    "# Lista para almacenar las muestras aleatorias estratificadas\n",
    "muestras_estratificadas = []\n",
    "\n",
    "# Iterar sobre cada proveedor único\n",
    "for proveedor in data['IdProveedor'].unique():\n",
    "    # Seleccionar aleatoriamente el tamaño de muestra proporcional para el proveedor actual\n",
    "    muestra_proveedor = data[data['IdProveedor'] == proveedor].sample(tamaño_muestra_por_proveedor[proveedor])\n",
    "    # Agregar las muestras seleccionadas al DataFrame de muestras estratificadas\n",
    "    muestras_estratificadas.append(muestra_proveedor)\n",
    "\n",
    "# Concatenar las muestras estratificadas en un solo DataFrame\n",
    "muestras_estratificadas = pd.concat(muestras_estratificadas)\n"
   ]
  },
  {
   "cell_type": "code",
   "execution_count": 25,
   "metadata": {},
   "outputs": [
    {
     "data": {
      "text/plain": [
       "(43695, 13)"
      ]
     },
     "execution_count": 25,
     "metadata": {},
     "output_type": "execute_result"
    }
   ],
   "source": [
    "muestras_estratificadas.shape"
   ]
  },
  {
   "cell_type": "code",
   "execution_count": 17,
   "metadata": {},
   "outputs": [
    {
     "data": {
      "text/plain": [
       "IdProveedor\n",
       "2    30786\n",
       "1    12909\n",
       "Name: count, dtype: int64"
      ]
     },
     "execution_count": 17,
     "metadata": {},
     "output_type": "execute_result"
    }
   ],
   "source": [
    "muestras_estratificadas.IdProveedor.value_counts()"
   ]
  },
  {
   "cell_type": "code",
   "execution_count": null,
   "metadata": {},
   "outputs": [],
   "source": []
  },
  {
   "cell_type": "code",
   "execution_count": 26,
   "metadata": {},
   "outputs": [
    {
     "data": {
      "text/html": [
       "<div>\n",
       "<style scoped>\n",
       "    .dataframe tbody tr th:only-of-type {\n",
       "        vertical-align: middle;\n",
       "    }\n",
       "\n",
       "    .dataframe tbody tr th {\n",
       "        vertical-align: top;\n",
       "    }\n",
       "\n",
       "    .dataframe thead th {\n",
       "        text-align: right;\n",
       "    }\n",
       "</style>\n",
       "<table border=\"1\" class=\"dataframe\">\n",
       "  <thead>\n",
       "    <tr style=\"text-align: right;\">\n",
       "      <th></th>\n",
       "      <th>IdProveedor</th>\n",
       "      <th>TotalPasajeros</th>\n",
       "      <th>DistanciaViaje</th>\n",
       "      <th>IdTipoTarifa</th>\n",
       "      <th>IdZonaOrigen</th>\n",
       "      <th>IdZonaDestino</th>\n",
       "      <th>IdTipoPago</th>\n",
       "      <th>CostoTotal</th>\n",
       "      <th>FechaRecogida</th>\n",
       "      <th>HoraRecogida</th>\n",
       "      <th>FechaLlegada</th>\n",
       "      <th>HoraLlegada</th>\n",
       "      <th>DuracionViaje</th>\n",
       "    </tr>\n",
       "  </thead>\n",
       "  <tbody>\n",
       "    <tr>\n",
       "      <th>157178</th>\n",
       "      <td>1</td>\n",
       "      <td>1</td>\n",
       "      <td>2.1</td>\n",
       "      <td>1.0</td>\n",
       "      <td>238</td>\n",
       "      <td>48</td>\n",
       "      <td>1</td>\n",
       "      <td>14.55</td>\n",
       "      <td>2022-01-05</td>\n",
       "      <td>08:12:18</td>\n",
       "      <td>2022-01-05</td>\n",
       "      <td>08:23:52</td>\n",
       "      <td>694</td>\n",
       "    </tr>\n",
       "    <tr>\n",
       "      <th>166028</th>\n",
       "      <td>1</td>\n",
       "      <td>1</td>\n",
       "      <td>2.5</td>\n",
       "      <td>1.0</td>\n",
       "      <td>68</td>\n",
       "      <td>229</td>\n",
       "      <td>1</td>\n",
       "      <td>17.75</td>\n",
       "      <td>2022-01-05</td>\n",
       "      <td>12:04:07</td>\n",
       "      <td>2022-01-05</td>\n",
       "      <td>12:19:35</td>\n",
       "      <td>928</td>\n",
       "    </tr>\n",
       "    <tr>\n",
       "      <th>262756</th>\n",
       "      <td>1</td>\n",
       "      <td>1</td>\n",
       "      <td>1.0</td>\n",
       "      <td>1.0</td>\n",
       "      <td>107</td>\n",
       "      <td>164</td>\n",
       "      <td>1</td>\n",
       "      <td>12.35</td>\n",
       "      <td>2022-01-07</td>\n",
       "      <td>16:32:32</td>\n",
       "      <td>2022-01-07</td>\n",
       "      <td>16:38:07</td>\n",
       "      <td>335</td>\n",
       "    </tr>\n",
       "    <tr>\n",
       "      <th>317951</th>\n",
       "      <td>1</td>\n",
       "      <td>3</td>\n",
       "      <td>2.3</td>\n",
       "      <td>1.0</td>\n",
       "      <td>161</td>\n",
       "      <td>246</td>\n",
       "      <td>1</td>\n",
       "      <td>14.80</td>\n",
       "      <td>2022-01-08</td>\n",
       "      <td>18:24:19</td>\n",
       "      <td>2022-01-08</td>\n",
       "      <td>18:39:52</td>\n",
       "      <td>933</td>\n",
       "    </tr>\n",
       "    <tr>\n",
       "      <th>289658</th>\n",
       "      <td>1</td>\n",
       "      <td>2</td>\n",
       "      <td>5.5</td>\n",
       "      <td>1.0</td>\n",
       "      <td>114</td>\n",
       "      <td>238</td>\n",
       "      <td>1</td>\n",
       "      <td>27.35</td>\n",
       "      <td>2022-01-08</td>\n",
       "      <td>02:29:39</td>\n",
       "      <td>2022-01-08</td>\n",
       "      <td>02:50:26</td>\n",
       "      <td>1247</td>\n",
       "    </tr>\n",
       "  </tbody>\n",
       "</table>\n",
       "</div>"
      ],
      "text/plain": [
       "        IdProveedor  TotalPasajeros  DistanciaViaje  IdTipoTarifa  \\\n",
       "157178            1               1             2.1           1.0   \n",
       "166028            1               1             2.5           1.0   \n",
       "262756            1               1             1.0           1.0   \n",
       "317951            1               3             2.3           1.0   \n",
       "289658            1               2             5.5           1.0   \n",
       "\n",
       "        IdZonaOrigen  IdZonaDestino  IdTipoPago  CostoTotal FechaRecogida  \\\n",
       "157178           238             48           1       14.55    2022-01-05   \n",
       "166028            68            229           1       17.75    2022-01-05   \n",
       "262756           107            164           1       12.35    2022-01-07   \n",
       "317951           161            246           1       14.80    2022-01-08   \n",
       "289658           114            238           1       27.35    2022-01-08   \n",
       "\n",
       "       HoraRecogida FechaLlegada HoraLlegada  DuracionViaje  \n",
       "157178     08:12:18   2022-01-05    08:23:52            694  \n",
       "166028     12:04:07   2022-01-05    12:19:35            928  \n",
       "262756     16:32:32   2022-01-07    16:38:07            335  \n",
       "317951     18:24:19   2022-01-08    18:39:52            933  \n",
       "289658     02:29:39   2022-01-08    02:50:26           1247  "
      ]
     },
     "execution_count": 26,
     "metadata": {},
     "output_type": "execute_result"
    }
   ],
   "source": [
    "muestras_estratificadas.head()"
   ]
  },
  {
   "cell_type": "code",
   "execution_count": 32,
   "metadata": {},
   "outputs": [
    {
     "data": {
      "text/plain": [
       "IdProveedor         int64\n",
       "TotalPasajeros      int64\n",
       "DistanciaViaje    float64\n",
       "IdTipoTarifa      float64\n",
       "IdZonaOrigen        int64\n",
       "IdZonaDestino       int64\n",
       "IdTipoPago          int64\n",
       "CostoTotal        float64\n",
       "FechaRecogida      object\n",
       "HoraRecogida       object\n",
       "FechaLlegada       object\n",
       "HoraLlegada        object\n",
       "DuracionViaje       int64\n",
       "dtype: object"
      ]
     },
     "execution_count": 32,
     "metadata": {},
     "output_type": "execute_result"
    }
   ],
   "source": [
    "muestras_estratificadas.dtypes\n"
   ]
  },
  {
   "cell_type": "code",
   "execution_count": 28,
   "metadata": {},
   "outputs": [],
   "source": [
    "# Conectar a la base de datos PostgreSQL\n",
    "conn = psycopg2.connect(\n",
    "    dbname=\"nycdb\",\n",
    "    user=\"postgres\",\n",
    "    password=\"mailito\",\n",
    "    host=\"localhost\"\n",
    ")\n"
   ]
  },
  {
   "cell_type": "code",
   "execution_count": 29,
   "metadata": {},
   "outputs": [],
   "source": [
    "# Crear un cursor para ejecutar comandos SQL\n",
    "cur = conn.cursor()"
   ]
  },
  {
   "cell_type": "code",
   "execution_count": 30,
   "metadata": {},
   "outputs": [],
   "source": [
    "# Crear la tabla en la base de datos\n",
    "cur.execute(\"\"\"\n",
    "    CREATE TABLE registros (\n",
    "        Id SERIAL PRIMARY KEY,\n",
    "        IdProveedor INTEGER,\n",
    "        TotalPasajeros INTEGER,\n",
    "        DistanciaViaje FLOAT,\n",
    "        IdTipoTarifa FLOAT,\n",
    "        IdZonaOrigen INTEGER,\n",
    "        IdZonaDestino INTEGER,\n",
    "        IdTipoPago INTEGER,\n",
    "        CostoTotal FLOAT,\n",
    "        FechaRecogida DATE,\n",
    "        HoraRecogida TIME,\n",
    "        FechaLlegada DATE,\n",
    "        HoraLlegada TIME,\n",
    "        DuracionViaje INTEGER\n",
    "    )\n",
    "\"\"\")\n",
    "\n",
    "# Guardar los cambios en la base de datos\n",
    "conn.commit()"
   ]
  },
  {
   "cell_type": "code",
   "execution_count": 34,
   "metadata": {},
   "outputs": [
    {
     "name": "stdout",
     "output_type": "stream",
     "text": [
      "Registros migrados exitosamente a PostgreSQL.\n"
     ]
    }
   ],
   "source": [
    "# Convertir los valores del DataFrame a listas de Python\n",
    "registros = muestras_estratificadas.values.tolist()\n",
    "\n",
    "# Insertar los registros en la tabla\n",
    "cur.executemany(\"\"\"\n",
    "    INSERT INTO registros (\n",
    "        IdProveedor, TotalPasajeros, DistanciaViaje, IdTipoTarifa, IdZonaOrigen, IdZonaDestino, IdTipoPago,\n",
    "        CostoTotal, FechaRecogida, HoraRecogida, FechaLlegada, HoraLlegada, DuracionViaje\n",
    "    ) VALUES (%s, %s, %s, %s, %s, %s, %s, %s, %s, %s, %s, %s, %s)\n",
    "\"\"\", registros)\n",
    "\n",
    "# Guardar los cambios en la base de datos\n",
    "conn.commit()\n",
    "\n",
    "# Cerrar la conexión con la base de datos\n",
    "cur.close()\n",
    "conn.close()\n",
    "\n",
    "print(\"Registros migrados exitosamente a PostgreSQL.\")"
   ]
  },
  {
   "cell_type": "code",
   "execution_count": 1,
   "metadata": {},
   "outputs": [
    {
     "data": {
      "text/html": [
       "<pre style=\"white-space:pre;overflow-x:auto;line-height:normal;font-family:Menlo,'DejaVu Sans Mono',consolas,'Courier New',monospace\"><span style=\"color: #808000; text-decoration-color: #808000; font-weight: bold\">c:\\Users\\ozi\\AppData\\Local\\Programs\\Python\\Python310\\lib\\site-packages\\airflow\\configuration.py:</span><span style=\"color: #808000; text-decoration-color: #808000; font-weight: bold\">812</span><span style=\"color: #808000; text-decoration-color: #808000; font-weight: bold\"> DeprecationWarning</span><span style=\"color: #808000; text-decoration-color: #808000\">: The sql_alchemy_conn option in </span><span style=\"color: #808000; text-decoration-color: #808000; font-weight: bold\">[</span><span style=\"color: #808000; text-decoration-color: #808000\">core</span><span style=\"color: #808000; text-decoration-color: #808000; font-weight: bold\">]</span><span style=\"color: #808000; text-decoration-color: #808000\"> has been moved to the sql_alchemy_conn option in </span><span style=\"color: #808000; text-decoration-color: #808000; font-weight: bold\">[</span><span style=\"color: #808000; text-decoration-color: #808000\">database</span><span style=\"color: #808000; text-decoration-color: #808000; font-weight: bold\">]</span><span style=\"color: #808000; text-decoration-color: #808000\"> - the old setting has been used, but please update your config.</span>\n",
       "</pre>\n"
      ],
      "text/plain": [
       "\u001b[1;33mc:\\Users\\ozi\\AppData\\Local\\Programs\\Python\\Python310\\lib\\site-packages\\airflow\\configuration.py:\u001b[0m\u001b[1;33m812\u001b[0m\u001b[1;33m DeprecationWarning\u001b[0m\u001b[33m: The sql_alchemy_conn option in \u001b[0m\u001b[1;33m[\u001b[0m\u001b[33mcore\u001b[0m\u001b[1;33m]\u001b[0m\u001b[33m has been moved to the sql_alchemy_conn option in \u001b[0m\u001b[1;33m[\u001b[0m\u001b[33mdatabase\u001b[0m\u001b[1;33m]\u001b[0m\u001b[33m - the old setting has been used, but please update your config.\u001b[0m\n"
      ]
     },
     "metadata": {},
     "output_type": "display_data"
    },
    {
     "data": {
      "text/html": [
       "<pre style=\"white-space:pre;overflow-x:auto;line-height:normal;font-family:Menlo,'DejaVu Sans Mono',consolas,'Courier New',monospace\"><span style=\"color: #808000; text-decoration-color: #808000; font-weight: bold\">c:\\Users\\ozi\\AppData\\Local\\Programs\\Python\\Python310\\lib\\site-packages\\airflow\\configuration.py:</span><span style=\"color: #808000; text-decoration-color: #808000; font-weight: bold\">738</span><span style=\"color: #808000; text-decoration-color: #808000; font-weight: bold\"> DeprecationWarning</span><span style=\"color: #808000; text-decoration-color: #808000\">: The sql_alchemy_conn option in </span><span style=\"color: #808000; text-decoration-color: #808000; font-weight: bold\">[</span><span style=\"color: #808000; text-decoration-color: #808000\">core</span><span style=\"color: #808000; text-decoration-color: #808000; font-weight: bold\">]</span><span style=\"color: #808000; text-decoration-color: #808000\"> has been moved to the sql_alchemy_conn option in </span><span style=\"color: #808000; text-decoration-color: #808000; font-weight: bold\">[</span><span style=\"color: #808000; text-decoration-color: #808000\">database</span><span style=\"color: #808000; text-decoration-color: #808000; font-weight: bold\">]</span><span style=\"color: #808000; text-decoration-color: #808000\"> - the old setting has been used, but please update your config.</span>\n",
       "</pre>\n"
      ],
      "text/plain": [
       "\u001b[1;33mc:\\Users\\ozi\\AppData\\Local\\Programs\\Python\\Python310\\lib\\site-packages\\airflow\\configuration.py:\u001b[0m\u001b[1;33m738\u001b[0m\u001b[1;33m DeprecationWarning\u001b[0m\u001b[33m: The sql_alchemy_conn option in \u001b[0m\u001b[1;33m[\u001b[0m\u001b[33mcore\u001b[0m\u001b[1;33m]\u001b[0m\u001b[33m has been moved to the sql_alchemy_conn option in \u001b[0m\u001b[1;33m[\u001b[0m\u001b[33mdatabase\u001b[0m\u001b[1;33m]\u001b[0m\u001b[33m - the old setting has been used, but please update your config.\u001b[0m\n"
      ]
     },
     "metadata": {},
     "output_type": "display_data"
    },
    {
     "data": {
      "text/html": [
       "<pre style=\"white-space:pre;overflow-x:auto;line-height:normal;font-family:Menlo,'DejaVu Sans Mono',consolas,'Courier New',monospace\"><span style=\"color: #808000; text-decoration-color: #808000; font-weight: bold\">c:\\Users\\ozi\\AppData\\Local\\Programs\\Python\\Python310\\lib\\site-packages\\airflow\\settings.py:</span><span style=\"color: #808000; text-decoration-color: #808000; font-weight: bold\">194</span><span style=\"color: #808000; text-decoration-color: #808000; font-weight: bold\"> DeprecationWarning</span><span style=\"color: #808000; text-decoration-color: #808000\">: The sql_alchemy_conn option in </span><span style=\"color: #808000; text-decoration-color: #808000; font-weight: bold\">[</span><span style=\"color: #808000; text-decoration-color: #808000\">core</span><span style=\"color: #808000; text-decoration-color: #808000; font-weight: bold\">]</span><span style=\"color: #808000; text-decoration-color: #808000\"> has been moved to the sql_alchemy_conn option in </span><span style=\"color: #808000; text-decoration-color: #808000; font-weight: bold\">[</span><span style=\"color: #808000; text-decoration-color: #808000\">database</span><span style=\"color: #808000; text-decoration-color: #808000; font-weight: bold\">]</span><span style=\"color: #808000; text-decoration-color: #808000\"> - the old setting has been used, but please update your config.</span>\n",
       "</pre>\n"
      ],
      "text/plain": [
       "\u001b[1;33mc:\\Users\\ozi\\AppData\\Local\\Programs\\Python\\Python310\\lib\\site-packages\\airflow\\settings.py:\u001b[0m\u001b[1;33m194\u001b[0m\u001b[1;33m DeprecationWarning\u001b[0m\u001b[33m: The sql_alchemy_conn option in \u001b[0m\u001b[1;33m[\u001b[0m\u001b[33mcore\u001b[0m\u001b[1;33m]\u001b[0m\u001b[33m has been moved to the sql_alchemy_conn option in \u001b[0m\u001b[1;33m[\u001b[0m\u001b[33mdatabase\u001b[0m\u001b[1;33m]\u001b[0m\u001b[33m - the old setting has been used, but please update your config.\u001b[0m\n"
      ]
     },
     "metadata": {},
     "output_type": "display_data"
    },
    {
     "name": "stderr",
     "output_type": "stream",
     "text": [
      "WARNING:root:OSError while attempting to symlink the latest log directory\n"
     ]
    },
    {
     "name": "stdout",
     "output_type": "stream",
     "text": [
      "Ruta de instalación de Airflow: c:\\Users\\ozi\\AppData\\Local\\Programs\\Python\\Python310\\lib\\site-packages\\airflow\n",
      "Rutas de paquetes de Python instalados:\n",
      "c:\\Users\\ozi\\AppData\\Local\\Programs\\Python\\Python310\n",
      "c:\\Users\\ozi\\AppData\\Local\\Programs\\Python\\Python310\\lib\\site-packages\n"
     ]
    }
   ],
   "source": [
    "import site\n",
    "import airflow\n",
    "\n",
    "# Obtener la ruta de instalación de airflow\n",
    "airflow_path = airflow.__path__[0]\n",
    "\n",
    "# Obtener las rutas de los paquetes de Python instalados\n",
    "python_paths = site.getsitepackages()\n",
    "\n",
    "print(\"Ruta de instalación de Airflow:\", airflow_path)\n",
    "print(\"Rutas de paquetes de Python instalados:\")\n",
    "for path in python_paths:\n",
    "    print(path)"
   ]
  }
 ],
 "metadata": {
  "kernelspec": {
   "display_name": "Python 3",
   "language": "python",
   "name": "python3"
  },
  "language_info": {
   "codemirror_mode": {
    "name": "ipython",
    "version": 3
   },
   "file_extension": ".py",
   "mimetype": "text/x-python",
   "name": "python",
   "nbconvert_exporter": "python",
   "pygments_lexer": "ipython3",
   "version": "3.10.11"
  }
 },
 "nbformat": 4,
 "nbformat_minor": 2
}
