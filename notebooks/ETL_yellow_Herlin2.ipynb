{
 "cells": [
  {
   "cell_type": "code",
   "execution_count": 9,
   "metadata": {},
   "outputs": [],
   "source": [
    "import pandas as pd\n",
    "import numpy as np\n",
    "import os\n",
    "from scipy import stats\n",
    "import warnings\n",
    "warnings.filterwarnings(\"ignore\")"
   ]
  },
  {
   "cell_type": "markdown",
   "metadata": {},
   "source": [
    "### Considerar tener la ruta de la siguiente manera"
   ]
  },
  {
   "cell_type": "code",
   "execution_count": 2,
   "metadata": {},
   "outputs": [],
   "source": [
    "carpeta = '../datasets/yellow'\n",
    "\n",
    "# Lista para almacenar los DataFrames de cada archivo\n",
    "dfs = []\n",
    "\n",
    "# Iterar sobre los archivos en la carpeta\n",
    "for archivo in os.listdir(carpeta):\n",
    "    if archivo.endswith('.parquet'):\n",
    "        ruta_archivo = os.path.join(carpeta, archivo)\n",
    "        # Leer el archivo Parquet y añadirlo a la lista de DataFrames\n",
    "        df = pd.read_parquet(ruta_archivo)\n",
    "        dfs.append(df)\n",
    "\n",
    "# Concatenar todos los DataFrames en uno solo\n",
    "df_yellow = pd.concat(dfs, ignore_index=True)"
   ]
  },
  {
   "cell_type": "markdown",
   "metadata": {},
   "source": [
    "### Columnas a eliminar, porque no influyen en los objetivos planteados en el proyecto"
   ]
  },
  {
   "cell_type": "code",
   "execution_count": 3,
   "metadata": {},
   "outputs": [
    {
     "data": {
      "text/plain": [
       "Index(['VendorID', 'tpep_pickup_datetime', 'tpep_dropoff_datetime',\n",
       "       'passenger_count', 'trip_distance', 'RatecodeID', 'store_and_fwd_flag',\n",
       "       'PULocationID', 'DOLocationID', 'payment_type', 'fare_amount', 'extra',\n",
       "       'mta_tax', 'tip_amount', 'tolls_amount', 'improvement_surcharge',\n",
       "       'total_amount', 'congestion_surcharge', 'airport_fee', 'Airport_fee'],\n",
       "      dtype='object')"
      ]
     },
     "execution_count": 3,
     "metadata": {},
     "output_type": "execute_result"
    }
   ],
   "source": [
    "df_yellow.columns"
   ]
  },
  {
   "cell_type": "code",
   "execution_count": 4,
   "metadata": {},
   "outputs": [],
   "source": [
    "# Eliminamos columnas\n",
    "columnas_a_eliminar = ['store_and_fwd_flag', 'fare_amount', 'extra', 'mta_tax', 'tip_amount', \n",
    "                       'tolls_amount', 'improvement_surcharge', 'congestion_surcharge', 'airport_fee', 'Airport_fee']\n",
    "df_yellow.drop(columns=columnas_a_eliminar, axis=1, inplace=True)"
   ]
  },
  {
   "cell_type": "code",
   "execution_count": 5,
   "metadata": {},
   "outputs": [
    {
     "data": {
      "text/plain": [
       "(108870632, 10)"
      ]
     },
     "execution_count": 5,
     "metadata": {},
     "output_type": "execute_result"
    }
   ],
   "source": [
    "# Vemos las dimensiones de nuestro DF\n",
    "df_yellow.shape"
   ]
  },
  {
   "cell_type": "code",
   "execution_count": 6,
   "metadata": {},
   "outputs": [],
   "source": [
    "# Eliminamos los registros que tengan nulos\n",
    "df_sin_nulos = df_yellow.dropna()"
   ]
  },
  {
   "cell_type": "code",
   "execution_count": 7,
   "metadata": {},
   "outputs": [
    {
     "data": {
      "text/plain": [
       "(104714278, 10)"
      ]
     },
     "execution_count": 7,
     "metadata": {},
     "output_type": "execute_result"
    }
   ],
   "source": [
    "# Verficamos las dimensiones, para saber como quedaron luego de eliminar los nulos\n",
    "df_sin_nulos.shape"
   ]
  },
  {
   "cell_type": "markdown",
   "metadata": {},
   "source": [
    "### Convertimos las columnas con números enteros a `formato INT32`, para optimizar espacio"
   ]
  },
  {
   "cell_type": "code",
   "execution_count": 8,
   "metadata": {},
   "outputs": [],
   "source": [
    "columns_to_int32 = ['VendorID', 'passenger_count', 'RatecodeID', 'PULocationID', 'DOLocationID', 'payment_type']"
   ]
  },
  {
   "cell_type": "code",
   "execution_count": 10,
   "metadata": {},
   "outputs": [
    {
     "data": {
      "text/plain": [
       "VendorID                          int32\n",
       "tpep_pickup_datetime     datetime64[us]\n",
       "tpep_dropoff_datetime    datetime64[us]\n",
       "passenger_count                   int32\n",
       "trip_distance                   float64\n",
       "RatecodeID                        int32\n",
       "PULocationID                      int32\n",
       "DOLocationID                      int32\n",
       "payment_type                      int32\n",
       "total_amount                    float64\n",
       "dtype: object"
      ]
     },
     "execution_count": 10,
     "metadata": {},
     "output_type": "execute_result"
    }
   ],
   "source": [
    "df_sin_nulos[columns_to_int32] = df_sin_nulos[columns_to_int32].astype('int32')\n",
    "df_sin_nulos.dtypes"
   ]
  },
  {
   "cell_type": "markdown",
   "metadata": {},
   "source": [
    "### Eliminación datos que salen de los `limites` que establece el `diccionario`"
   ]
  },
  {
   "cell_type": "code",
   "execution_count": 11,
   "metadata": {},
   "outputs": [],
   "source": [
    "# Eliminamos los datos superiores a 6, porque el diccionario establece solo datos del 1-6\n",
    "df_sin_nulos.drop(df_sin_nulos[df_sin_nulos['RatecodeID'] > 6].index, inplace=True)"
   ]
  },
  {
   "cell_type": "code",
   "execution_count": 12,
   "metadata": {},
   "outputs": [
    {
     "data": {
      "text/plain": [
       "array([1, 2, 4, 5, 3, 6])"
      ]
     },
     "execution_count": 12,
     "metadata": {},
     "output_type": "execute_result"
    }
   ],
   "source": [
    "# Comprobamos los datos que tiene la columna RatecodeID\n",
    "df_sin_nulos['RatecodeID'].unique()"
   ]
  },
  {
   "cell_type": "code",
   "execution_count": 13,
   "metadata": {},
   "outputs": [],
   "source": [
    "# Establecemos los límites para la columnas de tiempo, puesto que solo estamos usando datos de 2021 hasta 2023\n",
    "df_sin_nulos = df_sin_nulos[(df_sin_nulos['tpep_pickup_datetime'].dt.year >= 2021) & (df_sin_nulos['tpep_pickup_datetime'].dt.year <= 2023)]\n",
    "# Establecemos el límite superior en 2024, por los servicios tomados en 2023-12-31 y terminaron en el año siguiente\n",
    "df_sin_nulos = df_sin_nulos[(df_sin_nulos['tpep_dropoff_datetime'].dt.year >= 2021) & (df_sin_nulos['tpep_dropoff_datetime'].dt.year <= 2024)]"
   ]
  },
  {
   "cell_type": "code",
   "execution_count": 14,
   "metadata": {},
   "outputs": [
    {
     "name": "stdout",
     "output_type": "stream",
     "text": [
      "2023-12-31 23:59:59\n",
      "2021-01-01 00:00:04\n",
      "2024-01-02 20:13:25\n",
      "2021-01-01 00:01:40\n"
     ]
    }
   ],
   "source": [
    "# Verificamos que los límites esten correctamente\n",
    "print(df_sin_nulos['tpep_pickup_datetime'].max())\n",
    "print(df_sin_nulos['tpep_pickup_datetime'].min())\n",
    "print(df_sin_nulos['tpep_dropoff_datetime'].max())\n",
    "print(df_sin_nulos['tpep_dropoff_datetime'].min())"
   ]
  },
  {
   "cell_type": "markdown",
   "metadata": {},
   "source": [
    "### Creacipon de columna, que establece la hora que se realizo el servicio"
   ]
  },
  {
   "cell_type": "code",
   "execution_count": 15,
   "metadata": {},
   "outputs": [],
   "source": [
    "df_sin_nulos['pickup_hour'] = df_sin_nulos['tpep_pickup_datetime'].dt.hour"
   ]
  },
  {
   "cell_type": "code",
   "execution_count": 16,
   "metadata": {},
   "outputs": [
    {
     "data": {
      "text/html": [
       "<div>\n",
       "<style scoped>\n",
       "    .dataframe tbody tr th:only-of-type {\n",
       "        vertical-align: middle;\n",
       "    }\n",
       "\n",
       "    .dataframe tbody tr th {\n",
       "        vertical-align: top;\n",
       "    }\n",
       "\n",
       "    .dataframe thead th {\n",
       "        text-align: right;\n",
       "    }\n",
       "</style>\n",
       "<table border=\"1\" class=\"dataframe\">\n",
       "  <thead>\n",
       "    <tr style=\"text-align: right;\">\n",
       "      <th></th>\n",
       "      <th>VendorID</th>\n",
       "      <th>tpep_pickup_datetime</th>\n",
       "      <th>tpep_dropoff_datetime</th>\n",
       "      <th>passenger_count</th>\n",
       "      <th>trip_distance</th>\n",
       "      <th>RatecodeID</th>\n",
       "      <th>PULocationID</th>\n",
       "      <th>DOLocationID</th>\n",
       "      <th>payment_type</th>\n",
       "      <th>total_amount</th>\n",
       "      <th>pickup_hour</th>\n",
       "    </tr>\n",
       "  </thead>\n",
       "  <tbody>\n",
       "    <tr>\n",
       "      <th>0</th>\n",
       "      <td>1</td>\n",
       "      <td>2021-01-01 00:30:10</td>\n",
       "      <td>2021-01-01 00:36:12</td>\n",
       "      <td>1</td>\n",
       "      <td>2.10</td>\n",
       "      <td>1</td>\n",
       "      <td>142</td>\n",
       "      <td>43</td>\n",
       "      <td>2</td>\n",
       "      <td>11.80</td>\n",
       "      <td>0</td>\n",
       "    </tr>\n",
       "    <tr>\n",
       "      <th>1</th>\n",
       "      <td>1</td>\n",
       "      <td>2021-01-01 00:51:20</td>\n",
       "      <td>2021-01-01 00:52:19</td>\n",
       "      <td>1</td>\n",
       "      <td>0.20</td>\n",
       "      <td>1</td>\n",
       "      <td>238</td>\n",
       "      <td>151</td>\n",
       "      <td>2</td>\n",
       "      <td>4.30</td>\n",
       "      <td>0</td>\n",
       "    </tr>\n",
       "    <tr>\n",
       "      <th>2</th>\n",
       "      <td>1</td>\n",
       "      <td>2021-01-01 00:43:30</td>\n",
       "      <td>2021-01-01 01:11:06</td>\n",
       "      <td>1</td>\n",
       "      <td>14.70</td>\n",
       "      <td>1</td>\n",
       "      <td>132</td>\n",
       "      <td>165</td>\n",
       "      <td>1</td>\n",
       "      <td>51.95</td>\n",
       "      <td>0</td>\n",
       "    </tr>\n",
       "    <tr>\n",
       "      <th>3</th>\n",
       "      <td>1</td>\n",
       "      <td>2021-01-01 00:15:48</td>\n",
       "      <td>2021-01-01 00:31:01</td>\n",
       "      <td>0</td>\n",
       "      <td>10.60</td>\n",
       "      <td>1</td>\n",
       "      <td>138</td>\n",
       "      <td>132</td>\n",
       "      <td>1</td>\n",
       "      <td>36.35</td>\n",
       "      <td>0</td>\n",
       "    </tr>\n",
       "    <tr>\n",
       "      <th>4</th>\n",
       "      <td>2</td>\n",
       "      <td>2021-01-01 00:31:49</td>\n",
       "      <td>2021-01-01 00:48:21</td>\n",
       "      <td>1</td>\n",
       "      <td>4.94</td>\n",
       "      <td>1</td>\n",
       "      <td>68</td>\n",
       "      <td>33</td>\n",
       "      <td>1</td>\n",
       "      <td>24.36</td>\n",
       "      <td>0</td>\n",
       "    </tr>\n",
       "  </tbody>\n",
       "</table>\n",
       "</div>"
      ],
      "text/plain": [
       "   VendorID tpep_pickup_datetime tpep_dropoff_datetime  passenger_count  \\\n",
       "0         1  2021-01-01 00:30:10   2021-01-01 00:36:12                1   \n",
       "1         1  2021-01-01 00:51:20   2021-01-01 00:52:19                1   \n",
       "2         1  2021-01-01 00:43:30   2021-01-01 01:11:06                1   \n",
       "3         1  2021-01-01 00:15:48   2021-01-01 00:31:01                0   \n",
       "4         2  2021-01-01 00:31:49   2021-01-01 00:48:21                1   \n",
       "\n",
       "   trip_distance  RatecodeID  PULocationID  DOLocationID  payment_type  \\\n",
       "0           2.10           1           142            43             2   \n",
       "1           0.20           1           238           151             2   \n",
       "2          14.70           1           132           165             1   \n",
       "3          10.60           1           138           132             1   \n",
       "4           4.94           1            68            33             1   \n",
       "\n",
       "   total_amount  pickup_hour  \n",
       "0         11.80            0  \n",
       "1          4.30            0  \n",
       "2         51.95            0  \n",
       "3         36.35            0  \n",
       "4         24.36            0  "
      ]
     },
     "execution_count": 16,
     "metadata": {},
     "output_type": "execute_result"
    }
   ],
   "source": [
    "df_sin_nulos.head()"
   ]
  },
  {
   "cell_type": "markdown",
   "metadata": {},
   "source": [
    "### Tratamiento de variables temporales `tpep_dropoff_datetime`"
   ]
  },
  {
   "cell_type": "code",
   "execution_count": 17,
   "metadata": {},
   "outputs": [],
   "source": [
    "# Creación de columna 'duracion_viaje' para tener una referencia concreta de la duración de cada servicio\n",
    "df_sin_nulos['duracion_viaje'] = (df_sin_nulos['tpep_dropoff_datetime'] - df_sin_nulos['tpep_pickup_datetime']).dt.total_seconds()"
   ]
  },
  {
   "cell_type": "code",
   "execution_count": 18,
   "metadata": {},
   "outputs": [
    {
     "data": {
      "text/plain": [
       "(104354541, 12)"
      ]
     },
     "execution_count": 18,
     "metadata": {},
     "output_type": "execute_result"
    }
   ],
   "source": [
    "df_sin_nulos.shape"
   ]
  },
  {
   "cell_type": "code",
   "execution_count": 19,
   "metadata": {},
   "outputs": [
    {
     "data": {
      "text/html": [
       "<div>\n",
       "<style scoped>\n",
       "    .dataframe tbody tr th:only-of-type {\n",
       "        vertical-align: middle;\n",
       "    }\n",
       "\n",
       "    .dataframe tbody tr th {\n",
       "        vertical-align: top;\n",
       "    }\n",
       "\n",
       "    .dataframe thead th {\n",
       "        text-align: right;\n",
       "    }\n",
       "</style>\n",
       "<table border=\"1\" class=\"dataframe\">\n",
       "  <thead>\n",
       "    <tr style=\"text-align: right;\">\n",
       "      <th></th>\n",
       "      <th>VendorID</th>\n",
       "      <th>tpep_pickup_datetime</th>\n",
       "      <th>tpep_dropoff_datetime</th>\n",
       "      <th>passenger_count</th>\n",
       "      <th>trip_distance</th>\n",
       "      <th>RatecodeID</th>\n",
       "      <th>PULocationID</th>\n",
       "      <th>DOLocationID</th>\n",
       "      <th>payment_type</th>\n",
       "      <th>total_amount</th>\n",
       "      <th>pickup_hour</th>\n",
       "      <th>duracion_viaje</th>\n",
       "    </tr>\n",
       "  </thead>\n",
       "  <tbody>\n",
       "    <tr>\n",
       "      <th>0</th>\n",
       "      <td>1</td>\n",
       "      <td>2021-01-01 00:30:10</td>\n",
       "      <td>2021-01-01 00:36:12</td>\n",
       "      <td>1</td>\n",
       "      <td>2.10</td>\n",
       "      <td>1</td>\n",
       "      <td>142</td>\n",
       "      <td>43</td>\n",
       "      <td>2</td>\n",
       "      <td>11.80</td>\n",
       "      <td>0</td>\n",
       "      <td>362.0</td>\n",
       "    </tr>\n",
       "    <tr>\n",
       "      <th>1</th>\n",
       "      <td>1</td>\n",
       "      <td>2021-01-01 00:51:20</td>\n",
       "      <td>2021-01-01 00:52:19</td>\n",
       "      <td>1</td>\n",
       "      <td>0.20</td>\n",
       "      <td>1</td>\n",
       "      <td>238</td>\n",
       "      <td>151</td>\n",
       "      <td>2</td>\n",
       "      <td>4.30</td>\n",
       "      <td>0</td>\n",
       "      <td>59.0</td>\n",
       "    </tr>\n",
       "    <tr>\n",
       "      <th>2</th>\n",
       "      <td>1</td>\n",
       "      <td>2021-01-01 00:43:30</td>\n",
       "      <td>2021-01-01 01:11:06</td>\n",
       "      <td>1</td>\n",
       "      <td>14.70</td>\n",
       "      <td>1</td>\n",
       "      <td>132</td>\n",
       "      <td>165</td>\n",
       "      <td>1</td>\n",
       "      <td>51.95</td>\n",
       "      <td>0</td>\n",
       "      <td>1656.0</td>\n",
       "    </tr>\n",
       "    <tr>\n",
       "      <th>3</th>\n",
       "      <td>1</td>\n",
       "      <td>2021-01-01 00:15:48</td>\n",
       "      <td>2021-01-01 00:31:01</td>\n",
       "      <td>0</td>\n",
       "      <td>10.60</td>\n",
       "      <td>1</td>\n",
       "      <td>138</td>\n",
       "      <td>132</td>\n",
       "      <td>1</td>\n",
       "      <td>36.35</td>\n",
       "      <td>0</td>\n",
       "      <td>913.0</td>\n",
       "    </tr>\n",
       "    <tr>\n",
       "      <th>4</th>\n",
       "      <td>2</td>\n",
       "      <td>2021-01-01 00:31:49</td>\n",
       "      <td>2021-01-01 00:48:21</td>\n",
       "      <td>1</td>\n",
       "      <td>4.94</td>\n",
       "      <td>1</td>\n",
       "      <td>68</td>\n",
       "      <td>33</td>\n",
       "      <td>1</td>\n",
       "      <td>24.36</td>\n",
       "      <td>0</td>\n",
       "      <td>992.0</td>\n",
       "    </tr>\n",
       "  </tbody>\n",
       "</table>\n",
       "</div>"
      ],
      "text/plain": [
       "   VendorID tpep_pickup_datetime tpep_dropoff_datetime  passenger_count  \\\n",
       "0         1  2021-01-01 00:30:10   2021-01-01 00:36:12                1   \n",
       "1         1  2021-01-01 00:51:20   2021-01-01 00:52:19                1   \n",
       "2         1  2021-01-01 00:43:30   2021-01-01 01:11:06                1   \n",
       "3         1  2021-01-01 00:15:48   2021-01-01 00:31:01                0   \n",
       "4         2  2021-01-01 00:31:49   2021-01-01 00:48:21                1   \n",
       "\n",
       "   trip_distance  RatecodeID  PULocationID  DOLocationID  payment_type  \\\n",
       "0           2.10           1           142            43             2   \n",
       "1           0.20           1           238           151             2   \n",
       "2          14.70           1           132           165             1   \n",
       "3          10.60           1           138           132             1   \n",
       "4           4.94           1            68            33             1   \n",
       "\n",
       "   total_amount  pickup_hour  duracion_viaje  \n",
       "0         11.80            0           362.0  \n",
       "1          4.30            0            59.0  \n",
       "2         51.95            0          1656.0  \n",
       "3         36.35            0           913.0  \n",
       "4         24.36            0           992.0  "
      ]
     },
     "execution_count": 19,
     "metadata": {},
     "output_type": "execute_result"
    }
   ],
   "source": [
    "df_sin_nulos.head()"
   ]
  },
  {
   "cell_type": "code",
   "execution_count": 20,
   "metadata": {},
   "outputs": [],
   "source": [
    "# Creación de columnas que tengan información por separado de la fecha y hora\n",
    "df_sin_nulos['pickup_date'] = df_sin_nulos['tpep_pickup_datetime'].dt.date # Fecha\n",
    "df_sin_nulos['pickup_time'] = df_sin_nulos['tpep_pickup_datetime'].dt.time # Hora\n",
    "df_sin_nulos['dropoff_date'] = df_sin_nulos['tpep_dropoff_datetime'].dt.date # Fecha\n",
    "df_sin_nulos['dropoff_time'] = df_sin_nulos['tpep_dropoff_datetime'].dt.time # Hora"
   ]
  },
  {
   "cell_type": "code",
   "execution_count": 21,
   "metadata": {},
   "outputs": [],
   "source": [
    "# Eliminar las columnas que tienen la información unificada de Fecha y Hora\n",
    "df_sin_nulos.drop(columns=['tpep_pickup_datetime'], inplace=True)\n",
    "df_sin_nulos.drop(columns=['tpep_dropoff_datetime'], inplace=True)"
   ]
  },
  {
   "cell_type": "code",
   "execution_count": 22,
   "metadata": {},
   "outputs": [
    {
     "data": {
      "text/html": [
       "<div>\n",
       "<style scoped>\n",
       "    .dataframe tbody tr th:only-of-type {\n",
       "        vertical-align: middle;\n",
       "    }\n",
       "\n",
       "    .dataframe tbody tr th {\n",
       "        vertical-align: top;\n",
       "    }\n",
       "\n",
       "    .dataframe thead th {\n",
       "        text-align: right;\n",
       "    }\n",
       "</style>\n",
       "<table border=\"1\" class=\"dataframe\">\n",
       "  <thead>\n",
       "    <tr style=\"text-align: right;\">\n",
       "      <th></th>\n",
       "      <th>VendorID</th>\n",
       "      <th>passenger_count</th>\n",
       "      <th>trip_distance</th>\n",
       "      <th>RatecodeID</th>\n",
       "      <th>PULocationID</th>\n",
       "      <th>DOLocationID</th>\n",
       "      <th>payment_type</th>\n",
       "      <th>total_amount</th>\n",
       "      <th>pickup_hour</th>\n",
       "      <th>duracion_viaje</th>\n",
       "      <th>pickup_date</th>\n",
       "      <th>pickup_time</th>\n",
       "      <th>dropoff_date</th>\n",
       "      <th>dropoff_time</th>\n",
       "    </tr>\n",
       "  </thead>\n",
       "  <tbody>\n",
       "    <tr>\n",
       "      <th>0</th>\n",
       "      <td>1</td>\n",
       "      <td>1</td>\n",
       "      <td>2.10</td>\n",
       "      <td>1</td>\n",
       "      <td>142</td>\n",
       "      <td>43</td>\n",
       "      <td>2</td>\n",
       "      <td>11.80</td>\n",
       "      <td>0</td>\n",
       "      <td>362.0</td>\n",
       "      <td>2021-01-01</td>\n",
       "      <td>00:30:10</td>\n",
       "      <td>2021-01-01</td>\n",
       "      <td>00:36:12</td>\n",
       "    </tr>\n",
       "    <tr>\n",
       "      <th>1</th>\n",
       "      <td>1</td>\n",
       "      <td>1</td>\n",
       "      <td>0.20</td>\n",
       "      <td>1</td>\n",
       "      <td>238</td>\n",
       "      <td>151</td>\n",
       "      <td>2</td>\n",
       "      <td>4.30</td>\n",
       "      <td>0</td>\n",
       "      <td>59.0</td>\n",
       "      <td>2021-01-01</td>\n",
       "      <td>00:51:20</td>\n",
       "      <td>2021-01-01</td>\n",
       "      <td>00:52:19</td>\n",
       "    </tr>\n",
       "    <tr>\n",
       "      <th>2</th>\n",
       "      <td>1</td>\n",
       "      <td>1</td>\n",
       "      <td>14.70</td>\n",
       "      <td>1</td>\n",
       "      <td>132</td>\n",
       "      <td>165</td>\n",
       "      <td>1</td>\n",
       "      <td>51.95</td>\n",
       "      <td>0</td>\n",
       "      <td>1656.0</td>\n",
       "      <td>2021-01-01</td>\n",
       "      <td>00:43:30</td>\n",
       "      <td>2021-01-01</td>\n",
       "      <td>01:11:06</td>\n",
       "    </tr>\n",
       "    <tr>\n",
       "      <th>3</th>\n",
       "      <td>1</td>\n",
       "      <td>0</td>\n",
       "      <td>10.60</td>\n",
       "      <td>1</td>\n",
       "      <td>138</td>\n",
       "      <td>132</td>\n",
       "      <td>1</td>\n",
       "      <td>36.35</td>\n",
       "      <td>0</td>\n",
       "      <td>913.0</td>\n",
       "      <td>2021-01-01</td>\n",
       "      <td>00:15:48</td>\n",
       "      <td>2021-01-01</td>\n",
       "      <td>00:31:01</td>\n",
       "    </tr>\n",
       "    <tr>\n",
       "      <th>4</th>\n",
       "      <td>2</td>\n",
       "      <td>1</td>\n",
       "      <td>4.94</td>\n",
       "      <td>1</td>\n",
       "      <td>68</td>\n",
       "      <td>33</td>\n",
       "      <td>1</td>\n",
       "      <td>24.36</td>\n",
       "      <td>0</td>\n",
       "      <td>992.0</td>\n",
       "      <td>2021-01-01</td>\n",
       "      <td>00:31:49</td>\n",
       "      <td>2021-01-01</td>\n",
       "      <td>00:48:21</td>\n",
       "    </tr>\n",
       "  </tbody>\n",
       "</table>\n",
       "</div>"
      ],
      "text/plain": [
       "   VendorID  passenger_count  trip_distance  RatecodeID  PULocationID  \\\n",
       "0         1                1           2.10           1           142   \n",
       "1         1                1           0.20           1           238   \n",
       "2         1                1          14.70           1           132   \n",
       "3         1                0          10.60           1           138   \n",
       "4         2                1           4.94           1            68   \n",
       "\n",
       "   DOLocationID  payment_type  total_amount  pickup_hour  duracion_viaje  \\\n",
       "0            43             2         11.80            0           362.0   \n",
       "1           151             2          4.30            0            59.0   \n",
       "2           165             1         51.95            0          1656.0   \n",
       "3           132             1         36.35            0           913.0   \n",
       "4            33             1         24.36            0           992.0   \n",
       "\n",
       "  pickup_date pickup_time dropoff_date dropoff_time  \n",
       "0  2021-01-01    00:30:10   2021-01-01     00:36:12  \n",
       "1  2021-01-01    00:51:20   2021-01-01     00:52:19  \n",
       "2  2021-01-01    00:43:30   2021-01-01     01:11:06  \n",
       "3  2021-01-01    00:15:48   2021-01-01     00:31:01  \n",
       "4  2021-01-01    00:31:49   2021-01-01     00:48:21  "
      ]
     },
     "execution_count": 22,
     "metadata": {},
     "output_type": "execute_result"
    }
   ],
   "source": [
    "# Verificamos la estructura nueva, luego de crear y eliminar columnas\n",
    "df_sin_nulos.head()"
   ]
  },
  {
   "cell_type": "markdown",
   "metadata": {},
   "source": [
    "### Eliminación de columnas que se considera innecesario para los siguientes procesos"
   ]
  },
  {
   "cell_type": "code",
   "execution_count": 23,
   "metadata": {},
   "outputs": [],
   "source": [
    "df_sin_nulos.drop(columns=['pickup_time', 'dropoff_time', 'dropoff_date'], inplace=True)"
   ]
  },
  {
   "cell_type": "code",
   "execution_count": 24,
   "metadata": {},
   "outputs": [
    {
     "data": {
      "text/plain": [
       "VendorID             int32\n",
       "passenger_count      int32\n",
       "trip_distance      float64\n",
       "RatecodeID           int32\n",
       "PULocationID         int32\n",
       "DOLocationID         int32\n",
       "payment_type         int32\n",
       "total_amount       float64\n",
       "pickup_hour          int32\n",
       "duracion_viaje     float64\n",
       "pickup_date         object\n",
       "dtype: object"
      ]
     },
     "execution_count": 24,
     "metadata": {},
     "output_type": "execute_result"
    }
   ],
   "source": [
    "# Revisamos los formatos de cada columna\n",
    "df_sin_nulos.dtypes"
   ]
  },
  {
   "cell_type": "code",
   "execution_count": 25,
   "metadata": {},
   "outputs": [],
   "source": [
    "# Convertimos columnas 'pickup_date' y 'duracion_viaje' a formato DATE e INT32, para optimizar peso\n",
    "df_sin_nulos['pickup_date'] = pd.to_datetime(df_sin_nulos['pickup_date'])\n",
    "df_sin_nulos['duracion_viaje'] = df_sin_nulos['duracion_viaje'].astype('int32')"
   ]
  },
  {
   "cell_type": "code",
   "execution_count": 26,
   "metadata": {},
   "outputs": [
    {
     "data": {
      "text/html": [
       "<div>\n",
       "<style scoped>\n",
       "    .dataframe tbody tr th:only-of-type {\n",
       "        vertical-align: middle;\n",
       "    }\n",
       "\n",
       "    .dataframe tbody tr th {\n",
       "        vertical-align: top;\n",
       "    }\n",
       "\n",
       "    .dataframe thead th {\n",
       "        text-align: right;\n",
       "    }\n",
       "</style>\n",
       "<table border=\"1\" class=\"dataframe\">\n",
       "  <thead>\n",
       "    <tr style=\"text-align: right;\">\n",
       "      <th></th>\n",
       "      <th>VendorID</th>\n",
       "      <th>passenger_count</th>\n",
       "      <th>trip_distance</th>\n",
       "      <th>RatecodeID</th>\n",
       "      <th>PULocationID</th>\n",
       "      <th>DOLocationID</th>\n",
       "      <th>payment_type</th>\n",
       "      <th>total_amount</th>\n",
       "      <th>pickup_hour</th>\n",
       "      <th>duracion_viaje</th>\n",
       "      <th>pickup_date</th>\n",
       "    </tr>\n",
       "  </thead>\n",
       "  <tbody>\n",
       "    <tr>\n",
       "      <th>0</th>\n",
       "      <td>1</td>\n",
       "      <td>1</td>\n",
       "      <td>2.10</td>\n",
       "      <td>1</td>\n",
       "      <td>142</td>\n",
       "      <td>43</td>\n",
       "      <td>2</td>\n",
       "      <td>11.80</td>\n",
       "      <td>0</td>\n",
       "      <td>362</td>\n",
       "      <td>2021-01-01</td>\n",
       "    </tr>\n",
       "    <tr>\n",
       "      <th>1</th>\n",
       "      <td>1</td>\n",
       "      <td>1</td>\n",
       "      <td>0.20</td>\n",
       "      <td>1</td>\n",
       "      <td>238</td>\n",
       "      <td>151</td>\n",
       "      <td>2</td>\n",
       "      <td>4.30</td>\n",
       "      <td>0</td>\n",
       "      <td>59</td>\n",
       "      <td>2021-01-01</td>\n",
       "    </tr>\n",
       "    <tr>\n",
       "      <th>2</th>\n",
       "      <td>1</td>\n",
       "      <td>1</td>\n",
       "      <td>14.70</td>\n",
       "      <td>1</td>\n",
       "      <td>132</td>\n",
       "      <td>165</td>\n",
       "      <td>1</td>\n",
       "      <td>51.95</td>\n",
       "      <td>0</td>\n",
       "      <td>1656</td>\n",
       "      <td>2021-01-01</td>\n",
       "    </tr>\n",
       "    <tr>\n",
       "      <th>3</th>\n",
       "      <td>1</td>\n",
       "      <td>0</td>\n",
       "      <td>10.60</td>\n",
       "      <td>1</td>\n",
       "      <td>138</td>\n",
       "      <td>132</td>\n",
       "      <td>1</td>\n",
       "      <td>36.35</td>\n",
       "      <td>0</td>\n",
       "      <td>913</td>\n",
       "      <td>2021-01-01</td>\n",
       "    </tr>\n",
       "    <tr>\n",
       "      <th>4</th>\n",
       "      <td>2</td>\n",
       "      <td>1</td>\n",
       "      <td>4.94</td>\n",
       "      <td>1</td>\n",
       "      <td>68</td>\n",
       "      <td>33</td>\n",
       "      <td>1</td>\n",
       "      <td>24.36</td>\n",
       "      <td>0</td>\n",
       "      <td>992</td>\n",
       "      <td>2021-01-01</td>\n",
       "    </tr>\n",
       "  </tbody>\n",
       "</table>\n",
       "</div>"
      ],
      "text/plain": [
       "   VendorID  passenger_count  trip_distance  RatecodeID  PULocationID  \\\n",
       "0         1                1           2.10           1           142   \n",
       "1         1                1           0.20           1           238   \n",
       "2         1                1          14.70           1           132   \n",
       "3         1                0          10.60           1           138   \n",
       "4         2                1           4.94           1            68   \n",
       "\n",
       "   DOLocationID  payment_type  total_amount  pickup_hour  duracion_viaje  \\\n",
       "0            43             2         11.80            0             362   \n",
       "1           151             2          4.30            0              59   \n",
       "2           165             1         51.95            0            1656   \n",
       "3           132             1         36.35            0             913   \n",
       "4            33             1         24.36            0             992   \n",
       "\n",
       "  pickup_date  \n",
       "0  2021-01-01  \n",
       "1  2021-01-01  \n",
       "2  2021-01-01  \n",
       "3  2021-01-01  \n",
       "4  2021-01-01  "
      ]
     },
     "execution_count": 26,
     "metadata": {},
     "output_type": "execute_result"
    }
   ],
   "source": [
    "df_sin_nulos.head()"
   ]
  },
  {
   "cell_type": "markdown",
   "metadata": {},
   "source": [
    "### Tratamiento columna `passenger_count`"
   ]
  },
  {
   "cell_type": "code",
   "execution_count": 27,
   "metadata": {},
   "outputs": [
    {
     "data": {
      "text/plain": [
       "array([  1,   0,   2,   3,   5,   4,   6,   8,   7,   9, 112,  96])"
      ]
     },
     "execution_count": 27,
     "metadata": {},
     "output_type": "execute_result"
    }
   ],
   "source": [
    "# Revisamos los registros únicos para la columna 'passenger_count'\n",
    "df_sin_nulos['passenger_count'].unique()"
   ]
  },
  {
   "cell_type": "code",
   "execution_count": 28,
   "metadata": {},
   "outputs": [],
   "source": [
    "# Eliminación de registros que están fuera de la normativa legal para los taxis amarillos en EEUU\n",
    "df_sin_nulos.drop(df_sin_nulos[df_sin_nulos['passenger_count'] == 0].index, inplace=True)\n",
    "df_sin_nulos.drop(df_sin_nulos[df_sin_nulos['passenger_count'] > 4].index, inplace=True)"
   ]
  },
  {
   "cell_type": "code",
   "execution_count": 29,
   "metadata": {},
   "outputs": [
    {
     "data": {
      "text/plain": [
       "array([1, 2, 3, 4])"
      ]
     },
     "execution_count": 29,
     "metadata": {},
     "output_type": "execute_result"
    }
   ],
   "source": [
    "# Corroboramos los cambios aplicados\n",
    "df_sin_nulos['passenger_count'].unique()"
   ]
  },
  {
   "cell_type": "code",
   "execution_count": 30,
   "metadata": {},
   "outputs": [
    {
     "data": {
      "text/plain": [
       "(99189448, 11)"
      ]
     },
     "execution_count": 30,
     "metadata": {},
     "output_type": "execute_result"
    }
   ],
   "source": [
    "# Revisamos las dimensiones del DF, luego de los cambios efectuados\n",
    "df_sin_nulos.shape"
   ]
  },
  {
   "cell_type": "markdown",
   "metadata": {},
   "source": [
    "### Tratamiento de columnas `total_amount` y `duracion_viaje`"
   ]
  },
  {
   "cell_type": "code",
   "execution_count": 31,
   "metadata": {},
   "outputs": [
    {
     "name": "stdout",
     "output_type": "stream",
     "text": [
      "Minimo: -2567.8\n",
      "Maximo: 818286.74\n",
      "Media: 23.27464075110078\n",
      "Mediana: 17.16\n",
      "Desviación estándar: 125.06789931294153\n"
     ]
    }
   ],
   "source": [
    "# Calcular la media, mediana, desviación estándar, mínimo y máximo de la columna:  'total_amount'\n",
    "mean_seconds = df_sin_nulos['total_amount'].mean()\n",
    "median_seconds = df_sin_nulos['total_amount'].median()\n",
    "std_seconds = df_sin_nulos['total_amount'].std()\n",
    "min_seconds = df_sin_nulos['total_amount'].min()\n",
    "max_seconds = df_sin_nulos['total_amount'].max()\n",
    "\n",
    "# Revisar los resultados\n",
    "print(\"Minimo:\", min_seconds)\n",
    "print(\"Maximo:\", max_seconds)\n",
    "print(\"Media:\", mean_seconds)\n",
    "print(\"Mediana:\", median_seconds)\n",
    "print(\"Desviación estándar:\", std_seconds)"
   ]
  },
  {
   "cell_type": "code",
   "execution_count": 32,
   "metadata": {},
   "outputs": [
    {
     "name": "stdout",
     "output_type": "stream",
     "text": [
      "Minimo: -6268355\n",
      "Maximo: 1760191\n",
      "Media: 1012.1953548728288\n",
      "Mediana: 711.0\n",
      "Desviación estándar: 3052.235520186167\n"
     ]
    }
   ],
   "source": [
    "# Calcular la media, mediana, desviación estándar, mínimo y máximo de la columna:  'duracion_viaje'\n",
    "mean_seconds = df_sin_nulos['duracion_viaje'].mean()\n",
    "median_seconds = df_sin_nulos['duracion_viaje'].median()\n",
    "std_seconds = df_sin_nulos['duracion_viaje'].std()\n",
    "min_seconds = df_sin_nulos['duracion_viaje'].min()\n",
    "max_seconds = df_sin_nulos['duracion_viaje'].max()\n",
    "\n",
    "# Revisar los resultados\n",
    "print(\"Minimo:\", min_seconds)\n",
    "print(\"Maximo:\", max_seconds)\n",
    "print(\"Media:\", mean_seconds)\n",
    "print(\"Mediana:\", median_seconds)\n",
    "print(\"Desviación estándar:\", std_seconds)"
   ]
  },
  {
   "cell_type": "code",
   "execution_count": 33,
   "metadata": {},
   "outputs": [
    {
     "name": "stdout",
     "output_type": "stream",
     "text": [
      "[10.3  17.16 45.  ]\n",
      "[ 194.  711. 2395.]\n"
     ]
    }
   ],
   "source": [
    "# Calcular los cuartiles para las columnas 'total_amount' y 'duracion_viaje'\n",
    "cuartiles_total_amount = np.percentile(df_sin_nulos['total_amount'], [10, 50, 90])\n",
    "cuartiles_duracion_viaje = np.percentile(df_sin_nulos['duracion_viaje'], [5, 50, 95])\n",
    "print(cuartiles_total_amount)\n",
    "print(cuartiles_duracion_viaje)"
   ]
  },
  {
   "cell_type": "code",
   "execution_count": 34,
   "metadata": {},
   "outputs": [],
   "source": [
    "# Eliminamos registros basandonos en los cuartiles identificados en el paso anterior\n",
    "df_sin_nulos.drop(df_sin_nulos[df_sin_nulos['total_amount'] < 10.3 ].index, inplace=True)\n",
    "df_sin_nulos.drop(df_sin_nulos[df_sin_nulos['total_amount'] > 44.35 ].index, inplace=True)\n",
    "df_sin_nulos.drop(df_sin_nulos[df_sin_nulos['duracion_viaje'] < 208 ].index, inplace=True)\n",
    "df_sin_nulos.drop(df_sin_nulos[df_sin_nulos['duracion_viaje'] > 2393 ].index, inplace=True)"
   ]
  },
  {
   "cell_type": "code",
   "execution_count": 35,
   "metadata": {},
   "outputs": [
    {
     "data": {
      "text/plain": [
       "(77666859, 11)"
      ]
     },
     "execution_count": 35,
     "metadata": {},
     "output_type": "execute_result"
    }
   ],
   "source": [
    "# Revisamos las dimensiones del DF, luego de eliminar una cantidad importante de registros\n",
    "df_sin_nulos.shape"
   ]
  },
  {
   "cell_type": "markdown",
   "metadata": {},
   "source": [
    "### Tratamiento a columna `trip_distance`"
   ]
  },
  {
   "cell_type": "code",
   "execution_count": 36,
   "metadata": {},
   "outputs": [
    {
     "name": "stdout",
     "output_type": "stream",
     "text": [
      "Cantidad de registros con trip_distance inferior a 0.5: 927409\n"
     ]
    }
   ],
   "source": [
    "# Contar los registros con duración de viaje inferior a 0.5\n",
    "registros_inferiores_a_cero = df_sin_nulos[df_sin_nulos['trip_distance'] < 0.5]\n",
    "cantidad_registros_inferiores_a_cero = len(registros_inferiores_a_cero)\n",
    "print(\"Cantidad de registros con trip_distance inferior a 0.5:\", cantidad_registros_inferiores_a_cero)"
   ]
  },
  {
   "cell_type": "code",
   "execution_count": 37,
   "metadata": {},
   "outputs": [
    {
     "name": "stdout",
     "output_type": "stream",
     "text": [
      "Cantidad de registros con trip_distance superior a 13: 69056\n"
     ]
    }
   ],
   "source": [
    "# Contar los registros con duración de viaje superiores a 13\n",
    "registros_inferiores_a_cero = df_sin_nulos[df_sin_nulos['trip_distance'] > 13]\n",
    "cantidad_registros_inferiores_a_cero = len(registros_inferiores_a_cero)\n",
    "print(\"Cantidad de registros con trip_distance superior a 13:\", cantidad_registros_inferiores_a_cero)"
   ]
  },
  {
   "cell_type": "code",
   "execution_count": 38,
   "metadata": {},
   "outputs": [],
   "source": [
    "df_sin_nulos.drop(df_sin_nulos[df_sin_nulos['trip_distance'] < 0.5 ].index, inplace=True)\n",
    "df_sin_nulos.drop(df_sin_nulos[df_sin_nulos['trip_distance'] > 13 ].index, inplace=True)"
   ]
  },
  {
   "cell_type": "code",
   "execution_count": 39,
   "metadata": {},
   "outputs": [
    {
     "data": {
      "text/plain": [
       "(76670394, 11)"
      ]
     },
     "execution_count": 39,
     "metadata": {},
     "output_type": "execute_result"
    }
   ],
   "source": [
    "df_sin_nulos.shape"
   ]
  },
  {
   "cell_type": "code",
   "execution_count": 40,
   "metadata": {},
   "outputs": [
    {
     "data": {
      "text/plain": [
       "VendorID                    int32\n",
       "passenger_count             int32\n",
       "trip_distance             float64\n",
       "RatecodeID                  int32\n",
       "PULocationID                int32\n",
       "DOLocationID                int32\n",
       "payment_type                int32\n",
       "total_amount              float64\n",
       "pickup_hour                 int32\n",
       "duracion_viaje              int32\n",
       "pickup_date        datetime64[ns]\n",
       "dtype: object"
      ]
     },
     "execution_count": 40,
     "metadata": {},
     "output_type": "execute_result"
    }
   ],
   "source": [
    "df_sin_nulos.dtypes"
   ]
  },
  {
   "cell_type": "code",
   "execution_count": 41,
   "metadata": {},
   "outputs": [
    {
     "data": {
      "text/html": [
       "<div>\n",
       "<style scoped>\n",
       "    .dataframe tbody tr th:only-of-type {\n",
       "        vertical-align: middle;\n",
       "    }\n",
       "\n",
       "    .dataframe tbody tr th {\n",
       "        vertical-align: top;\n",
       "    }\n",
       "\n",
       "    .dataframe thead th {\n",
       "        text-align: right;\n",
       "    }\n",
       "</style>\n",
       "<table border=\"1\" class=\"dataframe\">\n",
       "  <thead>\n",
       "    <tr style=\"text-align: right;\">\n",
       "      <th></th>\n",
       "      <th>VendorID</th>\n",
       "      <th>passenger_count</th>\n",
       "      <th>trip_distance</th>\n",
       "      <th>RatecodeID</th>\n",
       "      <th>PULocationID</th>\n",
       "      <th>DOLocationID</th>\n",
       "      <th>payment_type</th>\n",
       "      <th>total_amount</th>\n",
       "      <th>pickup_hour</th>\n",
       "      <th>duracion_viaje</th>\n",
       "      <th>pickup_date</th>\n",
       "    </tr>\n",
       "  </thead>\n",
       "  <tbody>\n",
       "    <tr>\n",
       "      <th>0</th>\n",
       "      <td>1</td>\n",
       "      <td>1</td>\n",
       "      <td>2.10</td>\n",
       "      <td>1</td>\n",
       "      <td>142</td>\n",
       "      <td>43</td>\n",
       "      <td>2</td>\n",
       "      <td>11.80</td>\n",
       "      <td>0</td>\n",
       "      <td>362</td>\n",
       "      <td>2021-01-01</td>\n",
       "    </tr>\n",
       "    <tr>\n",
       "      <th>4</th>\n",
       "      <td>2</td>\n",
       "      <td>1</td>\n",
       "      <td>4.94</td>\n",
       "      <td>1</td>\n",
       "      <td>68</td>\n",
       "      <td>33</td>\n",
       "      <td>1</td>\n",
       "      <td>24.36</td>\n",
       "      <td>0</td>\n",
       "      <td>992</td>\n",
       "      <td>2021-01-01</td>\n",
       "    </tr>\n",
       "    <tr>\n",
       "      <th>5</th>\n",
       "      <td>1</td>\n",
       "      <td>1</td>\n",
       "      <td>1.60</td>\n",
       "      <td>1</td>\n",
       "      <td>224</td>\n",
       "      <td>68</td>\n",
       "      <td>1</td>\n",
       "      <td>14.15</td>\n",
       "      <td>0</td>\n",
       "      <td>481</td>\n",
       "      <td>2021-01-01</td>\n",
       "    </tr>\n",
       "    <tr>\n",
       "      <th>6</th>\n",
       "      <td>1</td>\n",
       "      <td>1</td>\n",
       "      <td>4.10</td>\n",
       "      <td>1</td>\n",
       "      <td>95</td>\n",
       "      <td>157</td>\n",
       "      <td>2</td>\n",
       "      <td>17.30</td>\n",
       "      <td>0</td>\n",
       "      <td>1020</td>\n",
       "      <td>2021-01-01</td>\n",
       "    </tr>\n",
       "    <tr>\n",
       "      <th>7</th>\n",
       "      <td>1</td>\n",
       "      <td>1</td>\n",
       "      <td>5.70</td>\n",
       "      <td>1</td>\n",
       "      <td>90</td>\n",
       "      <td>40</td>\n",
       "      <td>2</td>\n",
       "      <td>21.80</td>\n",
       "      <td>0</td>\n",
       "      <td>1085</td>\n",
       "      <td>2021-01-01</td>\n",
       "    </tr>\n",
       "  </tbody>\n",
       "</table>\n",
       "</div>"
      ],
      "text/plain": [
       "   VendorID  passenger_count  trip_distance  RatecodeID  PULocationID  \\\n",
       "0         1                1           2.10           1           142   \n",
       "4         2                1           4.94           1            68   \n",
       "5         1                1           1.60           1           224   \n",
       "6         1                1           4.10           1            95   \n",
       "7         1                1           5.70           1            90   \n",
       "\n",
       "   DOLocationID  payment_type  total_amount  pickup_hour  duracion_viaje  \\\n",
       "0            43             2         11.80            0             362   \n",
       "4            33             1         24.36            0             992   \n",
       "5            68             1         14.15            0             481   \n",
       "6           157             2         17.30            0            1020   \n",
       "7            40             2         21.80            0            1085   \n",
       "\n",
       "  pickup_date  \n",
       "0  2021-01-01  \n",
       "4  2021-01-01  \n",
       "5  2021-01-01  \n",
       "6  2021-01-01  \n",
       "7  2021-01-01  "
      ]
     },
     "execution_count": 41,
     "metadata": {},
     "output_type": "execute_result"
    }
   ],
   "source": [
    "df_sin_nulos.head()"
   ]
  },
  {
   "cell_type": "code",
   "execution_count": 42,
   "metadata": {},
   "outputs": [],
   "source": [
    "df_sin_nulos.to_parquet('../datasets/yellow_final_documentado.parquet', compression='gzip')"
   ]
  }
 ],
 "metadata": {
  "kernelspec": {
   "display_name": "Python 3",
   "language": "python",
   "name": "python3"
  },
  "language_info": {
   "codemirror_mode": {
    "name": "ipython",
    "version": 3
   },
   "file_extension": ".py",
   "mimetype": "text/x-python",
   "name": "python",
   "nbconvert_exporter": "python",
   "pygments_lexer": "ipython3",
   "version": "3.10.11"
  }
 },
 "nbformat": 4,
 "nbformat_minor": 2
}
