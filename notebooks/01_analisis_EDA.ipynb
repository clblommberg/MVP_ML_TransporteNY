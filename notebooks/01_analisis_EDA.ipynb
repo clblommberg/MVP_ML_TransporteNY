{
 "cells": [
  {
   "cell_type": "markdown",
   "metadata": {},
   "source": [
    "# Preparación de datos\n",
    "## Importar bibliotecas"
   ]
  },
  {
   "cell_type": "code",
   "execution_count": 1,
   "metadata": {},
   "outputs": [],
   "source": [
    "import pandas as pd \n",
    "import numpy as np \n",
    "import scipy as sp\n",
    "import math\n",
    "import re\n",
    "from tqdm import tqdm\n",
    "import json\n",
    "import gzip\n",
    "from unidecode import unidecode\n",
    "from pyspark.sql.functions import udf\n",
    "import matplotlib.pyplot as plt\n",
    "\n",
    "import seaborn as sns\n",
    "from pyspark.sql import SparkSession\n",
    "from pyspark.sql.types import StructType, StructField, StringType, DoubleType, IntegerType, BooleanType\n",
    "from pyspark.sql.functions import from_json, col\n",
    "from pyspark.sql.functions import explode\n",
    "\n",
    "# Importar funciones necesarias\n",
    "from pyspark.sql.functions import col, to_date, weekofyear,year,trim, month, dayofmonth, sum\n",
    "from pyspark.sql.functions import col,  count, coalesce, sum as spark_sum\n",
    "from pyspark.sql.functions import regexp_replace, col, when, explode_outer,lit, to_timestamp,regexp_extract,lower,split\n",
    "from pyspark.sql.functions import format_number\n",
    "from pyspark.sql.types import IntegerType,FloatType\n",
    "# Puedes obtener estadísticas específicas para una columna\n",
    "from pyspark.sql.functions import mean, min, max\n",
    "from pyspark.sql.functions import approx_count_distinct\n",
    "from pyspark.sql.window import Window\n",
    "from pyspark.sql.functions import log1p\n",
    "from pyspark.sql import functions as F\n",
    "\n",
    "from pyspark.ml.stat import Correlation\n",
    "from pyspark.ml.feature import VectorAssembler\n",
    "from pyspark.sql.types import *\n"
   ]
  },
  {
   "cell_type": "markdown",
   "metadata": {},
   "source": [
    "## Inicio de Sessión Cluster"
   ]
  },
  {
   "cell_type": "code",
   "execution_count": 2,
   "metadata": {},
   "outputs": [],
   "source": [
    "spark = SparkSession.builder.appName(\"MVP_NY\").getOrCreate()\n",
    "#spark = SparkSession.builder.master(\"spark://localhost:7077\").appName(\"MLops1\").getOrCreate()"
   ]
  },
  {
   "cell_type": "code",
   "execution_count": 3,
   "metadata": {},
   "outputs": [
    {
     "data": {
      "text/html": [
       "\n",
       "            <div>\n",
       "                <p><b>SparkSession - in-memory</b></p>\n",
       "                \n",
       "        <div>\n",
       "            <p><b>SparkContext</b></p>\n",
       "\n",
       "            <p><a href=\"http://DESKTOP-BAETS3I:4040\">Spark UI</a></p>\n",
       "\n",
       "            <dl>\n",
       "              <dt>Version</dt>\n",
       "                <dd><code>v3.5.0</code></dd>\n",
       "              <dt>Master</dt>\n",
       "                <dd><code>local[*]</code></dd>\n",
       "              <dt>AppName</dt>\n",
       "                <dd><code>MVP_NY</code></dd>\n",
       "            </dl>\n",
       "        </div>\n",
       "        \n",
       "            </div>\n",
       "        "
      ],
      "text/plain": [
       "<pyspark.sql.session.SparkSession at 0x12d9bebfd00>"
      ]
     },
     "execution_count": 3,
     "metadata": {},
     "output_type": "execute_result"
    }
   ],
   "source": [
    "spark"
   ]
  },
  {
   "cell_type": "code",
   "execution_count": null,
   "metadata": {},
   "outputs": [],
   "source": []
  },
  {
   "cell_type": "code",
   "execution_count": 4,
   "metadata": {},
   "outputs": [],
   "source": [
    "# Librerías para Scraping\n",
    "import requests\n",
    "import gzip\n",
    "import shutil\n",
    "from tqdm import tqdm\n",
    "from bs4 import BeautifulSoup\n",
    "from datetime import timedelta, date\n",
    "import math\n",
    "from pathlib import Path\n",
    "\n",
    "# Librerías de Normalización y Limpieza\n",
    "import pandas as pd\n",
    "import numpy as np\n",
    "import re\n",
    "from unidecode import unidecode\n",
    "\n",
    "# Librerías para Gráficos\n",
    "import matplotlib.pyplot as plt\n",
    "import seaborn as sns\n",
    "import plotly.express as px\n",
    "import plotly.graph_objects as go\n",
    "import plotly.figure_factory as ff\n",
    "from IPython.display import Image, display\n",
    "\n",
    "import geopandas as gpd\n",
    "import geojson\n",
    "from shapely.geometry import Point, Polygon\n",
    "from shapely.wkt import loads\n",
    "\n",
    "# Modelado y Procesamiento\n",
    "from sklearn.preprocessing import StandardScaler, normalize\n",
    "from sklearn.cluster import KMeans\n",
    "from sklearn.decomposition import PCA\n",
    "from sklearn.metrics.pairwise import cosine_similarity\n"
   ]
  },
  {
   "cell_type": "code",
   "execution_count": null,
   "metadata": {},
   "outputs": [
    {
     "name": "stdout",
     "output_type": "stream",
     "text": [
      "El archivo ../datasets/raw/yellow_tripdata_2023-01.parquet ya existe, no es necesario descargarlo nuevamente.\n",
      "El archivo ../datasets/raw/green_tripdata_2023-01.parquet ya existe, no es necesario descargarlo nuevamente.\n",
      "El archivo ../datasets/raw/fhv_tripdata_2023-01.parquet ya existe, no es necesario descargarlo nuevamente.\n",
      "El archivo ../datasets/raw/fhvhv_tripdata_2023-01.parquet ya existe, no es necesario descargarlo nuevamente.\n",
      "El archivo ../datasets/raw/yellow_tripdata_2023-02.parquet ya existe, no es necesario descargarlo nuevamente.\n",
      "El archivo ../datasets/raw/green_tripdata_2023-02.parquet ya existe, no es necesario descargarlo nuevamente.\n",
      "El archivo ../datasets/raw/fhv_tripdata_2023-02.parquet ya existe, no es necesario descargarlo nuevamente.\n",
      "El archivo ../datasets/raw/fhvhv_tripdata_2023-02.parquet ya existe, no es necesario descargarlo nuevamente.\n",
      "El archivo ../datasets/raw/yellow_tripdata_2023-03.parquet ya existe, no es necesario descargarlo nuevamente.\n",
      "El archivo ../datasets/raw/yellow_tripdata_2023-04.parquet ya existe, no es necesario descargarlo nuevamente.\n",
      "El archivo ../datasets/raw/green_tripdata_2023-04.parquet ya existe, no es necesario descargarlo nuevamente.\n",
      "El archivo ../datasets/raw/fhv_tripdata_2023-04.parquet ya existe, no es necesario descargarlo nuevamente.\n",
      "El archivo ../datasets/raw/fhvhv_tripdata_2023-04.parquet ya existe, no es necesario descargarlo nuevamente.\n",
      "El archivo ../datasets/raw/yellow_tripdata_2023-06.parquet ya existe, no es necesario descargarlo nuevamente.\n",
      "El archivo ../datasets/raw/green_tripdata_2023-06.parquet ya existe, no es necesario descargarlo nuevamente.\n",
      "El archivo ../datasets/raw/fhv_tripdata_2023-06.parquet ya existe, no es necesario descargarlo nuevamente.\n",
      "El archivo ../datasets/raw/fhvhv_tripdata_2023-06.parquet ya existe, no es necesario descargarlo nuevamente.\n",
      "El archivo ../datasets/raw/yellow_tripdata_2023-12.parquet ya existe, no es necesario descargarlo nuevamente.\n",
      "El archivo ../datasets/raw/green_tripdata_2023-12.parquet ya existe, no es necesario descargarlo nuevamente.\n",
      "El archivo ../datasets/raw/yellow_tripdata_2022-01.parquet ya existe, no es necesario descargarlo nuevamente.\n",
      "El archivo ../datasets/raw/green_tripdata_2022-01.parquet ya existe, no es necesario descargarlo nuevamente.\n",
      "El archivo ../datasets/raw/fhv_tripdata_2022-01.parquet ya existe, no es necesario descargarlo nuevamente.\n",
      "El archivo ../datasets/raw/fhvhv_tripdata_2022-01.parquet ya existe, no es necesario descargarlo nuevamente.\n",
      "El archivo ../datasets/raw/yellow_tripdata_2022-02.parquet ya existe, no es necesario descargarlo nuevamente.\n",
      "El archivo ../datasets/raw/green_tripdata_2022-02.parquet ya existe, no es necesario descargarlo nuevamente.\n",
      "El archivo ../datasets/raw/fhv_tripdata_2022-02.parquet ya existe, no es necesario descargarlo nuevamente.\n",
      "El archivo ../datasets/raw/fhvhv_tripdata_2022-02.parquet ya existe, no es necesario descargarlo nuevamente.\n",
      "El archivo ../datasets/raw/yellow_tripdata_2022-03.parquet ya existe, no es necesario descargarlo nuevamente.\n",
      "El archivo ../datasets/raw/green_tripdata_2022-03.parquet ya existe, no es necesario descargarlo nuevamente.\n",
      "El archivo ../datasets/raw/fhv_tripdata_2022-03.parquet ya existe, no es necesario descargarlo nuevamente.\n",
      "El archivo ../datasets/raw/fhvhv_tripdata_2022-03.parquet ya existe, no es necesario descargarlo nuevamente.\n",
      "El archivo ../datasets/raw/yellow_tripdata_2022-04.parquet ya existe, no es necesario descargarlo nuevamente.\n",
      "El archivo ../datasets/raw/green_tripdata_2022-04.parquet ya existe, no es necesario descargarlo nuevamente.\n",
      "El archivo ../datasets/raw/fhv_tripdata_2022-04.parquet ya existe, no es necesario descargarlo nuevamente.\n",
      "El archivo ../datasets/raw/fhvhv_tripdata_2022-04.parquet ya existe, no es necesario descargarlo nuevamente.\n",
      "El archivo ../datasets/raw/yellow_tripdata_2022-05.parquet ya existe, no es necesario descargarlo nuevamente.\n",
      "El archivo ../datasets/raw/green_tripdata_2022-05.parquet ya existe, no es necesario descargarlo nuevamente.\n",
      "El archivo ../datasets/raw/fhv_tripdata_2022-05.parquet ya existe, no es necesario descargarlo nuevamente.\n",
      "El archivo ../datasets/raw/fhvhv_tripdata_2022-05.parquet ya existe, no es necesario descargarlo nuevamente.\n",
      "El archivo ../datasets/raw/yellow_tripdata_2022-06.parquet ya existe, no es necesario descargarlo nuevamente.\n",
      "El archivo ../datasets/raw/green_tripdata_2022-06.parquet ya existe, no es necesario descargarlo nuevamente.\n",
      "El archivo ../datasets/raw/fhv_tripdata_2022-06.parquet ya existe, no es necesario descargarlo nuevamente.\n",
      "El archivo ../datasets/raw/fhvhv_tripdata_2022-06.parquet ya existe, no es necesario descargarlo nuevamente.\n",
      "El archivo ../datasets/raw/yellow_tripdata_2022-07.parquet ya existe, no es necesario descargarlo nuevamente.\n",
      "El archivo ../datasets/raw/green_tripdata_2022-07.parquet ya existe, no es necesario descargarlo nuevamente.\n",
      "El archivo ../datasets/raw/fhv_tripdata_2022-07.parquet ya existe, no es necesario descargarlo nuevamente.\n",
      "El archivo ../datasets/raw/fhvhv_tripdata_2022-07.parquet ya existe, no es necesario descargarlo nuevamente.\n",
      "El archivo ../datasets/raw/yellow_tripdata_2022-08.parquet ya existe, no es necesario descargarlo nuevamente.\n",
      "El archivo ../datasets/raw/green_tripdata_2022-08.parquet ya existe, no es necesario descargarlo nuevamente.\n",
      "El archivo ../datasets/raw/fhv_tripdata_2022-08.parquet ya existe, no es necesario descargarlo nuevamente.\n",
      "El archivo ../datasets/raw/fhvhv_tripdata_2022-08.parquet ya existe, no es necesario descargarlo nuevamente.\n",
      "El archivo ../datasets/raw/yellow_tripdata_2022-09.parquet ya existe, no es necesario descargarlo nuevamente.\n",
      "El archivo ../datasets/raw/green_tripdata_2022-09.parquet ya existe, no es necesario descargarlo nuevamente.\n",
      "El archivo ../datasets/raw/fhv_tripdata_2022-09.parquet ya existe, no es necesario descargarlo nuevamente.\n",
      "El archivo ../datasets/raw/fhvhv_tripdata_2022-09.parquet ya existe, no es necesario descargarlo nuevamente.\n",
      "El archivo ../datasets/raw/yellow_tripdata_2022-10.parquet ya existe, no es necesario descargarlo nuevamente.\n",
      "El archivo ../datasets/raw/green_tripdata_2022-10.parquet ya existe, no es necesario descargarlo nuevamente.\n",
      "El archivo ../datasets/raw/fhv_tripdata_2022-10.parquet ya existe, no es necesario descargarlo nuevamente.\n",
      "El archivo ../datasets/raw/fhvhv_tripdata_2022-10.parquet ya existe, no es necesario descargarlo nuevamente.\n",
      "El archivo ../datasets/raw/yellow_tripdata_2022-11.parquet ya existe, no es necesario descargarlo nuevamente.\n",
      "El archivo ../datasets/raw/green_tripdata_2022-11.parquet ya existe, no es necesario descargarlo nuevamente.\n",
      "El archivo ../datasets/raw/fhv_tripdata_2022-11.parquet ya existe, no es necesario descargarlo nuevamente.\n",
      "El archivo ../datasets/raw/fhvhv_tripdata_2022-11.parquet ya existe, no es necesario descargarlo nuevamente.\n",
      "El archivo ../datasets/raw/yellow_tripdata_2022-12.parquet ya existe, no es necesario descargarlo nuevamente.\n",
      "El archivo ../datasets/raw/green_tripdata_2022-12.parquet ya existe, no es necesario descargarlo nuevamente.\n",
      "El archivo ../datasets/raw/fhv_tripdata_2022-12.parquet ya existe, no es necesario descargarlo nuevamente.\n",
      "El archivo ../datasets/raw/fhvhv_tripdata_2022-12.parquet ya existe, no es necesario descargarlo nuevamente.\n",
      "El archivo ../datasets/raw/yellow_tripdata_2021-01.parquet ya existe, no es necesario descargarlo nuevamente.\n",
      "El archivo ../datasets/raw/green_tripdata_2021-01.parquet ya existe, no es necesario descargarlo nuevamente.\n",
      "El archivo ../datasets/raw/fhv_tripdata_2021-01.parquet ya existe, no es necesario descargarlo nuevamente.\n",
      "El archivo ../datasets/raw/fhvhv_tripdata_2021-01.parquet ya existe, no es necesario descargarlo nuevamente.\n",
      "El archivo ../datasets/raw/yellow_tripdata_2021-02.parquet ya existe, no es necesario descargarlo nuevamente.\n",
      "El archivo ../datasets/raw/green_tripdata_2021-02.parquet ya existe, no es necesario descargarlo nuevamente.\n",
      "El archivo ../datasets/raw/fhv_tripdata_2021-02.parquet ya existe, no es necesario descargarlo nuevamente.\n",
      "El archivo ../datasets/raw/fhvhv_tripdata_2021-02.parquet ya existe, no es necesario descargarlo nuevamente.\n",
      "El archivo ../datasets/raw/yellow_tripdata_2021-03.parquet ya existe, no es necesario descargarlo nuevamente.\n",
      "El archivo ../datasets/raw/green_tripdata_2021-03.parquet ya existe, no es necesario descargarlo nuevamente.\n",
      "El archivo ../datasets/raw/fhv_tripdata_2021-03.parquet ya existe, no es necesario descargarlo nuevamente.\n",
      "El archivo ../datasets/raw/fhvhv_tripdata_2021-03.parquet ya existe, no es necesario descargarlo nuevamente.\n",
      "El archivo ../datasets/raw/yellow_tripdata_2021-04.parquet ya existe, no es necesario descargarlo nuevamente.\n",
      "El archivo ../datasets/raw/green_tripdata_2021-04.parquet ya existe, no es necesario descargarlo nuevamente.\n",
      "El archivo ../datasets/raw/fhv_tripdata_2021-04.parquet ya existe, no es necesario descargarlo nuevamente.\n",
      "El archivo ../datasets/raw/fhvhv_tripdata_2021-04.parquet ya existe, no es necesario descargarlo nuevamente.\n",
      "El archivo ../datasets/raw/yellow_tripdata_2021-05.parquet ya existe, no es necesario descargarlo nuevamente.\n",
      "El archivo ../datasets/raw/green_tripdata_2021-05.parquet ya existe, no es necesario descargarlo nuevamente.\n",
      "El archivo ../datasets/raw/fhv_tripdata_2021-05.parquet ya existe, no es necesario descargarlo nuevamente.\n",
      "El archivo ../datasets/raw/fhvhv_tripdata_2021-05.parquet ya existe, no es necesario descargarlo nuevamente.\n",
      "El archivo ../datasets/raw/yellow_tripdata_2021-06.parquet ya existe, no es necesario descargarlo nuevamente.\n",
      "El archivo ../datasets/raw/green_tripdata_2021-06.parquet ya existe, no es necesario descargarlo nuevamente.\n",
      "El archivo ../datasets/raw/fhv_tripdata_2021-06.parquet ya existe, no es necesario descargarlo nuevamente.\n",
      "El archivo ../datasets/raw/fhvhv_tripdata_2021-06.parquet ya existe, no es necesario descargarlo nuevamente.\n",
      "El archivo ../datasets/raw/yellow_tripdata_2021-07.parquet ya existe, no es necesario descargarlo nuevamente.\n",
      "El archivo ../datasets/raw/green_tripdata_2021-07.parquet ya existe, no es necesario descargarlo nuevamente.\n",
      "El archivo ../datasets/raw/fhv_tripdata_2021-07.parquet ya existe, no es necesario descargarlo nuevamente.\n",
      "El archivo ../datasets/raw/fhvhv_tripdata_2021-07.parquet ya existe, no es necesario descargarlo nuevamente.\n",
      "El archivo ../datasets/raw/yellow_tripdata_2021-08.parquet ya existe, no es necesario descargarlo nuevamente.\n",
      "El archivo ../datasets/raw/green_tripdata_2021-08.parquet ya existe, no es necesario descargarlo nuevamente.\n",
      "El archivo ../datasets/raw/fhv_tripdata_2021-08.parquet ya existe, no es necesario descargarlo nuevamente.\n",
      "El archivo ../datasets/raw/fhvhv_tripdata_2021-08.parquet ya existe, no es necesario descargarlo nuevamente.\n",
      "El archivo ../datasets/raw/yellow_tripdata_2021-09.parquet ya existe, no es necesario descargarlo nuevamente.\n",
      "El archivo ../datasets/raw/green_tripdata_2021-09.parquet ya existe, no es necesario descargarlo nuevamente.\n",
      "El archivo ../datasets/raw/fhv_tripdata_2021-09.parquet ya existe, no es necesario descargarlo nuevamente.\n",
      "El archivo ../datasets/raw/fhvhv_tripdata_2021-09.parquet ya existe, no es necesario descargarlo nuevamente.\n",
      "El archivo ../datasets/raw/yellow_tripdata_2021-10.parquet ya existe, no es necesario descargarlo nuevamente.\n",
      "El archivo ../datasets/raw/green_tripdata_2021-10.parquet ya existe, no es necesario descargarlo nuevamente.\n",
      "El archivo ../datasets/raw/fhv_tripdata_2021-10.parquet ya existe, no es necesario descargarlo nuevamente.\n",
      "El archivo ../datasets/raw/fhvhv_tripdata_2021-10.parquet ya existe, no es necesario descargarlo nuevamente.\n",
      "El archivo ../datasets/raw/yellow_tripdata_2021-11.parquet ya existe, no es necesario descargarlo nuevamente.\n",
      "El archivo ../datasets/raw/green_tripdata_2021-11.parquet ya existe, no es necesario descargarlo nuevamente.\n",
      "El archivo ../datasets/raw/fhv_tripdata_2021-11.parquet ya existe, no es necesario descargarlo nuevamente.\n",
      "El archivo ../datasets/raw/fhvhv_tripdata_2021-11.parquet ya existe, no es necesario descargarlo nuevamente.\n",
      "El archivo ../datasets/raw/yellow_tripdata_2021-12.parquet ya existe, no es necesario descargarlo nuevamente.\n",
      "El archivo ../datasets/raw/green_tripdata_2021-12.parquet ya existe, no es necesario descargarlo nuevamente.\n",
      "El archivo ../datasets/raw/fhv_tripdata_2021-12.parquet ya existe, no es necesario descargarlo nuevamente.\n",
      "El archivo ../datasets/raw/fhvhv_tripdata_2021-12.parquet ya existe, no es necesario descargarlo nuevamente.\n"
     ]
    }
   ],
   "source": [
    "from bs4 import BeautifulSoup\n",
    "import requests\n",
    "from pathlib import Path\n",
    "\n",
    "class DatasetDownloader:\n",
    "    def __init__(self, base_url, download_folder):\n",
    "        self.base_url = base_url\n",
    "        self.download_folder = Path(download_folder)\n",
    "        # Asegúrate de que el directorio de descarga exista\n",
    "        self.download_folder.mkdir(parents=True, exist_ok=True)\n",
    "\n",
    "    def scrape_siniestros_urls(self):\n",
    "        response = requests.get(self.base_url)\n",
    "        soup = BeautifulSoup(response.content, 'html.parser')\n",
    "        links = soup.find_all('a')\n",
    "\n",
    "        file_urls = {}\n",
    "        for link in links:\n",
    "            href = link.get('href')\n",
    "            if href:\n",
    "                if href.endswith(('.zip', '.xlsx', '.csv', '.gz', '.geojson', '.pdf', '.parquet')):\n",
    "                    file_name = href.split('/')[-1]\n",
    "                    # Filtrar por años 2021, 2022 y 2023\n",
    "                    if any(year in file_name for year in ['2021', '2022', '2023']):\n",
    "                        file_urls[file_name] = href\n",
    "                elif 'taxi_zone_lookup.csv' in href or 'taxi_zones.zip' in href:\n",
    "                    file_name = href.split('/')[-1]\n",
    "                    file_urls[file_name] = href\n",
    "\n",
    "        return file_urls\n",
    "    \n",
    "    def scrape_especial_urls(self):\n",
    "        response = requests.get(self.base_url)\n",
    "        soup = BeautifulSoup(response.content, 'html.parser')\n",
    "        links = soup.find_all('a')\n",
    "\n",
    "        file_urls = {}\n",
    "        for link in links:\n",
    "            href = link.get('href')\n",
    "            if href and href.endswith(('.zip', '.xlsx', '.csv', '.gz', '.geojson', '.pdf')):\n",
    "                file_name = href.split('/')[-1]\n",
    "                file_urls[file_name] = href\n",
    "        return file_urls\n",
    "    \n",
    "    def download_file(self, url, save_path):\n",
    "        try:\n",
    "            if not save_path.exists():\n",
    "                response = requests.get(url, stream=True)\n",
    "                response.raise_for_status()\n",
    "                with open(save_path, 'wb') as f:\n",
    "                    for chunk in response.iter_content(chunk_size=8192):\n",
    "                        f.write(chunk)\n",
    "                print(f\"Archivo guardado: {save_path}\")\n",
    "            else:\n",
    "                print(f\"El archivo {save_path} ya existe, no es necesario descargarlo nuevamente.\")\n",
    "        except Exception as e:\n",
    "            print(f\"Error al descargar el archivo: {url}\")\n",
    "            print(f\"Error details: {e}\")\n",
    "\n",
    "    def download_datasets(self):\n",
    "        file_urls_dict = self.scrape_siniestros_urls()\n",
    "        for file_name, url in file_urls_dict.items():\n",
    "            save_path = self.download_folder / file_name\n",
    "            self.download_file(url, save_path)\n",
    "\n",
    "# Uso de ejemplo\n",
    "base_url = 'https://www.nyc.gov/site/tlc/about/tlc-trip-record-data.page'\n",
    "download_folder = '../datasets/raw'\n",
    "downloader = DatasetDownloader(base_url, download_folder)\n",
    "downloader.download_datasets()\n"
   ]
  },
  {
   "cell_type": "code",
   "execution_count": null,
   "metadata": {},
   "outputs": [
    {
     "name": "stdout",
     "output_type": "stream",
     "text": [
      "Error al descargar el archivo: /assets/tlc/downloads/pdf/trip_record_user_guide.pdf\n",
      "Error details: Invalid URL '/assets/tlc/downloads/pdf/trip_record_user_guide.pdf': No scheme supplied. Perhaps you meant https:///assets/tlc/downloads/pdf/trip_record_user_guide.pdf?\n",
      "Error al descargar el archivo: /assets/tlc/downloads/pdf/data_dictionary_trip_records_yellow.pdf\n",
      "Error details: Invalid URL '/assets/tlc/downloads/pdf/data_dictionary_trip_records_yellow.pdf': No scheme supplied. Perhaps you meant https:///assets/tlc/downloads/pdf/data_dictionary_trip_records_yellow.pdf?\n",
      "Error al descargar el archivo: /assets/tlc/downloads/pdf/data_dictionary_trip_records_green.pdf\n",
      "Error details: Invalid URL '/assets/tlc/downloads/pdf/data_dictionary_trip_records_green.pdf': No scheme supplied. Perhaps you meant https:///assets/tlc/downloads/pdf/data_dictionary_trip_records_green.pdf?\n",
      "Error al descargar el archivo: /assets/tlc/downloads/pdf/data_dictionary_trip_records_fhv.pdf\n",
      "Error details: Invalid URL '/assets/tlc/downloads/pdf/data_dictionary_trip_records_fhv.pdf': No scheme supplied. Perhaps you meant https:///assets/tlc/downloads/pdf/data_dictionary_trip_records_fhv.pdf?\n",
      "Error al descargar el archivo: /assets/tlc/downloads/pdf/data_dictionary_trip_records_hvfhs.pdf\n",
      "Error details: Invalid URL '/assets/tlc/downloads/pdf/data_dictionary_trip_records_hvfhs.pdf': No scheme supplied. Perhaps you meant https:///assets/tlc/downloads/pdf/data_dictionary_trip_records_hvfhs.pdf?\n",
      "Error al descargar el archivo: /assets/tlc/downloads/pdf/working_parquet_format.pdf\n",
      "Error details: Invalid URL '/assets/tlc/downloads/pdf/working_parquet_format.pdf': No scheme supplied. Perhaps you meant https:///assets/tlc/downloads/pdf/working_parquet_format.pdf?\n",
      "Archivo guardado: ../datasets/raw/taxi_zone_lookup.csv\n",
      "Archivo guardado: ../datasets/raw/taxi_zones.zip\n"
     ]
    }
   ],
   "source": [
    "from bs4 import BeautifulSoup\n",
    "import requests\n",
    "from pathlib import Path\n",
    "\n",
    "class DatasetDownloader:\n",
    "    def __init__(self, base_url, download_folder):\n",
    "        self.base_url = base_url\n",
    "        self.download_folder = Path(download_folder)\n",
    "        # Asegúrate de que el directorio de descarga exista\n",
    "        self.download_folder.mkdir(parents=True, exist_ok=True)\n",
    "\n",
    "    def scrape_siniestros_urls(self):\n",
    "        response = requests.get(self.base_url)\n",
    "        soup = BeautifulSoup(response.content, 'html.parser')\n",
    "        links = soup.find_all('a')\n",
    "\n",
    "        file_urls = {}\n",
    "        for link in links:\n",
    "            href = link.get('href')\n",
    "            if href and href.endswith(('.zip', '.xlsx', '.csv', '.gz', '.geojson', '.pdf')):\n",
    "                file_name = href.split('/')[-1]\n",
    "                file_urls[file_name] = href\n",
    "        return file_urls\n",
    "    \n",
    "    \n",
    "    def download_file(self, url, save_path):\n",
    "        try:\n",
    "            if not save_path.exists():\n",
    "                response = requests.get(url, stream=True)\n",
    "                response.raise_for_status()\n",
    "                with open(save_path, 'wb') as f:\n",
    "                    for chunk in response.iter_content(chunk_size=8192):\n",
    "                        f.write(chunk)\n",
    "                print(f\"Archivo guardado: {save_path}\")\n",
    "            else:\n",
    "                print(f\"El archivo {save_path} ya existe, no es necesario descargarlo nuevamente.\")\n",
    "        except Exception as e:\n",
    "            print(f\"Error al descargar el archivo: {url}\")\n",
    "            print(f\"Error details: {e}\")\n",
    "\n",
    "    def download_datasets(self):\n",
    "        file_urls_dict = self.scrape_siniestros_urls()\n",
    "        for file_name, url in file_urls_dict.items():\n",
    "            save_path = self.download_folder / file_name\n",
    "            self.download_file(url, save_path)\n",
    "\n",
    "# Uso de ejemplo\n",
    "base_url = 'https://www.nyc.gov/site/tlc/about/tlc-trip-record-data.page'\n",
    "download_folder = '../datasets/raw'\n",
    "downloader = DatasetDownloader(base_url, download_folder)\n",
    "downloader.download_datasets()\n"
   ]
  },
  {
   "cell_type": "code",
   "execution_count": null,
   "metadata": {},
   "outputs": [],
   "source": []
  },
  {
   "cell_type": "code",
   "execution_count": null,
   "metadata": {},
   "outputs": [],
   "source": [
    "\"\"\"\n",
    "Archivo guardado: ..\\datasets\\raw\\yellow_tripdata_2023-01.parquet\n",
    "Archivo guardado: ..\\datasets\\raw\\green_tripdata_2023-01.parquet\n",
    "Archivo guardado: ..\\datasets\\raw\\fhv_tripdata_2023-01.parquet\n",
    "Archivo guardado: ..\\datasets\\raw\\fhvhv_tripdata_2023-01.parquet\n",
    "\"\"\""
   ]
  },
  {
   "cell_type": "code",
   "execution_count": null,
   "metadata": {},
   "outputs": [],
   "source": [
    "# Ruta al archivo Parquet\n",
    "ruta_archivo = \"..\\\\datasets\\\\raw\\\\yellow_tripdata_2023-12.parquet\"\n",
    "ruta_archivo2 = \"..\\\\datasets\\\\raw\\\\green_tripdata_2023-01.parquet\"\n",
    "ruta_archivo3 = \"..\\\\datasets\\\\raw\\\\fhv_tripdata_2023-01.parquet\"\n",
    "ruta_archivo4 = \"..\\\\datasets\\\\raw\\\\fhvhv_tripdata_2023-01.parquet\"\n",
    "\n",
    "# Leer el archivo Parquet en un DataFrame de Spark\n",
    "df = spark.read.parquet(ruta_archivo)\n",
    "df2 = spark.read.parquet(ruta_archivo2)\n",
    "df3 = spark.read.parquet(ruta_archivo3)\n",
    "df4 = spark.read.parquet(ruta_archivo4)"
   ]
  },
  {
   "cell_type": "code",
   "execution_count": null,
   "metadata": {},
   "outputs": [
    {
     "name": "stdout",
     "output_type": "stream",
     "text": [
      "+--------+--------------------+---------------------+---------------+-------------+----------+------------------+------------+------------+------------+-----------+-----+-------+----------+------------+---------------------+------------+--------------------+-----------+\n",
      "|VendorID|tpep_pickup_datetime|tpep_dropoff_datetime|passenger_count|trip_distance|RatecodeID|store_and_fwd_flag|PULocationID|DOLocationID|payment_type|fare_amount|extra|mta_tax|tip_amount|tolls_amount|improvement_surcharge|total_amount|congestion_surcharge|Airport_fee|\n",
      "+--------+--------------------+---------------------+---------------+-------------+----------+------------------+------------+------------+------------+-----------+-----+-------+----------+------------+---------------------+------------+--------------------+-----------+\n",
      "|       1| 2023-12-01 00:06:06|  2023-12-01 00:15:47|              0|          1.1|         1|                 N|         230|          48|           1|       10.0|  3.5|    0.5|       1.5|         0.0|                  1.0|        16.5|                 2.5|        0.0|\n",
      "|       1| 2023-12-01 00:22:26|  2023-12-01 00:28:53|              0|          1.5|         1|                 N|         142|         238|           1|        9.3|  3.5|    0.5|      2.85|         0.0|                  1.0|       17.15|                 2.5|        0.0|\n",
      "|       1| 2023-12-01 00:59:44|  2023-12-01 01:13:22|              2|          2.2|         1|                 N|         114|         186|           1|       13.5|  3.5|    0.5|       3.0|         0.0|                  1.0|        21.5|                 2.5|        0.0|\n",
      "|       2| 2023-12-01 00:22:17|  2023-12-01 00:30:59|              1|         0.66|         1|                 N|          79|          79|           2|        7.2|  1.0|    0.5|       0.0|         0.0|                  1.0|        12.2|                 2.5|        0.0|\n",
      "|       2| 2023-12-01 00:18:16|  2023-12-01 00:25:32|              2|          2.2|         1|                 N|         229|         263|           1|       11.4|  1.0|    0.5|       2.0|         0.0|                  1.0|        18.4|                 2.5|        0.0|\n",
      "|       1| 2023-12-01 00:13:17|  2023-12-01 00:23:53|              0|          5.7|         1|                 N|          88|         141|           1|       23.3|  3.5|    0.5|       0.0|         0.0|                  1.0|        28.3|                 2.5|        0.0|\n",
      "|       2| 2023-12-01 00:17:09|  2023-12-01 00:33:31|              1|         5.33|         1|                 N|          45|         162|           1|       24.7|  1.0|    0.5|       3.0|         0.0|                  1.0|        32.7|                 2.5|        0.0|\n",
      "|       2| 2023-12-01 00:40:49|  2023-12-01 00:44:10|              1|         0.76|         1|                 N|         170|         107|           1|        5.8|  1.0|    0.5|       1.0|         0.0|                  1.0|        11.8|                 2.5|        0.0|\n",
      "|       2| 2023-12-01 00:19:04|  2023-12-01 00:34:36|              1|         3.33|         1|                 N|         186|         209|           1|       17.7|  1.0|    0.5|       3.4|         0.0|                  1.0|        26.1|                 2.5|        0.0|\n",
      "|       1| 2023-12-01 00:08:39|  2023-12-01 00:16:18|              1|          2.1|         1|                 N|         163|         262|           1|       12.1|  3.5|    0.5|      3.42|         0.0|                  1.0|       20.52|                 2.5|        0.0|\n",
      "|       1| 2023-12-01 00:29:50|  2023-12-01 00:35:46|              2|          0.5|         1|                 N|         161|         162|           1|        7.2|  3.5|    0.5|       2.4|         0.0|                  1.0|        14.6|                 2.5|        0.0|\n",
      "|       1| 2023-12-01 00:48:46|  2023-12-01 00:58:19|              1|          1.9|         1|                 N|         113|         186|           2|       11.4|  3.5|    0.5|       0.0|         0.0|                  1.0|        16.4|                 2.5|        0.0|\n",
      "|       1| 2023-12-01 00:26:12|  2023-12-01 00:42:01|              1|          2.6|         1|                 N|         144|          68|           1|       14.2|  3.5|    0.5|      3.85|         0.0|                  1.0|       23.05|                 2.5|        0.0|\n",
      "|       1| 2023-12-01 00:04:10|  2023-12-01 00:18:30|              1|          2.7|         1|                 N|         142|         263|           1|       16.3|  3.5|    0.5|       5.3|         0.0|                  1.0|        26.6|                 2.5|        0.0|\n",
      "|       1| 2023-12-01 00:52:04|  2023-12-01 00:54:48|              1|          0.8|         1|                 N|         234|         100|           1|        5.8|  3.5|    0.5|      2.15|         0.0|                  1.0|       12.95|                 2.5|        0.0|\n",
      "+--------+--------------------+---------------------+---------------+-------------+----------+------------------+------------+------------+------------+-----------+-----+-------+----------+------------+---------------------+------------+--------------------+-----------+\n",
      "only showing top 15 rows\n",
      "\n"
     ]
    }
   ],
   "source": [
    "df.show(15)"
   ]
  },
  {
   "cell_type": "code",
   "execution_count": null,
   "metadata": {},
   "outputs": [
    {
     "name": "stdout",
     "output_type": "stream",
     "text": [
      "+--------+--------------------+---------------------+------------------+----------+------------+------------+---------------+-------------+-----------+-----+-------+----------+------------+---------+---------------------+------------+------------+---------+--------------------+\n",
      "|VendorID|lpep_pickup_datetime|lpep_dropoff_datetime|store_and_fwd_flag|RatecodeID|PULocationID|DOLocationID|passenger_count|trip_distance|fare_amount|extra|mta_tax|tip_amount|tolls_amount|ehail_fee|improvement_surcharge|total_amount|payment_type|trip_type|congestion_surcharge|\n",
      "+--------+--------------------+---------------------+------------------+----------+------------+------------+---------------+-------------+-----------+-----+-------+----------+------------+---------+---------------------+------------+------------+---------+--------------------+\n",
      "|       2| 2023-01-01 00:26:10|  2023-01-01 00:37:11|                 N|       1.0|         166|         143|            1.0|         2.58|       14.9|  1.0|    0.5|      4.03|         0.0|     NULL|                  1.0|       24.18|         1.0|      1.0|                2.75|\n",
      "|       2| 2023-01-01 00:51:03|  2023-01-01 00:57:49|                 N|       1.0|          24|          43|            1.0|         1.81|       10.7|  1.0|    0.5|      2.64|         0.0|     NULL|                  1.0|       15.84|         1.0|      1.0|                 0.0|\n",
      "|       2| 2023-01-01 00:35:12|  2023-01-01 00:41:32|                 N|       1.0|         223|         179|            1.0|          0.0|        7.2|  1.0|    0.5|      1.94|         0.0|     NULL|                  1.0|       11.64|         1.0|      1.0|                 0.0|\n",
      "|       1| 2023-01-01 00:13:14|  2023-01-01 00:19:03|                 N|       1.0|          41|         238|            1.0|          1.3|        6.5|  0.5|    1.5|       1.7|         0.0|     NULL|                  1.0|        10.2|         1.0|      1.0|                 0.0|\n",
      "|       1| 2023-01-01 00:33:04|  2023-01-01 00:39:02|                 N|       1.0|          41|          74|            1.0|          1.1|        6.0|  0.5|    1.5|       0.0|         0.0|     NULL|                  1.0|         8.0|         1.0|      1.0|                 0.0|\n",
      "|       2| 2023-01-01 00:53:31|  2023-01-01 01:11:04|                 N|       1.0|          41|         262|            1.0|         2.78|       17.7|  1.0|    0.5|       0.0|         0.0|     NULL|                  1.0|       22.95|         2.0|      1.0|                2.75|\n",
      "|       1| 2023-01-01 00:09:14|  2023-01-01 00:26:39|                 N|       1.0|         181|          45|            2.0|          3.8|       19.1| 3.75|    1.5|      4.85|         0.0|     NULL|                  1.0|        29.2|         1.0|      1.0|                2.75|\n",
      "|       2| 2023-01-01 00:11:58|  2023-01-01 00:24:55|                 N|       1.0|          24|          75|            1.0|         1.88|       14.2|  1.0|    0.5|       0.0|         0.0|     NULL|                  1.0|        16.7|         2.0|      1.0|                 0.0|\n",
      "|       2| 2023-01-01 00:41:29|  2023-01-01 00:46:26|                 N|       1.0|          41|         166|            2.0|         1.11|        7.2|  1.0|    0.5|       1.0|         0.0|     NULL|                  1.0|        10.7|         1.0|      1.0|                 0.0|\n",
      "|       2| 2023-01-01 00:50:32|  2023-01-01 01:13:42|                 N|       1.0|          24|         140|            1.0|         4.22|       24.7|  1.0|    0.5|       3.0|         0.0|     NULL|                  1.0|       32.95|         1.0|      1.0|                2.75|\n",
      "|       1| 2023-01-01 00:16:12|  2023-01-01 00:41:43|                 N|       1.0|         255|         234|            2.0|          4.8|       26.8| 3.75|    1.5|       0.0|         0.0|     NULL|                  1.0|       32.05|         1.0|      1.0|                2.75|\n",
      "|       2| 2023-01-01 00:08:43|  2023-01-01 00:17:08|                 N|       1.0|          75|         140|            1.0|         1.99|       11.4|  1.0|    0.5|      3.33|         0.0|     NULL|                  1.0|       19.98|         1.0|      1.0|                2.75|\n",
      "|       2| 2023-01-01 00:26:32|  2023-01-01 00:45:31|                 N|       1.0|          75|         148|            1.0|         7.08|       30.3|  1.0|    0.5|       3.0|         0.0|     NULL|                  1.0|       38.55|         1.0|      1.0|                2.75|\n",
      "|       2| 2023-01-01 00:18:35|  2023-01-01 00:30:09|                 N|       1.0|          66|         255|            1.0|         3.23|       17.7|  1.0|    0.5|      4.04|         0.0|     NULL|                  1.0|       24.24|         1.0|      1.0|                 0.0|\n",
      "|       2| 2023-01-01 00:39:32|  2023-01-01 01:18:06|                 N|       1.0|         255|         186|            1.0|         5.91|       35.9|  1.0|    0.5|       0.0|         0.0|     NULL|                  1.0|       41.15|         2.0|      1.0|                2.75|\n",
      "+--------+--------------------+---------------------+------------------+----------+------------+------------+---------------+-------------+-----------+-----+-------+----------+------------+---------+---------------------+------------+------------+---------+--------------------+\n",
      "only showing top 15 rows\n",
      "\n"
     ]
    }
   ],
   "source": [
    "df2.show(15)"
   ]
  },
  {
   "cell_type": "code",
   "execution_count": null,
   "metadata": {},
   "outputs": [
    {
     "name": "stdout",
     "output_type": "stream",
     "text": [
      "+--------------------+-------------------+-------------------+------------+------------+-------+----------------------+\n",
      "|dispatching_base_num|    pickup_datetime|   dropOff_datetime|PUlocationID|DOlocationID|SR_Flag|Affiliated_base_number|\n",
      "+--------------------+-------------------+-------------------+------------+------------+-------+----------------------+\n",
      "|              B00008|2023-01-01 00:30:00|2023-01-01 01:00:00|        NULL|        NULL|   NULL|                B00008|\n",
      "|              B00078|2023-01-01 00:01:00|2023-01-01 03:15:00|        NULL|        NULL|   NULL|                B00078|\n",
      "|              B00111|2023-01-01 00:30:00|2023-01-01 01:05:00|        NULL|        NULL|   NULL|                B03406|\n",
      "|              B00112|2023-01-01 00:34:45|2023-01-01 00:52:03|        NULL|        14.0|   NULL|                B00112|\n",
      "|              B00112|2023-01-01 00:11:20|2023-01-01 00:22:03|        NULL|        14.0|   NULL|                B00112|\n",
      "|              B00112|2023-01-01 00:33:28|2023-01-01 00:53:46|        NULL|        29.0|   NULL|                B00112|\n",
      "|              B00112|2023-01-01 00:33:11|2023-01-01 00:48:45|        NULL|        14.0|   NULL|                B00112|\n",
      "|              B00112|2023-01-01 00:55:24|2023-01-01 01:02:55|        NULL|        14.0|   NULL|                B00112|\n",
      "|              B00112|2023-01-01 00:39:16|2023-01-01 00:39:23|        NULL|        14.0|   NULL|                B00112|\n",
      "|              B00112|2023-01-01 00:50:10|2023-01-01 00:50:17|        NULL|        14.0|   NULL|                B00112|\n",
      "|              B00112|2023-01-01 00:37:04|2023-01-01 00:57:13|        NULL|        14.0|   NULL|                B00112|\n",
      "|              B00112|2023-01-01 00:31:15|2023-01-01 00:35:57|        NULL|        14.0|   NULL|                B00112|\n",
      "|              B00149|2023-01-01 00:11:29|2023-01-01 00:21:53|        NULL|        39.0|   NULL|                B02219|\n",
      "|              B00149|2023-01-01 00:27:22|2023-01-01 00:43:28|        NULL|        89.0|   NULL|                B02219|\n",
      "|              B00149|2023-01-01 00:09:34|2023-01-01 00:17:38|        NULL|        35.0|   NULL|                B02219|\n",
      "+--------------------+-------------------+-------------------+------------+------------+-------+----------------------+\n",
      "only showing top 15 rows\n",
      "\n"
     ]
    }
   ],
   "source": [
    "df3.show(15)"
   ]
  },
  {
   "cell_type": "code",
   "execution_count": null,
   "metadata": {},
   "outputs": [
    {
     "name": "stdout",
     "output_type": "stream",
     "text": [
      "+-----------------+--------------------+--------------------+-------------------+-------------------+-------------------+-------------------+------------+------------+----------+---------+-------------------+-----+----+---------+--------------------+-----------+-----+----------+-------------------+-----------------+------------------+----------------+--------------+\n",
      "|hvfhs_license_num|dispatching_base_num|originating_base_num|   request_datetime|  on_scene_datetime|    pickup_datetime|   dropoff_datetime|PULocationID|DOLocationID|trip_miles|trip_time|base_passenger_fare|tolls| bcf|sales_tax|congestion_surcharge|airport_fee| tips|driver_pay|shared_request_flag|shared_match_flag|access_a_ride_flag|wav_request_flag|wav_match_flag|\n",
      "+-----------------+--------------------+--------------------+-------------------+-------------------+-------------------+-------------------+------------+------------+----------+---------+-------------------+-----+----+---------+--------------------+-----------+-----+----------+-------------------+-----------------+------------------+----------------+--------------+\n",
      "|           HV0003|              B03404|              B03404|2023-01-01 00:18:06|2023-01-01 00:19:24|2023-01-01 00:19:38|2023-01-01 00:48:07|          48|          68|      0.94|     1709|              25.95|  0.0|0.78|      2.3|                2.75|        0.0| 5.22|     27.83|                  N|                N|                  |               N|             N|\n",
      "|           HV0003|              B03404|              B03404|2023-01-01 00:48:42|2023-01-01 00:56:20|2023-01-01 00:58:39|2023-01-01 01:33:08|         246|         163|      2.78|     2069|              60.14|  0.0| 1.8|     5.34|                2.75|        0.0|  0.0|     50.15|                  N|                N|                  |               N|             N|\n",
      "|           HV0003|              B03404|              B03404|2023-01-01 00:15:35|2023-01-01 00:20:14|2023-01-01 00:20:27|2023-01-01 00:37:54|           9|         129|      8.81|     1047|              24.37|  0.0|0.73|     2.16|                 0.0|        0.0|  0.0|     20.22|                  N|                N|                  |               N|             N|\n",
      "|           HV0003|              B03404|              B03404|2023-01-01 00:35:24|2023-01-01 00:39:30|2023-01-01 00:41:05|2023-01-01 00:48:16|         129|         129|      0.67|      431|               13.8|  0.0|0.41|     1.22|                 0.0|        0.0|  0.0|       7.9|                  N|                N|                  |               N|             N|\n",
      "|           HV0003|              B03404|              B03404|2023-01-01 00:43:15|2023-01-01 00:51:10|2023-01-01 00:52:47|2023-01-01 01:04:51|         129|          92|      4.38|      724|              20.49|  0.0|0.61|     1.82|                 0.0|        0.0|  0.0|     16.48|                  N|                N|                  |               N|             N|\n",
      "|           HV0005|              B03406|                NULL|2023-01-01 00:21:34|               NULL|2023-01-01 00:29:05|2023-01-01 00:49:54|         130|          38|     4.921|     1249|              18.29|  0.0|0.43|     1.27|                 0.0|        0.0|  0.0|     16.81|                  N|                N|                 N|               N|             N|\n",
      "|           HV0005|              B03406|                NULL|2023-01-01 00:47:17|               NULL|2023-01-01 00:55:29|2023-01-01 01:16:07|          38|          10|     5.517|     1238|              25.76|  0.0|0.77|     2.29|                 0.0|        0.0|  0.0|     23.65|                  N|                N|                 N|               N|             N|\n",
      "|           HV0003|              B03404|              B03404|2023-01-01 00:06:54|2023-01-01 00:08:59|2023-01-01 00:10:29|2023-01-01 00:18:22|          90|         231|      1.89|      473|              14.51|  0.0|0.44|     1.29|                2.75|        0.0|  0.0|     13.73|                  N|                N|                  |               N|             Y|\n",
      "|           HV0003|              B03404|              B03404|2023-01-01 00:15:22|2023-01-01 00:21:39|2023-01-01 00:22:10|2023-01-01 00:33:14|         125|         246|      2.65|      664|               13.0|  0.0|0.39|     1.15|                2.75|        0.0|  0.0|     13.61|                  N|                N|                  |               N|             Y|\n",
      "|           HV0003|              B03404|              B03404|2023-01-01 00:26:02|2023-01-01 00:39:09|2023-01-01 00:39:09|2023-01-01 01:03:50|          68|         231|      3.26|     1481|              30.38|  0.0|0.91|      2.7|                2.75|        0.0|  0.0|     28.25|                  N|                N|                  |               N|             Y|\n",
      "|           HV0003|              B03404|              B03404|2023-01-01 00:09:35|2023-01-01 00:14:11|2023-01-01 00:14:35|2023-01-01 00:49:13|          79|          50|      3.76|     2078|              19.49|  0.0|0.58|     1.73|                2.75|        0.0|  0.0|     23.13|                  N|                N|                  |               N|             N|\n",
      "|           HV0003|              B03404|              B03404|2023-01-01 00:42:57|2023-01-01 00:52:03|2023-01-01 00:52:15|2023-01-01 01:31:11|         143|         223|      7.07|     2336|              58.25|  0.0|1.75|     5.17|                2.75|        0.0|13.58|     43.25|                  N|                N|                  |               N|             N|\n",
      "|           HV0003|              B03404|              B03404|2023-01-01 00:17:39|2023-01-01 00:23:21|2023-01-01 00:24:48|2023-01-01 00:37:39|          49|         181|      2.15|      771|              13.04|  0.0|0.39|     1.16|                 0.0|        0.0|  3.0|     10.03|                  N|                N|                  |               N|             N|\n",
      "|           HV0003|              B03404|              B03404|2023-01-01 00:41:11|2023-01-01 00:45:57|2023-01-01 00:46:20|2023-01-01 00:52:51|         181|          25|      1.09|      391|              19.59|  0.0|0.59|     1.74|                 0.0|        0.0|  0.0|     21.13|                  N|                N|                  |               N|             N|\n",
      "|           HV0003|              B03404|              B03404|2023-01-01 00:44:24|2023-01-01 00:53:17|2023-01-01 00:53:40|2023-01-01 01:31:23|          25|         143|     11.08|     2263|              78.77|  0.0|2.36|     6.99|                2.75|        0.0|  0.0|     50.57|                  N|                N|                  |               N|             N|\n",
      "+-----------------+--------------------+--------------------+-------------------+-------------------+-------------------+-------------------+------------+------------+----------+---------+-------------------+-----+----+---------+--------------------+-----------+-----+----------+-------------------+-----------------+------------------+----------------+--------------+\n",
      "only showing top 15 rows\n",
      "\n"
     ]
    }
   ],
   "source": [
    "df4.show(15)"
   ]
  },
  {
   "cell_type": "code",
   "execution_count": null,
   "metadata": {},
   "outputs": [
    {
     "name": "stdout",
     "output_type": "stream",
     "text": [
      "Cantidad de registros 3376567 Cantidad de las Columnas 19\n",
      "Cantidad de registros 68211 Cantidad de las Columnas 20\n",
      "Cantidad de registros 1114320 Cantidad de las Columnas 7\n",
      "Cantidad de registros 18479031 Cantidad de las Columnas 24\n"
     ]
    }
   ],
   "source": [
    "print(\"Cantidad de registros\", df.count(), \"Cantidad de las Columnas\", len(df.columns))\n",
    "print(\"Cantidad de registros\", df2.count(), \"Cantidad de las Columnas\", len(df2.columns))\n",
    "print(\"Cantidad de registros\", df3.count(), \"Cantidad de las Columnas\", len(df3.columns))\n",
    "print(\"Cantidad de registros\", df4.count(), \"Cantidad de las Columnas\", len(df4.columns))"
   ]
  },
  {
   "cell_type": "code",
   "execution_count": null,
   "metadata": {},
   "outputs": [],
   "source": []
  },
  {
   "cell_type": "code",
   "execution_count": null,
   "metadata": {},
   "outputs": [
    {
     "name": "stdout",
     "output_type": "stream",
     "text": [
      "+-------+------------------+------------------+------------------+-----------------+------------------+------------------+------------------+------------------+------------------+------------------+-------------------+------------------+------------------+---------------------+------------------+--------------------+-------------------+\n",
      "|summary|          VendorID|   passenger_count|     trip_distance|       RatecodeID|store_and_fwd_flag|      PULocationID|      DOLocationID|      payment_type|       fare_amount|             extra|            mta_tax|        tip_amount|      tolls_amount|improvement_surcharge|      total_amount|congestion_surcharge|        Airport_fee|\n",
      "+-------+------------------+------------------+------------------+-----------------+------------------+------------------+------------------+------------------+------------------+------------------+-------------------+------------------+------------------+---------------------+------------------+--------------------+-------------------+\n",
      "|  count|           3376567|           3196564|           3376567|          3196564|           3196564|           3376567|           3376567|           3376567|           3376567|           3376567|            3376567|           3376567|           3376567|              3376567|           3376567|             3196564|            3196564|\n",
      "|   mean| 1.750038426603115|1.4081617011265846| 3.676257648670904|1.793480437119357|              NULL|165.08288477616466|163.92423547348534| 1.169010714136577|19.666897236158334|1.4776520649523608| 0.4828689109382399|3.5170445929251875|0.5766041692638338|   0.9758713213746396| 28.54158198255707|   2.269969410904959|0.13702048512089857|\n",
      "| stddev|0.4358470513246695|0.9109082297931906|154.15721244288827|8.331995041534741|              NULL| 64.30205423209162| 69.66056272975163|0.5956538938685098|18.963286251033583|1.8131811125443444|0.12058276542969526|4.7276804691126975|2.2329897333087314|  0.21696822508596317|23.836938241397867|  0.8078145471452636| 0.4799781479645112|\n",
      "|    min|                 1|                 0|               0.0|                1|                 N|                 1|                 1|                 0|           -1087.3|            -39.17|               -0.5|             -80.0|             -70.0|                 -1.0|          -1094.05|                -2.5|              -1.75|\n",
      "|    max|                 6|                 9|          161726.1|               99|                 Y|               265|               265|                 4|           2320.11|             51.68|              42.17|            4174.0|            161.38|                  1.0|           4269.16|                 2.5|               1.75|\n",
      "+-------+------------------+------------------+------------------+-----------------+------------------+------------------+------------------+------------------+------------------+------------------+-------------------+------------------+------------------+---------------------+------------------+--------------------+-------------------+\n",
      "\n"
     ]
    }
   ],
   "source": [
    "df.describe().show()"
   ]
  },
  {
   "cell_type": "code",
   "execution_count": null,
   "metadata": {},
   "outputs": [
    {
     "name": "stdout",
     "output_type": "stream",
     "text": [
      "+-------+------------------+------------------+------------------+-----------------+-----------------+------------------+-----------------+------------------+------------------+-------------------+------------------+-------------------+---------+---------------------+------------------+------------------+-------------------+--------------------+\n",
      "|summary|          VendorID|store_and_fwd_flag|        RatecodeID|     PULocationID|     DOLocationID|   passenger_count|    trip_distance|       fare_amount|             extra|            mta_tax|        tip_amount|       tolls_amount|ehail_fee|improvement_surcharge|      total_amount|      payment_type|          trip_type|congestion_surcharge|\n",
      "+-------+------------------+------------------+------------------+-----------------+-----------------+------------------+-----------------+------------------+------------------+-------------------+------------------+-------------------+---------+---------------------+------------------+------------------+-------------------+--------------------+\n",
      "|  count|             68211|             63887|             63887|            68211|            68211|             63887|            68211|             68211|             68211|              68211|             68211|              68211|        0|                68211|             68211|             63887|              63877|               63887|\n",
      "|   mean|  1.86302795736758|              NULL|1.1171599855995742|98.54973537992406|138.4299013355617|1.3158702083365943|8.114852149946477|16.603545469205493|0.8254313820351556| 0.5883398572077817| 2.139011889578063|0.16962718623095702|     NULL|   0.9516251044553559|21.789377373151172|1.3736127850736457| 1.0219327770559044|  0.7267480082019816|\n",
      "| stddev|0.3438203531063333|              NULL| 1.372912818854031|61.24431380189026|76.76131098982493| 0.979054179773755| 585.105954859714|13.470121468166361| 1.269903549061905|0.38581919627297917|3.0527097808871493| 1.0997893630166815|     NULL|  0.19687513939727894|15.457114759758241|0.5080394346272922|0.14646523881278178|  1.2128359706608158|\n",
      "|    min|                 1|                 N|               1.0|                1|                1|               0.0|              0.0|             -70.0|              -2.5|               -0.5|             -10.5|                0.0|     NULL|                 -1.0|             -71.5|               1.0|                1.0|               -2.75|\n",
      "|    max|                 2|                 Y|              99.0|              265|              265|               9.0|        120098.84|             490.0|              12.5|               2.75|            222.22|              36.05|     NULL|                  1.0|             491.0|               5.0|                2.0|                2.75|\n",
      "+-------+------------------+------------------+------------------+-----------------+-----------------+------------------+-----------------+------------------+------------------+-------------------+------------------+-------------------+---------+---------------------+------------------+------------------+-------------------+--------------------+\n",
      "\n"
     ]
    }
   ],
   "source": [
    "df2.describe().show()"
   ]
  },
  {
   "cell_type": "code",
   "execution_count": null,
   "metadata": {},
   "outputs": [
    {
     "name": "stdout",
     "output_type": "stream",
     "text": [
      "+-------+--------------------+------------------+------------------+-------+----------------------+\n",
      "|summary|dispatching_base_num|      PUlocationID|      DOlocationID|SR_Flag|Affiliated_base_number|\n",
      "+-------+--------------------+------------------+------------------+-------+----------------------+\n",
      "|  count|             1114320|            234892|            935715|      0|               1114320|\n",
      "|   mean|                NULL|138.75656471910494|136.96903330608146|   NULL|              323201.0|\n",
      "| stddev|                NULL|  76.3625039271574|  80.1436222993559|   NULL|                   0.0|\n",
      "|    min|              B00001|               1.0|               1.0|   NULL|                      |\n",
      "|    max|              B03482|             265.0|             265.0|   NULL|                 ubber|\n",
      "+-------+--------------------+------------------+------------------+-------+----------------------+\n",
      "\n"
     ]
    }
   ],
   "source": [
    "df3.describe().show()"
   ]
  },
  {
   "cell_type": "code",
   "execution_count": null,
   "metadata": {},
   "outputs": [
    {
     "name": "stdout",
     "output_type": "stream",
     "text": [
      "+-------+-----------------+--------------------+--------------------+------------------+------------------+-----------------+------------------+-------------------+-----------------+------------------+------------------+--------------------+-------------------+------------------+------------------+-------------------+-----------------+------------------+----------------+--------------+\n",
      "|summary|hvfhs_license_num|dispatching_base_num|originating_base_num|      PULocationID|      DOLocationID|       trip_miles|         trip_time|base_passenger_fare|            tolls|               bcf|         sales_tax|congestion_surcharge|        airport_fee|              tips|        driver_pay|shared_request_flag|shared_match_flag|access_a_ride_flag|wav_request_flag|wav_match_flag|\n",
      "+-------+-----------------+--------------------+--------------------+------------------+------------------+-----------------+------------------+-------------------+-----------------+------------------+------------------+--------------------+-------------------+------------------+------------------+-------------------+-----------------+------------------+----------------+--------------+\n",
      "|  count|         18479031|            18479031|            13587039|          18479031|          18479031|         18479031|          18479031|           18479031|         18479031|          18479031|          18479031|            18479031|           18479031|          18479031|          18479031|           18479031|         18479031|          18479031|        18479031|      18479031|\n",
      "|   mean|             NULL|                NULL|                NULL|139.31048825016853|142.68349027608645|4.870138037541109|1094.6340335702669| 21.555652470253577|1.034738177038711|0.6819760451786407|1.8302606034992683|  1.1157670686303844|0.19049145488202274|0.9776651502979452| 16.78466675664463|               NULL|             NULL|              NULL|            NULL|          NULL|\n",
      "| stddev|             NULL|                NULL|                NULL| 75.10531545920927| 78.03905385534506|5.655498520678109| 745.3304157953294| 18.011440423216143|3.757672251336088|0.6096692123288049|1.4873445808488757|  1.3492336568575969| 0.6650832130466187| 2.788657902956483|14.182203893412957|               NULL|             NULL|              NULL|            NULL|          NULL|\n",
      "|    min|           HV0003|              B02764|              B02026|                 1|                 1|              0.0|                 0|            -146.34|              0.0|               0.0|               0.0|                 0.0|                0.0|               0.0|           -102.15|                  N|                N|                  |               N|             N|\n",
      "|    max|           HV0005|              B03406|              B03406|               265|               265|          407.563|             35359|            1455.12|           184.37|             64.71|            120.91|                8.25|                6.9|            180.53|           1285.04|                  Y|                Y|                 N|               Y|             Y|\n",
      "+-------+-----------------+--------------------+--------------------+------------------+------------------+-----------------+------------------+-------------------+-----------------+------------------+------------------+--------------------+-------------------+------------------+------------------+-------------------+-----------------+------------------+----------------+--------------+\n",
      "\n"
     ]
    }
   ],
   "source": [
    "df4.describe().show()"
   ]
  },
  {
   "cell_type": "code",
   "execution_count": null,
   "metadata": {},
   "outputs": [],
   "source": []
  },
  {
   "cell_type": "code",
   "execution_count": null,
   "metadata": {},
   "outputs": [],
   "source": []
  },
  {
   "cell_type": "code",
   "execution_count": null,
   "metadata": {},
   "outputs": [],
   "source": []
  },
  {
   "cell_type": "code",
   "execution_count": null,
   "metadata": {},
   "outputs": [],
   "source": []
  },
  {
   "cell_type": "code",
   "execution_count": null,
   "metadata": {},
   "outputs": [
    {
     "data": {
      "text/plain": [
       "(3376567, 19)"
      ]
     },
     "execution_count": 10,
     "metadata": {},
     "output_type": "execute_result"
    }
   ],
   "source": [
    "df.shape"
   ]
  },
  {
   "cell_type": "code",
   "execution_count": null,
   "metadata": {},
   "outputs": [
    {
     "name": "stdout",
     "output_type": "stream",
     "text": [
      "<class 'pandas.core.frame.DataFrame'>\n",
      "RangeIndex: 3376567 entries, 0 to 3376566\n",
      "Data columns (total 19 columns):\n",
      " #   Column                 Dtype         \n",
      "---  ------                 -----         \n",
      " 0   VendorID               int32         \n",
      " 1   tpep_pickup_datetime   datetime64[us]\n",
      " 2   tpep_dropoff_datetime  datetime64[us]\n",
      " 3   passenger_count        float64       \n",
      " 4   trip_distance          float64       \n",
      " 5   RatecodeID             float64       \n",
      " 6   store_and_fwd_flag     object        \n",
      " 7   PULocationID           int32         \n",
      " 8   DOLocationID           int32         \n",
      " 9   payment_type           int64         \n",
      " 10  fare_amount            float64       \n",
      " 11  extra                  float64       \n",
      " 12  mta_tax                float64       \n",
      " 13  tip_amount             float64       \n",
      " 14  tolls_amount           float64       \n",
      " 15  improvement_surcharge  float64       \n",
      " 16  total_amount           float64       \n",
      " 17  congestion_surcharge   float64       \n",
      " 18  Airport_fee            float64       \n",
      "dtypes: datetime64[us](2), float64(12), int32(3), int64(1), object(1)\n",
      "memory usage: 450.8+ MB\n"
     ]
    }
   ],
   "source": [
    "df.info()"
   ]
  },
  {
   "cell_type": "code",
   "execution_count": null,
   "metadata": {},
   "outputs": [],
   "source": []
  },
  {
   "cell_type": "code",
   "execution_count": null,
   "metadata": {},
   "outputs": [],
   "source": []
  },
  {
   "cell_type": "markdown",
   "metadata": {},
   "source": []
  }
 ],
 "metadata": {
  "kernelspec": {
   "display_name": "Python 3",
   "language": "python",
   "name": "python3"
  },
  "language_info": {
   "codemirror_mode": {
    "name": "ipython",
    "version": 3
   },
   "file_extension": ".py",
   "mimetype": "text/x-python",
   "name": "python",
   "nbconvert_exporter": "python",
   "pygments_lexer": "ipython3",
   "version": "3.10.11"
  }
 },
 "nbformat": 4,
 "nbformat_minor": 2
}
